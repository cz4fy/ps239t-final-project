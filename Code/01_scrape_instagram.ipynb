{
 "cells": [
  {
   "cell_type": "markdown",
   "metadata": {},
   "source": [
    "## The Task:\n",
    "\n",
    "Scrape Instagram to get geolocations (longitude and latitude) of where current users of Lake Merritt take photos and the content of the photos (if they are public) around Lake Merritt.\n"
   ]
  },
  {
   "cell_type": "code",
   "execution_count": 2,
   "metadata": {
    "collapsed": false
   },
   "outputs": [
    {
     "name": "stdout",
     "output_type": "stream",
     "text": [
      "Length of All Media IDS: 153\n",
      "media_with_location\n",
      "[('1022203687264871862_913245280', '37.782580261', '-122.21532139', 'https://scontent.cdninstagram.com/hphotos-xaf1/t50.2886-16/11723892_908448552564991_636535954_n.mp4'), ('920625456882307349_38347483', '37.804414291', '-122.251496774', 'https://scontent.cdninstagram.com/hphotos-xpa1/t51.2885-15/e15/924756_412596178887551_2004166462_n.jpg'), ('877240390495123453_242151420', '37.80737242', '-122.254306971', 'https://scontent.cdninstagram.com/hphotos-xpa1/t51.2885-15/e15/927738_751654308260433_880924362_n.jpg'), ('864490978064204376_10985767', '37.80688791', '-122.258809658', 'https://scontent.cdninstagram.com/hphotos-xpa1/t51.2885-15/e15/924055_1523219964607110_1900805353_n.jpg'), ('817814980139470520_49708378', '37.799116119', '-122.258911085', 'https://scontent.cdninstagram.com/hphotos-xpf1/t51.2885-15/e15/10522790_448992538577149_1778692219_n.jpg'), ('742862633002919198_481965824', '37.805536344', '-122.254301678', 'https://scontent.cdninstagram.com/hphotos-ash/t50.2886-16/10472465_1435626623377172_669011699_n.mp4'), ('742784722497496256_481965824', '37.805536344', '-122.254301678', 'https://scontent.cdninstagram.com/hphotos-ash/t51.2885-15/e15/10467700_1413318752289124_1571403272_n.jpg'), ('742752117412652246_481965824', '37.805536344', '-122.254301678', 'https://scontent.cdninstagram.com/hphotos-xfp1/t51.2885-15/e15/914364_1433865943542357_581261792_n.jpg'), ('742730411696514729_481965824', '37.805536344', '-122.254301678', 'https://scontent.cdninstagram.com/hphotos-xaf1/t51.2885-15/e15/10375594_724222190950516_2015127789_n.jpg'), ('742722061206349248_481965824', '37.805536344', '-122.254301678', 'https://scontent.cdninstagram.com/hphotos-xfp1/t51.2885-15/e15/10471849_1419596931655546_130645601_n.jpg'), ('742706914769298520_481965824', '37.805536344', '-122.254301678', 'https://scontent.cdninstagram.com/hphotos-xaf1/t51.2885-15/e15/927075_293395444168352_1331455806_n.jpg'), ('712656359991332343_49708378', '37.799543', '-122.244413', 'https://scontent.cdninstagram.com/hphotos-frc/t51.2885-15/e15/10296965_780129878672477_1022768078_n.jpg'), ('712655491728461280_49708378', '37.799543', '-122.244413', 'https://scontent.cdninstagram.com/hphotos-xtp1/t51.2885-15/e15/917434_1447323335512286_585787236_n.jpg'), ('712654451515903439_49708378', '37.799543', '-122.244413', 'https://scontent.cdninstagram.com/hphotos-frc/t51.2885-15/e15/10254213_1476017082615882_1308092501_n.jpg'), ('687833598054845142_411572257', '45.559406667', '10.630482137', 'https://scontent.cdninstagram.com/hphotos-frc/t51.2885-15/e15/1737473_670597863001705_1443361497_n.jpg'), ('680097458092893274_124472', '37.805536344', '-122.254301678', 'https://scontent.cdninstagram.com/hphotos-xta1/t51.2885-15/e15/12139760_1666380946909164_2080453342_n.jpg'), ('666949183759385533_962738519', '37.802408402', '-122.254463056', 'https://scontent.cdninstagram.com/hphotos-xfa1/t51.2885-15/e15/11357444_868330829881466_351425076_n.jpg'), ('666946020515971950_962738519', '37.802408402', '-122.254463056', 'https://scontent.cdninstagram.com/hphotos-xta1/t51.2885-15/e15/11380747_970785796300134_952943426_n.jpg'), ('666943423939806005_962738519', '37.802408402', '-122.254463056', 'https://scontent.cdninstagram.com/hphotos-xfp1/t51.2885-15/e15/11378975_1091486684199366_1667309276_n.jpg'), ('666941248538870535_962738519', '37.802408402', '-122.254463056', 'https://scontent.cdninstagram.com/hphotos-xft1/t51.2885-15/e15/11357559_1594146224199206_2069895128_n.jpg'), ('661156051541230402_962738519', '37.8039', '-122.2591', 'https://scontent.cdninstagram.com/hphotos-xaf1/t51.2885-15/e15/1741001_515010251945050_1972161337_n.jpg'), ('641673991261906858_124472', '37.80533065', '-122.257333594', 'https://scontent.cdninstagram.com/hphotos-xft1/t51.2885-15/e15/12224548_562141073935222_829016646_n.jpg'), ('641554715061308773_49708378', '37.805536344', '-122.254301678', 'https://scontent.cdninstagram.com/hphotos-ash/t51.2885-15/e15/1662025_219442454908572_1667945976_n.jpg'), ('640845690016490860_124472', '37.80737242', '-122.254306971', 'https://scontent.cdninstagram.com/hphotos-xfp1/t51.2885-15/e15/1689172_1640075256243107_2114240468_n.jpg'), ('635244366179795517_962738519', '37.8039', '-122.2591', 'https://scontent.cdninstagram.com/hphotos-xpt1/t51.2885-15/e15/1170477_687850551247702_1751134489_n.jpg'), ('612588913588298928_124472', '37.809373742', '-122.24588052', 'https://scontent.cdninstagram.com/hphotos-xat1/t50.2886-16/12221583_605280139610440_471076958_n.mp4'), ('612574294744360847_124472', '37.809373742', '-122.24588052', 'https://scontent.cdninstagram.com/hphotos-xtp1/t51.2885-15/e15/11950583_135008043525807_1570573223_n.jpg'), ('612570446487217992_124472', '37.807276272', '-122.255017108', 'https://scontent.cdninstagram.com/hphotos-xpf1/t51.2885-15/e15/11934603_1518932711761597_632879223_n.jpg'), ('524335623550256155_6499848', '37.805536344', '-122.254301678', 'https://scontent.cdninstagram.com/hphotos-xat1/t51.2885-15/e15/11376611_1435988426707126_1368084548_n.jpg'), ('508968174403406060_30859817', '37.8129005', '-122.2466507', 'https://scontent.cdninstagram.com/hphotos-xft1/t51.2885-15/e15/11262902_453061808205569_884814884_n.jpg'), ('500154567364586220_44260905', '37.805536344', '-122.254301678', 'https://scontent.cdninstagram.com/hphotos-xfa1/t51.2885-15/e15/11357629_665394523595213_758728886_n.jpg'), ('499581921790929138_44260905', '37.805536344', '-122.254301678', 'https://scontent.cdninstagram.com/hphotos-xta1/t51.2885-15/e15/11374127_363558510514867_1744101152_n.jpg'), ('499530952138959749_44260905', '37.805536344', '-122.254301678', 'https://scontent.cdninstagram.com/hphotos-xtp1/t51.2885-15/e15/11377872_855246027901326_317199736_n.jpg'), ('495208361713752258_2159117', '37.805536344', '-122.254301678', 'https://scontent.cdninstagram.com/hphotos-xtf1/t51.2885-15/e15/11326637_1405908876402418_1236793870_n.jpg'), ('489318999562896428_6499848', '37.808896652', '-122.260243508', 'https://scontent.cdninstagram.com/hphotos-xta1/t51.2885-15/e15/11269547_931483570235634_1029187949_n.jpg'), ('464484163149056694_30859817', '37.805159', '-122.247116', 'https://scontent.cdninstagram.com/hphotos-xpa1/t51.2885-15/e15/11355986_986391271373166_850568218_n.jpg'), ('456340009117805040_291589345', '37.800718367', '-122.263641069', 'https://scontent.cdninstagram.com/hphotos-xat1/t51.2885-15/e15/11333414_1451290831836944_915755716_n.jpg')]\n",
      "37\n"
     ]
    }
   ],
   "source": [
    "#TO GET LONG, LAT AND URLS OF PUBLIC PHOTOS TAGGED WITH 'LAKE_MERRITT'                                                                                                                                                                                                                                                                                                                                                                            PUBLIC PHOTOS TAGGED WITH 'LAKE_MERRITT'\n",
    "\n",
    "from instagram.client import InstagramAPI\n",
    "\n",
    "client_id = 'b5d78f65c2b94e74ac6363d8f2f7bcbd'\n",
    "client_secret = '6e00cda85eca47b281af4aa88275c5de'\n",
    "access_token = '19594423.1677ed0.d298d661a5dd4587becb8a83b3cca787'\n",
    "client_ip = '73.189.135.127'\n",
    "#these were obtained following the instructions on Instagram developer site\n",
    "\n",
    "api = InstagramAPI(client_id=client_id, client_secret=client_secret, client_ips= client_ip,access_token= access_token) \n",
    "#passing token to instagramAPI constructor\n",
    "\n",
    "media_with_location=[]\n",
    "all_media_ids = []\n",
    "#create two empty lists, one with media ids to loop through and one to store long/lat/url that are extracted from media id list\n",
    "\n",
    "media_ids,next = api.tag_recent_media(tag_name='lake_merritt', count=500)\n",
    "#from some research I realized that this count number seems quite arbitrary..\n",
    "#tag_recent_media returns both ids and the urls\n",
    "#from documentation, tag_media_recent takes as max_tag_id and min_tag_id as parameters. \n",
    "#max_tag_id returns media after this max_tag_id and therefore here can be used as a seperator\n",
    "#instagram lists media in a time-reverse order so max_tag_id leads to older media\n",
    "temp,max_tag=next.split('max_tag_id=')\n",
    "#max_tag_id to get to the next page of results because instagram API calls return a pagination response \n",
    "##split on 'max_tag_id='\n",
    "max_tag=str(max_tag)\n",
    "#coerce into string\n",
    "\n",
    "position_tuple = ()\n",
    "#empty tuple \n",
    "\n",
    "for media_id in media_ids:\n",
    "#for loop to loop through each insta id with that tagged 'lake_merritt'\n",
    "    all_media_ids.append(media_id.id)\n",
    "    #append the unique number that associates with the insta ids to the list that was created earlier \n",
    "    if \"location\" in dir(media_id):\n",
    "        if (\"point\" in dir(media_id.location)) and (\"latitude\" in dir(media_id.location.point)) and (\"longitude\" in dir(media_id.location.point)):\n",
    "            #make sure full geolocation information which includes point, lat and long all exists for in this media_id object \n",
    "            position_tuple=(str(media_id.id),str(media_id.location.point.latitude),str(media_id.location.point.longitude),str(media_id.get_standard_resolution_url()))\n",
    "            #extracts id, latitude, longitude and url, force into str and put into tuple\n",
    "            media_with_location.append(position_tuple)\n",
    "            #append tuple into the list created earlier\n",
    "            \n",
    "counter = 0\n",
    "#starting to count...\n",
    "while next and counter < 6 :  \n",
    "#this while loop goes through first 7 pages of results; I tried larger numbers but there seem to be only 7 pages of results\n",
    "    more_media, next = api.tag_recent_media(tag_name='lake_merritt', max_tag_id=max_tag)\n",
    "    #loop through max_tag which means the oldest media \n",
    "    temp,max_tag=next.split('max_tag_id=')\n",
    "    max_tag=str(max_tag)\n",
    "    for media_id in more_media:\n",
    "        all_media_ids.append(media_id.id)\n",
    "        #append the unique number that associates with the insta ids to the list that was created earlier \n",
    "        if \"location\" in dir(media_id):\n",
    "            if (\"point\" in dir(media_id.location)) and (\"latitude\" in dir(media_id.location.point)) and (\"longitude\" in dir(media_id.location.point)):\n",
    "                position_tuple=(str(media_id.id),str(media_id.location.point.latitude),str(media_id.location.point.longitude),str(media_id.get_standard_resolution_url()))\n",
    "                media_with_location.append(position_tuple)\n",
    "                #same as above\n",
    "    counter+=1\n",
    "#add one to the counter\n",
    "\n",
    "\n",
    "#check length of all media ids to make sure pagination is working\n",
    "print \"Length of All Media IDS:\", len(all_media_ids)\n",
    "\n",
    "#some prints to validate your information\n",
    "print \"media_with_location\"\n",
    "print media_with_location\n",
    "print len(media_with_location)\n",
    "#in this round there are 153 media ids but only 37 of them contain complete lat/long/url \n"
   ]
  },
  {
   "cell_type": "code",
   "execution_count": 3,
   "metadata": {
    "collapsed": false
   },
   "outputs": [
    {
     "name": "stdout",
     "output_type": "stream",
     "text": [
      "Length of All Media IDS2: 433\n",
      "media_with_location2\n",
      "[('1022203687264871862_913245280', '37.782580261', '-122.21532139', 'https://scontent.cdninstagram.com/hphotos-xaf1/t50.2886-16/11723892_908448552564991_636535954_n.mp4'), ('920625456882307349_38347483', '37.804414291', '-122.251496774', 'https://scontent.cdninstagram.com/hphotos-xpa1/t51.2885-15/e15/924756_412596178887551_2004166462_n.jpg'), ('877240390495123453_242151420', '37.80737242', '-122.254306971', 'https://scontent.cdninstagram.com/hphotos-xpa1/t51.2885-15/e15/927738_751654308260433_880924362_n.jpg'), ('864490978064204376_10985767', '37.80688791', '-122.258809658', 'https://scontent.cdninstagram.com/hphotos-xpa1/t51.2885-15/e15/924055_1523219964607110_1900805353_n.jpg'), ('817814980139470520_49708378', '37.799116119', '-122.258911085', 'https://scontent.cdninstagram.com/hphotos-xpf1/t51.2885-15/e15/10522790_448992538577149_1778692219_n.jpg'), ('742862633002919198_481965824', '37.805536344', '-122.254301678', 'https://scontent.cdninstagram.com/hphotos-ash/t50.2886-16/10472465_1435626623377172_669011699_n.mp4'), ('742784722497496256_481965824', '37.805536344', '-122.254301678', 'https://scontent.cdninstagram.com/hphotos-ash/t51.2885-15/e15/10467700_1413318752289124_1571403272_n.jpg'), ('742752117412652246_481965824', '37.805536344', '-122.254301678', 'https://scontent.cdninstagram.com/hphotos-xfp1/t51.2885-15/e15/914364_1433865943542357_581261792_n.jpg'), ('742730411696514729_481965824', '37.805536344', '-122.254301678', 'https://scontent.cdninstagram.com/hphotos-xaf1/t51.2885-15/e15/10375594_724222190950516_2015127789_n.jpg'), ('742722061206349248_481965824', '37.805536344', '-122.254301678', 'https://scontent.cdninstagram.com/hphotos-xfp1/t51.2885-15/e15/10471849_1419596931655546_130645601_n.jpg'), ('742706914769298520_481965824', '37.805536344', '-122.254301678', 'https://scontent.cdninstagram.com/hphotos-xaf1/t51.2885-15/e15/927075_293395444168352_1331455806_n.jpg'), ('712656359991332343_49708378', '37.799543', '-122.244413', 'https://scontent.cdninstagram.com/hphotos-frc/t51.2885-15/e15/10296965_780129878672477_1022768078_n.jpg'), ('712655491728461280_49708378', '37.799543', '-122.244413', 'https://scontent.cdninstagram.com/hphotos-xtp1/t51.2885-15/e15/917434_1447323335512286_585787236_n.jpg'), ('712654451515903439_49708378', '37.799543', '-122.244413', 'https://scontent.cdninstagram.com/hphotos-frc/t51.2885-15/e15/10254213_1476017082615882_1308092501_n.jpg'), ('687833598054845142_411572257', '45.559406667', '10.630482137', 'https://scontent.cdninstagram.com/hphotos-frc/t51.2885-15/e15/1737473_670597863001705_1443361497_n.jpg'), ('680097458092893274_124472', '37.805536344', '-122.254301678', 'https://scontent.cdninstagram.com/hphotos-xta1/t51.2885-15/e15/12139760_1666380946909164_2080453342_n.jpg'), ('666949183759385533_962738519', '37.802408402', '-122.254463056', 'https://scontent.cdninstagram.com/hphotos-xfa1/t51.2885-15/e15/11357444_868330829881466_351425076_n.jpg'), ('666946020515971950_962738519', '37.802408402', '-122.254463056', 'https://scontent.cdninstagram.com/hphotos-xta1/t51.2885-15/e15/11380747_970785796300134_952943426_n.jpg'), ('666943423939806005_962738519', '37.802408402', '-122.254463056', 'https://scontent.cdninstagram.com/hphotos-xfp1/t51.2885-15/e15/11378975_1091486684199366_1667309276_n.jpg'), ('666941248538870535_962738519', '37.802408402', '-122.254463056', 'https://scontent.cdninstagram.com/hphotos-xft1/t51.2885-15/e15/11357559_1594146224199206_2069895128_n.jpg'), ('661156051541230402_962738519', '37.8039', '-122.2591', 'https://scontent.cdninstagram.com/hphotos-xaf1/t51.2885-15/e15/1741001_515010251945050_1972161337_n.jpg'), ('641673991261906858_124472', '37.80533065', '-122.257333594', 'https://scontent.cdninstagram.com/hphotos-xft1/t51.2885-15/e15/12224548_562141073935222_829016646_n.jpg'), ('641554715061308773_49708378', '37.805536344', '-122.254301678', 'https://scontent.cdninstagram.com/hphotos-ash/t51.2885-15/e15/1662025_219442454908572_1667945976_n.jpg'), ('640845690016490860_124472', '37.80737242', '-122.254306971', 'https://scontent.cdninstagram.com/hphotos-xfp1/t51.2885-15/e15/1689172_1640075256243107_2114240468_n.jpg'), ('635244366179795517_962738519', '37.8039', '-122.2591', 'https://scontent.cdninstagram.com/hphotos-xpt1/t51.2885-15/e15/1170477_687850551247702_1751134489_n.jpg'), ('612588913588298928_124472', '37.809373742', '-122.24588052', 'https://scontent.cdninstagram.com/hphotos-xat1/t50.2886-16/12221583_605280139610440_471076958_n.mp4'), ('612574294744360847_124472', '37.809373742', '-122.24588052', 'https://scontent.cdninstagram.com/hphotos-xtp1/t51.2885-15/e15/11950583_135008043525807_1570573223_n.jpg'), ('612570446487217992_124472', '37.807276272', '-122.255017108', 'https://scontent.cdninstagram.com/hphotos-xpf1/t51.2885-15/e15/11934603_1518932711761597_632879223_n.jpg'), ('524335623550256155_6499848', '37.805536344', '-122.254301678', 'https://scontent.cdninstagram.com/hphotos-xat1/t51.2885-15/e15/11376611_1435988426707126_1368084548_n.jpg'), ('508968174403406060_30859817', '37.8129005', '-122.2466507', 'https://scontent.cdninstagram.com/hphotos-xft1/t51.2885-15/e15/11262902_453061808205569_884814884_n.jpg'), ('500154567364586220_44260905', '37.805536344', '-122.254301678', 'https://scontent.cdninstagram.com/hphotos-xfa1/t51.2885-15/e15/11357629_665394523595213_758728886_n.jpg'), ('499581921790929138_44260905', '37.805536344', '-122.254301678', 'https://scontent.cdninstagram.com/hphotos-xta1/t51.2885-15/e15/11374127_363558510514867_1744101152_n.jpg'), ('499530952138959749_44260905', '37.805536344', '-122.254301678', 'https://scontent.cdninstagram.com/hphotos-xtp1/t51.2885-15/e15/11377872_855246027901326_317199736_n.jpg'), ('495208361713752258_2159117', '37.805536344', '-122.254301678', 'https://scontent.cdninstagram.com/hphotos-xtf1/t51.2885-15/e15/11326637_1405908876402418_1236793870_n.jpg'), ('489318999562896428_6499848', '37.808896652', '-122.260243508', 'https://scontent.cdninstagram.com/hphotos-xta1/t51.2885-15/e15/11269547_931483570235634_1029187949_n.jpg'), ('464484163149056694_30859817', '37.805159', '-122.247116', 'https://scontent.cdninstagram.com/hphotos-xpa1/t51.2885-15/e15/11355986_986391271373166_850568218_n.jpg'), ('456340009117805040_291589345', '37.800718367', '-122.263641069', 'https://scontent.cdninstagram.com/hphotos-xat1/t51.2885-15/e15/11333414_1451290831836944_915755716_n.jpg')]\n",
      "213\n"
     ]
    }
   ],
   "source": [
    "#TO GET LONG, LAT AND URLS OF PUBLIC PHOTOS TAGGED WITH 'LAKEMERRITT' \n",
    "#I'm trying different tag words that users might have used to tag their photos\n",
    "#this is apparently a more intuitive way that users tag therefore a lot more photos could have been tracted \n",
    "#but for the sanity of a newbie coder I'm only going back 21 pages of result\n",
    "\n",
    "\n",
    "from instagram.client import InstagramAPI\n",
    "\n",
    "client_id = 'b5d78f65c2b94e74ac6363d8f2f7bcbd'\n",
    "client_secret = '6e00cda85eca47b281af4aa88275c5de'\n",
    "access_token = '19594423.1677ed0.d298d661a5dd4587becb8a83b3cca787'\n",
    "client_ip = '73.189.135.127'\n",
    "#these were obtained following the instructions on Instagram developer site\n",
    "\n",
    "api = InstagramAPI(client_id=client_id, client_secret=client_secret, client_ips= client_ip,access_token= access_token) \n",
    "#passing token to instagramAPI constructor\n",
    "\n",
    "media_with_location2=[]\n",
    "all_media_ids2 = []\n",
    "#create two empty lists, one with media ids to loop through and one to store long/lat/url that are extracted from media id list\n",
    "\n",
    "media_ids,next = api.tag_recent_media(tag_name='lakemerritt', count=500)\n",
    "#from some research I realized that this count number seems quite arbitrary..\n",
    "#tag_recent_media returns both ids and the urls\n",
    "#from documentation, tag_media_recent takes as max_tag_id and min_tag_id as parameters. \n",
    "#max_tag_id returns media after this max_tag_id and therefore here can be used as a seperator\n",
    "#instagram lists media in a time-reverse order so max_tag_id leads to older media\n",
    "temp,max_tag=next.split('max_tag_id=')\n",
    "#max_tag_id to get to the next page of results because instagram API calls return a pagination response \n",
    "##split on 'max_tag_id='\n",
    "max_tag=str(max_tag)\n",
    "#coerce into string\n",
    "\n",
    "position_tuple = ()\n",
    "#empty tuple \n",
    "\n",
    "for media_id in media_ids:\n",
    "#for loop to loop through each insta id with that tagged 'lake_merritt'\n",
    "    all_media_ids2.append(media_id.id)\n",
    "    #append the unique number that associates with the insta ids to the list that was created earlier \n",
    "    if \"location\" in dir(media_id):\n",
    "        if (\"point\" in dir(media_id.location)) and (\"latitude\" in dir(media_id.location.point)) and (\"longitude\" in dir(media_id.location.point)):\n",
    "            #make sure full geolocation information which includes point, lat and long all exists for in this media_id object \n",
    "            position_tuple=(str(media_id.id),str(media_id.location.point.latitude),str(media_id.location.point.longitude),str(media_id.get_standard_resolution_url()))\n",
    "            #extracts id, latitude, longitude and url, force into str and put into tuple\n",
    "            media_with_location2.append(position_tuple)\n",
    "            #append tuple into the list created earlier\n",
    "            \n",
    "counter = 0\n",
    "#starting to count...\n",
    "while next and counter < 20 :  \n",
    "#this while loop goes through first 7 pages of results; I tried larger numbers but there seem to be only 7 pages of results\n",
    "    more_media, next = api.tag_recent_media(tag_name='lakemerritt', max_tag_id=max_tag)\n",
    "    #loop through max_tag which means the oldest media \n",
    "    temp,max_tag=next.split('max_tag_id=')\n",
    "    max_tag=str(max_tag)\n",
    "    for media_id in more_media:\n",
    "        all_media_ids2.append(media_id.id)\n",
    "        #append the unique number that associates with the insta ids to the list that was created earlier \n",
    "        if \"location\" in dir(media_id):\n",
    "            if (\"point\" in dir(media_id.location)) and (\"latitude\" in dir(media_id.location.point)) and (\"longitude\" in dir(media_id.location.point)):\n",
    "                position_tuple=(str(media_id.id),str(media_id.location.point.latitude),str(media_id.location.point.longitude),str(media_id.get_standard_resolution_url()))\n",
    "                media_with_location2.append(position_tuple)\n",
    "                #same as above\n",
    "    counter+=1\n",
    "#add one to the counter\n",
    "\n",
    "\n",
    "#check length of all media ids to make sure pagination is working\n",
    "print \"Length of All Media IDS2:\", len(all_media_ids2)\n",
    "\n",
    "#some prints to validate your information\n",
    "print \"media_with_location2\"\n",
    "print media_with_location\n",
    "print len(media_with_location2)\n",
    "#in this round there are 433 media ids and 212 of them contain complete lat/long/url \n"
   ]
  },
  {
   "cell_type": "code",
   "execution_count": 4,
   "metadata": {
    "collapsed": true
   },
   "outputs": [],
   "source": [
    "merged = media_with_location + media_with_location2"
   ]
  },
  {
   "cell_type": "code",
   "execution_count": 5,
   "metadata": {
    "collapsed": false
   },
   "outputs": [],
   "source": [
    "import csv\n",
    "\n",
    "data=merged\n",
    "\n",
    "with open('lakemerritt.csv','w') as out:\n",
    "    csv_out=csv.writer(out)\n",
    "    csv_out.writerow(['instaID','lat','long','image'])\n",
    "    for row in data:\n",
    "        csv_out.writerow(row)"
   ]
  }
 ],
 "metadata": {
  "kernelspec": {
   "display_name": "Python 2",
   "language": "python",
   "name": "python2"
  },
  "language_info": {
   "codemirror_mode": {
    "name": "ipython",
    "version": 2
   },
   "file_extension": ".py",
   "mimetype": "text/x-python",
   "name": "python",
   "nbconvert_exporter": "python",
   "pygments_lexer": "ipython2",
   "version": "2.7.10"
  }
 },
 "nbformat": 4,
 "nbformat_minor": 0
}
