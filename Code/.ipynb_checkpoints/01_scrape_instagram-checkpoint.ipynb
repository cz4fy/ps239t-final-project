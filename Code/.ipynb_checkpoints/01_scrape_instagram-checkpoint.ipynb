{
 "cells": [
  {
   "cell_type": "markdown",
   "metadata": {},
   "source": [
    "## The Task:\n",
    "\n",
    "Scrape Instagram to get geolocations (longitude and latitude) of where current users of Lake Merritt take photos and the content of the photos (if they are public) around Lake Merritt.\n"
   ]
  },
  {
   "cell_type": "code",
   "execution_count": 26,
   "metadata": {
    "collapsed": false
   },
   "outputs": [
    {
     "name": "stdout",
     "output_type": "stream",
     "text": [
      "Length of All Media IDS: 153\n",
      "media_with_location\n",
      "[('1022203687264871862_913245280', '37.782580261', '-122.21532139', 'https://scontent.cdninstagram.com/hphotos-xaf1/t50.2886-16/11723892_908448552564991_636535954_n.mp4'), ('920625456882307349_38347483', '37.804414291', '-122.251496774', 'https://scontent.cdninstagram.com/hphotos-xpa1/t51.2885-15/e15/924756_412596178887551_2004166462_n.jpg'), ('877240390495123453_242151420', '37.80737242', '-122.254306971', 'https://scontent.cdninstagram.com/hphotos-xpa1/t51.2885-15/e15/927738_751654308260433_880924362_n.jpg'), ('864490978064204376_10985767', '37.80688791', '-122.258809658', 'https://scontent.cdninstagram.com/hphotos-xpa1/t51.2885-15/e15/924055_1523219964607110_1900805353_n.jpg'), ('817814980139470520_49708378', '37.799116119', '-122.258911085', 'https://scontent.cdninstagram.com/hphotos-xpf1/t51.2885-15/e15/10522790_448992538577149_1778692219_n.jpg'), ('742862633002919198_481965824', '37.805536344', '-122.254301678', 'https://scontent.cdninstagram.com/hphotos-ash/t50.2886-16/10472465_1435626623377172_669011699_n.mp4'), ('742784722497496256_481965824', '37.805536344', '-122.254301678', 'https://scontent.cdninstagram.com/hphotos-ash/t51.2885-15/e15/10467700_1413318752289124_1571403272_n.jpg'), ('742752117412652246_481965824', '37.805536344', '-122.254301678', 'https://scontent.cdninstagram.com/hphotos-xfp1/t51.2885-15/e15/914364_1433865943542357_581261792_n.jpg'), ('742730411696514729_481965824', '37.805536344', '-122.254301678', 'https://scontent.cdninstagram.com/hphotos-xaf1/t51.2885-15/e15/10375594_724222190950516_2015127789_n.jpg'), ('742722061206349248_481965824', '37.805536344', '-122.254301678', 'https://scontent.cdninstagram.com/hphotos-xfp1/t51.2885-15/e15/10471849_1419596931655546_130645601_n.jpg'), ('742706914769298520_481965824', '37.805536344', '-122.254301678', 'https://scontent.cdninstagram.com/hphotos-xaf1/t51.2885-15/e15/927075_293395444168352_1331455806_n.jpg'), ('712656359991332343_49708378', '37.799543', '-122.244413', 'https://scontent.cdninstagram.com/hphotos-frc/t51.2885-15/e15/10296965_780129878672477_1022768078_n.jpg'), ('712655491728461280_49708378', '37.799543', '-122.244413', 'https://scontent.cdninstagram.com/hphotos-xtp1/t51.2885-15/e15/917434_1447323335512286_585787236_n.jpg'), ('712654451515903439_49708378', '37.799543', '-122.244413', 'https://scontent.cdninstagram.com/hphotos-frc/t51.2885-15/e15/10254213_1476017082615882_1308092501_n.jpg'), ('687833598054845142_411572257', '45.559406667', '10.630482137', 'https://scontent.cdninstagram.com/hphotos-frc/t51.2885-15/e15/1737473_670597863001705_1443361497_n.jpg'), ('680097458092893274_124472', '37.805536344', '-122.254301678', 'https://scontent.cdninstagram.com/hphotos-xta1/t51.2885-15/e15/12139760_1666380946909164_2080453342_n.jpg'), ('666949183759385533_962738519', '37.802408402', '-122.254463056', 'https://scontent.cdninstagram.com/hphotos-xfa1/t51.2885-15/e15/11357444_868330829881466_351425076_n.jpg'), ('666946020515971950_962738519', '37.802408402', '-122.254463056', 'https://scontent.cdninstagram.com/hphotos-xta1/t51.2885-15/e15/11380747_970785796300134_952943426_n.jpg'), ('666943423939806005_962738519', '37.802408402', '-122.254463056', 'https://scontent.cdninstagram.com/hphotos-xfp1/t51.2885-15/e15/11378975_1091486684199366_1667309276_n.jpg'), ('666941248538870535_962738519', '37.802408402', '-122.254463056', 'https://scontent.cdninstagram.com/hphotos-xft1/t51.2885-15/e15/11357559_1594146224199206_2069895128_n.jpg'), ('661156051541230402_962738519', '37.8039', '-122.2591', 'https://scontent.cdninstagram.com/hphotos-xaf1/t51.2885-15/e15/1741001_515010251945050_1972161337_n.jpg'), ('641673991261906858_124472', '37.80533065', '-122.257333594', 'https://scontent.cdninstagram.com/hphotos-xft1/t51.2885-15/e15/12224548_562141073935222_829016646_n.jpg'), ('641554715061308773_49708378', '37.805536344', '-122.254301678', 'https://scontent.cdninstagram.com/hphotos-ash/t51.2885-15/e15/1662025_219442454908572_1667945976_n.jpg'), ('640845690016490860_124472', '37.80737242', '-122.254306971', 'https://scontent.cdninstagram.com/hphotos-xfp1/t51.2885-15/e15/1689172_1640075256243107_2114240468_n.jpg'), ('635244366179795517_962738519', '37.8039', '-122.2591', 'https://scontent.cdninstagram.com/hphotos-xpt1/t51.2885-15/e15/1170477_687850551247702_1751134489_n.jpg'), ('612588913588298928_124472', '37.809373742', '-122.24588052', 'https://scontent.cdninstagram.com/hphotos-xat1/t50.2886-16/12221583_605280139610440_471076958_n.mp4'), ('612574294744360847_124472', '37.809373742', '-122.24588052', 'https://scontent.cdninstagram.com/hphotos-xtp1/t51.2885-15/e15/11950583_135008043525807_1570573223_n.jpg'), ('612570446487217992_124472', '37.807276272', '-122.255017108', 'https://scontent.cdninstagram.com/hphotos-xpf1/t51.2885-15/e15/11934603_1518932711761597_632879223_n.jpg'), ('524335623550256155_6499848', '37.805536344', '-122.254301678', 'https://scontent.cdninstagram.com/hphotos-xat1/t51.2885-15/e15/11376611_1435988426707126_1368084548_n.jpg'), ('508968174403406060_30859817', '37.8129005', '-122.2466507', 'https://scontent.cdninstagram.com/hphotos-xft1/t51.2885-15/e15/11262902_453061808205569_884814884_n.jpg'), ('500154567364586220_44260905', '37.805536344', '-122.254301678', 'https://scontent.cdninstagram.com/hphotos-xfa1/t51.2885-15/e15/11357629_665394523595213_758728886_n.jpg'), ('499581921790929138_44260905', '37.805536344', '-122.254301678', 'https://scontent.cdninstagram.com/hphotos-xta1/t51.2885-15/e15/11374127_363558510514867_1744101152_n.jpg'), ('499530952138959749_44260905', '37.805536344', '-122.254301678', 'https://scontent.cdninstagram.com/hphotos-xtp1/t51.2885-15/e15/11377872_855246027901326_317199736_n.jpg'), ('495208361713752258_2159117', '37.805536344', '-122.254301678', 'https://scontent.cdninstagram.com/hphotos-xtf1/t51.2885-15/e15/11326637_1405908876402418_1236793870_n.jpg'), ('489318999562896428_6499848', '37.808896652', '-122.260243508', 'https://scontent.cdninstagram.com/hphotos-xta1/t51.2885-15/e15/11269547_931483570235634_1029187949_n.jpg'), ('464484163149056694_30859817', '37.805159', '-122.247116', 'https://scontent.cdninstagram.com/hphotos-xpa1/t51.2885-15/e15/11355986_986391271373166_850568218_n.jpg'), ('456340009117805040_291589345', '37.800718367', '-122.263641069', 'https://scontent.cdninstagram.com/hphotos-xat1/t51.2885-15/e15/11333414_1451290831836944_915755716_n.jpg')]\n",
      "37\n"
     ]
    }
   ],
   "source": [
    "#TO GET LONG, LAT AND URLS OF PUBLIC PHOTOS TAGGED WITH 'LAKE_MERRITT'                                                                                                                                                                                                                                                                                                                                                                            PUBLIC PHOTOS TAGGED WITH 'LAKE_MERRITT'\n",
    "\n",
    "from instagram.client import InstagramAPI\n",
    "\n",
    "client_id = 'b5d78f65c2b94e74ac6363d8f2f7bcbd'\n",
    "client_secret = '6e00cda85eca47b281af4aa88275c5de'\n",
    "access_token = '19594423.1677ed0.d298d661a5dd4587becb8a83b3cca787'\n",
    "client_ip = '73.189.135.127'\n",
    "#these were obtained following the instructions on Instagram developer site\n",
    "\n",
    "api = InstagramAPI(client_id=client_id, client_secret=client_secret, client_ips= client_ip,access_token= access_token) \n",
    "#passing token to instagramAPI constructor\n",
    "\n",
    "media_with_location=[]\n",
    "all_media_ids = []\n",
    "#create two empty lists, one with media ids to loop through and one to store long/lat/url that are extracted from media id list\n",
    "\n",
    "media_ids,next = api.tag_recent_media(tag_name='lake_merritt', count=500)\n",
    "#from some research I realized that this count number seems quite arbitrary..\n",
    "#tag_recent_media returns both ids and the urls\n",
    "#from documentation, tag_media_recent takes as max_tag_id and min_tag_id as parameters. \n",
    "#max_tag_id returns media after this max_tag_id and therefore here can be used as a seperator\n",
    "#instagram lists media in a time-reverse order so max_tag_id leads to older media\n",
    "temp,max_tag=next.split('max_tag_id=')\n",
    "#max_tag_id to get to the next page of results because instagram API calls return a pagination response \n",
    "##split on 'max_tag_id='\n",
    "max_tag=str(max_tag)\n",
    "#coerce into string\n",
    "\n",
    "position_tuple = ()\n",
    "#empty tuple \n",
    "\n",
    "for media_id in media_ids:\n",
    "#for loop to loop through each insta id with that tagged 'lake_merritt'\n",
    "    all_media_ids.append(media_id.id)\n",
    "    #append the unique number that associates with the insta ids to the list that was created earlier \n",
    "    if \"location\" in dir(media_id):\n",
    "        if (\"point\" in dir(media_id.location)) and (\"latitude\" in dir(media_id.location.point)) and (\"longitude\" in dir(media_id.location.point)):\n",
    "            #make sure full geolocation information which includes point, lat and long all exists for in this media_id object \n",
    "            position_tuple=(str(media_id.id),str(media_id.location.point.latitude),str(media_id.location.point.longitude),str(media_id.get_standard_resolution_url()))\n",
    "            #extracts id, latitude, longitude and url, force into str and put into tuple\n",
    "            media_with_location.append(position_tuple)\n",
    "            #append tuple into the list created earlier\n",
    "            \n",
    "counter = 0\n",
    "#starting to count...\n",
    "while next and counter < 6 :  \n",
    "#this while loop goes through first 7 pages of results; I tried larger numbers but there seem to be only 7 pages of results\n",
    "    more_media, next = api.tag_recent_media(tag_name='lake_merritt', max_tag_id=max_tag)\n",
    "    #loop through max_tag which means the oldest media \n",
    "    temp,max_tag=next.split('max_tag_id=')\n",
    "    max_tag=str(max_tag)\n",
    "    for media_id in more_media:\n",
    "        all_media_ids.append(media_id.id)\n",
    "        #append the unique number that associates with the insta ids to the list that was created earlier \n",
    "        if \"location\" in dir(media_id):\n",
    "            if (\"point\" in dir(media_id.location)) and (\"latitude\" in dir(media_id.location.point)) and (\"longitude\" in dir(media_id.location.point)):\n",
    "                position_tuple=(str(media_id.id),str(media_id.location.point.latitude),str(media_id.location.point.longitude),str(media_id.get_standard_resolution_url()))\n",
    "                media_with_location.append(position_tuple)\n",
    "                #same as above\n",
    "    counter+=1\n",
    "#add one to the counter\n",
    "\n",
    "\n",
    "#check length of all media ids to make sure pagination is working\n",
    "print \"Length of All Media IDS:\", len(all_media_ids)\n",
    "\n",
    "#some prints to validate your information\n",
    "print \"media_with_location\"\n",
    "print media_with_location\n",
    "print len(media_with_location)\n",
    "#in this round there are 153 media ids but only 37 of them contain complete lat/long/url \n"
   ]
  },
  {
   "cell_type": "code",
   "execution_count": 36,
   "metadata": {
    "collapsed": false
   },
   "outputs": [
    {
     "name": "stdout",
     "output_type": "stream",
     "text": [
      "Length of All Media IDS2: 433\n",
      "media_with_location2\n",
      "[('1139526753270787821_144579250', '37.805536344', '-122.254301678', 'https://scontent.cdninstagram.com/hphotos-xpt1/t51.2885-15/s640x640/sh0.08/e35/12356592_1732956020261127_1649235287_n.jpg'), ('1139480746445849680_5019944', '37.805536344', '-122.254301678', 'https://scontent.cdninstagram.com/hphotos-xfa1/t51.2885-15/s640x640/sh0.08/e35/12362312_1169223703107373_849417615_n.jpg'), ('1139472349490749685_814519', '37.805536344', '-122.254301678', 'https://scontent.cdninstagram.com/hphotos-xpa1/t51.2885-15/s640x640/sh0.08/e35/12383292_1660582750873157_1032950679_n.jpg'), ('1139463456608856501_2294533433', '37.8101692', '-122.2631836', 'https://scontent.cdninstagram.com/hphotos-xtp1/t51.2885-15/s640x640/sh0.08/e35/12356437_512809345548705_1781426528_n.jpg'), ('1139451582686383269_1397964562', '37.805536344', '-122.254301678', 'https://scontent.cdninstagram.com/hphotos-xaf1/t51.2885-15/e35/12345990_774103479360228_421098328_n.jpg'), ('1139432886987756943_463109964', '37.805536344', '-122.254301678', 'https://scontent.cdninstagram.com/hphotos-xft1/t51.2885-15/s640x640/sh0.08/e35/12298972_157428114615027_2137343211_n.jpg'), ('1139431999083963197_14031847', '37.805005327', '-122.248945016', 'https://scontent.cdninstagram.com/hphotos-xaf1/t51.2885-15/s640x640/sh0.08/e35/12346125_508735802641449_840521131_n.jpg'), ('1139391511222802896_8505501', '37.805536344', '-122.254301678', 'https://scontent.cdninstagram.com/hphotos-xta1/t51.2885-15/s640x640/sh0.08/e35/11262115_923985204359386_870837228_n.jpg'), ('1139331767794559187_21773481', '37.808996', '-122.250511', 'https://scontent.cdninstagram.com/hphotos-xfa1/t51.2885-15/s640x640/sh0.08/e35/12362556_1181792735181638_746961098_n.jpg'), ('1139324954395813309_2324045008', '37.8039', '-122.2591', 'https://scontent.cdninstagram.com/hphotos-xtf1/t51.2885-15/s640x640/sh0.08/e35/12362515_1180303241998041_428050495_n.jpg'), ('1139323029805868414_2324045008', '37.805536344', '-122.254301678', 'https://scontent.cdninstagram.com/hphotos-xpf1/t51.2885-15/s640x640/sh0.08/e35/12353280_175918179425238_1192774319_n.jpg'), ('1139322404770686309_2324045008', '37.805536344', '-122.254301678', 'https://scontent.cdninstagram.com/hphotos-xfp1/t51.2885-15/s640x640/sh0.08/e35/12353826_179499685734123_941702052_n.jpg'), ('1139261439811845627_207919670', '37.8121643', '-122.2476578', 'https://scontent.cdninstagram.com/hphotos-xpt1/t51.2885-15/s640x640/sh0.08/e35/12356596_1526088531016936_104507996_n.jpg'), ('1139260782404814632_2261229464', '37.805536344', '-122.254301678', 'https://scontent.cdninstagram.com/hphotos-xap1/t51.2885-15/s640x640/sh0.08/e35/12356426_862819143835749_719285113_n.jpg'), ('1139247598154364136_319438404', '37.798829582', '-122.260630282', 'https://scontent.cdninstagram.com/hphotos-xaf1/t51.2885-15/s640x640/sh0.08/e35/12345862_1725002361064928_1459032803_n.jpg'), ('1139233949267544198_1469647577', '37.805536344', '-122.254301678', 'https://scontent.cdninstagram.com/hphotos-xat1/t50.2886-16/12368808_400644376800769_2078071168_n.mp4'), ('1139209542392225843_406715391', '37.8042107', '-122.2614899', 'https://scontent.cdninstagram.com/hphotos-xfa1/t51.2885-15/s640x640/sh0.08/e35/12362057_1680333278915595_1644167833_n.jpg'), ('1138955187978145566_348925418', '37.8101692', '-122.2631836', 'https://scontent.cdninstagram.com/hphotos-xtf1/t51.2885-15/s640x640/sh0.08/e35/12298950_1519060568421818_1252872277_n.jpg'), ('1138900848398313628_2322947825', '37.8158989', '-122.2454453', 'https://scontent.cdninstagram.com/hphotos-xpt1/t51.2885-15/s640x640/sh0.08/e35/12362531_926701520748814_2035338995_n.jpg'), ('1138898100625598078_1104332552', '37.798829582', '-122.260630282', 'https://scontent.cdninstagram.com/hphotos-xpf1/t51.2885-15/s640x640/sh0.08/e35/12298934_419027611634446_17089909_n.jpg'), ('1138889616255559943_202734809', '37.805536344', '-122.254301678', 'https://scontent.cdninstagram.com/hphotos-xaf1/t51.2885-15/s640x640/sh0.08/e35/12331518_1648302745437158_326667497_n.jpg'), ('1138872962024588389_2261229464', '37.798829582', '-122.260630282', 'https://scontent.cdninstagram.com/hphotos-xpf1/t51.2885-15/s640x640/sh0.08/e35/12317361_193979220943942_594302109_n.jpg'), ('1138864196235391626_50347', '37.81145', '-122.24747', 'https://scontent.cdninstagram.com/hphotos-xta1/t51.2885-15/s640x640/sh0.08/e35/12331757_435634773300913_165257220_n.jpg'), ('1138838882204977372_1515068777', '37.809049435', '-122.258073875', 'https://scontent.cdninstagram.com/hphotos-xpf1/t51.2885-15/s640x640/sh0.08/e35/12317857_990964217636167_870770179_n.jpg'), ('1138800248149827598_47431591', '37.8112602', '-122.2663879', 'https://scontent.cdninstagram.com/hphotos-xpf1/t51.2885-15/s640x640/sh0.08/e35/12362549_1009562569086712_1736038434_n.jpg'), ('1138799153153888591_8899147', '37.79916', '-122.2783813', 'https://scontent.cdninstagram.com/hphotos-xpf1/t50.2886-16/12372784_1494640470838364_1616666116_n.mp4'), ('1138772165497106127_1119330938', '37.805536344', '-122.254301678', 'https://scontent.cdninstagram.com/hphotos-xft1/t51.2885-15/s640x640/sh0.08/e35/12356575_1656155434656678_2147389756_n.jpg'), ('1138762089289092837_48894226', '37.799305', '-122.254631', 'https://scontent.cdninstagram.com/hphotos-xfa1/t51.2885-15/s640x640/sh0.08/e35/12357368_1650337445220547_660700788_n.jpg'), ('1138749535534147517_268642520', '37.8044', '-122.271', 'https://scontent.cdninstagram.com/hphotos-xap1/t51.2885-15/s640x640/sh0.08/e35/12393820_1021479131205852_986671010_n.jpg'), ('1138743142759651221_1584211652', '37.805536344', '-122.254301678', 'https://scontent.cdninstagram.com/hphotos-xaf1/t51.2885-15/s640x640/sh0.08/e35/12346204_881824951931402_449535440_n.jpg'), ('1138734364122929654_7391269', '37.805536344', '-122.254301678', 'https://scontent.cdninstagram.com/hphotos-xtp1/t51.2885-15/s640x640/sh0.08/e35/12331838_152913898403178_1487489574_n.jpg'), ('1138663528201993735_7097830', '37.805536344', '-122.254301678', 'https://scontent.cdninstagram.com/hphotos-xtp1/t51.2885-15/s640x640/sh0.08/e35/12299067_628016700669658_354638576_n.jpg'), ('1138635963053042763_1727789282', '37.805536344', '-122.254301678', 'https://scontent.cdninstagram.com/hphotos-xpa1/t51.2885-15/s640x640/sh0.08/e35/12345808_949172445161466_963860349_n.jpg'), ('1138624028619414793_361611382', '37.8044', '-122.271', 'https://scontent.cdninstagram.com/hphotos-xpa1/t51.2885-15/s640x640/sh0.08/e35/12357610_181539432195582_1210766240_n.jpg'), ('1138609328035546461_548120080', '37.8039', '-122.2591', 'https://scontent.cdninstagram.com/hphotos-xfp1/t51.2885-15/s640x640/sh0.08/e35/12354111_887000574751917_380215378_n.jpg'), ('1138600700824364446_30797408', '37.863618101', '-122.27201713', 'https://scontent.cdninstagram.com/hphotos-xfp1/t51.2885-15/s320x320/e35/12362640_1003461263007557_1241039046_n.jpg'), ('1138597334461116294_1727789282', '37.805536344', '-122.254301678', 'https://scontent.cdninstagram.com/hphotos-xfa1/t51.2885-15/s640x640/sh0.08/e35/12292632_1639931182956819_51105819_n.jpg'), ('1138575154051010064_144539850', '37.805536344', '-122.254301678', 'https://scontent.cdninstagram.com/hphotos-xta1/t51.2885-15/s640x640/sh0.08/e35/11324222_924208370965903_1423274201_n.jpg'), ('1138510983629168865_47431591', '37.8112602', '-122.2663879', 'https://scontent.cdninstagram.com/hphotos-xta1/t51.2885-15/s480x480/e35/12357523_1674271992820066_227214386_n.jpg'), ('1138504381831455803_367414744', '37.805536344', '-122.254301678', 'https://scontent.cdninstagram.com/hphotos-xap1/t51.2885-15/s640x640/sh0.08/e35/12345816_915940548496668_1112795158_n.jpg'), ('1138486666710074806_2261229464', '37.8039', '-122.2591', 'https://scontent.cdninstagram.com/hphotos-xfa1/t51.2885-15/s640x640/sh0.08/e35/12339015_1810921695801530_1531029118_n.jpg'), ('1138443931474015808_319438404', '37.805536344', '-122.254301678', 'https://scontent.cdninstagram.com/hphotos-xtf1/t50.2886-16/12368450_880543375391738_1846530620_n.mp4'), ('1138261317575853229_41942896', '37.805536344', '-122.254301678', 'https://scontent.cdninstagram.com/hphotos-xfa1/t51.2885-15/s640x640/sh0.08/e35/12357828_1052263498137338_1342617842_n.jpg'), ('1138151867819017161_31984911', '37.8039', '-122.2591', 'https://scontent.cdninstagram.com/hphotos-xfp1/t51.2885-15/s640x640/sh0.08/e35/12353230_157575584600733_1743641341_n.jpg'), ('1138128503712596763_45355591', '37.8044014', '-122.2619629', 'https://scontent.cdninstagram.com/hphotos-xfa1/t51.2885-15/s640x640/sh0.08/e35/12353850_936303069786835_346921952_n.jpg'), ('1138111139474163425_2261229464', '37.8039', '-122.2591', 'https://scontent.cdninstagram.com/hphotos-xap1/t51.2885-15/s640x640/sh0.08/e35/12331592_1096995176986919_1214106066_n.jpg'), ('1138088738632057777_45355591', '37.8044014', '-122.2619629', 'https://scontent.cdninstagram.com/hphotos-xaf1/t51.2885-15/s640x640/sh0.08/e35/12354041_880738658707290_1669423147_n.jpg'), ('1138074297664500840_725264828', '37.806323437', '-122.249741659', 'https://scontent.cdninstagram.com/hphotos-xft1/t51.2885-15/s640x640/sh0.08/e35/12357602_1659775734291990_1663610640_n.jpg'), ('1138065735156995933_1126416252', '37.8039', '-122.2591', 'https://scontent.cdninstagram.com/hphotos-xaf1/t51.2885-15/s320x320/e35/12301262_1489407581365900_1344922667_n.jpg'), ('1138064926707864115_8899147', '37.79916', '-122.2783813', 'https://scontent.cdninstagram.com/hphotos-xat1/t51.2885-15/s480x480/e35/12353428_867818296665268_721990980_n.jpg'), ('1138061874554786262_8899147', '37.79916', '-122.2783813', 'https://scontent.cdninstagram.com/hphotos-xfp1/t51.2885-15/s640x640/sh0.08/e35/12354074_1658308287759258_394947666_n.jpg'), ('1138027811069060489_41934696', '37.805536344', '-122.254301678', 'https://scontent.cdninstagram.com/hphotos-xpf1/t51.2885-15/s640x640/sh0.08/e35/12357693_912592602110752_1640792680_n.jpg'), ('1138022462639460736_1633120659', '37.805536344', '-122.254301678', 'https://scontent.cdninstagram.com/hphotos-xaf1/t51.2885-15/s640x640/sh0.08/e35/12277009_1641766672751870_2078430109_n.jpg'), ('1138011675177748120_12848552', '37.805536344', '-122.254301678', 'https://scontent.cdninstagram.com/hphotos-xat1/t51.2885-15/s640x640/sh0.08/e35/12357521_170866579934244_1114088022_n.jpg'), ('1137982427658646433_460298771', '37.8039', '-122.2591', 'https://scontent.cdninstagram.com/hphotos-xft1/t51.2885-15/s640x640/sh0.08/e35/12317727_787272348043256_988390004_n.jpg'), ('1137976969778220981_49708378', '37.805536344', '-122.254301678', 'https://scontent.cdninstagram.com/hphotos-xpf1/t51.2885-15/s640x640/sh0.08/e35/12269848_1712392562338569_565614074_n.jpg'), ('1137956047647242535_42370349', '37.805536344', '-122.254301678', 'https://scontent.cdninstagram.com/hphotos-xft1/t51.2885-15/s640x640/sh0.08/e35/12338607_779130535524751_510219373_n.jpg'), ('1137940597914144468_47447754', '37.8094788', '-122.2501221', 'https://scontent.cdninstagram.com/hphotos-xtp1/t51.2885-15/s640x640/sh0.08/e35/12317533_406169179572005_2076657932_n.jpg'), ('1137919290448880243_488024423', '37.8122025', '-122.2476349', 'https://scontent.cdninstagram.com/hphotos-xap1/t51.2885-15/s640x640/sh0.08/e35/12346029_922584794487238_2023770247_n.jpg'), ('1137908795408793503_2282362190', '37.9002495', '-122.3174362', 'https://scontent.cdninstagram.com/hphotos-xap1/t51.2885-15/s640x640/sh0.08/e35/12277470_1184419941571476_753087394_n.jpg'), ('1137898236175349612_21359508', '37.803601233', '-122.256541033', 'https://scontent.cdninstagram.com/hphotos-xtp1/t51.2885-15/s640x640/sh0.08/e35/12317445_1679699658940663_1812524568_n.jpg'), ('1137883719982204837_1734888920', '37.805536344', '-122.254301678', 'https://scontent.cdninstagram.com/hphotos-xpf1/t51.2885-15/e15/12298790_955020841247069_435500921_n.jpg'), ('1137821992164648676_243656656', '37.805536344', '-122.254301678', 'https://scontent.cdninstagram.com/hphotos-xtf1/t51.2885-15/e35/12362473_189453308066346_85062535_n.jpg'), ('1137800192983293156_122294', '37.8044', '-122.271', 'https://scontent.cdninstagram.com/hphotos-xft1/t51.2885-15/s640x640/sh0.08/e35/12299027_918437408247316_2013615580_n.jpg'), ('1137784850791908464_2261229464', '37.798829582', '-122.260630282', 'https://scontent.cdninstagram.com/hphotos-xpf1/t51.2885-15/s640x640/sh0.08/e35/12331904_429946877198648_1727986520_n.jpg'), ('1137777739799586290_243656656', '37.805536344', '-122.254301678', 'https://scontent.cdninstagram.com/hphotos-xpf1/t51.2885-15/s640x640/sh0.08/e35/12338467_1076473635704213_2121844351_n.jpg'), ('1137747772246588892_196234094', '37.739311', '-122.145737', 'https://scontent.cdninstagram.com/hphotos-xpa1/t50.2886-16/12353140_720780794688422_429051787_n.mp4'), ('1137441307229023998_6113962', '37.805536344', '-122.254301678', 'https://scontent.cdninstagram.com/hphotos-xpt1/t51.2885-15/s640x640/sh0.08/e35/12345970_216759548656265_1075137391_n.jpg'), ('1137423494169336516_1423237405', '37.799225971', '-122.2547075', 'https://scontent.cdninstagram.com/hphotos-xpa1/t51.2885-15/s640x640/sh0.08/e35/12298997_1694003307511360_425159873_n.jpg')]\n",
      "212\n"
     ]
    }
   ],
   "source": [
    "#TO GET LONG, LAT AND URLS OF PUBLIC PHOTOS TAGGED WITH 'LAKEMERRITT' \n",
    "#I'm trying different tag words that users might have used to tag their photos\n",
    "#this is apparently a more intuitive way that users tag therefore a lot more photos could have been tracted \n",
    "#but for the sanity of a newbie coder I'm only going back 21 pages of result\n",
    "\n",
    "\n",
    "from instagram.client import InstagramAPI\n",
    "\n",
    "client_id = 'b5d78f65c2b94e74ac6363d8f2f7bcbd'\n",
    "client_secret = '6e00cda85eca47b281af4aa88275c5de'\n",
    "access_token = '19594423.1677ed0.d298d661a5dd4587becb8a83b3cca787'\n",
    "client_ip = '73.189.135.127'\n",
    "#these were obtained following the instructions on Instagram developer site\n",
    "\n",
    "api = InstagramAPI(client_id=client_id, client_secret=client_secret, client_ips= client_ip,access_token= access_token) \n",
    "#passing token to instagramAPI constructor\n",
    "\n",
    "media_with_location2=[]\n",
    "all_media_ids2 = []\n",
    "#create two empty lists, one with media ids to loop through and one to store long/lat/url that are extracted from media id list\n",
    "\n",
    "media_ids,next = api.tag_recent_media(tag_name='lakemerritt', count=500)\n",
    "#from some research I realized that this count number seems quite arbitrary..\n",
    "#tag_recent_media returns both ids and the urls\n",
    "#from documentation, tag_media_recent takes as max_tag_id and min_tag_id as parameters. \n",
    "#max_tag_id returns media after this max_tag_id and therefore here can be used as a seperator\n",
    "#instagram lists media in a time-reverse order so max_tag_id leads to older media\n",
    "temp,max_tag=next.split('max_tag_id=')\n",
    "#max_tag_id to get to the next page of results because instagram API calls return a pagination response \n",
    "##split on 'max_tag_id='\n",
    "max_tag=str(max_tag)\n",
    "#coerce into string\n",
    "\n",
    "position_tuple = ()\n",
    "#empty tuple \n",
    "\n",
    "for media_id in media_ids:\n",
    "#for loop to loop through each insta id with that tagged 'lake_merritt'\n",
    "    all_media_ids2.append(media_id.id)\n",
    "    #append the unique number that associates with the insta ids to the list that was created earlier \n",
    "    if \"location\" in dir(media_id):\n",
    "        if (\"point\" in dir(media_id.location)) and (\"latitude\" in dir(media_id.location.point)) and (\"longitude\" in dir(media_id.location.point)):\n",
    "            #make sure full geolocation information which includes point, lat and long all exists for in this media_id object \n",
    "            position_tuple=(str(media_id.id),str(media_id.location.point.latitude),str(media_id.location.point.longitude),str(media_id.get_standard_resolution_url()))\n",
    "            #extracts id, latitude, longitude and url, force into str and put into tuple\n",
    "            media_with_location2.append(position_tuple)\n",
    "            #append tuple into the list created earlier\n",
    "            \n",
    "counter = 0\n",
    "#starting to count...\n",
    "while next and counter < 20 :  \n",
    "#this while loop goes through first 7 pages of results; I tried larger numbers but there seem to be only 7 pages of results\n",
    "    more_media, next = api.tag_recent_media(tag_name='lakemerritt', max_tag_id=max_tag)\n",
    "    #loop through max_tag which means the oldest media \n",
    "    temp,max_tag=next.split('max_tag_id=')\n",
    "    max_tag=str(max_tag)\n",
    "    for media_id in more_media:\n",
    "        all_media_ids2.append(media_id.id)\n",
    "        #append the unique number that associates with the insta ids to the list that was created earlier \n",
    "        if \"location\" in dir(media_id):\n",
    "            if (\"point\" in dir(media_id.location)) and (\"latitude\" in dir(media_id.location.point)) and (\"longitude\" in dir(media_id.location.point)):\n",
    "                position_tuple=(str(media_id.id),str(media_id.location.point.latitude),str(media_id.location.point.longitude),str(media_id.get_standard_resolution_url()))\n",
    "                media_with_location2.append(position_tuple)\n",
    "                #same as above\n",
    "    counter+=1\n",
    "#add one to the counter\n",
    "\n",
    "\n",
    "#check length of all media ids to make sure pagination is working\n",
    "print \"Length of All Media IDS2:\", len(all_media_ids2)\n",
    "\n",
    "#some prints to validate your information\n",
    "print \"media_with_location2\"\n",
    "print media_with_location\n",
    "print len(media_with_location2)\n",
    "#in this round there are 433 media ids and 212 of them contain complete lat/long/url \n"
   ]
  },
  {
   "cell_type": "code",
   "execution_count": 38,
   "metadata": {
    "collapsed": true
   },
   "outputs": [],
   "source": [
    "merged = media_with_location + media_with_location2"
   ]
  },
  {
   "cell_type": "code",
   "execution_count": 40,
   "metadata": {
    "collapsed": true
   },
   "outputs": [],
   "source": [
    "import csv\n",
    "\n",
    "data=merged\n",
    "\n",
    "with open('lakemerritt.csv','w') as out:\n",
    "    csv_out=csv.writer(out)\n",
    "    csv_out.writerow(['instaID','lat','long','URL'])\n",
    "    for row in data:\n",
    "        csv_out.writerow(row)"
   ]
  }
 ],
 "metadata": {
  "kernelspec": {
   "display_name": "Python 2",
   "language": "python",
   "name": "python2"
  },
  "language_info": {
   "codemirror_mode": {
    "name": "ipython",
    "version": 2
   },
   "file_extension": ".py",
   "mimetype": "text/x-python",
   "name": "python",
   "nbconvert_exporter": "python",
   "pygments_lexer": "ipython2",
   "version": "2.7.10"
  }
 },
 "nbformat": 4,
 "nbformat_minor": 0
}
