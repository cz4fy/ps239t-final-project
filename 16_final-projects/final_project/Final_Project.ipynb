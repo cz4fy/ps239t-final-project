{
 "cells": [
  {
   "cell_type": "markdown",
   "metadata": {},
   "source": [
    "# Webscraping - Lecture Code"
   ]
  },
  {
   "cell_type": "markdown",
   "metadata": {},
   "source": [
    "## The Task:\n",
    "\n",
    "Gather information Illinois' elected state legislators here: http://www.ilga.gov/senate/default.asp"
   ]
  },
  {
   "cell_type": "markdown",
   "metadata": {},
   "source": [
    "## The Tools:\n",
    "\n",
    "1. [Requests](http://docs.python-requests.org/en/latest/user/quickstart/)\n",
    "2. [Beautiful Soup](http://www.crummy.com/software/BeautifulSoup/bs4/doc/)"
   ]
  },
  {
   "cell_type": "code",
   "execution_count": 57,
   "metadata": {
    "collapsed": false
   },
   "outputs": [
    {
     "name": "stdout",
     "output_type": "stream",
     "text": [
      "Length of All Media IDS: 73\n",
      "media_with_location\n",
      "[('1022203687264871862_913245280', '37.782580261', '-122.21532139', 'https://scontent.cdninstagram.com/hphotos-xaf1/t50.2886-16/11723892_908448552564991_636535954_n.mp4'), ('920625456882307349_38347483', '37.804414291', '-122.251496774', 'https://scontent.cdninstagram.com/hphotos-xpa1/t51.2885-15/e15/924756_412596178887551_2004166462_n.jpg'), ('877240390495123453_242151420', '37.80737242', '-122.254306971', 'https://scontent.cdninstagram.com/hphotos-xpa1/t51.2885-15/e15/927738_751654308260433_880924362_n.jpg'), ('864490978064204376_10985767', '37.80688791', '-122.258809658', 'https://scontent.cdninstagram.com/hphotos-xpa1/t51.2885-15/e15/924055_1523219964607110_1900805353_n.jpg'), ('817814980139470520_49708378', '37.799116119', '-122.258911085', 'https://scontent.cdninstagram.com/hphotos-xpf1/t51.2885-15/e15/10522790_448992538577149_1778692219_n.jpg'), ('742862633002919198_481965824', '37.805536344', '-122.254301678', 'https://scontent.cdninstagram.com/hphotos-ash/t50.2886-16/10472465_1435626623377172_669011699_n.mp4'), ('742784722497496256_481965824', '37.805536344', '-122.254301678', 'https://scontent.cdninstagram.com/hphotos-ash/t51.2885-15/e15/10467700_1413318752289124_1571403272_n.jpg'), ('742752117412652246_481965824', '37.805536344', '-122.254301678', 'https://scontent.cdninstagram.com/hphotos-xfp1/t51.2885-15/e15/914364_1433865943542357_581261792_n.jpg'), ('742730411696514729_481965824', '37.805536344', '-122.254301678', 'https://scontent.cdninstagram.com/hphotos-xaf1/t51.2885-15/e15/10375594_724222190950516_2015127789_n.jpg'), ('742722061206349248_481965824', '37.805536344', '-122.254301678', 'https://scontent.cdninstagram.com/hphotos-xfp1/t51.2885-15/e15/10471849_1419596931655546_130645601_n.jpg'), ('742706914769298520_481965824', '37.805536344', '-122.254301678', 'https://scontent.cdninstagram.com/hphotos-xaf1/t51.2885-15/e15/927075_293395444168352_1331455806_n.jpg'), ('712656359991332343_49708378', '37.799543', '-122.244413', 'https://scontent.cdninstagram.com/hphotos-frc/t51.2885-15/e15/10296965_780129878672477_1022768078_n.jpg'), ('712655491728461280_49708378', '37.799543', '-122.244413', 'https://scontent.cdninstagram.com/hphotos-xtp1/t51.2885-15/e15/917434_1447323335512286_585787236_n.jpg'), ('712654451515903439_49708378', '37.799543', '-122.244413', 'https://scontent.cdninstagram.com/hphotos-frc/t51.2885-15/e15/10254213_1476017082615882_1308092501_n.jpg'), ('687833598054845142_411572257', '45.559406667', '10.630482137', 'https://scontent.cdninstagram.com/hphotos-frc/t51.2885-15/e15/1737473_670597863001705_1443361497_n.jpg'), ('680097458092893274_124472', '37.805536344', '-122.254301678', 'https://scontent.cdninstagram.com/hphotos-xta1/t51.2885-15/e15/12139760_1666380946909164_2080453342_n.jpg'), ('666949183759385533_962738519', '37.802408402', '-122.254463056', 'https://scontent.cdninstagram.com/hphotos-xfa1/t51.2885-15/e15/11357444_868330829881466_351425076_n.jpg'), ('666946020515971950_962738519', '37.802408402', '-122.254463056', 'https://scontent.cdninstagram.com/hphotos-xtf1/t51.2885-15/e15/11380747_970785796300134_952943426_n.jpg')]\n",
      "18\n",
      "-122.21532139\n"
     ]
    }
   ],
   "source": [
    "#THESE ARE PUBLIC PHOTOES TAGGED WITH 'LAKE_MERRITT'\n",
    "\n",
    "from instagram.client import InstagramAPI\n",
    "from random import randint\n",
    "import sys\n",
    "import time\n",
    "from collections import OrderedDict\n",
    "\n",
    "client_id = 'b5d78f65c2b94e74ac6363d8f2f7bcbd'\n",
    "client_secret = '6e00cda85eca47b281af4aa88275c5de'\n",
    "access_token = '19594423.1677ed0.d298d661a5dd4587becb8a83b3cca787'\n",
    "client_ip = '73.189.135.127'\n",
    "\n",
    "#client_id=client_id, client_secret=client_secret, redirect_uri=redirect_uri\n",
    "\n",
    "api = InstagramAPI(client_id=client_id, client_secret=client_secret, client_ips= client_ip,access_token= access_token) \n",
    "\n",
    "media_with_location=[]\n",
    "all_media_ids = []\n",
    "\n",
    "media_ids,next = api.tag_recent_media(tag_name='lake_merritt', count=300)\n",
    "temp,max_tag=next.split('max_tag_id=')\n",
    "max_tag=str(max_tag)\n",
    "\n",
    "position_tuple = ()\n",
    "\n",
    "for media_id in media_ids:\n",
    "\tall_media_ids.append(media_id.id)\n",
    "\t#some media_ids don't have location assoicated with them... this maybe a hacky way of doing it, but it works\n",
    "\tif \"location\" in dir(media_id):\n",
    "\t\t#you can do it this way if that is the way you want your information, I did it using Tuples to have your data more organized and easir to access once its VERY large. \n",
    "\t\t#position = str(media_id.id) + \",\" + str(media_id.location.point.latitude) + ',' + str(media_id.location.point.longitude) + ';' + str(media_id.get_standard_resolution_url())\n",
    "\n",
    "\t\t# i found that some of the data doesn't have a full location ... so this just to check for that case. \n",
    "\t\tif (\"point\" in dir(media_id.location)) and (\"latitude\" in dir(media_id.location.point)) and (\"longitude\" in dir(media_id.location.point)):\n",
    "\t\t\tposition_tuple=(str(media_id.id),str(media_id.location.point.latitude),str(media_id.location.point.longitude),str(media_id.get_standard_resolution_url()))\n",
    "\t\t\tmedia_with_location.append(position_tuple)\n",
    "\n",
    "counter = 1\n",
    "while next and counter < 3 :\n",
    "\tmore_media, next = api.tag_recent_media(tag_name='lake_merritt', max_tag_id=max_tag)\n",
    "\ttemp,max_tag=next.split('max_tag_id=')\n",
    "\tmax_tag=str(max_tag)\n",
    "\tfor media_id in more_media:\n",
    "\t\tall_media_ids.append(media_id.id)\n",
    "\t\t#some media_ids don't have location assoicated with them... this maybe a hacky way of doing it, but it works\n",
    "\t\tif \"location\" in dir(media_id):\n",
    "\t\t\t#you can do it this way if that is the way you want your information, I did it using a \"list of tuples\" to have your data more organized and easir to access once its VERY large. \n",
    "\t\t\t#position = str(media_id.id) + \",\" + str(media_id.location.point.latitude) + ',' + str(media_id.location.point.longitude) + ';' + str(media_id.get_standard_resolution_url())\n",
    "\n",
    "\t\t\t# i found that some of the data doesn't have a full location ... so this just to check for that case. \n",
    "\t\t\tif (\"point\" in dir(media_id.location)) and (\"latitude\" in dir(media_id.location.point)) and (\"longitude\" in dir(media_id.location.point)):\n",
    "\t\t\t\tposition_tuple=(str(media_id.id),str(media_id.location.point.latitude),str(media_id.location.point.longitude),str(media_id.get_standard_resolution_url()))\n",
    "\t\t\t\tmedia_with_location.append(position_tuple)\n",
    "\tcounter+=1\n",
    "\n",
    "\n",
    "\n",
    "#delete duplicates just incase...\n",
    "media_with_location=list(OrderedDict.fromkeys(media_with_location))\n",
    "all_media_ids=list(OrderedDict.fromkeys(all_media_ids))\n",
    "\n",
    "#check length of all media ids to make sure pagination is working\n",
    "print \"Length of All Media IDS:\", len(all_media_ids)\n",
    "\n",
    "#some prints to validate your information\n",
    "print \"media_with_location\"\n",
    "print media_with_location\n",
    "print len(media_with_location)\n",
    "\n",
    "#this is how to access a member within the list\n",
    "print media_with_location[0][2]"
   ]
  },
  {
   "cell_type": "code",
   "execution_count": 59,
   "metadata": {
    "collapsed": true
   },
   "outputs": [],
   "source": [
    "import csv\n",
    "\n",
    "data=media_with_location\n",
    "\n",
    "with open('lake_merritt.csv','w') as out:\n",
    "    csv_out=csv.writer(out)\n",
    "    csv_out.writerow(['instaID','lat','long','URL'])\n",
    "    for row in data:\n",
    "        csv_out.writerow(row)"
   ]
  },
  {
   "cell_type": "markdown",
   "metadata": {},
   "source": [
    "## Step 1: Make a Get Request and Read in HTML\n",
    "\n",
    "We use `requests` library to:\n",
    "1. make a GET request to the page\n",
    "2. read in the html of the page"
   ]
  },
  {
   "cell_type": "code",
   "execution_count": 53,
   "metadata": {
    "collapsed": false
   },
   "outputs": [],
   "source": [
    "import requests\n",
    "from bs4 import BeautifulSoup\n",
    "#these are instagrams -both public and private - from within 1mile of lake merritt\n",
    "# make a GET request for about 1mile - about 1600m around lake merritt, used geocode in r to get long and lat of lake merritt\n",
    "req = requests.get('https://api.instagram.com/v1/media/search?lat=37.80124&lng=-122.2583&distance=1600&access_token=19594423.1677ed0.d298d661a5dd4587becb8a83b3cca787')\n",
    "# read the content of the server’s response\n",
    "src = req.text"
   ]
  },
  {
   "cell_type": "code",
   "execution_count": 54,
   "metadata": {
    "collapsed": false
   },
   "outputs": [
    {
     "name": "stdout",
     "output_type": "stream",
     "text": [
      "<html>\n",
      " <body>\n",
      "  <p>\n",
      "   {\"meta\":{\"code\":200},\"data\":[{\"attribution\":null,\"tags\":[],\"type\":\"image\",\"location\":{\"latitude\":37.8042488,\"name\":\"VENUE Oakland\",\"longitude\":-122.2703018,\"id\":123672253},\"comments\":{\"count\":3,\"data\":[{\"created_time\":\"1448344993\",\"text\":\"Back game proper\",\"from\":{\"username\":\"reinadelacastles\",\"profile_picture\":\"https:\\/\\/scontent.cdninstagram.com\\/hphotos-xfp1\\/t51.2885-19\\/s150x150\\/12231085_192408207766124_1953862817_a.jpg\",\"id\":\"5919124\",\"full_name\":\"\"},\"id\":\"1125121811032961800\"},{\"created_time\":\"1448345103\",\"text\":\"Tatt game hard af\",\"from\":{\"username\":\"funsizeniecey\",\"profile_picture\":\"https:\\/\\/scontent.cdninstagram.com\\/hphotos-xfa1\\/t51.2885-19\\/s150x150\\/11950676_753314974779100_929426059_a.jpg\",\"id\":\"400126054\",\"full_name\":\"\\ud83d\\udc52FB : ShaniceMitche\"},\"id\":\"1125122737512772398\"},{\"created_time\":\"1448345659\",\"text\":\"Ain't been there since my 25th birthday forgot about that spot\",\"from\":{\"username\":\"dezzydez88\",\"profile_picture\":\"https:\\/\\/scontent.cdninstagram.com\\/hphotos-xpt1\\/t51.2885-19\\/11353503_1448681255456488_344734370_a.jpg\",\"id\":\"531882382\",\"full_name\":\"\"},\"id\":\"1125127396705039332\"}]},\"filter\":\"Normal\",\"created_time\":\"1448344921\",\"link\":\"https:\\/\\/instagram.com\\/p\\/-dO8YLKfOk\\/\",\"likes\":{\"count\":221,\"data\":[{\"username\":\"kase_work\",\"profile_picture\":\"https:\\/\\/scontent.cdninstagram.com\\/hphotos-xap1\\/t51.2885-19\\/s150x150\\/11906386_1520561728260252_1356897478_a.jpg\",\"id\":\"1951005024\",\"full_name\":\"Kase Work\"},{\"username\":\"footwheelz\",\"profile_picture\":\"https:\\/\\/scontent.cdninstagram.com\\/hphotos-xtp1\\/t51.2885-19\\/s150x150\\/11849878_1668570700096707_1126342122_a.jpg\",\"id\":\"2002128882\",\"full_name\":\"FootWheelz \\u2122\"},{\"username\":\"karcz_x\",\"profile_picture\":\"https:\\/\\/scontent.cdninstagram.com\\/hphotos-xtp1\\/t51.2885-19\\/s150x150\\/12237302_1707484972813707_1796384740_a.jpg\",\"id\":\"1795198526\",\"full_name\":\"Karolina \\ud83d\\udc8e\"},{\"username\":\"ms_summer5053\",\"profile_picture\":\"https:\\/\\/scontent.cdninstagram.com\\/hphotos-xtf1\\/t51.2885-19\\/s150x150\\/12237308_1628774690717160_888581035_a.jpg\",\"id\":\"1835673694\",\"full_name\":\"\\ud83d\\udc51\\ud83d\\udc1d\"}]},\"images\":{\"low_resolution\":{\"url\":\"https:\\/\\/scontent.cdninstagram.com\\/hphotos-xpf1\\/t51.2885-15\\/s320x320\\/e35\\/12237038_1219136464770248_1492882307_n.jpg\",\"width\":320,\"height\":320},\"thumbnail\":{\"url\":\"https:\\/\\/scontent.cdninstagram.com\\/hphotos-xfp1\\/t51.2885-15\\/s150x150\\/e35\\/c180.0.720.720\\/12224494_1052794308086444_735213673_n.jpg\",\"width\":150,\"height\":150},\"standard_resolution\":{\"url\":\"https:\\/\\/scontent.cdninstagram.com\\/hphotos-xpf1\\/t51.2885-15\\/s640x640\\/sh0.08\\/e35\\/12237038_1219136464770248_1492882307_n.jpg\",\"width\":640,\"height\":640}},\"users_in_photo\":[{\"position\":{\"y\":0.651333374,\"x\":0.175111084},\"user\":{\"username\":\"caymass\",\"profile_picture\":\"https:\\/\\/scontent.cdninstagram.com\\/hphotos-xft1\\/t51.2885-19\\/s150x150\\/12237499_1488765104786438_2110719452_a.jpg\",\"id\":\"237013571\",\"full_name\":\"caymass\"}},{\"position\":{\"y\":0.163333333,\"x\":0.732444444},\"user\":{\"username\":\"36neex\",\"profile_picture\":\"https:\\/\\/scontent.cdninstagram.com\\/hphotos-xpt1\\/t51.2885-19\\/s150x150\\/12139698_946426855430612_333776145_a.jpg\",\"id\":\"628120325\",\"full_name\":\"36 Tries\"}}],\"caption\":{\"created_time\":\"1448344921\",\"text\":\"Sometimes.\",\"from\":{\"username\":\"blaktrash4jay\",\"profile_picture\":\"https:\\/\\/scontent.cdninstagram.com\\/hphotos-xaf1\\/t51.2885-19\\/s150x150\\/11925672_715044295263682_635802814_a.jpg\",\"id\":\"181372683\",\"full_name\":\"4JAY\"},\"id\":\"1125121215383073506\"},\"user_has_liked\":false,\"id\":\"1125121203689354148_181372683\",\"user\":{\"username\":\"blaktrash4jay\",\"profile_picture\":\"https:\\/\\/scontent.cdninstagram.com\\/hphotos-xaf1\\/t51.2885-19\\/s150x150\\/11925672_715044295263682_635802814_a.jpg\",\"id\":\"181372683\",\"full_name\":\"4JAY\"}},{\"attribution\":null,\"tags\":[],\"type\":\"image\",\"location\":{\"latitude\":37.8044,\"name\":\"Oakland, California\",\"longitude\":-122.271,\"id\":213051194},\"comments\":{\"count\":0,\"data\":[]},\"filter\":\"Normal\",\"created_time\":\"1448344875\",\"link\":\"https:\\/\\/instagram.com\\/p\\/-dO238jaFK\\/\",\"likes\":{\"count\":10,\"data\":[{\"username\":\"tomkatpedals\",\"profile_picture\":\"https:\\/\\/scontent.cdninstagram.com\\/hphotos-xtf1\\/t51.2885-19\\/s150x150\\/11848870_591665857641229_2121642414_a.jpg\",\"id\":\"12984070\",\"full_name\":\"Tom Kogut\"},{\"username\":\"chereld\",\"profile_picture\":\"https:\\/\\/scontent.cdninstagram.com\\/hphotos-xta1\\/t51.2885-19\\/s150x150\\/1922062_1058839710794268_203500337_a.jpg\",\"id\":\"21510284\",\"full_name\":\"chereld\"},{\"username\":\"tender_prey_\",\"profile_picture\":\"https:\\/\\/scontent.cdninstagram.com\\/hphotos-xat1\\/t51.2885-19\\/11374751_831063340344759_1117597151_a.jpg\",\"id\":\"7951493\",\"full_name\":\"Jay Torres\"},{\"username\":\"cecil.b.moxie\",\"profile_picture\":\"https:\\/\\/scontent.cdninstagram.com\\/hphotos-xfp1\\/t51.2885-19\\/11906315_1602008406739714_837411374_a.jpg\",\"id\":\"25712006\",\"full_name\":\"Cecile Burns\"}]},\"images\":{\"low_resolution\":{\"url\":\"https:\\/\\/scontent.cdninstagram.com\\/hphotos-xft1\\/t51.2885-15\\/s320x320\\/e35\\/12224282_1488272168149165_819328217_n.jpg\",\"width\":320,\"height\":320},\"thumbnail\":{\"url\":\"https:\\/\\/scontent.cdninstagram.com\\/hphotos-xft1\\/t51.2885-15\\/s150x150\\/e35\\/12224282_1488272168149165_819328217_n.jpg\",\"width\":150,\"height\":150},\"standard_resolution\":{\"url\":\"https:\\/\\/scontent.cdninstagram.com\\/hphotos-xft1\\/t51.2885-15\\/s640x640\\/sh0.08\\/e35\\/12224282_1488272168149165_819328217_n.jpg\",\"width\":640,\"height\":640}},\"users_in_photo\":[],\"caption\":null,\"user_has_liked\":false,\"id\":\"1125120825487106378_237970871\",\"user\":{\"username\":\"williamschaff\",\"profile_picture\":\"https:\\/\\/scontent.cdninstagram.com\\/hphotos-xfa1\\/t51.2885-19\\/10731946_989429161099237_551631484_a.jpg\",\"id\":\"237970871\",\"full_name\":\"William Schaff\"}},{\"attribution\":null,\"tags\":[\"shootingstar\"],\"type\":\"image\",\"location\":{\"latitude\":37.8009834,\"name\":\"Shooting Star Cafe\",\"longitude\":-122.2700882,\"id\":235105},\"comments\":{\"count\":0,\"data\":[]},\"filter\":\"Normal\",\"created_time\":\"1448344148\",\"link\":\"https:\\/\\/instagram.com\\/p\\/-dNeHliFzP\\/\",\"likes\":{\"count\":3,\"data\":[{\"username\":\"_kellmatic_\",\"profile_picture\":\"https:\\/\\/scontent.cdninstagram.com\\/hphotos-xft1\\/t51.2885-19\\/s150x150\\/11950431_1477669022529655_1670180289_a.jpg\",\"id\":\"697383730\",\"full_name\":\"\"},{\"username\":\"back_level\",\"profile_picture\":\"https:\\/\\/scontent.cdninstagram.com\\/hphotos-xaf1\\/t51.2885-19\\/s150x150\\/11887161_980308942033147_1092722641_a.jpg\",\"id\":\"2129064107\",\"full_name\":\"\"},{\"username\":\"profoundbandit\",\"profile_picture\":\"https:\\/\\/scontent.cdninstagram.com\\/hphotos-xfa1\\/t51.2885-19\\/s150x150\\/12230931_712404922223503_1068648806_a.jpg\",\"id\":\"11880471\",\"full_name\":\"\\u26a1\\ufe0fTHOMAS\"}]},\"images\":{\"low_resolution\":{\"url\":\"https:\\/\\/scontent.cdninstagram.com\\/hphotos-xfp1\\/t51.2885-15\\/s320x320\\/e35\\/11939401_542846372539191_132287194_n.jpg\",\"width\":320,\"height\":320},\"thumbnail\":{\"url\":\"https:\\/\\/scontent.cdninstagram.com\\/hphotos-xfp1\\/t51.2885-15\\/s150x150\\/e35\\/11939401_542846372539191_132287194_n.jpg\",\"width\":150,\"height\":150},\"standard_resolution\":{\"url\":\"https:\\/\\/scontent.cdninstagram.com\\/hphotos-xfp1\\/t51.2885-15\\/s640x640\\/sh0.08\\/e35\\/11939401_542846372539191_132287194_n.jpg\",\"width\":640,\"height\":640}},\"users_in_photo\":[{\"position\":{\"y\":0.106666667,\"x\":0.202666667},\"user\":{\"username\":\"eddieleung37\",\"profile_picture\":\"https:\\/\\/scontent.cdninstagram.com\\/hphotos-xtf1\\/t51.2885-19\\/11351718_942307212458879_2117827890_a.jpg\",\"id\":\"3059618\",\"full_name\":\"Eddie \\ud83d\\udc72\\ud83c\\udffe\"}},{\"position\":{\"y\":0.868,\"x\":0.513333333},\"user\":{\"username\":\"jesunnie\",\"profile_picture\":\"https:\\/\\/scontent.cdninstagram.com\\/hphotos-xat1\\/t51.2885-19\\/10810040_116813335331658_825283180_a.jpg\",\"id\":\"6149301\",\"full_name\":\"\"}},{\"position\":{\"y\":0.690666667,\"x\":0.174666667},\"user\":{\"username\":\"profoundbandit\",\"profile_picture\":\"https:\\/\\/scontent.cdninstagram.com\\/hphotos-xfa1\\/t51.2885-19\\/s150x150\\/12230931_712404922223503_1068648806_a.jpg\",\"id\":\"11880471\",\"full_name\":\"\\u26a1\\ufe0fTHOMAS\"}},{\"position\":{\"y\":0.746666667,\"x\":0.769333333},\"user\":{\"username\":\"curtis_a_ko\",\"profile_picture\":\"https:\\/\\/scontent.cdninstagram.com\\/hphotos-xta1\\/t51.2885-19\\/11266553_1013362008687527_2089015518_a.jpg\",\"id\":\"278286848\",\"full_name\":\"Curtis Ko\"}}],\"caption\":{\"created_time\":\"1448344148\",\"text\":\"Rice roll noodles with mix sauce @profoundbandit style #shootingstar\",\"from\":{\"username\":\"shirvano\",\"profile_picture\":\"https:\\/\\/scontent.cdninstagram.com\\/hphotos-xfp1\\/t51.2885-19\\/s150x150\\/11242009_149697802033854_1172711051_a.jpg\",\"id\":\"211555534\",\"full_name\":\"vs\"},\"id\":\"1125114734753373375\"},\"user_has_liked\":false,\"id\":\"1125114726247324879_211555534\",\"user\":{\"username\":\"shirvano\",\"profile_picture\":\"https:\\/\\/scontent.cdninstagram.com\\/hphotos-xfp1\\/t51.2885-19\\/s150x150\\/11242009_149697802033854_1172711051_a.jpg\",\"id\":\"211555534\",\"full_name\":\"vs\"}},{\"attribution\":null,\"tags\":[],\"type\":\"image\",\"location\":{\"latitude\":37.8044,\"name\":\"Oakland, California\",\"longitude\":-122.271,\"id\":213051194},\"comments\":{\"count\":0,\"data\":[]},\"filter\":\"Normal\",\"created_time\":\"1448344047\",\"link\":\"https:\\/\\/instagram.com\\/p\\/-dNRu8BNFB\\/\",\"likes\":{\"count\":0,\"data\":[]},\"images\":{\"low_resolution\":{\"url\":\"https:\\/\\/scontent.cdninstagram.com\\/hphotos-xft1\\/t51.2885-15\\/s320x320\\/e35\\/12256778_1635958103342893_1355945565_n.jpg\",\"width\":320,\"height\":320},\"thumbnail\":{\"url\":\"https:\\/\\/scontent.cdninstagram.com\\/hphotos-xpa1\\/t51.2885-15\\/s150x150\\/e35\\/c206.0.668.668\\/12256704_1686948621524513_71525864_n.jpg\",\"width\":150,\"height\":150},\"standard_resolution\":{\"url\":\"https:\\/\\/scontent.cdninstagram.com\\/hphotos-xft1\\/t51.2885-15\\/s640x640\\/sh0.08\\/e35\\/12256778_1635958103342893_1355945565_n.jpg\",\"width\":640,\"height\":640}},\"users_in_photo\":[],\"caption\":{\"created_time\":\"1448344047\",\"text\":\"City of dreams\",\"from\":{\"username\":\"hide_awayy\",\"profile_picture\":\"https:\\/\\/scontent.cdninstagram.com\\/hphotos-xtf1\\/t51.2885-19\\/s150x150\\/12277560_1639530006349824_2062182404_a.jpg\",\"id\":\"2291325307\",\"full_name\":\"\"},\"id\":\"1125123917426774955\"},\"user_has_liked\":false,\"id\":\"1125113875147313473_2291325307\",\"user\":{\"username\":\"hide_awayy\",\"profile_picture\":\"https:\\/\\/scontent.cdninstagram.com\\/hphotos-xtf1\\/t51.2885-19\\/s150x150\\/12277560_1639530006349824_2062182404_a.jpg\",\"id\":\"2291325307\",\"full_name\":\"\"}},{\"attribution\":null,\"videos\":{\"low_bandwidth\":{\"url\":\"https:\\/\\/scontent.cdninstagram.com\\/hphotos-xfa1\\/t50.2886-16\\/11983220_1517977935187956_190645938_s.mp4\",\"width\":480,\"height\":480},\"standard_resolution\":{\"url\":\"https:\\/\\/scontent.cdninstagram.com\\/hphotos-xfa1\\/t50.2886-16\\/12277964_555953851229989_1266702177_n.mp4\",\"width\":640,\"height\":640},\"low_resolution\":{\"url\":\"https:\\/\\/scontent.cdninstagram.com\\/hphotos-xfa1\\/t50.2886-16\\/11983220_1517977935187956_190645938_s.mp4\",\"width\":480,\"height\":480}},\"tags\":[],\"type\":\"video\",\"location\":{\"latitude\":37.8044,\"name\":\"Oakland, California\",\"longitude\":-122.271,\"id\":213051194},\"comments\":{\"count\":1,\"data\":[{\"created_time\":\"1448343884\",\"text\":\"Melody would foe sure body bagged yo stupid ass \\ud83d\\ude02\\ud83d\\ude02\\ud83d\\ude02\\ud83d\\ude02\\ud83d\\ude02\",\"from\":{\"username\":\"top_hat_d\",\"profile_picture\":\"https:\\/\\/scontent.cdninstagram.com\\/hphotos-xfa1\\/t51.2885-19\\/10311090_696852910378915_155978109_a.jpg\",\"id\":\"352121907\",\"full_name\":\"TOP HAT \\\"D\\\"\"},\"id\":\"1125112513123440606\"}]},\"filter\":\"Normal\",\"created_time\":\"1448343672\",\"link\":\"https:\\/\\/instagram.com\\/p\\/-dMkBeEdUi\\/\",\"likes\":{\"count\":3,\"data\":[{\"username\":\"chaquanna.b\",\"profile_picture\":\"https:\\/\\/scontent.cdninstagram.com\\/hphotos-xpa1\\/t51.2885-19\\/s150x150\\/12224435_1632139897048196_1227006133_a.jpg\",\"id\":\"50670650\",\"full_name\":\"\\ud83d\\udcaf\\ud83d\\udc8b\"},{\"username\":\"love4evermore\",\"profile_picture\":\"https:\\/\\/scontent.cdninstagram.com\\/hphotos-xpf1\\/t51.2885-19\\/s150x150\\/12145616_1658156444430419_1559112035_a.jpg\",\"id\":\"145085543\",\"full_name\":\"Beauty And Brains\\ud83d\\udc85\"},{\"username\":\"gkeepitplayer\",\"profile_picture\":\"https:\\/\\/scontent.cdninstagram.com\\/hphotos-xpf1\\/t51.2885-19\\/11429253_505053059641985_1434321555_a.jpg\",\"id\":\"826572775\",\"full_name\":\"3\\u20e30\\u20e30\\u20e3BandManG\\ud83d\\ude40\"}]},\"images\":{\"low_resolution\":{\"url\":\"https:\\/\\/scontent.cdninstagram.com\\/hphotos-xft1\\/t51.2885-15\\/s320x320\\/e15\\/12277422_844770175637510_2105644550_n.jpg\",\"width\":320,\"height\":320},\"thumbnail\":{\"url\":\"https:\\/\\/scontent.cdninstagram.com\\/hphotos-xft1\\/t51.2885-15\\/s150x150\\/e15\\/12277422_844770175637510_2105644550_n.jpg\",\"width\":150,\"height\":150},\"standard_resolution\":{\"url\":\"https:\\/\\/scontent.cdninstagram.com\\/hphotos-xft1\\/t51.2885-15\\/e15\\/12277422_844770175637510_2105644550_n.jpg\",\"width\":640,\"height\":640}},\"users_in_photo\":[],\"caption\":null,\"user_has_liked\":false,\"id\":\"1125110733950014754_1520506140\",\"user\":{\"username\":\"jcoop7700\",\"profile_picture\":\"https:\\/\\/scontent.cdninstagram.com\\/hphotos-xpf1\\/t51.2885-19\\/s150x150\\/11374413_1491296994526630_1947321846_a.jpg\",\"id\":\"1520506140\",\"full_name\":\"John Cooper Jr.\"}},{\"attribution\":null,\"tags\":[],\"type\":\"image\",\"location\":{\"latitude\":37.803166881,\"name\":\"Drastic Changes Hair Design\",\"longitude\":-122.270645164,\"id\":251323608},\"comments\":{\"count\":2,\"data\":[{\"created_time\":\"1448344341\",\"text\":\"Nice job\",\"from\":{\"username\":\"oaklandsoul\",\"profile_picture\":\"https:\\/\\/scontent.cdninstagram.com\\/hphotos-xft1\\/t51.2885-19\\/11334602_1010796365599572_231142907_a.jpg\",\"id\":\"143842302\",\"full_name\":\"oaklandsoul\"},\"id\":\"1125116342430655414\"},{\"created_time\":\"1448344377\",\"text\":\"Looks great. .\",\"from\":{\"username\":\"shortandsassy36\",\"profile_picture\":\"https:\\/\\/scontent.cdninstagram.com\\/hphotos-xfp1\\/t51.2885-19\\/11378878_931148263598038_1995871531_a.jpg\",\"id\":\"54659081\",\"full_name\":\"Ms. T. Peoples\"},\"id\":\"1125116641459364809\"}]},\"filter\":\"Normal\",\"created_time\":\"1448343165\",\"link\":\"https:\\/\\/instagram.com\\/p\\/-dLmGRkOCr\\/\",\"likes\":{\"count\":10,\"data\":[{\"username\":\"mid_west_krissie\",\"profile_picture\":\"https:\\/\\/scontent.cdninstagram.com\\/hphotos-xtp1\\/t51.2885-19\\/s150x150\\/12106192_886175921489923_746351314_a.jpg\",\"id\":\"39660607\",\"full_name\":\"\"},{\"username\":\"myzzcarey_ladii_d\",\"profile_picture\":\"https:\\/\\/scontent.cdninstagram.com\\/hphotos-xtp1\\/t51.2885-19\\/s150x150\\/12277424_873890032731424_304555712_a.jpg\",\"id\":\"39885850\",\"full_name\":\"ladii_d81\"},{\"username\":\"king_lea\",\"profile_picture\":\"https:\\/\\/scontent.cdninstagram.com\\/hphotos-xta1\\/t51.2885-19\\/11326015_1513498452275444_396314749_a.jpg\",\"id\":\"37795875\",\"full_name\":\"\"},{\"username\":\"mylove41\",\"profile_picture\":\"https:\\/\\/scontent.cdninstagram.com\\/hphotos-xpf1\\/t51.2885-19\\/10948955_763383517078586_1791219705_a.jpg\",\"id\":\"8172275\",\"full_name\":\"Nikki Paige\\ud83d\\ude4f\\ud83d\\udc8d\\ud83c\\udf7c\\ud83d\\udc97\\ud83d\\udc9a\\u264c\"}]},\"images\":{\"low_resolution\":{\"url\":\"https:\\/\\/scontent.cdninstagram.com\\/hphotos-xpa1\\/t51.2885-15\\/s320x320\\/e35\\/12301366_965681483470609_1381955872_n.jpg\",\"width\":320,\"height\":320},\"thumbnail\":{\"url\":\"https:\\/\\/scontent.cdninstagram.com\\/hphotos-xpa1\\/t51.2885-15\\/s150x150\\/e35\\/12301366_965681483470609_1381955872_n.jpg\",\"width\":150,\"height\":150},\"standard_resolution\":{\"url\":\"https:\\/\\/scontent.cdninstagram.com\\/hphotos-xpa1\\/t51.2885-15\\/s640x640\\/sh0.08\\/e35\\/12301366_965681483470609_1381955872_n.jpg\",\"width\":640,\"height\":640}},\"users_in_photo\":[],\"caption\":{\"created_time\":\"1448343165\",\"text\":\"This new client was traumatized from her hair breaking after receiving services from someone that was not a licensed professional. \\nShe came to me for help and requested a simple, no curls style that would be easy to maintain.\\n\\nI relaxed, cut and colored her hair to achieve this healthy vibrant look.\",\"from\":{\"username\":\"remixmyhair\",\"profile_picture\":\"https:\\/\\/scontent.cdninstagram.com\\/hphotos-xpf1\\/t51.2885-19\\/11856751_439702342881789_374885209_a.jpg\",\"id\":\"15971079\",\"full_name\":\"Sanisha Mortis\"},\"id\":\"1125108030318371240\"},\"user_has_liked\":false,\"id\":\"1125106478501388459_15971079\",\"user\":{\"username\":\"remixmyhair\",\"profile_picture\":\"https:\\/\\/scontent.cdninstagram.com\\/hphotos-xpf1\\/t51.2885-19\\/11856751_439702342881789_374885209_a.jpg\",\"id\":\"15971079\",\"full_name\":\"Sanisha Mortis\"}},{\"attribution\":null,\"tags\":[\"diallophoto\",\"cityscapes\",\"fineartphotography\"],\"type\":\"image\",\"location\":{\"latitude\":37.8050613,\"name\":\"City of Oakland - Local Government\",\"longitude\":-122.2725372,\"id\":225676431},\"comments\":{\"count\":0,\"data\":[]},\"filter\":\"Normal\",\"created_time\":\"1448342548\",\"link\":\"https:\\/\\/instagram.com\\/p\\/-dKaw2CkL9\\/\",\"likes\":{\"count\":2,\"data\":[{\"username\":\"seimiliardi\",\"profile_picture\":\"https:\\/\\/scontent.cdninstagram.com\\/hphotos-xat1\\/t51.2885-19\\/11386462_863650503704541_1658059619_a.jpg\",\"id\":\"271872880\",\"full_name\":\"frankie caradonna\"},{\"username\":\"cullintobin\",\"profile_picture\":\"https:\\/\\/scontent.cdninstagram.com\\/hphotos-xaf1\\/t51.2885-19\\/10724088_868935053118999_2020892674_a.jpg\",\"id\":\"1528688002\",\"full_name\":\"Photographer\"}]},\"images\":{\"low_resolution\":{\"url\":\"https:\\/\\/scontent.cdninstagram.com\\/hphotos-xfp1\\/t51.2885-15\\/s320x320\\/e35\\/12277448_1523504874629943_383512318_n.jpg\",\"width\":320,\"height\":320},\"thumbnail\":{\"url\":\"https:\\/\\/scontent.cdninstagram.com\\/hphotos-xaf1\\/t51.2885-15\\/s150x150\\/e35\\/c84.0.911.911\\/12292886_415647815308184_1258017237_n.jpg\",\"width\":150,\"height\":150},\"standard_resolution\":{\"url\":\"https:\\/\\/scontent.cdninstagram.com\\/hphotos-xfp1\\/t51.2885-15\\/s640x640\\/sh0.08\\/e35\\/12277448_1523504874629943_383512318_n.jpg\",\"width\":640,\"height\":640}},\"users_in_photo\":[{\"position\":{\"y\":0.37291667,\"x\":0.12430557},\"user\":{\"username\":\"athletics\",\"profile_picture\":\"https:\\/\\/scontent.cdninstagram.com\\/hphotos-xat1\\/t51.2885-19\\/11352152_802145016573541_44616842_a.jpg\",\"id\":\"23471907\",\"full_name\":\"Oakland Athletics\"}},{\"position\":{\"y\":0.4805556,\"x\":0.10208333},\"user\":{\"username\":\"raiders\",\"profile_picture\":\"https:\\/\\/scontent.cdninstagram.com\\/hphotos-xtp1\\/t51.2885-19\\/s150x150\\/12071054_1050213808362382_1346465066_a.jpg\",\"id\":\"24782360\",\"full_name\":\"Oakland Raiders\"}},{\"position\":{\"y\":0.6027778,\"x\":0.5090278},\"user\":{\"username\":\"visitoakland\",\"profile_picture\":\"https:\\/\\/scontent.cdninstagram.com\\/hphotos-xpa1\\/t51.2885-19\\/11419106_906745052715014_1829037942_a.jpg\",\"id\":\"50944409\",\"full_name\":\"Visit Oakland\"}},{\"position\":{\"y\":0.72083336,\"x\":0.10138889},\"user\":{\"username\":\"dubnationfans\",\"profile_picture\":\"https:\\/\\/scontent.cdninstagram.com\\/hphotos-xft1\\/t51.2885-19\\/11336085_834662766648295_2116928119_a.jpg\",\"id\":\"260685081\",\"full_name\":\"#dubnation\"}},{\"position\":{\"y\":0.7409722,\"x\":0.8651568},\"user\":{\"username\":\"diallophoto\",\"profile_picture\":\"https:\\/\\/scontent.cdninstagram.com\\/hphotos-xft1\\/t51.2885-19\\/10932539_1489430704683197_772361630_a.jpg\",\"id\":\"1123465655\",\"full_name\":\"DMJ Fine Art Photography\"}},{\"position\":{\"y\":0.26527777,\"x\":0.8374999},\"user\":{\"username\":\"goldenstatewrriors\",\"profile_picture\":\"https:\\/\\/scontent.cdninstagram.com\\/hphotos-xta1\\/t51.2885-19\\/11849152_969539983066218_788147470_a.jpg\",\"id\":\"1282081018\",\"full_name\":\"GOLDENSTATEWARRIORS\"}},{\"position\":{\"y\":0.18541667,\"x\":0.08541667},\"user\":{\"username\":\"goldenstatewarriors2016\",\"profile_picture\":\"https:\\/\\/scontent.cdninstagram.com\\/hphotos-xfp1\\/t51.2885-19\\/s150x150\\/12224308_714330548702296_1313200973_a.jpg\",\"id\":\"1549574090\",\"full_name\":\"\"}},{\"position\":{\"y\":0.19097222,\"x\":0.47361115},\"user\":{\"username\":\"goldenstatewarriorsofficial\",\"profile_picture\":\"https:\\/\\/scontent.cdninstagram.com\\/hphotos-xpf1\\/t51.2885-19\\/s150x150\\/12145600_1705337859695799_958840192_a.jpg\",\"id\":\"2282278065\",\"full_name\":\"warriors #DUBNATION\\ud83c\\udfc6\"}}],\"caption\":{\"created_time\":\"1448342548\",\"text\":\"Oakland City Hall - Oakland, California #cityscapes #fineartphotography #diallophoto\",\"from\":{\"username\":\"diallophoto\",\"profile_picture\":\"https:\\/\\/scontent.cdninstagram.com\\/hphotos-xft1\\/t51.2885-19\\/10932539_1489430704683197_772361630_a.jpg\",\"id\":\"1123465655\",\"full_name\":\"DMJ Fine Art Photography\"},\"id\":\"1125101306982842570\"},\"user_has_liked\":false,\"id\":\"1125101301530247933_1123465655\",\"user\":{\"username\":\"diallophoto\",\"profile_picture\":\"https:\\/\\/scontent.cdninstagram.com\\/hphotos-xft1\\/t51.2885-19\\/10932539_1489430704683197_772361630_a.jpg\",\"id\":\"1123465655\",\"full_name\":\"DMJ Fine Art Photography\"}},{\"attribution\":null,\"tags\":[\"empireartscenter\",\"centerforinvestigativereporting\",\"northbyinferno\",\"storyworks\"],\"type\":\"image\",\"location\":{\"latitude\":37.8057518,\"name\":\"The Flight Deck\",\"longitude\":-122.2701111,\"id\":293691242},\"comments\":{\"count\":0,\"data\":[]},\"filter\":\"Normal\",\"created_time\":\"1448342309\",\"link\":\"https:\\/\\/instagram.com\\/p\\/-dJ9nllt3bWz1OExQXtrP4pXEiqbhAmVZKVoE0\\/\",\"likes\":{\"count\":124,\"data\":[{\"username\":\"dugamco_rdalir\",\"profile_picture\":\"https:\\/\\/scontent.cdninstagram.com\\/hphotos-xap1\\/t51.2885-19\\/s150x150\\/11909142_1631112290503711_917733450_a.jpg\",\"id\":\"2268103697\",\"full_name\":\"Marylee Annalisa\"},{\"username\":\"hancocacarolinx\",\"profile_picture\":\"https:\\/\\/scontent.cdninstagram.com\\/hphotos-xta1\\/t51.2885-19\\/s150x150\\/12106208_1935184876705717_1601898157_a.jpg\",\"id\":\"2268097330\",\"full_name\":\"Dayna\"},{\"username\":\"hmdvovt4681\",\"profile_picture\":\"https:\\/\\/scontent.cdninstagram.com\\/hphotos-xat1\\/t51.2885-19\\/s150x150\\/12071125_1676022835975434_1402415541_a.jpg\",\"id\":\"2268210269\",\"full_name\":\"Ilda Quintin\"},{\"username\":\"dotsopcaponr\",\"profile_picture\":\"https:\\/\\/scontent.cdninstagram.com\\/hphotos-xtf1\\/t51.2885-19\\/s150x150\\/12224052_854366171350716_1474388245_a.jpg\",\"id\":\"2268152893\",\"full_name\":\"Zane\"}]},\"images\":{\"low_resolution\":{\"url\":\"https:\\/\\/scontent.cdninstagram.com\\/hphotos-xtf1\\/t51.2885-15\\/s320x320\\/e35\\/12276941_452718178249418_1473977694_n.jpg\",\"width\":320,\"height\":320},\"thumbnail\":{\"url\":\"https:\\/\\/scontent.cdninstagram.com\\/hphotos-xtf1\\/t51.2885-15\\/s150x150\\/e35\\/12276941_452718178249418_1473977694_n.jpg\",\"width\":150,\"height\":150},\"standard_resolution\":{\"url\":\"https:\\/\\/scontent.cdninstagram.com\\/hphotos-xtf1\\/t51.2885-15\\/e35\\/12276941_452718178249418_1473977694_n.jpg\",\"width\":640,\"height\":640}},\"users_in_photo\":[{\"position\":{\"y\":0.1953125,\"x\":0.1703125},\"user\":{\"username\":\"rhubarbsloth\",\"profile_picture\":\"https:\\/\\/scontent.cdninstagram.com\\/hphotos-xfa1\\/t51.2885-19\\/s150x150\\/12292866_555166754659609_2022794697_a.jpg\",\"id\":\"5076940\",\"full_name\":\"Lizzington Post\"}},{\"position\":{\"y\":0.746875,\"x\":0.809375},\"user\":{\"username\":\"rachelndeleon\",\"profile_picture\":\"https:\\/\\/scontent.cdninstagram.com\\/hphotos-xaf1\\/t51.2885-19\\/1389722_1460352464290207_359740806_a.jpg\",\"id\":\"10077847\",\"full_name\":\"Rachel de Leon\"}},{\"position\":{\"y\":0.373437494,\"x\":0.3046875},\"user\":{\"username\":\"shecalledmechinabangs\",\"profile_picture\":\"https:\\/\\/scontent.cdninstagram.com\\/hphotos-xaf1\\/t51.2885-19\\/11098361_347715928751365_14243553_a.jpg\",\"id\":\"14266034\",\"full_name\":\"\"}},{\"position\":{\"y\":0.314062506,\"x\":0.728124976},\"user\":{\"username\":\"jennajwelch\",\"profile_picture\":\"https:\\/\\/scontent.cdninstagram.com\\/hphotos-xft1\\/t51.2885-19\\/11264896_1461457197514913_266118943_a.jpg\",\"id\":\"25867911\",\"full_name\":\"\"}},{\"position\":{\"y\":0.545312524,\"x\":0.1953125},\"user\":{\"username\":\"mcarlisi\",\"profile_picture\":\"https:\\/\\/scontent.cdninstagram.com\\/hphotos-xpa1\\/t51.2885-19\\/s150x150\\/12120373_546578738842449_1450585627_a.jpg\",\"id\":\"32825921\",\"full_name\":\"Michael\"}},{\"position\":{\"y\":0.246875003,\"x\":0.395312488},\"user\":{\"username\":\"pwfoundation\",\"profile_picture\":\"https:\\/\\/scontent.cdninstagram.com\\/hphotos-xft1\\/t51.2885-19\\/11821879_109167689433760_324607588_a.jpg\",\"id\":\"43191663\",\"full_name\":\"\"}},{\"position\":{\"y\":0.689062476,\"x\":0.410937488},\"user\":{\"username\":\"colegoins\",\"profile_picture\":\"https:\\/\\/scontent.cdninstagram.com\\/hphotos-xft1\\/t51.2885-19\\/11849905_1616336725321698_891157989_a.jpg\",\"id\":\"49672717\",\"full_name\":\"Cole Goins\"}},{\"position\":{\"y\":0.529687524,\"x\":0.704687476},\"user\":{\"username\":\"jon_bernson\",\"profile_picture\":\"https:\\/\\/scontent.cdninstagram.com\\/hphotos-xap1\\/t51.2885-19\\/11312533_804561302994538_252066284_a.jpg\",\"id\":\"174976462\",\"full_name\":\"jon bernson\"}}],\"caption\":{\"created_time\":\"1448342309\",\"text\":\"It's a wrap! Thanks to everyone who came out to see North by Inferno. It was a great run in two states - a true privilege to work with this masterful cast \\u0026 crew - Director \\u0026 StoryWorks mastermind Jennifer Welch, Assistant Director \\u0026 Production Manager Alicia Griffiths, Actors John Terrell, Jeff Graham, Michael Carlisi \\u0026 Chris Phillips. Based on the investigative journalism of Jennifer Gollan \\u0026 inspired by the lives of Jebadiah Stanfill, Peggy Wegner, Brendan Wegner,  Mike Twinn, Brenda Twinn, Ray Hardy, Doug Hysjulien \\u0026 Justin Williams. Big shout outs to everyone at CIR: Joaquin Alvarado, Robert Rosenthal, Phil Bronstein, Fernando Diaz, Meghan Farnsworth, Cole Gains \\u0026 Rachel de Leon. Last but not least, visual maestro Liz Pavlovic \\u0026 the gang at Playwrights Foundation. #northbyinferno #storyworks #centerforinvestigativereporting #empireartscenter\",\"from\":{\"username\":\"jon_bernson\",\"profile_picture\":\"https:\\/\\/scontent.cdninstagram.com\\/hphotos-xap1\\/t51.2885-19\\/11312533_804561302994538_252066284_a.jpg\",\"id\":\"174976462\",\"full_name\":\"jon bernson\"},\"id\":\"1125099307668004858\"},\"user_has_liked\":false,\"id\":\"1125099298725748187_174976462\",\"user\":{\"username\":\"jon_bernson\",\"profile_picture\":\"https:\\/\\/scontent.cdninstagram.com\\/hphotos-xap1\\/t51.2885-19\\/11312533_804561302994538_252066284_a.jpg\",\"id\":\"174976462\",\"full_name\":\"jon bernson\"}},{\"attribution\":null,\"tags\":[\"turdythetitan\",\"corpseflower\"],\"type\":\"image\",\"location\":{\"latitude\":37.8044,\"name\":\"Oakland, California\",\"longitude\":-122.271,\"id\":213051194},\"comments\":{\"count\":0,\"data\":[]},\"filter\":\"Normal\",\"created_time\":\"1448342291\",\"link\":\"https:\\/\\/instagram.com\\/p\\/-dJ7VzSD58\\/\",\"likes\":{\"count\":4,\"data\":[{\"username\":\"shoka__\",\"profile_picture\":\"https:\\/\\/scontent.cdninstagram.com\\/hphotos-xft1\\/t51.2885-19\\/11849032_1476516856004443_987382341_a.jpg\",\"id\":\"450467504\",\"full_name\":\"\"},{\"username\":\"celebritiesclosets\",\"profile_picture\":\"https:\\/\\/scontent.cdninstagram.com\\/hphotos-xta1\\/t51.2885-19\\/11084736_325091057661453_1580402954_a.jpg\",\"id\":\"303849593\",\"full_name\":\"Lateasha Gbor\"},{\"username\":\"in_the_mtns\",\"profile_picture\":\"https:\\/\\/scontent.cdninstagram.com\\/hphotos-xpt1\\/t51.2885-19\\/s150x150\\/12120320_918862718200943_1895579148_a.jpg\",\"id\":\"853400411\",\"full_name\":\"Colter Murphy\"},{\"username\":\"palageyaz\",\"profile_picture\":\"https:\\/\\/scontent.cdninstagram.com\\/hphotos-xtf1\\/t51.2885-19\\/11810005_857697674307346_607422783_a.jpg\",\"id\":\"235569363\",\"full_name\":\"Polly Z\"}]},\"images\":{\"low_resolution\":{\"url\":\"https:\\/\\/scontent.cdninstagram.com\\/hphotos-xtf1\\/t51.2885-15\\/s320x320\\/e35\\/12237556_1642261159376807_152801871_n.jpg\",\"width\":320,\"height\":320},\"thumbnail\":{\"url\":\"https:\\/\\/scontent.cdninstagram.com\\/hphotos-xaf1\\/t51.2885-15\\/s150x150\\/e35\\/c0.135.1080.1080\\/12256807_518797298286420_1371698253_n.jpg\",\"width\":150,\"height\":150},\"standard_resolution\":{\"url\":\"https:\\/\\/scontent.cdninstagram.com\\/hphotos-xtf1\\/t51.2885-15\\/s640x640\\/sh0.08\\/e35\\/12237556_1642261159376807_152801871_n.jpg\",\"width\":640,\"height\":640}},\"users_in_photo\":[{\"position\":{\"y\":0.908,\"x\":0.785},\"user\":{\"username\":\"balazsgardi\",\"profile_picture\":\"https:\\/\\/scontent.cdninstagram.com\\/hphotos-xfa1\\/t51.2885-19\\/10979681_880248752027478_7906166_a.jpg\",\"id\":\"28815844\",\"full_name\":\"balazs gardi\"}},{\"position\":{\"y\":0.597333333,\"x\":0.143333333},\"user\":{\"username\":\"shoka__\",\"profile_picture\":\"https:\\/\\/scontent.cdninstagram.com\\/hphotos-xft1\\/t51.2885-19\\/11849032_1476516856004443_987382341_a.jpg\",\"id\":\"450467504\",\"full_name\":\"\"}}],\"caption\":{\"created_time\":\"1448342291\",\"text\":\"Week 6 - #TurdyTheTitan is 18\\\" tall\\n\\n#corpseflower\",\"from\":{\"username\":\"turdythetitan\",\"profile_picture\":\"https:\\/\\/scontent.cdninstagram.com\\/hphotos-xat1\\/t51.2885-19\\/s150x150\\/12070589_960401067336750_784797164_a.jpg\",\"id\":\"2232024622\",\"full_name\":\"Turdy\"},\"id\":\"1125099151710240330\"},\"user_has_liked\":false,\"id\":\"1125099142189170300_2232024622\",\"user\":{\"username\":\"turdythetitan\",\"profile_picture\":\"https:\\/\\/scontent.cdninstagram.com\\/hphotos-xat1\\/t51.2885-19\\/s150x150\\/12070589_960401067336750_784797164_a.jpg\",\"id\":\"2232024622\",\"full_name\":\"Turdy\"}},{\"attribution\":null,\"tags\":[],\"type\":\"image\",\"location\":{\"latitude\":37.8042488,\"name\":\"VENUE Oakland\",\"longitude\":-122.2703018,\"id\":123672253},\"comments\":{\"count\":4,\"data\":[{\"created_time\":\"1448342378\",\"text\":\"\\ud83d\\ude4c\\ud83d\\ude4c\",\"from\":{\"username\":\"asapwillz\",\"profile_picture\":\"https:\\/\\/scontent.cdninstagram.com\\/hphotos-xtf1\\/t51.2885-19\\/s150x150\\/11262761_940080842719517_997241162_a.jpg\",\"id\":\"2046760906\",\"full_name\":\"\"},\"id\":\"1125099878774985472\"},{\"created_time\":\"1448342435\",\"text\":\"bae\",\"from\":{\"username\":\"killaacalliee\",\"profile_picture\":\"https:\\/\\/scontent.cdninstagram.com\\/hphotos-xpf1\\/t51.2885-19\\/s150x150\\/11255048_1562334394084371_171524058_a.jpg\",\"id\":\"200180344\",\"full_name\":\"\"},\"id\":\"1125100354996261650\"},{\"created_time\":\"1448342546\",\"text\":\"\\ud83d\\udc4f\",\"from\":{\"username\":\"iamleahwinters\",\"profile_picture\":\"https:\\/\\/scontent.cdninstagram.com\\/hphotos-xtf1\\/t51.2885-19\\/s150x150\\/11910491_1643528475915278_797425099_a.jpg\",\"id\":\"2160129351\",\"full_name\":\"Leah Winters\"},\"id\":\"1125101285318054716\"},{\"created_time\":\"1448342883\",\"text\":\"Sicc\",\"from\":{\"username\":\"_behkuh\",\"profile_picture\":\"https:\\/\\/scontent.cdninstagram.com\\/hphotos-xat1\\/t51.2885-19\\/s150x150\\/12107519_1486860584948318_584143341_a.jpg\",\"id\":\"31138617\",\"full_name\":\"Becca Marie\"},\"id\":\"1125104114854253530\"}]},\"filter\":\"Normal\",\"created_time\":\"1448342234\",\"link\":\"https:\\/\\/instagram.com\\/p\\/-dJ0b3t9It\\/\",\"likes\":{\"count\":203,\"data\":[{\"username\":\"asapwillz\",\"profile_picture\":\"https:\\/\\/scontent.cdninstagram.com\\/hphotos-xtf1\\/t51.2885-19\\/s150x150\\/11262761_940080842719517_997241162_a.jpg\",\"id\":\"2046760906\",\"full_name\":\"\"},{\"username\":\"iamleahwinters\",\"profile_picture\":\"https:\\/\\/scontent.cdninstagram.com\\/hphotos-xtf1\\/t51.2885-19\\/s150x150\\/11910491_1643528475915278_797425099_a.jpg\",\"id\":\"2160129351\",\"full_name\":\"Leah Winters\"},{\"username\":\"kitzyxkitty\",\"profile_picture\":\"https:\\/\\/scontent.cdninstagram.com\\/hphotos-xtp1\\/t51.2885-19\\/s150x150\\/12277400_740825976023973_661710207_a.jpg\",\"id\":\"2223771010\",\"full_name\":\"kitzyxkitty\"},{\"username\":\"ryandompnier\",\"profile_picture\":\"https:\\/\\/scontent.cdninstagram.com\\/hphotos-xpf1\\/t51.2885-19\\/s150x150\\/12224391_1659199084349805_2013451520_a.jpg\",\"id\":\"2026539247\",\"full_name\":\"Ryan Dompnier\"}]},\"images\":{\"low_resolution\":{\"url\":\"https:\\/\\/scontent.cdninstagram.com\\/hphotos-xpf1\\/t51.2885-15\\/s320x320\\/e35\\/12237398_1076056592418566_1627328485_n.jpg\",\"width\":320,\"height\":320},\"thumbnail\":{\"url\":\"https:\\/\\/scontent.cdninstagram.com\\/hphotos-xfp1\\/t51.2885-15\\/s150x150\\/e35\\/c180.0.719.719\\/12224309_1675753472641554_2099195455_n.jpg\",\"width\":150,\"height\":150},\"standard_resolution\":{\"url\":\"https:\\/\\/scontent.cdninstagram.com\\/hphotos-xpf1\\/t51.2885-15\\/s640x640\\/sh0.08\\/e35\\/12237398_1076056592418566_1627328485_n.jpg\",\"width\":640,\"height\":640}},\"users_in_photo\":[{\"position\":{\"y\":0.721001391,\"x\":0.837333333},\"user\":{\"username\":\"blaktrash4jay\",\"profile_picture\":\"https:\\/\\/scontent.cdninstagram.com\\/hphotos-xaf1\\/t51.2885-19\\/s150x150\\/11925672_715044295263682_635802814_a.jpg\",\"id\":\"181372683\",\"full_name\":\"4JAY\"}},{\"position\":{\"y\":0.020027816,\"x\":0.065359481},\"user\":{\"username\":\"36neex\",\"profile_picture\":\"https:\\/\\/scontent.cdninstagram.com\\/hphotos-xpt1\\/t51.2885-19\\/s150x150\\/12139698_946426855430612_333776145_a.jpg\",\"id\":\"628120325\",\"full_name\":\"36 Tries\"}}],\"caption\":{\"created_time\":\"1448342234\",\"text\":\"Last night was tight.\",\"from\":{\"username\":\"caymass\",\"profile_picture\":\"https:\\/\\/scontent.cdninstagram.com\\/hphotos-xft1\\/t51.2885-19\\/s150x150\\/12237499_1488765104786438_2110719452_a.jpg\",\"id\":\"237013571\",\"full_name\":\"caymass\"},\"id\":\"1125098670278562484\"},\"user_has_liked\":false,\"id\":\"1125098667669705261_237013571\",\"user\":{\"username\":\"caymass\",\"profile_picture\":\"https:\\/\\/scontent.cdninstagram.com\\/hphotos-xft1\\/t51.2885-19\\/s150x150\\/12237499_1488765104786438_2110719452_a.jpg\",\"id\":\"237013571\",\"full_name\":\"caymass\"}},{\"attribution\":null,\"tags\":[\"bestfriends\",\"prom\"],\"type\":\"image\",\"location\":{\"latitude\":37.802999049,\"name\":\"Oakland Scottish Rite\",\"longitude\":-122.262237803,\"id\":946478879},\"comments\":{\"count\":2,\"data\":[{\"created_time\":\"1448344252\",\"text\":\"\\ud83d\\udd25\\ud83d\\udd25\\ud83d\\udd25\\ud83d\\udd25\\ud83d\\ude0d\",\"from\":{\"username\":\"bob.ster\",\"profile_picture\":\"https:\\/\\/scontent.cdninstagram.com\\/hphotos-xpa1\\/t51.2885-19\\/s150x150\\/12224668_547466902077303_89964804_a.jpg\",\"id\":\"325272974\",\"full_name\":\"Bobbie\"},\"id\":\"1125115595579941781\"},{\"created_time\":\"1448345479\",\"text\":\"You're such a fruit loop dingus sometimes, but it's moments like this that remind me that you really are the best friend there is.\",\"from\":{\"username\":\"kdp_123\",\"profile_picture\":\"https:\\/\\/scontent.cdninstagram.com\\/hphotos-xap1\\/t51.2885-19\\/11313274_379766008900330_354364245_a.jpg\",\"id\":\"29238974\",\"full_name\":\"Katie Peterson \\ud83d\\ude0a\"},\"id\":\"1125125889601528333\"}]},\"filter\":\"Sierra\",\"created_time\":\"1448341533\",\"link\":\"https:\\/\\/instagram.com\\/p\\/-dIe0qS2FZ\\/\",\"likes\":{\"count\":299,\"data\":[{\"username\":\"aqvs.n\",\"profile_picture\":\"https:\\/\\/scontent.cdninstagram.com\\/hphotos-xtp1\\/t51.2885-19\\/s150x150\\/12224102_186482081696452_1058763232_a.jpg\",\"id\":\"2289194568\",\"full_name\":\"\"},{\"username\":\"sophiebacich05\",\"profile_picture\":\"https:\\/\\/scontent.cdninstagram.com\\/hphotos-xpf1\\/t51.2885-19\\/s150x150\\/11313603_897868353622126_855723322_a.jpg\",\"id\":\"2290136240\",\"full_name\":\"Sophie Bacich\"},{\"username\":\"inspiration__picture\",\"profile_picture\":\"https:\\/\\/scontent.cdninstagram.com\\/hphotos-xfa1\\/t51.2885-19\\/11906329_960233084022564_1448528159_a.jpg\",\"id\":\"2289092134\",\"full_name\":\"\"},{\"username\":\"nialliloveyou\",\"profile_picture\":\"https:\\/\\/scontent.cdninstagram.com\\/hphotos-xft1\\/t51.2885-19\\/s150x150\\/12237415_572085856276909_1435084641_a.jpg\",\"id\":\"2288973863\",\"full_name\":\"DemetLovesNiall\\ud83e\\udd84\"}]},\"images\":{\"low_resolution\":{\"url\":\"https:\\/\\/scontent.cdninstagram.com\\/hphotos-xpf1\\/t51.2885-15\\/s320x320\\/e35\\/12224426_744244719039910_476100548_n.jpg\",\"width\":320,\"height\":320},\"thumbnail\":{\"url\":\"https:\\/\\/scontent.cdninstagram.com\\/hphotos-xpf1\\/t51.2885-15\\/s150x150\\/e35\\/12224426_744244719039910_476100548_n.jpg\",\"width\":150,\"height\":150},\"standard_resolution\":{\"url\":\"https:\\/\\/scontent.cdninstagram.com\\/hphotos-xpf1\\/t51.2885-15\\/s640x640\\/sh0.08\\/e35\\/12224426_744244719039910_476100548_n.jpg\",\"width\":640,\"height\":640}},\"users_in_photo\":[{\"position\":{\"y\":0.162666667,\"x\":0.565333333},\"user\":{\"username\":\"kdp_123\",\"profile_picture\":\"https:\\/\\/scontent.cdninstagram.com\\/hphotos-xap1\\/t51.2885-19\\/11313274_379766008900330_354364245_a.jpg\",\"id\":\"29238974\",\"full_name\":\"Katie Peterson \\ud83d\\ude0a\"}}],\"caption\":{\"created_time\":\"1448341533\",\"text\":\"Just because I don't know what in the hell I'd be doing without my best friend along for the ride sittin' shotgun by my side \\ud83d\\ude1c #bestfriends #prom\",\"from\":{\"username\":\"countrykid484\",\"profile_picture\":\"https:\\/\\/scontent.cdninstagram.com\\/hphotos-xft1\\/t51.2885-19\\/s150x150\\/11910068_1017417144949658_740560323_a.jpg\",\"id\":\"46954823\",\"full_name\":\"Jay Escamilla\\ud83d\\ude01\\ud83d\\udc34\\ud83c\\uddfa\\ud83c\\uddf8\\ud83d\\udc11\"},\"id\":\"1125093983640052248\"},\"user_has_liked\":false,\"id\":\"1125092784413040985_46954823\",\"user\":{\"username\":\"countrykid484\",\"profile_picture\":\"https:\\/\\/scontent.cdninstagram.com\\/hphotos-xft1\\/t51.2885-19\\/s150x150\\/11910068_1017417144949658_740560323_a.jpg\",\"id\":\"46954823\",\"full_name\":\"Jay Escamilla\\ud83d\\ude01\\ud83d\\udc34\\ud83c\\uddfa\\ud83c\\uddf8\\ud83d\\udc11\"}},{\"attribution\":null,\"tags\":[\"latepost\",\"familymatterstour\",\"foxtheatre\",\"adventureswithromeandmary\"],\"type\":\"image\",\"location\":{\"latitude\":37.808888889,\"name\":\"Fox Oakland Theatre\",\"longitude\":-122.269166667,\"id\":210075854},\"comments\":{\"count\":0,\"data\":[]},\"filter\":\"Normal\",\"created_time\":\"1448341165\",\"link\":\"https:\\/\\/instagram.com\\/p\\/-dHx-XFdeX\\/\",\"likes\":{\"count\":107,\"data\":[{\"username\":\"eaa_global_networks\",\"profile_picture\":\"https:\\/\\/scontent.cdninstagram.com\\/hphotos-xat1\\/t51.2885-19\\/s150x150\\/12256648_535674386608059_353357842_a.jpg\",\"id\":\"1986339432\",\"full_name\":\"EAA Global Networks\"},{\"username\":\"putrasiswandoyo\",\"profile_picture\":\"https:\\/\\/scontent.cdninstagram.com\\/hphotos-xtp1\\/t51.2885-19\\/s150x150\\/11909425_1708349872721822_318137148_a.jpg\",\"id\":\"2067362681\",\"full_name\":\"muhammad bhakti\"},{\"username\":\"ril.s_\",\"profile_picture\":\"https:\\/\\/scontent.cdninstagram.com\\/hphotos-xfa1\\/t51.2885-19\\/11906329_960233084022564_1448528159_a.jpg\",\"id\":\"2042447616\",\"full_name\":\"\"},{\"username\":\"ibe.direonna\",\"profile_picture\":\"https:\\/\\/scontent.cdninstagram.com\\/hphotos-xpa1\\/t51.2885-19\\/11378982_1399217617074123_908462982_a.jpg\",\"id\":\"1943326449\",\"full_name\":\"\\ud83d\\udc85\\ud83d\\udc44\\ud83d\\ude3d\\ud83d\\udcaf\"}]},\"images\":{\"low_resolution\":{\"url\":\"https:\\/\\/scontent.cdninstagram.com\\/hphotos-xpf1\\/t51.2885-15\\/s320x320\\/e35\\/12237518_1069637759734258_554956179_n.jpg\",\"width\":320,\"height\":320},\"thumbnail\":{\"url\":\"https:\\/\\/scontent.cdninstagram.com\\/hphotos-xpf1\\/t51.2885-15\\/s150x150\\/e35\\/12237518_1069637759734258_554956179_n.jpg\",\"width\":150,\"height\":150},\"standard_resolution\":{\"url\":\"https:\\/\\/scontent.cdninstagram.com\\/hphotos-xpf1\\/t51.2885-15\\/s640x640\\/sh0.08\\/e35\\/12237518_1069637759734258_554956179_n.jpg\",\"width\":640,\"height\":640}},\"users_in_photo\":[{\"position\":{\"y\":0.689333333,\"x\":0.093333333},\"user\":{\"username\":\"kehlani\",\"profile_picture\":\"https:\\/\\/scontent.cdninstagram.com\\/hphotos-xtf1\\/t51.2885-19\\/s150x150\\/12292717_524685404351560_1178561124_a.jpg\",\"id\":\"8253854\",\"full_name\":\"Lani Tsunami AKA lil'LayLow\\u270d\\ud83c\\udffc\"}},{\"position\":{\"y\":0.28,\"x\":0.889753728},\"user\":{\"username\":\"more_rome1\",\"profile_picture\":\"https:\\/\\/scontent.cdninstagram.com\\/hphotos-xpf1\\/t51.2885-19\\/11372527_998217976863983_1309225564_a.jpg\",\"id\":\"38019866\",\"full_name\":\"Rome_n_aDay\"}},{\"position\":{\"y\":0.766666667,\"x\":0.065359481},\"user\":{\"username\":\"chancetherapper\",\"profile_picture\":\"https:\\/\\/scontent.cdninstagram.com\\/hphotos-prn\\/t51.2885-19\\/10802408_366565970135115_655407509_a.jpg\",\"id\":\"182196805\",\"full_name\":\"Chance The Rapper\"}},{\"position\":{\"y\":0.98366013,\"x\":0.098666667},\"user\":{\"username\":\"lilbisgod\",\"profile_picture\":\"https:\\/\\/scontent.cdninstagram.com\\/hphotos-xta1\\/t51.2885-19\\/11849132_982725608437150_1337280062_a.jpg\",\"id\":\"508563604\",\"full_name\":\"LIL B \\\"THE BASEDGOD\\\" OFFICIAL\"}}],\"caption\":{\"created_time\":\"1448341165\",\"text\":\"\\u2728\\ud83c\\udf1e\\ud83d\\udc9a\\ud83e\\udd81\\u2728 such an amazing show \\ud83d\\ude0d\\ud83d\\udd25\\ud83c\\udf89 #FamilyMattersTour #AdventuresWithRomeAndMary #FoxTheatre #LatePost\",\"from\":{\"username\":\"maryyybear\",\"profile_picture\":\"https:\\/\\/scontent.cdninstagram.com\\/hphotos-xpt1\\/t51.2885-19\\/s150x150\\/11351790_1156989037663161_1439969759_a.jpg\",\"id\":\"1509781396\",\"full_name\":\"Mary Margaret \\ud83d\\udc8e\"},\"id\":\"1125089704087508436\"},\"user_has_liked\":false,\"id\":\"1125089702451730327_1509781396\",\"user\":{\"username\":\"maryyybear\",\"profile_picture\":\"https:\\/\\/scontent.cdninstagram.com\\/hphotos-xpt1\\/t51.2885-19\\/s150x150\\/11351790_1156989037663161_1439969759_a.jpg\",\"id\":\"1509781396\",\"full_name\":\"Mary Margaret \\ud83d\\udc8e\"}},{\"attribution\":null,\"tags\":[],\"type\":\"image\",\"location\":{\"latitude\":37.8070297,\"name\":\"Woods Bar \\u0026 Brewery\",\"longitude\":-122.2705383,\"id\":392857153},\"comments\":{\"count\":1,\"data\":[{\"created_time\":\"1448341663\",\"text\":\"My \\ud83d\\udc1d\\ud83d\\udc1dz we outchea\",\"from\":{\"username\":\"mamamanamen\",\"profile_picture\":\"https:\\/\\/scontent.cdninstagram.com\\/hphotos-xfa1\\/t51.2885-19\\/11248977_1621412074814485_1879515962_a.jpg\",\"id\":\"19175472\",\"full_name\":\"Michael Majid\"},\"id\":\"1125093875187510135\"}]},\"filter\":\"Rise\",\"created_time\":\"1448340922\",\"link\":\"https:\\/\\/instagram.com\\/p\\/-dHURbhOki\\/\",\"likes\":{\"count\":14,\"data\":[{\"username\":\"brainpill\",\"profile_picture\":\"https:\\/\\/scontent.cdninstagram.com\\/hphotos-xap1\\/t51.2885-19\\/917185_765196870208718_716074719_a.jpg\",\"id\":\"23388465\",\"full_name\":\"Lexi Thompson\"},{\"username\":\"nolazach4\",\"profile_picture\":\"https:\\/\\/scontent.cdninstagram.com\\/hphotos-xft1\\/t51.2885-19\\/11429782_401417816723474_1841212722_a.jpg\",\"id\":\"179217931\",\"full_name\":\"4\"},{\"username\":\"lindyyduhhh\",\"profile_picture\":\"https:\\/\\/scontent.cdninstagram.com\\/hphotos-xta1\\/t51.2885-19\\/11375754_1660116214202886_2145258205_a.jpg\",\"id\":\"41753300\",\"full_name\":\"Lindy Avalos\"},{\"username\":\"moni900freecal\",\"profile_picture\":\"https:\\/\\/scontent.cdninstagram.com\\/hphotos-xpa1\\/t51.2885-19\\/s150x150\\/11374359_405294049660181_49332850_a.jpg\",\"id\":\"255781405\",\"full_name\":\"M.G.M\"}]},\"images\":{\"low_resolution\":{\"url\":\"https:\\/\\/scontent.cdninstagram.com\\/hphotos-xpt1\\/t51.2885-15\\/s320x320\\/e35\\/11848869_554877657996334_1625780597_n.jpg\",\"width\":320,\"height\":320},\"thumbnail\":{\"url\":\"https:\\/\\/scontent.cdninstagram.com\\/hphotos-xfp1\\/t51.2885-15\\/s150x150\\/e35\\/c0.17.1080.1080\\/12256628_168113466873004_419812848_n.jpg\",\"width\":150,\"height\":150},\"standard_resolution\":{\"url\":\"https:\\/\\/scontent.cdninstagram.com\\/hphotos-xpt1\\/t51.2885-15\\/s640x640\\/sh0.08\\/e35\\/11848869_554877657996334_1625780597_n.jpg\",\"width\":640,\"height\":640}},\"users_in_photo\":[{\"position\":{\"y\":0.666669,\"x\":0.7967787},\"user\":{\"username\":\"gypsyassgypsy\",\"profile_picture\":\"https:\\/\\/scontent.cdninstagram.com\\/hphotos-xtf1\\/t51.2885-19\\/s150x150\\/11820612_149188998757037_748308698_a.jpg\",\"id\":\"8174379\",\"full_name\":\"\\u2800\\u2800\\u2800\\u2800 \\u2800\\u2800\\u2800\\u2800\\u2800\\u2800\\u2800 \\ud83d\\udcaeGold Rose\\ud83d\\udcae.\"}},{\"position\":{\"y\":0.28503555,\"x\":0.89597785},\"user\":{\"username\":\"mamamanamen\",\"profile_picture\":\"https:\\/\\/scontent.cdninstagram.com\\/hphotos-xfa1\\/t51.2885-19\\/11248977_1621412074814485_1879515962_a.jpg\",\"id\":\"19175472\",\"full_name\":\"Michael Majid\"}}],\"caption\":{\"created_time\":\"1448340922\",\"text\":\"Mondaze wit baez\",\"from\":{\"username\":\"biscuit_tho\",\"profile_picture\":\"https:\\/\\/scontent.cdninstagram.com\\/hphotos-xtp1\\/t51.2885-19\\/s150x150\\/12120440_742172382555308_31004875_a.jpg\",\"id\":\"43465313\",\"full_name\":\"\"},\"id\":\"1125087670385830461\"},\"user_has_liked\":false,\"id\":\"1125087661342910754_43465313\",\"user\":{\"username\":\"biscuit_tho\",\"profile_picture\":\"https:\\/\\/scontent.cdninstagram.com\\/hphotos-xtp1\\/t51.2885-19\\/s150x150\\/12120440_742172382555308_31004875_a.jpg\",\"id\":\"43465313\",\"full_name\":\"\"}},{\"attribution\":null,\"tags\":[\"mainbitch\",\"fatgirlproblems\",\"dinner\",\"foodie\",\"worththewait\",\"noodlecravings\"],\"type\":\"image\",\"location\":{\"latitude\":37.7981415,\"name\":\"Champa Garden\",\"longitude\":-122.2445984,\"id\":241767},\"comments\":{\"count\":0,\"data\":[]},\"filter\":\"Normal\",\"created_time\":\"1448339563\",\"link\":\"https:\\/\\/instagram.com\\/p\\/-dEuVoLDTD\\/\",\"likes\":{\"count\":35,\"data\":[{\"username\":\"albangin\",\"profile_picture\":\"https:\\/\\/scontent.cdninstagram.com\\/hphotos-xta1\\/t51.2885-19\\/11282593_860402374054048_756338416_a.jpg\",\"id\":\"244974595\",\"full_name\":\"AJ Macadangdang\"},{\"username\":\"acmar10\",\"profile_picture\":\"https:\\/\\/scontent.cdninstagram.com\\/hphotos-xaf1\\/t51.2885-19\\/11849900_719636851473893_137480700_a.jpg\",\"id\":\"201956737\",\"full_name\":\"acmar10\"},{\"username\":\"kenneth_chris\",\"profile_picture\":\"https:\\/\\/scontent.cdninstagram.com\\/hphotos-xpt1\\/t51.2885-19\\/11241318_364169067122242_1980901078_a.jpg\",\"id\":\"246659295\",\"full_name\":\"Kenneth Rabina\"},{\"username\":\"iamstarski\",\"profile_picture\":\"https:\\/\\/scontent.cdninstagram.com\\/hphotos-xta1\\/t51.2885-19\\/s150x150\\/12142364_1688913377994026_122680189_a.jpg\",\"id\":\"288815127\",\"full_name\":\"Starski\"}]},\"images\":{\"low_resolution\":{\"url\":\"https:\\/\\/scontent.cdninstagram.com\\/hphotos-xfp1\\/t51.2885-15\\/s320x320\\/e35\\/12224149_1682120738667758_811057170_n.jpg\",\"width\":320,\"height\":320},\"thumbnail\":{\"url\":\"https:\\/\\/scontent.cdninstagram.com\\/hphotos-xfp1\\/t51.2885-15\\/s150x150\\/e35\\/12224149_1682120738667758_811057170_n.jpg\",\"width\":150,\"height\":150},\"standard_resolution\":{\"url\":\"https:\\/\\/scontent.cdninstagram.com\\/hphotos-xfp1\\/t51.2885-15\\/s640x640\\/sh0.08\\/e35\\/12224149_1682120738667758_811057170_n.jpg\",\"width\":640,\"height\":640}},\"users_in_photo\":[{\"position\":{\"y\":0.892914629,\"x\":0.097423498},\"user\":{\"username\":\"deeestaa\",\"profile_picture\":\"https:\\/\\/scontent.cdninstagram.com\\/hphotos-xtp1\\/t51.2885-19\\/s150x150\\/11349425_716338868496163_1685283601_a.jpg\",\"id\":\"1134496\",\"full_name\":\"\\u2765\\u24d0\\u24e1\\u24d8\\u24d0\"}},{\"position\":{\"y\":0.906199678,\"x\":0.198468102},\"user\":{\"username\":\"anhiboiiii\",\"profile_picture\":\"https:\\/\\/scontent.cdninstagram.com\\/hphotos-xta1\\/t51.2885-19\\/s150x150\\/1597295_1656107071279774_70350015_a.jpg\",\"id\":\"12397305\",\"full_name\":\"A.Q Mai\"}}],\"caption\":{\"created_time\":\"1448339563\",\"text\":\"My stomach is always satisfied after @deeestaa takes me to a new spot. Ka Piak for the first time #dinner #mainbitch #noodlecravings #foodie #fatgirlproblems #worththewait\",\"from\":{\"username\":\"miishh\",\"profile_picture\":\"https:\\/\\/scontent.cdninstagram.com\\/hphotos-xtp1\\/t51.2885-19\\/s150x150\\/12256898_209200939411834_1680752813_a.jpg\",\"id\":\"797828\",\"full_name\":\"Michelle Glace G.\"},\"id\":\"1125076265253745926\"},\"user_has_liked\":false,\"id\":\"1125076258417030339_797828\",\"user\":{\"username\":\"miishh\",\"profile_picture\":\"https:\\/\\/scontent.cdninstagram.com\\/hphotos-xtp1\\/t51.2885-19\\/s150x150\\/12256898_209200939411834_1680752813_a.jpg\",\"id\":\"797828\",\"full_name\":\"Michelle Glace G.\"}},{\"attribution\":null,\"tags\":[\"oakland\",\"jshoes\"],\"type\":\"image\",\"location\":{\"latitude\":37.8126984,\"name\":\"SoleSpace\",\"longitude\":-122.2467804,\"id\":44338617},\"comments\":{\"count\":3,\"data\":[{\"created_time\":\"1448337454\",\"text\":\"\\ud83d\\ude0d\",\"from\":{\"username\":\"cucucumbiaa\",\"profile_picture\":\"https:\\/\\/scontent.cdninstagram.com\\/hphotos-xtf1\\/t51.2885-19\\/11428226_1619531618304877_1229737454_a.jpg\",\"id\":\"194538545\",\"full_name\":\"Noemi \\ud83c\\udf31\"},\"id\":\"1125058567288194518\"},{\"created_time\":\"1448337623\",\"text\":\"great photo\",\"from\":{\"username\":\"_hey_t_\",\"profile_picture\":\"https:\\/\\/scontent.cdninstagram.com\\/hphotos-xfp1\\/t51.2885-19\\/s150x150\\/11934833_154552974884954_916139308_a.jpg\",\"id\":\"30542247\",\"full_name\":\"\\u20ae\\u0f5b\\u0f5e\\u0f5b\\u0eae\\u0e28\"},\"id\":\"1125059986003133994\"},{\"created_time\":\"1448339536\",\"text\":\"@thebowtiewarrior might have to run up there if they have these in black!\",\"from\":{\"username\":\"emm.fatale\",\"profile_picture\":\"https:\\/\\/scontent.cdninstagram.com\\/hphotos-xta1\\/t51.2885-19\\/11373849_486180438216633_1568590799_a.jpg\",\"id\":\"30959427\",\"full_name\":\"\"},\"id\":\"1125076038854444432\"}]},\"filter\":\"Normal\",\"created_time\":\"1448336426\",\"link\":\"https:\\/\\/instagram.com\\/p\\/-c-vZxOQdr\\/\",\"likes\":{\"count\":8,\"data\":[{\"username\":\"elisagrn\",\"profile_picture\":\"https:\\/\\/scontent.cdninstagram.com\\/hphotos-xap1\\/t51.2885-19\\/11910040_115311985483324_1391779149_a.jpg\",\"id\":\"183727625\",\"full_name\":\"Elisa Yeshil\"},{\"username\":\"emm.fatale\",\"profile_picture\":\"https:\\/\\/scontent.cdninstagram.com\\/hphotos-xta1\\/t51.2885-19\\/11373849_486180438216633_1568590799_a.jpg\",\"id\":\"30959427\",\"full_name\":\"\"},{\"username\":\"rockwellcreative\",\"profile_picture\":\"https:\\/\\/scontent.cdninstagram.com\\/hphotos-xta1\\/t51.2885-19\\/11349406_854100911305384_350182804_a.jpg\",\"id\":\"5276532\",\"full_name\":\"Hi my name is Scott\"},{\"username\":\"_hey_t_\",\"profile_picture\":\"https:\\/\\/scontent.cdninstagram.com\\/hphotos-xfp1\\/t51.2885-19\\/s150x150\\/11934833_154552974884954_916139308_a.jpg\",\"id\":\"30542247\",\"full_name\":\"\\u20ae\\u0f5b\\u0f5e\\u0f5b\\u0eae\\u0e28\"}]},\"images\":{\"low_resolution\":{\"url\":\"https:\\/\\/scontent.cdninstagram.com\\/hphotos-xpa1\\/t51.2885-15\\/s320x320\\/e35\\/12256905_835774803205791_1267429637_n.jpg\",\"width\":320,\"height\":320},\"thumbnail\":{\"url\":\"https:\\/\\/scontent.cdninstagram.com\\/hphotos-xpa1\\/t51.2885-15\\/s150x150\\/e35\\/12256905_835774803205791_1267429637_n.jpg\",\"width\":150,\"height\":150},\"standard_resolution\":{\"url\":\"https:\\/\\/scontent.cdninstagram.com\\/hphotos-xpa1\\/t51.2885-15\\/e35\\/12256905_835774803205791_1267429637_n.jpg\",\"width\":480,\"height\":480}},\"users_in_photo\":[{\"position\":{\"y\":0.821333333,\"x\":0.390666667},\"user\":{\"username\":\"thewondertwin\",\"profile_picture\":\"https:\\/\\/scontent.cdninstagram.com\\/hphotos-xpf1\\/t51.2885-19\\/11950535_1645213612384316_1516880611_a.jpg\",\"id\":\"31894355\",\"full_name\":\"melonie green\"}},{\"position\":{\"y\":0.542666667,\"x\":0.277333333},\"user\":{\"username\":\"jshoes\",\"profile_picture\":\"https:\\/\\/scontent.cdninstagram.com\\/hphotos-xap1\\/t51.2885-19\\/s150x150\\/12145075_845442625569152_1409663021_a.jpg\",\"id\":\"36229803\",\"full_name\":\"J SHOES\"}},{\"position\":{\"y\":0.533333333,\"x\":0.388},\"user\":{\"username\":\"nicopilsenite\",\"profile_picture\":\"https:\\/\\/scontent.cdninstagram.com\\/hphotos-xap1\\/t51.2885-19\\/11325095_818516744884515_1369535090_a.jpg\",\"id\":\"181592174\",\"full_name\":\"Nicol\\u00e1s Gonz\\u00e1lez-Medina\"}},{\"position\":{\"y\":0.868,\"x\":0.368},\"user\":{\"username\":\"cucucumbiaa\",\"profile_picture\":\"https:\\/\\/scontent.cdninstagram.com\\/hphotos-xtf1\\/t51.2885-19\\/11428226_1619531618304877_1229737454_a.jpg\",\"id\":\"194538545\",\"full_name\":\"Noemi \\ud83c\\udf31\"}},{\"position\":{\"y\":0.38,\"x\":0.406666667},\"user\":{\"username\":\"urbanstitchboutique\",\"profile_picture\":\"https:\\/\\/scontent.cdninstagram.com\\/hphotos-xfp1\\/t51.2885-19\\/10401840_863041043709477_1002582403_a.jpg\",\"id\":\"205525769\",\"full_name\":\"Urban Stitch\"}},{\"position\":{\"y\":0.437333333,\"x\":0.265333333},\"user\":{\"username\":\"showtelloakland\",\"profile_picture\":\"https:\\/\\/scontent.cdninstagram.com\\/hphotos-xfp1\\/t51.2885-19\\/s150x150\\/12230919_1662520974036975_1321873659_a.jpg\",\"id\":\"240290370\",\"full_name\":\"Show \\u0026 Tell\"}},{\"position\":{\"y\":0.62,\"x\":0.373333333},\"user\":{\"username\":\"thechosenlyfe\",\"profile_picture\":\"https:\\/\\/scontent.cdninstagram.com\\/hphotos-xpf1\\/t51.2885-19\\/11192608_363478223855623_566608016_a.jpg\",\"id\":\"258502125\",\"full_name\":\"Layel Camargo\"}},{\"position\":{\"y\":0.670666667,\"x\":0.284},\"user\":{\"username\":\"adapperchick\",\"profile_picture\":\"https:\\/\\/scontent.cdninstagram.com\\/hphotos-xta1\\/t51.2885-19\\/s150x150\\/12145347_1083239181689243_296936325_a.jpg\",\"id\":\"1311477893\",\"full_name\":\"Ariam Sara Geffrard\"}}],\"caption\":{\"created_time\":\"1448336426\",\"text\":\"Sharp style by @adapperchick sporting the Olympias low boot by #JShoes. Now in stock in 3 colors. At 3304 Grand #Oakland.\",\"from\":{\"username\":\"solespace1\",\"profile_picture\":\"https:\\/\\/scontent.cdninstagram.com\\/hphotos-xtf1\\/t51.2885-19\\/s150x150\\/11950620_575355859284659_965472681_a.jpg\",\"id\":\"263228648\",\"full_name\":\"SoleSpace - ShoeShop x ArtsLab\"},\"id\":\"1125049948538734510\"},\"user_has_liked\":false,\"id\":\"1125049943304243051_263228648\",\"user\":{\"username\":\"solespace1\",\"profile_picture\":\"https:\\/\\/scontent.cdninstagram.com\\/hphotos-xtf1\\/t51.2885-19\\/s150x150\\/11950620_575355859284659_965472681_a.jpg\",\"id\":\"263228648\",\"full_name\":\"SoleSpace - ShoeShop x ArtsLab\"}},{\"attribution\":null,\"tags\":[],\"type\":\"image\",\"location\":{\"latitude\":37.805536344,\"name\":\"Lake Merritt, Oakland CA\",\"longitude\":-122.254301678,\"id\":242335},\"comments\":{\"count\":0,\"data\":[]},\"filter\":\"Willow\",\"created_time\":\"1448334861\",\"link\":\"https:\\/\\/instagram.com\\/p\\/-c7wdONr4e\\/\",\"likes\":{\"count\":12,\"data\":[{\"username\":\"desebo__\",\"profile_picture\":\"https:\\/\\/scontent.cdninstagram.com\\/hphotos-xpf1\\/t51.2885-19\\/s150x150\\/11939325_1660987654176714_1505793427_a.jpg\",\"id\":\"41958498\",\"full_name\":\"\"},{\"username\":\"real_babyt100\",\"profile_picture\":\"https:\\/\\/scontent.cdninstagram.com\\/hphotos-xtp1\\/t51.2885-19\\/s150x150\\/11909228_1064280390271985_1174289679_a.jpg\",\"id\":\"32643035\",\"full_name\":\"Tyrone Spivey\"},{\"username\":\"_cgfr\",\"profile_picture\":\"https:\\/\\/scontent.cdninstagram.com\\/hphotos-xfp1\\/t51.2885-19\\/s150x150\\/12224606_514767522018874_1220326441_a.jpg\",\"id\":\"194029996\",\"full_name\":\"C.Flores \\ud83d\\udca7\"},{\"username\":\"taamooore\",\"profile_picture\":\"https:\\/\\/scontent.cdninstagram.com\\/hphotos-xfp1\\/t51.2885-19\\/s150x150\\/11910533_873010816166527_793217331_a.jpg\",\"id\":\"56055726\",\"full_name\":\"Talia\\u2661\\u05d8\\u05dc\\u05d9\\u05d4\"}]},\"images\":{\"low_resolution\":{\"url\":\"https:\\/\\/scontent.cdninstagram.com\\/hphotos-xfa1\\/t51.2885-15\\/s320x320\\/e35\\/11887105_1678196569064804_1438269468_n.jpg\",\"width\":320,\"height\":320},\"thumbnail\":{\"url\":\"https:\\/\\/scontent.cdninstagram.com\\/hphotos-xfa1\\/t51.2885-15\\/s150x150\\/e35\\/11887105_1678196569064804_1438269468_n.jpg\",\"width\":150,\"height\":150},\"standard_resolution\":{\"url\":\"https:\\/\\/scontent.cdninstagram.com\\/hphotos-xfa1\\/t51.2885-15\\/s640x640\\/sh0.08\\/e35\\/11887105_1678196569064804_1438269468_n.jpg\",\"width\":640,\"height\":640}},\"users_in_photo\":[{\"position\":{\"y\":0.45625,\"x\":0.675},\"user\":{\"username\":\"mostdvpe\",\"profile_picture\":\"https:\\/\\/scontent.cdninstagram.com\\/hphotos-xat1\\/t51.2885-19\\/s150x150\\/11410764_1642603679297775_1829156173_a.jpg\",\"id\":\"307936510\",\"full_name\":\"The Greatest\\u00ae\"}},{\"position\":{\"y\":0.6375,\"x\":0.1875},\"user\":{\"username\":\"a.beron\",\"profile_picture\":\"https:\\/\\/scontent.cdninstagram.com\\/hphotos-xtf1\\/t51.2885-19\\/s150x150\\/11850013_492751774233918_139222018_a.jpg\",\"id\":\"414688502\",\"full_name\":\"Anthony Beron\"}}],\"caption\":{\"created_time\":\"1448334861\",\"text\":\"Con m\\u00ed hermano.\",\"from\":{\"username\":\"a.beron\",\"profile_picture\":\"https:\\/\\/scontent.cdninstagram.com\\/hphotos-xtf1\\/t51.2885-19\\/s150x150\\/11850013_492751774233918_139222018_a.jpg\",\"id\":\"414688502\",\"full_name\":\"Anthony Beron\"},\"id\":\"1125036828269133016\"},\"user_has_liked\":false,\"id\":\"1125036821591801374_414688502\",\"user\":{\"username\":\"a.beron\",\"profile_picture\":\"https:\\/\\/scontent.cdninstagram.com\\/hphotos-xtf1\\/t51.2885-19\\/s150x150\\/11850013_492751774233918_139222018_a.jpg\",\"id\":\"414688502\",\"full_name\":\"Anthony Beron\"}},{\"attribution\":null,\"tags\":[\"sevendaysofroxy\",\"butitsalwaysroxydayinmyworld\\u2764\\ufe0f\",\"day3\"],\"type\":\"image\",\"location\":{\"latitude\":37.805536344,\"name\":\"Lake Merritt, Oakland CA\",\"longitude\":-122.254301678,\"id\":242335},\"comments\":{\"count\":1,\"data\":[{\"created_time\":\"1448334648\",\"text\":\"Oh my goodness....\",\"from\":{\"username\":\"kopavirice\",\"profile_picture\":\"https:\\/\\/scontent.cdninstagram.com\\/hphotos-xft1\\/t51.2885-19\\/s150x150\\/10413135_1182591488436088_1569224767_a.jpg\",\"id\":\"218620104\",\"full_name\":\"\\ud83c\\udf3bBusyMakinRice\\ud83c\\udf3b\"},\"id\":\"1125035032945313571\"}]},\"filter\":\"Normal\",\"created_time\":\"1448333693\",\"link\":\"https:\\/\\/instagram.com\\/p\\/-c5h1zE0fe\\/\",\"likes\":{\"count\":74,\"data\":[{\"username\":\"marlene_morgan7\",\"profile_picture\":\"https:\\/\\/scontent.cdninstagram.com\\/hphotos-xap1\\/t51.2885-19\\/11410521_553620794791674_1731741845_a.jpg\",\"id\":\"1424354651\",\"full_name\":\"\"},{\"username\":\"ericdiep22\",\"profile_picture\":\"https:\\/\\/scontent.cdninstagram.com\\/hphotos-xfp1\\/t51.2885-19\\/s150x150\\/10853107_1670781206527970_1543197139_a.jpg\",\"id\":\"1527606651\",\"full_name\":\"Eric Diep\"},{\"username\":\"imtorrific\",\"profile_picture\":\"https:\\/\\/scontent.cdninstagram.com\\/hphotos-xap1\\/t51.2885-19\\/s150x150\\/12081299_927821623964973_988677237_a.jpg\",\"id\":\"1482868694\",\"full_name\":\"Tori\"},{\"username\":\"_kaypadgett\",\"profile_picture\":\"https:\\/\\/scontent.cdninstagram.com\\/hphotos-xpt1\\/t51.2885-19\\/s150x150\\/12276757_409566679237536_1424409819_a.jpg\",\"id\":\"1491139571\",\"full_name\":\"Kaylie Padgett\"}]},\"images\":{\"low_resolution\":{\"url\":\"https:\\/\\/scontent.cdninstagram.com\\/hphotos-xft1\\/t51.2885-15\\/s320x320\\/e35\\/12298815_1023992744327187_1114290798_n.jpg\",\"width\":320,\"height\":320},\"thumbnail\":{\"url\":\"https:\\/\\/scontent.cdninstagram.com\\/hphotos-xaf1\\/t51.2885-15\\/s150x150\\/e35\\/c0.100.1080.1080\\/12292874_1499384350357019_102528725_n.jpg\",\"width\":150,\"height\":150},\"standard_resolution\":{\"url\":\"https:\\/\\/scontent.cdninstagram.com\\/hphotos-xft1\\/t51.2885-15\\/s640x640\\/sh0.08\\/e35\\/12298815_1023992744327187_1114290798_n.jpg\",\"width\":640,\"height\":640}},\"users_in_photo\":[{\"position\":{\"y\":0.938666667,\"x\":0.425728395},\"user\":{\"username\":\"hattierose\",\"profile_picture\":\"https:\\/\\/scontent.cdninstagram.com\\/hphotos-xat1\\/t51.2885-19\\/11849463_1010396455657857_2094299199_a.jpg\",\"id\":\"13906179\",\"full_name\":\"\"}},{\"position\":{\"y\":0.957333333,\"x\":0.774962963},\"user\":{\"username\":\"beciwaggener\",\"profile_picture\":\"https:\\/\\/scontent.cdninstagram.com\\/hphotos-xft1\\/t51.2885-19\\/11850357_525348767619372_928131400_a.jpg\",\"id\":\"190070641\",\"full_name\":\"\"}}],\"caption\":{\"created_time\":\"1448333693\",\"text\":\"Roxy's first day at the park\\ud83d\\udc36 #sevendaysofRoxy #day3 #butitsalwaysroxydayinmyworld\\u2764\\ufe0f\",\"from\":{\"username\":\"lexianderson3\",\"profile_picture\":\"https:\\/\\/scontent.cdninstagram.com\\/hphotos-xap1\\/t51.2885-19\\/s150x150\\/12224478_913807348702555_1319375314_a.jpg\",\"id\":\"29921232\",\"full_name\":\"\"},\"id\":\"1125027025909925198\"},\"user_has_liked\":false,\"id\":\"1125027021094864862_29921232\",\"user\":{\"username\":\"lexianderson3\",\"profile_picture\":\"https:\\/\\/scontent.cdninstagram.com\\/hphotos-xap1\\/t51.2885-19\\/s150x150\\/12224478_913807348702555_1319375314_a.jpg\",\"id\":\"29921232\",\"full_name\":\"\"}},{\"attribution\":null,\"tags\":[],\"type\":\"image\",\"location\":{\"latitude\":37.808854581,\"name\":\"Sidebar-Oakland\",\"longitude\":-122.250552121,\"id\":319182913},\"comments\":{\"count\":2,\"data\":[{\"created_time\":\"1448333243\",\"text\":\"Too short baby comin straight from Oakland\",\"from\":{\"username\":\"tylar_starnesss\",\"profile_picture\":\"https:\\/\\/scontent.cdninstagram.com\\/hphotos-xtf1\\/t51.2885-19\\/s150x150\\/12237183_1001505973245811_2135676722_a.jpg\",\"id\":\"187575962\",\"full_name\":\"\"},\"id\":\"1125023243394436735\"},{\"created_time\":\"1448333269\",\"text\":\"Raised my baby right!!\",\"from\":{\"username\":\"tjro23\",\"profile_picture\":\"https:\\/\\/scontent.cdninstagram.com\\/hphotos-xtp1\\/t51.2885-19\\/11311605_537225553098054_22114358_a.jpg\",\"id\":\"181111362\",\"full_name\":\"Tova\"},\"id\":\"1125023462748147352\"}]},\"filter\":\"Mayfair\",\"created_time\":\"1448333186\",\"link\":\"https:\\/\\/instagram.com\\/p\\/-c4j67FUzU\\/\",\"likes\":{\"count\":5,\"data\":[{\"username\":\"radmadssss\",\"profile_picture\":\"https:\\/\\/scontent.cdninstagram.com\\/hphotos-xtf1\\/t51.2885-19\\/s150x150\\/11856775_1485984585047520_1209102022_a.jpg\",\"id\":\"36888434\",\"full_name\":\"Madelyne\"},{\"username\":\"calidaydreamer\",\"profile_picture\":\"https:\\/\\/scontent.cdninstagram.com\\/hphotos-xpt1\\/t51.2885-19\\/11330720_1603665803231150_358695982_a.jpg\",\"id\":\"176202427\",\"full_name\":\"Dayon\"},{\"username\":\"tylar_starnesss\",\"profile_picture\":\"https:\\/\\/scontent.cdninstagram.com\\/hphotos-xtf1\\/t51.2885-19\\/s150x150\\/12237183_1001505973245811_2135676722_a.jpg\",\"id\":\"187575962\",\"full_name\":\"\"},{\"username\":\"cordy__jay13\",\"profile_picture\":\"https:\\/\\/scontent.cdninstagram.com\\/hphotos-xpa1\\/t51.2885-19\\/s150x150\\/11325414_967029616650858_1667406693_a.jpg\",\"id\":\"313111935\",\"full_name\":\"Cornealious\"}]},\"images\":{\"low_resolution\":{\"url\":\"https:\\/\\/scontent.cdninstagram.com\\/hphotos-xpt1\\/t51.2885-15\\/s320x320\\/e35\\/12237322_1650717108524531_1035835837_n.jpg\",\"width\":320,\"height\":320},\"thumbnail\":{\"url\":\"https:\\/\\/scontent.cdninstagram.com\\/hphotos-xtp1\\/t51.2885-15\\/s150x150\\/e35\\/c135.0.810.810\\/12224116_492687020912856_540503153_n.jpg\",\"width\":150,\"height\":150},\"standard_resolution\":{\"url\":\"https:\\/\\/scontent.cdninstagram.com\\/hphotos-xpt1\\/t51.2885-15\\/s640x640\\/sh0.08\\/e35\\/12237322_1650717108524531_1035835837_n.jpg\",\"width\":640,\"height\":640}},\"users_in_photo\":[{\"position\":{\"y\":0.5541667,\"x\":0.50625},\"user\":{\"username\":\"tylar_starnesss\",\"profile_picture\":\"https:\\/\\/scontent.cdninstagram.com\\/hphotos-xtf1\\/t51.2885-19\\/s150x150\\/12237183_1001505973245811_2135676722_a.jpg\",\"id\":\"187575962\",\"full_name\":\"\"}}],\"caption\":{\"created_time\":\"1448333186\",\"text\":\"Just kickin' it.\",\"from\":{\"username\":\"tjro23\",\"profile_picture\":\"https:\\/\\/scontent.cdninstagram.com\\/hphotos-xtp1\\/t51.2885-19\\/11311605_537225553098054_22114358_a.jpg\",\"id\":\"181111362\",\"full_name\":\"Tova\"},\"id\":\"1125022775544991332\"},\"user_has_liked\":false,\"id\":\"1125022765990366420_181111362\",\"user\":{\"username\":\"tjro23\",\"profile_picture\":\"https:\\/\\/scontent.cdninstagram.com\\/hphotos-xtp1\\/t51.2885-19\\/11311605_537225553098054_22114358_a.jpg\",\"id\":\"181111362\",\"full_name\":\"Tova\"}},{\"attribution\":null,\"tags\":[\"oakland\",\"lakemerritt\"],\"type\":\"image\",\"location\":{\"latitude\":37.805536344,\"name\":\"Lake Merritt, Oakland CA\",\"longitude\":-122.254301678,\"id\":242335},\"comments\":{\"count\":0,\"data\":[]},\"filter\":\"Rise\",\"created_time\":\"1448332554\",\"link\":\"https:\\/\\/instagram.com\\/p\\/-c3WzBmdeS\\/\",\"likes\":{\"count\":6,\"data\":[{\"username\":\"greeneyedlu\",\"profile_picture\":\"https:\\/\\/scontent.cdninstagram.com\\/hphotos-xtf1\\/t51.2885-19\\/11820422_1079643278715468_640384976_a.jpg\",\"id\":\"334121592\",\"full_name\":\"Lu Kohnen \\ud83d\\udc51\\u2764\"},{\"username\":\"gwhitescarver\",\"profile_picture\":\"https:\\/\\/scontent.cdninstagram.com\\/hphotos-xat1\\/t51.2885-19\\/11374061_936248169766930_640495911_a.jpg\",\"id\":\"35596860\",\"full_name\":\"Gregory Whitescarver\"},{\"username\":\"meantformore84\",\"profile_picture\":\"https:\\/\\/scontent.cdninstagram.com\\/hphotos-xfp1\\/t51.2885-19\\/s150x150\\/12224617_1095146337170965_1530151660_a.jpg\",\"id\":\"179157476\",\"full_name\":\"Chad Jefferson\"},{\"username\":\"kevkevbass\",\"profile_picture\":\"https:\\/\\/scontent.cdninstagram.com\\/hphotos-xat1\\/t51.2885-19\\/11856755_855686397819458_965915479_a.jpg\",\"id\":\"368106105\",\"full_name\":\"Kevin Stamps\"}]},\"images\":{\"low_resolution\":{\"url\":\"https:\\/\\/scontent.cdninstagram.com\\/hphotos-xtp1\\/t51.2885-15\\/s320x320\\/e35\\/12269898_397631563768881_927746655_n.jpg\",\"width\":320,\"height\":320},\"thumbnail\":{\"url\":\"https:\\/\\/scontent.cdninstagram.com\\/hphotos-xtp1\\/t51.2885-15\\/s150x150\\/e35\\/12269898_397631563768881_927746655_n.jpg\",\"width\":150,\"height\":150},\"standard_resolution\":{\"url\":\"https:\\/\\/scontent.cdninstagram.com\\/hphotos-xtp1\\/t51.2885-15\\/s640x640\\/sh0.08\\/e35\\/12269898_397631563768881_927746655_n.jpg\",\"width\":640,\"height\":640}},\"users_in_photo\":[],\"caption\":{\"created_time\":\"1448332554\",\"text\":\"#lakemerritt #Oakland\",\"from\":{\"username\":\"jesse.was.here\",\"profile_picture\":\"https:\\/\\/scontent.cdninstagram.com\\/hphotos-xap1\\/t51.2885-19\\/s150x150\\/11363839_1468136440155614_1448986225_a.jpg\",\"id\":\"1533846652\",\"full_name\":\"Jess Ryan\"},\"id\":\"1125017636843410438\"},\"user_has_liked\":false,\"id\":\"1125017466110072722_1533846652\",\"user\":{\"username\":\"jesse.was.here\",\"profile_picture\":\"https:\\/\\/scontent.cdninstagram.com\\/hphotos-xap1\\/t51.2885-19\\/s150x150\\/11363839_1468136440155614_1448986225_a.jpg\",\"id\":\"1533846652\",\"full_name\":\"Jess Ryan\"}},{\"attribution\":null,\"tags\":[],\"type\":\"image\",\"location\":{\"latitude\":37.805536344,\"name\":\"Lake Merritt, Oakland CA\",\"longitude\":-122.254301678,\"id\":242335},\"comments\":{\"count\":0,\"data\":[]},\"filter\":\"Clarendon\",\"created_time\":\"1448326847\",\"link\":\"https:\\/\\/instagram.com\\/p\\/-cseIen_R-\\/\",\"likes\":{\"count\":39,\"data\":[{\"username\":\"trvcynguyen\",\"profile_picture\":\"https:\\/\\/scontent.cdninstagram.com\\/hphotos-xap1\\/t51.2885-19\\/s150x150\\/12301368_788129421315599_1178610550_a.jpg\",\"id\":\"2016265410\",\"full_name\":\"trace :)\"},{\"username\":\"maggie.robins\",\"profile_picture\":\"https:\\/\\/scontent.cdninstagram.com\\/hphotos-xta1\\/t51.2885-19\\/s150x150\\/12107684_1682751968648131_940231716_a.jpg\",\"id\":\"2017274114\",\"full_name\":\"\\u1d39\\u1d2c\\u1d33\\u1d33\\u1d35\\u1d31\"},{\"username\":\"collide_with_selfish_madness\",\"profile_picture\":\"https:\\/\\/scontent.cdninstagram.com\\/hphotos-xap1\\/t51.2885-19\\/s150x150\\/12224229_1661222610815940_248882267_a.jpg\",\"id\":\"2039554258\",\"full_name\":\"Gabriella Shepherd\"},{\"username\":\"cali.lyn_103\",\"profile_picture\":\"https:\\/\\/scontent.cdninstagram.com\\/hphotos-xta1\\/t51.2885-19\\/s150x150\\/11372323_1547094312243093_1174141071_a.jpg\",\"id\":\"2035316157\",\"full_name\":\"\\ud83d\\ude18Lynette\\ud83d\\ude18\"}]},\"images\":{\"low_resolution\":{\"url\":\"https:\\/\\/scontent.cdninstagram.com\\/hphotos-xpa1\\/t51.2885-15\\/s320x320\\/e35\\/12230883_717892801644720_193338297_n.jpg\",\"width\":320,\"height\":320},\"thumbnail\":{\"url\":\"https:\\/\\/scontent.cdninstagram.com\\/hphotos-xpa1\\/t51.2885-15\\/s150x150\\/e35\\/12230883_717892801644720_193338297_n.jpg\",\"width\":150,\"height\":150},\"standard_resolution\":{\"url\":\"https:\\/\\/scontent.cdninstagram.com\\/hphotos-xpa1\\/t51.2885-15\\/s480x480\\/e35\\/12230883_717892801644720_193338297_n.jpg\",\"width\":480,\"height\":480}},\"users_in_photo\":[{\"position\":{\"y\":0.9836601,\"x\":0.9097399},\"user\":{\"username\":\"eva.linh\",\"profile_picture\":\"https:\\/\\/scontent.cdninstagram.com\\/hphotos-xap1\\/t51.2885-19\\/s150x150\\/12093577_1512460889053440_585205835_a.jpg\",\"id\":\"363167467\",\"full_name\":\"Eva\"}},{\"position\":{\"y\":0.9836601,\"x\":0.15},\"user\":{\"username\":\"p._._.m\",\"profile_picture\":\"https:\\/\\/scontent.cdninstagram.com\\/hphotos-xpf1\\/t51.2885-19\\/s150x150\\/12299007_1666987163543598_2117412854_a.jpg\",\"id\":\"2097510080\",\"full_name\":\"\"}}],\"caption\":{\"created_time\":\"1448326847\",\"text\":\"Fall vibes \\ud83c\\udf41\\ud83c\\udf42\\u2728 Photo creds ~ @p._._.m \\ud83d\\udc95\",\"from\":{\"username\":\"kylie_halmi\",\"profile_picture\":\"https:\\/\\/scontent.cdninstagram.com\\/hphotos-xfa1\\/t51.2885-19\\/s150x150\\/12237589_1678482999030798_2024683100_a.jpg\",\"id\":\"1205797044\",\"full_name\":\"Ky\"},\"id\":\"1124969599161332819\"},\"user_has_liked\":false,\"id\":\"1124969591670305918_1205797044\",\"user\":{\"username\":\"kylie_halmi\",\"profile_picture\":\"https:\\/\\/scontent.cdninstagram.com\\/hphotos-xfa1\\/t51.2885-19\\/s150x150\\/12237589_1678482999030798_2024683100_a.jpg\",\"id\":\"1205797044\",\"full_name\":\"Ky\"}}]}\n",
      "  </p>\n",
      " </body>\n",
      "</html>\n"
     ]
    }
   ],
   "source": [
    "soup = BeautifulSoup(src)\n",
    "# take a look\n",
    "print soup.prettify()"
   ]
  },
  {
   "cell_type": "code",
   "execution_count": 55,
   "metadata": {
    "collapsed": false
   },
   "outputs": [
    {
     "data": {
      "text/plain": [
       "64893"
      ]
     },
     "execution_count": 55,
     "metadata": {},
     "output_type": "execute_result"
    }
   ],
   "source": [
    "len(soup.prettify())"
   ]
  },
  {
   "cell_type": "code",
   "execution_count": null,
   "metadata": {
    "collapsed": true
   },
   "outputs": [],
   "source": []
  },
  {
   "cell_type": "code",
   "execution_count": null,
   "metadata": {
    "collapsed": true
   },
   "outputs": [],
   "source": []
  },
  {
   "cell_type": "code",
   "execution_count": null,
   "metadata": {
    "collapsed": true
   },
   "outputs": [],
   "source": []
  },
  {
   "cell_type": "code",
   "execution_count": null,
   "metadata": {
    "collapsed": true
   },
   "outputs": [],
   "source": []
  },
  {
   "cell_type": "code",
   "execution_count": null,
   "metadata": {
    "collapsed": true
   },
   "outputs": [],
   "source": []
  },
  {
   "cell_type": "code",
   "execution_count": null,
   "metadata": {
    "collapsed": true
   },
   "outputs": [],
   "source": []
  },
  {
   "cell_type": "markdown",
   "metadata": {},
   "source": [
    "## Step 2: Soup it\n",
    "\n",
    "Now we use the `BeautifulSoup` function to parse the reponse into an HTML tree. This returns an object (called a **soup object**) which contains all of the HTML in the original document."
   ]
  },
  {
   "cell_type": "code",
   "execution_count": 4,
   "metadata": {
    "collapsed": false
   },
   "outputs": [
    {
     "name": "stdout",
     "output_type": "stream",
     "text": [
      "<html lang=\"en\">\n",
      " <head>\n",
      "  <title>\n",
      "   Illinois General Assembly - Senate Members\n",
      "  </title>\n",
      "  <link href=\"/style/lis.css\" rel=\"stylesheet\" type=\"text/css\"/>\n",
      "  <link href=\"/style/print.css\" media=\"print\" rel=\"stylesheet\" type=\"text/css\"/>\n",
      "  <link href=\"http://info.er.usgs.gov/public/gils/gilsexec.html\" rel=\"GILS\"/>\n",
      "  <link href=\"/LISlogo1.ico\" rel=\"Shortcut Icon\"/>\n",
      "  <script language=\"JavaScript\" type=\"text/javascript\">\n",
      "   <!--\n",
      "\n",
      "if(window.event + \"\" == \"undefined\") event = null;\n",
      "function HM_f_PopUp(){return false};\n",
      "function HM_f_PopDown(){return false};\n",
      "popUp = HM_f_PopUp;\n",
      "popDown = HM_f_PopDown;\n",
      "\n",
      "//-->\n",
      "  </script>\n",
      "  <!--\r\n",
      "    option explicit\r\n",
      "  -->\n",
      "  <meta content='(PICS-1.1 \"http://www.weburbia.com/safe/ratings.htm\" l r (s 0))' http-equiv=\"PICS-Label\"/>\n",
      "  <meta content=\"Government\" name=\"classification\"/>\n",
      "  <meta content=\"Global\" name=\"distribution\"/>\n",
      "  <meta content=\"General\" name=\"rating\"/>\n",
      "  <meta content=\"IL\" name=\"contactState\"/>\n",
      "  <meta content=\"Illinois General Assembly\" name=\"\n"
     ]
    }
   ],
   "source": [
    "# parse the response into an HTML tree\n",
    "soup = BeautifulSoup(src)\n",
    "# take a look\n",
    "print soup.prettify()[:1000]"
   ]
  },
  {
   "cell_type": "markdown",
   "metadata": {},
   "source": [
    "## Step 3: Find Elements\n",
    "\n",
    "BeautifulSoup has a number of functions to find things on a page. Like other webscraping tools, Beautiful Soup lets you find elements by their:\n",
    "\n",
    "1. HTML tags\n",
    "2. HTML Attributes\n",
    "3. CSS Selectors\n",
    "\n",
    "\n",
    "Let's search first for **HTML tags**. \n",
    "\n",
    "The function `find_all` searches the `soup` tree to find all the elements with an a particular HTML tag, and returns all of those elements.\n",
    "\n",
    "What does the example below do?"
   ]
  },
  {
   "cell_type": "code",
   "execution_count": 5,
   "metadata": {
    "collapsed": false
   },
   "outputs": [
    {
     "data": {
      "text/plain": [
       "[<a href=\"/default.asp\"><img alt=\"Illinois General Assembly\" border=\"0\" height=\"49\" src=\"/images/logo_sm.gif\" width=\"462\"/></a>,\n",
       " <a class=\"mainmenu\" href=\"/\">Home</a>,\n",
       " <a class=\"mainmenu\" href=\"/legislation/\" onblur=\"HM_f_PopDown('elMenu1')\" onfocus=\"HM_f_PopUp('elMenu1',event)\" onmouseout=\"HM_f_PopDown('elMenu1')\" onmouseover=\"HM_f_PopUp('elMenu1',event)\">Legislation &amp; Laws</a>,\n",
       " <a class=\"mainmenu\" href=\"/senate/\" onblur=\"HM_f_PopDown('elMenu3')\" onfocus=\"HM_f_PopUp('elMenu3',event)\" onmouseout=\"HM_f_PopDown('elMenu3')\" onmouseover=\"HM_f_PopUp('elMenu3',event)\">Senate</a>,\n",
       " <a class=\"mainmenu\" href=\"/house/\" onblur=\"HM_f_PopDown('elMenu2')\" onfocus=\"HM_f_PopUp('elMenu2',event)\" onmouseout=\"HM_f_PopDown('elMenu2')\" onmouseover=\"HM_f_PopUp('elMenu2',event)\">House</a>,\n",
       " <a class=\"mainmenu\" href=\"/mylegislation/\" onblur=\"HM_f_PopDown('elMenu4')\" onfocus=\"HM_f_PopUp('elMenu4',event)\" onmouseout=\"HM_f_PopDown('elMenu4')\" onmouseover=\"HM_f_PopUp('elMenu4',event)\">My Legislation</a>,\n",
       " <a class=\"mainmenu\" href=\"/sitemap.asp\">Site Map</a>,\n",
       " <a class=\"sidemenu\" href=\"/senate/default.asp\">  Members  </a>,\n",
       " <a class=\"sidemenu\" href=\"/senate/committees/default.asp\">  Committees  </a>,\n",
       " <a class=\"sidemenu\" href=\"/senate/schedules/default.asp\">  Schedules  </a>,\n",
       " <a class=\"sidemenu\" href=\"/senate/journals/default.asp\">  Journals  </a>,\n",
       " <a class=\"sidemenu\" href=\"/senate/transcripts/default.asp\">  Transcripts  </a>,\n",
       " <a class=\"sidemenu\" href=\"/senate/rules.asp\">  Rules  </a>,\n",
       " <a class=\"sidemenu\" href=\"/senate/audvid.asp\">  Live Audio/Video  </a>,\n",
       " <a href=\"99GA_Senate_Leadership.pdf\">Leadership</a>,\n",
       " <a href=\"99GA_Senate_Officers.pdf\">Officers</a>,\n",
       " <a href=\"99GA_Senate_Seating_Chart.pdf\">Senate Seating Chart</a>,\n",
       " <a class=\"filetab\" href=\"javascript:Sort('LastName','',99);\" title=\"Sort by Senator\">Senator</a>,\n",
       " <a class=\"filetab\" href=\"javascript:Sort('DistrictNumber','',99);\" title=\"Sort by District\">District</a>,\n",
       " <a class=\"filetab\" href=\"javascript:Sort('Party','',99);\" title=\"Sort by Party\">Party</a>,\n",
       " <a href=\"/senate/Senator.asp?GA=99&amp;MemberID=2130\">Pamela J. Althoff</a>,\n",
       " <a href=\"SenatorBills.asp?MemberID=2130\">Bills</a>,\n",
       " <a href=\"SenCommittees.asp?MemberID=2130\">Committees</a>,\n",
       " <a href=\"/senate/Senator.asp?GA=99&amp;MemberID=2275\">Neil Anderson</a>,\n",
       " <a href=\"SenatorBills.asp?MemberID=2275\">Bills</a>,\n",
       " <a href=\"SenCommittees.asp?MemberID=2275\">Committees</a>,\n",
       " <a href=\"/senate/Senator.asp?GA=99&amp;MemberID=2208\">Jason A. Barickman</a>,\n",
       " <a href=\"SenatorBills.asp?MemberID=2208\">Bills</a>,\n",
       " <a href=\"SenCommittees.asp?MemberID=2208\">Committees</a>,\n",
       " <a href=\"/senate/Senator.asp?GA=99&amp;MemberID=2276\">Scott M. Bennett</a>,\n",
       " <a href=\"SenatorBills.asp?MemberID=2276\">Bills</a>,\n",
       " <a href=\"SenCommittees.asp?MemberID=2276\">Committees</a>,\n",
       " <a href=\"/senate/Senator.asp?GA=99&amp;MemberID=2210\">Jennifer Bertino-Tarrant</a>,\n",
       " <a href=\"SenatorBills.asp?MemberID=2210\">Bills</a>,\n",
       " <a href=\"SenCommittees.asp?MemberID=2210\">Committees</a>,\n",
       " <a href=\"/senate/Senator.asp?GA=99&amp;MemberID=2209\">Daniel Biss</a>,\n",
       " <a href=\"SenatorBills.asp?MemberID=2209\">Bills</a>,\n",
       " <a href=\"SenCommittees.asp?MemberID=2209\">Committees</a>,\n",
       " <a href=\"/senate/Senator.asp?GA=99&amp;MemberID=2160\">Tim Bivins</a>,\n",
       " <a href=\"SenatorBills.asp?MemberID=2160\">Bills</a>,\n",
       " <a href=\"SenCommittees.asp?MemberID=2160\">Committees</a>,\n",
       " <a href=\"/senate/Senator.asp?GA=99&amp;MemberID=2108\">William E. Brady</a>,\n",
       " <a href=\"SenatorBills.asp?MemberID=2108\">Bills</a>,\n",
       " <a href=\"SenCommittees.asp?MemberID=2108\">Committees</a>,\n",
       " <a href=\"/senate/Senator.asp?GA=99&amp;MemberID=2211\">Melinda Bush</a>,\n",
       " <a href=\"SenatorBills.asp?MemberID=2211\">Bills</a>,\n",
       " <a href=\"SenCommittees.asp?MemberID=2211\">Committees</a>,\n",
       " <a href=\"/senate/Senator.asp?GA=99&amp;MemberID=2097\">James F. Clayborne, Jr.</a>,\n",
       " <a href=\"SenatorBills.asp?MemberID=2097\">Bills</a>,\n",
       " <a href=\"SenCommittees.asp?MemberID=2097\">Committees</a>,\n",
       " <a href=\"/senate/Senator.asp?GA=99&amp;MemberID=2123\">Jacqueline Y. Collins</a>,\n",
       " <a href=\"SenatorBills.asp?MemberID=2123\">Bills</a>,\n",
       " <a href=\"SenCommittees.asp?MemberID=2123\">Committees</a>,\n",
       " <a href=\"/senate/Senator.asp?GA=99&amp;MemberID=2212\">Michael Connelly</a>,\n",
       " <a href=\"SenatorBills.asp?MemberID=2212\">Bills</a>,\n",
       " <a href=\"SenCommittees.asp?MemberID=2212\">Committees</a>,\n",
       " <a href=\"/senate/Senator.asp?GA=99&amp;MemberID=2098\">John J. Cullerton</a>,\n",
       " <a href=\"SenatorBills.asp?MemberID=2098\">Bills</a>,\n",
       " <a href=\"SenCommittees.asp?MemberID=2098\">Committees</a>,\n",
       " <a href=\"/senate/Senator.asp?GA=99&amp;MemberID=2213\">Thomas Cullerton</a>,\n",
       " <a href=\"SenatorBills.asp?MemberID=2213\">Bills</a>,\n",
       " <a href=\"SenCommittees.asp?MemberID=2213\">Committees</a>,\n",
       " <a href=\"/senate/Senator.asp?GA=99&amp;MemberID=2214\">Bill Cunningham</a>,\n",
       " <a href=\"SenatorBills.asp?MemberID=2214\">Bills</a>,\n",
       " <a href=\"SenCommittees.asp?MemberID=2214\">Committees</a>,\n",
       " <a href=\"/senate/Senator.asp?GA=99&amp;MemberID=2144\">William Delgado</a>,\n",
       " <a href=\"SenatorBills.asp?MemberID=2144\">Bills</a>,\n",
       " <a href=\"SenCommittees.asp?MemberID=2144\">Committees</a>,\n",
       " <a href=\"/senate/Senator.asp?GA=99&amp;MemberID=2170\">Dan Duffy</a>,\n",
       " <a href=\"SenatorBills.asp?MemberID=2170\">Bills</a>,\n",
       " <a href=\"SenCommittees.asp?MemberID=2170\">Committees</a>,\n",
       " <a href=\"/senate/Senator.asp?GA=99&amp;MemberID=2133\">Gary Forby</a>,\n",
       " <a href=\"SenatorBills.asp?MemberID=2133\">Bills</a>,\n",
       " <a href=\"SenCommittees.asp?MemberID=2133\">Committees</a>,\n",
       " <a href=\"/senate/Senator.asp?GA=99&amp;MemberID=2128\">William R. Haine</a>,\n",
       " <a href=\"SenatorBills.asp?MemberID=2128\">Bills</a>,\n",
       " <a href=\"SenCommittees.asp?MemberID=2128\">Committees</a>,\n",
       " <a href=\"/senate/Senator.asp?GA=99&amp;MemberID=2125\">Don Harmon</a>,\n",
       " <a href=\"SenatorBills.asp?MemberID=2125\">Bills</a>,\n",
       " <a href=\"SenCommittees.asp?MemberID=2125\">Committees</a>,\n",
       " <a href=\"/senate/Senator.asp?GA=99&amp;MemberID=2215\">Napoleon Harris, III</a>,\n",
       " <a href=\"SenatorBills.asp?MemberID=2215\">Bills</a>,\n",
       " <a href=\"SenCommittees.asp?MemberID=2215\">Committees</a>,\n",
       " <a href=\"/senate/Senator.asp?GA=99&amp;MemberID=2216\">Michael E. Hastings</a>,\n",
       " <a href=\"SenatorBills.asp?MemberID=2216\">Bills</a>,\n",
       " <a href=\"SenCommittees.asp?MemberID=2216\">Committees</a>,\n",
       " <a href=\"/senate/Senator.asp?GA=99&amp;MemberID=2150\">Linda Holmes</a>,\n",
       " <a href=\"SenatorBills.asp?MemberID=2150\">Bills</a>,\n",
       " <a href=\"SenCommittees.asp?MemberID=2150\">Committees</a>,\n",
       " <a href=\"/senate/Senator.asp?GA=99&amp;MemberID=2129\">Mattie Hunter</a>,\n",
       " <a href=\"SenatorBills.asp?MemberID=2129\">Bills</a>,\n",
       " <a href=\"SenCommittees.asp?MemberID=2129\">Committees</a>,\n",
       " <a href=\"/senate/Senator.asp?GA=99&amp;MemberID=2171\">Toi W. Hutchinson</a>,\n",
       " <a href=\"SenatorBills.asp?MemberID=2171\">Bills</a>,\n",
       " <a href=\"SenCommittees.asp?MemberID=2171\">Committees</a>,\n",
       " <a href=\"/senate/Senator.asp?GA=99&amp;MemberID=2173\">Emil Jones, III</a>,\n",
       " <a href=\"SenatorBills.asp?MemberID=2173\">Bills</a>,\n",
       " <a href=\"SenCommittees.asp?MemberID=2173\">Committees</a>,\n",
       " <a href=\"/senate/Senator.asp?GA=99&amp;MemberID=2152\">David Koehler</a>,\n",
       " <a href=\"SenatorBills.asp?MemberID=2152\">Bills</a>,\n",
       " <a href=\"SenCommittees.asp?MemberID=2152\">Committees</a>,\n",
       " <a href=\"/senate/Senator.asp?GA=99&amp;MemberID=2198\">Steven M. Landek</a>,\n",
       " <a href=\"SenatorBills.asp?MemberID=2198\">Bills</a>,\n",
       " <a href=\"SenCommittees.asp?MemberID=2198\">Committees</a>,\n",
       " <a href=\"/senate/Senator.asp?GA=99&amp;MemberID=2100\">Kimberly A. Lightford</a>,\n",
       " <a href=\"SenatorBills.asp?MemberID=2100\">Bills</a>,\n",
       " <a href=\"SenCommittees.asp?MemberID=2100\">Committees</a>,\n",
       " <a href=\"/senate/Senator.asp?GA=99&amp;MemberID=2101\">Terry Link</a>,\n",
       " <a href=\"SenatorBills.asp?MemberID=2101\">Bills</a>,\n",
       " <a href=\"SenCommittees.asp?MemberID=2101\">Committees</a>,\n",
       " <a href=\"/senate/Senator.asp?GA=99&amp;MemberID=2102\">David S. Luechtefeld</a>,\n",
       " <a href=\"SenatorBills.asp?MemberID=2102\">Bills</a>,\n",
       " <a href=\"SenCommittees.asp?MemberID=2102\">Committees</a>,\n",
       " <a href=\"/senate/Senator.asp?GA=99&amp;MemberID=2217\">Andy Manar</a>,\n",
       " <a href=\"SenatorBills.asp?MemberID=2217\">Bills</a>,\n",
       " <a href=\"SenCommittees.asp?MemberID=2217\">Committees</a>,\n",
       " <a href=\"/senate/Senator.asp?GA=99&amp;MemberID=2124\">Iris Y. Martinez</a>,\n",
       " <a href=\"SenatorBills.asp?MemberID=2124\">Bills</a>,\n",
       " <a href=\"SenCommittees.asp?MemberID=2124\">Committees</a>,\n",
       " <a href=\"/senate/Senator.asp?GA=99&amp;MemberID=2197\">Wm. Sam McCann</a>,\n",
       " <a href=\"SenatorBills.asp?MemberID=2197\">Bills</a>,\n",
       " <a href=\"SenCommittees.asp?MemberID=2197\">Committees</a>,\n",
       " <a href=\"/senate/Senator.asp?GA=99&amp;MemberID=2174\">Kyle McCarter</a>,\n",
       " <a href=\"SenatorBills.asp?MemberID=2174\">Bills</a>,\n",
       " <a href=\"SenCommittees.asp?MemberID=2174\">Committees</a>,\n",
       " <a href=\"/senate/Senator.asp?GA=99&amp;MemberID=2218\">Karen McConnaughay</a>,\n",
       " <a href=\"SenatorBills.asp?MemberID=2218\">Bills</a>,\n",
       " <a href=\"SenCommittees.asp?MemberID=2218\">Committees</a>,\n",
       " <a href=\"/senate/Senator.asp?GA=99&amp;MemberID=2202\">Pat McGuire</a>,\n",
       " <a href=\"SenatorBills.asp?MemberID=2202\">Bills</a>,\n",
       " <a href=\"SenCommittees.asp?MemberID=2202\">Committees</a>,\n",
       " <a href=\"/senate/Senator.asp?GA=99&amp;MemberID=2219\">Julie A. Morrison</a>,\n",
       " <a href=\"SenatorBills.asp?MemberID=2219\">Bills</a>,\n",
       " <a href=\"SenCommittees.asp?MemberID=2219\">Committees</a>,\n",
       " <a href=\"/senate/Senator.asp?GA=99&amp;MemberID=2180\">John G. Mulroe</a>,\n",
       " <a href=\"SenatorBills.asp?MemberID=2180\">Bills</a>,\n",
       " <a href=\"SenCommittees.asp?MemberID=2180\">Committees</a>,\n",
       " <a href=\"/senate/Senator.asp?GA=99&amp;MemberID=2103\">Antonio Muñoz</a>,\n",
       " <a href=\"SenatorBills.asp?MemberID=2103\">Bills</a>,\n",
       " <a href=\"SenCommittees.asp?MemberID=2103\">Committees</a>,\n",
       " <a href=\"/senate/Senator.asp?GA=99&amp;MemberID=2279\">Laura M. Murphy</a>,\n",
       " <a href=\"SenatorBills.asp?MemberID=2279\">Bills</a>,\n",
       " <a href=\"SenCommittees.asp?MemberID=2279\">Committees</a>,\n",
       " <a href=\"/senate/Senator.asp?GA=99&amp;MemberID=2148\">Matt Murphy</a>,\n",
       " <a href=\"SenatorBills.asp?MemberID=2148\">Bills</a>,\n",
       " <a href=\"SenCommittees.asp?MemberID=2148\">Committees</a>,\n",
       " <a href=\"/senate/Senator.asp?GA=99&amp;MemberID=2147\">Michael Noland</a>,\n",
       " <a href=\"SenatorBills.asp?MemberID=2147\">Bills</a>,\n",
       " <a href=\"SenCommittees.asp?MemberID=2147\">Committees</a>,\n",
       " <a href=\"/senate/Senator.asp?GA=99&amp;MemberID=2256\">Chris Nybo</a>,\n",
       " <a href=\"SenatorBills.asp?MemberID=2256\">Bills</a>,\n",
       " <a href=\"SenCommittees.asp?MemberID=2256\">Committees</a>,\n",
       " <a href=\"/senate/Senator.asp?GA=99&amp;MemberID=2220\">Jim Oberweis</a>,\n",
       " <a href=\"SenatorBills.asp?MemberID=2220\">Bills</a>,\n",
       " <a href=\"SenCommittees.asp?MemberID=2220\">Committees</a>,\n",
       " <a href=\"/senate/Senator.asp?GA=99&amp;MemberID=2104\">Christine Radogno</a>,\n",
       " <a href=\"SenatorBills.asp?MemberID=2104\">Bills</a>,\n",
       " <a href=\"SenCommittees.asp?MemberID=2104\">Committees</a>,\n",
       " <a href=\"/senate/Senator.asp?GA=99&amp;MemberID=2135\">Kwame Raoul</a>,\n",
       " <a href=\"SenatorBills.asp?MemberID=2135\">Bills</a>,\n",
       " <a href=\"SenCommittees.asp?MemberID=2135\">Committees</a>,\n",
       " <a href=\"/senate/Senator.asp?GA=99&amp;MemberID=2182\">Sue Rezin</a>,\n",
       " <a href=\"SenatorBills.asp?MemberID=2182\">Bills</a>,\n",
       " <a href=\"SenCommittees.asp?MemberID=2182\">Committees</a>,\n",
       " <a href=\"/senate/Senator.asp?GA=99&amp;MemberID=2127\">Dale A. Righter</a>,\n",
       " <a href=\"SenatorBills.asp?MemberID=2127\">Bills</a>,\n",
       " <a href=\"SenCommittees.asp?MemberID=2127\">Committees</a>,\n",
       " <a href=\"/senate/Senator.asp?GA=99&amp;MemberID=2221\">Chapin Rose</a>,\n",
       " <a href=\"SenatorBills.asp?MemberID=2221\">Bills</a>,\n",
       " <a href=\"SenCommittees.asp?MemberID=2221\">Committees</a>,\n",
       " <a href=\"/senate/Senator.asp?GA=99&amp;MemberID=2122\">Martin A. Sandoval</a>,\n",
       " <a href=\"SenatorBills.asp?MemberID=2122\">Bills</a>,\n",
       " <a href=\"SenCommittees.asp?MemberID=2122\">Committees</a>,\n",
       " <a href=\"/senate/Senator.asp?GA=99&amp;MemberID=2105\">Ira I. Silverstein</a>,\n",
       " <a href=\"SenatorBills.asp?MemberID=2105\">Bills</a>,\n",
       " <a href=\"SenCommittees.asp?MemberID=2105\">Committees</a>,\n",
       " <a href=\"/senate/Senator.asp?GA=99&amp;MemberID=2222\">Steve Stadelman</a>,\n",
       " <a href=\"SenatorBills.asp?MemberID=2222\">Bills</a>,\n",
       " <a href=\"SenCommittees.asp?MemberID=2222\">Committees</a>,\n",
       " <a href=\"/senate/Senator.asp?GA=99&amp;MemberID=2159\">Heather A. Steans</a>,\n",
       " <a href=\"SenatorBills.asp?MemberID=2159\">Bills</a>,\n",
       " <a href=\"SenCommittees.asp?MemberID=2159\">Committees</a>,\n",
       " <a href=\"/senate/Senator.asp?GA=99&amp;MemberID=2126\">John M. Sullivan</a>,\n",
       " <a href=\"SenatorBills.asp?MemberID=2126\">Bills</a>,\n",
       " <a href=\"SenCommittees.asp?MemberID=2126\">Committees</a>,\n",
       " <a href=\"/senate/Senator.asp?GA=99&amp;MemberID=2106\">Dave Syverson</a>,\n",
       " <a href=\"SenatorBills.asp?MemberID=2106\">Bills</a>,\n",
       " <a href=\"SenCommittees.asp?MemberID=2106\">Committees</a>,\n",
       " <a href=\"/senate/Senator.asp?GA=99&amp;MemberID=2107\">Donne E. Trotter</a>,\n",
       " <a href=\"SenatorBills.asp?MemberID=2107\">Bills</a>,\n",
       " <a href=\"SenCommittees.asp?MemberID=2107\">Committees</a>,\n",
       " <a href=\"/senate/Senator.asp?GA=99&amp;MemberID=2223\">Patricia Van Pelt</a>,\n",
       " <a href=\"SenatorBills.asp?MemberID=2223\">Bills</a>,\n",
       " <a href=\"SenCommittees.asp?MemberID=2223\">Committees</a>,\n",
       " <a href=\"/senate/Senator.asp?GA=99&amp;MemberID=2280\">Chuck Weaver</a>,\n",
       " <a href=\"SenatorBills.asp?MemberID=2280\">Bills</a>,\n",
       " <a href=\"SenCommittees.asp?MemberID=2280\">Committees</a>,\n",
       " <a class=\"filetab\" href=\"javascript:Sort('','LastName',99);\" title=\"Sort by Senator\">Senator</a>,\n",
       " <a class=\"filetab\" href=\"javascript:Sort('','DistrictNumber',99);\" title=\"Sort by District\">District</a>,\n",
       " <a class=\"filetab\" href=\"javascript:Sort('','Party',99);\" title=\"Sort by Party\">Party</a>,\n",
       " <a href=\"/senate/Senator.asp?GA=99&amp;MemberID=2149\">Dan Kotowski</a>,\n",
       " <a href=\"SenatorBills.asp?MemberID=2149\">Bills</a>,\n",
       " <a href=\"SenCommittees.asp?MemberID=2149\">Committees</a>,\n",
       " <a href=\"/senate/Senator.asp?GA=99&amp;MemberID=2199\">Darin M. LaHood</a>,\n",
       " <a href=\"SenatorBills.asp?MemberID=2199\">Bills</a>,\n",
       " <a href=\"SenCommittees.asp?MemberID=2199\">Committees</a>,\n",
       " <a href=\"/reports/rptMemberList.asp?gaid=13&amp;ChamberId=S\" target=\"new\">click here</a>,\n",
       " <a class=\"footer\" href=\"/\" title=\"View the General Assembly web site home page\">Home</a>,\n",
       " <a class=\"footer\" href=\"/legislation/\" title=\"View Legislation and Laws\">Legislation &amp; Laws</a>,\n",
       " <a class=\"footer\" href=\"/house/default.asp\" title=\"View information regarding House of Representatives\">House</a>,\n",
       " <a class=\"footer\" href=\"/senate/default.asp\" title=\"View information regarding Senate\">Senate</a>,\n",
       " <a class=\"footer\" href=\"/mylegislation/default.asp\" title=\"Set up customized queries, create reports for tracking, etc.\">My Legislation</a>,\n",
       " <a class=\"footer\" href=\"/disclaimer.asp\" title=\"Disclaimers regarding the Illinois General Assembly web site\">Disclaimers</a>,\n",
       " <a class=\"footer\" href=\"/contact.asp\" title=\"Contact the Illinois General Assembly Web Support Staff\">Email</a>]"
      ]
     },
     "execution_count": 5,
     "metadata": {},
     "output_type": "execute_result"
    }
   ],
   "source": [
    "# find all elements in a certain tag\n",
    "# these two lines of code are equivilant\n",
    "\n",
    "soup.find_all(\"a\")"
   ]
  },
  {
   "cell_type": "markdown",
   "metadata": {},
   "source": [
    "**NB**: Because `find_all()` is the most popular method in the Beautiful Soup search API, you can use a shortcut for it. If you treat the BeautifulSoup object as though it were a function, then it’s the same as calling `find_all()` on that object. These two lines of code are equivalent:"
   ]
  },
  {
   "cell_type": "code",
   "execution_count": 7,
   "metadata": {
    "collapsed": false
   },
   "outputs": [
    {
     "data": {
      "text/plain": [
       "[<a href=\"/default.asp\"><img alt=\"Illinois General Assembly\" border=\"0\" height=\"49\" src=\"/images/logo_sm.gif\" width=\"462\"/></a>,\n",
       " <a class=\"mainmenu\" href=\"/\">Home</a>,\n",
       " <a class=\"mainmenu\" href=\"/legislation/\" onblur=\"HM_f_PopDown('elMenu1')\" onfocus=\"HM_f_PopUp('elMenu1',event)\" onmouseout=\"HM_f_PopDown('elMenu1')\" onmouseover=\"HM_f_PopUp('elMenu1',event)\">Legislation &amp; Laws</a>,\n",
       " <a class=\"mainmenu\" href=\"/senate/\" onblur=\"HM_f_PopDown('elMenu3')\" onfocus=\"HM_f_PopUp('elMenu3',event)\" onmouseout=\"HM_f_PopDown('elMenu3')\" onmouseover=\"HM_f_PopUp('elMenu3',event)\">Senate</a>,\n",
       " <a class=\"mainmenu\" href=\"/house/\" onblur=\"HM_f_PopDown('elMenu2')\" onfocus=\"HM_f_PopUp('elMenu2',event)\" onmouseout=\"HM_f_PopDown('elMenu2')\" onmouseover=\"HM_f_PopUp('elMenu2',event)\">House</a>,\n",
       " <a class=\"mainmenu\" href=\"/mylegislation/\" onblur=\"HM_f_PopDown('elMenu4')\" onfocus=\"HM_f_PopUp('elMenu4',event)\" onmouseout=\"HM_f_PopDown('elMenu4')\" onmouseover=\"HM_f_PopUp('elMenu4',event)\">My Legislation</a>,\n",
       " <a class=\"mainmenu\" href=\"/sitemap.asp\">Site Map</a>,\n",
       " <a class=\"sidemenu\" href=\"/senate/default.asp\">  Members  </a>,\n",
       " <a class=\"sidemenu\" href=\"/senate/committees/default.asp\">  Committees  </a>,\n",
       " <a class=\"sidemenu\" href=\"/senate/schedules/default.asp\">  Schedules  </a>,\n",
       " <a class=\"sidemenu\" href=\"/senate/journals/default.asp\">  Journals  </a>,\n",
       " <a class=\"sidemenu\" href=\"/senate/transcripts/default.asp\">  Transcripts  </a>,\n",
       " <a class=\"sidemenu\" href=\"/senate/rules.asp\">  Rules  </a>,\n",
       " <a class=\"sidemenu\" href=\"/senate/audvid.asp\">  Live Audio/Video  </a>,\n",
       " <a href=\"99GA_Senate_Leadership.pdf\">Leadership</a>,\n",
       " <a href=\"99GA_Senate_Officers.pdf\">Officers</a>,\n",
       " <a href=\"99GA_Senate_Seating_Chart.pdf\">Senate Seating Chart</a>,\n",
       " <a class=\"filetab\" href=\"javascript:Sort('LastName','',99);\" title=\"Sort by Senator\">Senator</a>,\n",
       " <a class=\"filetab\" href=\"javascript:Sort('DistrictNumber','',99);\" title=\"Sort by District\">District</a>,\n",
       " <a class=\"filetab\" href=\"javascript:Sort('Party','',99);\" title=\"Sort by Party\">Party</a>,\n",
       " <a href=\"/senate/Senator.asp?GA=99&amp;MemberID=2130\">Pamela J. Althoff</a>,\n",
       " <a href=\"SenatorBills.asp?MemberID=2130\">Bills</a>,\n",
       " <a href=\"SenCommittees.asp?MemberID=2130\">Committees</a>,\n",
       " <a href=\"/senate/Senator.asp?GA=99&amp;MemberID=2275\">Neil Anderson</a>,\n",
       " <a href=\"SenatorBills.asp?MemberID=2275\">Bills</a>,\n",
       " <a href=\"SenCommittees.asp?MemberID=2275\">Committees</a>,\n",
       " <a href=\"/senate/Senator.asp?GA=99&amp;MemberID=2208\">Jason A. Barickman</a>,\n",
       " <a href=\"SenatorBills.asp?MemberID=2208\">Bills</a>,\n",
       " <a href=\"SenCommittees.asp?MemberID=2208\">Committees</a>,\n",
       " <a href=\"/senate/Senator.asp?GA=99&amp;MemberID=2276\">Scott M. Bennett</a>,\n",
       " <a href=\"SenatorBills.asp?MemberID=2276\">Bills</a>,\n",
       " <a href=\"SenCommittees.asp?MemberID=2276\">Committees</a>,\n",
       " <a href=\"/senate/Senator.asp?GA=99&amp;MemberID=2210\">Jennifer Bertino-Tarrant</a>,\n",
       " <a href=\"SenatorBills.asp?MemberID=2210\">Bills</a>,\n",
       " <a href=\"SenCommittees.asp?MemberID=2210\">Committees</a>,\n",
       " <a href=\"/senate/Senator.asp?GA=99&amp;MemberID=2209\">Daniel Biss</a>,\n",
       " <a href=\"SenatorBills.asp?MemberID=2209\">Bills</a>,\n",
       " <a href=\"SenCommittees.asp?MemberID=2209\">Committees</a>,\n",
       " <a href=\"/senate/Senator.asp?GA=99&amp;MemberID=2160\">Tim Bivins</a>,\n",
       " <a href=\"SenatorBills.asp?MemberID=2160\">Bills</a>,\n",
       " <a href=\"SenCommittees.asp?MemberID=2160\">Committees</a>,\n",
       " <a href=\"/senate/Senator.asp?GA=99&amp;MemberID=2108\">William E. Brady</a>,\n",
       " <a href=\"SenatorBills.asp?MemberID=2108\">Bills</a>,\n",
       " <a href=\"SenCommittees.asp?MemberID=2108\">Committees</a>,\n",
       " <a href=\"/senate/Senator.asp?GA=99&amp;MemberID=2211\">Melinda Bush</a>,\n",
       " <a href=\"SenatorBills.asp?MemberID=2211\">Bills</a>,\n",
       " <a href=\"SenCommittees.asp?MemberID=2211\">Committees</a>,\n",
       " <a href=\"/senate/Senator.asp?GA=99&amp;MemberID=2097\">James F. Clayborne, Jr.</a>,\n",
       " <a href=\"SenatorBills.asp?MemberID=2097\">Bills</a>,\n",
       " <a href=\"SenCommittees.asp?MemberID=2097\">Committees</a>,\n",
       " <a href=\"/senate/Senator.asp?GA=99&amp;MemberID=2123\">Jacqueline Y. Collins</a>,\n",
       " <a href=\"SenatorBills.asp?MemberID=2123\">Bills</a>,\n",
       " <a href=\"SenCommittees.asp?MemberID=2123\">Committees</a>,\n",
       " <a href=\"/senate/Senator.asp?GA=99&amp;MemberID=2212\">Michael Connelly</a>,\n",
       " <a href=\"SenatorBills.asp?MemberID=2212\">Bills</a>,\n",
       " <a href=\"SenCommittees.asp?MemberID=2212\">Committees</a>,\n",
       " <a href=\"/senate/Senator.asp?GA=99&amp;MemberID=2098\">John J. Cullerton</a>,\n",
       " <a href=\"SenatorBills.asp?MemberID=2098\">Bills</a>,\n",
       " <a href=\"SenCommittees.asp?MemberID=2098\">Committees</a>,\n",
       " <a href=\"/senate/Senator.asp?GA=99&amp;MemberID=2213\">Thomas Cullerton</a>,\n",
       " <a href=\"SenatorBills.asp?MemberID=2213\">Bills</a>,\n",
       " <a href=\"SenCommittees.asp?MemberID=2213\">Committees</a>,\n",
       " <a href=\"/senate/Senator.asp?GA=99&amp;MemberID=2214\">Bill Cunningham</a>,\n",
       " <a href=\"SenatorBills.asp?MemberID=2214\">Bills</a>,\n",
       " <a href=\"SenCommittees.asp?MemberID=2214\">Committees</a>,\n",
       " <a href=\"/senate/Senator.asp?GA=99&amp;MemberID=2144\">William Delgado</a>,\n",
       " <a href=\"SenatorBills.asp?MemberID=2144\">Bills</a>,\n",
       " <a href=\"SenCommittees.asp?MemberID=2144\">Committees</a>,\n",
       " <a href=\"/senate/Senator.asp?GA=99&amp;MemberID=2170\">Dan Duffy</a>,\n",
       " <a href=\"SenatorBills.asp?MemberID=2170\">Bills</a>,\n",
       " <a href=\"SenCommittees.asp?MemberID=2170\">Committees</a>,\n",
       " <a href=\"/senate/Senator.asp?GA=99&amp;MemberID=2133\">Gary Forby</a>,\n",
       " <a href=\"SenatorBills.asp?MemberID=2133\">Bills</a>,\n",
       " <a href=\"SenCommittees.asp?MemberID=2133\">Committees</a>,\n",
       " <a href=\"/senate/Senator.asp?GA=99&amp;MemberID=2128\">William R. Haine</a>,\n",
       " <a href=\"SenatorBills.asp?MemberID=2128\">Bills</a>,\n",
       " <a href=\"SenCommittees.asp?MemberID=2128\">Committees</a>,\n",
       " <a href=\"/senate/Senator.asp?GA=99&amp;MemberID=2125\">Don Harmon</a>,\n",
       " <a href=\"SenatorBills.asp?MemberID=2125\">Bills</a>,\n",
       " <a href=\"SenCommittees.asp?MemberID=2125\">Committees</a>,\n",
       " <a href=\"/senate/Senator.asp?GA=99&amp;MemberID=2215\">Napoleon Harris, III</a>,\n",
       " <a href=\"SenatorBills.asp?MemberID=2215\">Bills</a>,\n",
       " <a href=\"SenCommittees.asp?MemberID=2215\">Committees</a>,\n",
       " <a href=\"/senate/Senator.asp?GA=99&amp;MemberID=2216\">Michael E. Hastings</a>,\n",
       " <a href=\"SenatorBills.asp?MemberID=2216\">Bills</a>,\n",
       " <a href=\"SenCommittees.asp?MemberID=2216\">Committees</a>,\n",
       " <a href=\"/senate/Senator.asp?GA=99&amp;MemberID=2150\">Linda Holmes</a>,\n",
       " <a href=\"SenatorBills.asp?MemberID=2150\">Bills</a>,\n",
       " <a href=\"SenCommittees.asp?MemberID=2150\">Committees</a>,\n",
       " <a href=\"/senate/Senator.asp?GA=99&amp;MemberID=2129\">Mattie Hunter</a>,\n",
       " <a href=\"SenatorBills.asp?MemberID=2129\">Bills</a>,\n",
       " <a href=\"SenCommittees.asp?MemberID=2129\">Committees</a>,\n",
       " <a href=\"/senate/Senator.asp?GA=99&amp;MemberID=2171\">Toi W. Hutchinson</a>,\n",
       " <a href=\"SenatorBills.asp?MemberID=2171\">Bills</a>,\n",
       " <a href=\"SenCommittees.asp?MemberID=2171\">Committees</a>,\n",
       " <a href=\"/senate/Senator.asp?GA=99&amp;MemberID=2173\">Emil Jones, III</a>,\n",
       " <a href=\"SenatorBills.asp?MemberID=2173\">Bills</a>,\n",
       " <a href=\"SenCommittees.asp?MemberID=2173\">Committees</a>,\n",
       " <a href=\"/senate/Senator.asp?GA=99&amp;MemberID=2152\">David Koehler</a>,\n",
       " <a href=\"SenatorBills.asp?MemberID=2152\">Bills</a>,\n",
       " <a href=\"SenCommittees.asp?MemberID=2152\">Committees</a>,\n",
       " <a href=\"/senate/Senator.asp?GA=99&amp;MemberID=2198\">Steven M. Landek</a>,\n",
       " <a href=\"SenatorBills.asp?MemberID=2198\">Bills</a>,\n",
       " <a href=\"SenCommittees.asp?MemberID=2198\">Committees</a>,\n",
       " <a href=\"/senate/Senator.asp?GA=99&amp;MemberID=2100\">Kimberly A. Lightford</a>,\n",
       " <a href=\"SenatorBills.asp?MemberID=2100\">Bills</a>,\n",
       " <a href=\"SenCommittees.asp?MemberID=2100\">Committees</a>,\n",
       " <a href=\"/senate/Senator.asp?GA=99&amp;MemberID=2101\">Terry Link</a>,\n",
       " <a href=\"SenatorBills.asp?MemberID=2101\">Bills</a>,\n",
       " <a href=\"SenCommittees.asp?MemberID=2101\">Committees</a>,\n",
       " <a href=\"/senate/Senator.asp?GA=99&amp;MemberID=2102\">David S. Luechtefeld</a>,\n",
       " <a href=\"SenatorBills.asp?MemberID=2102\">Bills</a>,\n",
       " <a href=\"SenCommittees.asp?MemberID=2102\">Committees</a>,\n",
       " <a href=\"/senate/Senator.asp?GA=99&amp;MemberID=2217\">Andy Manar</a>,\n",
       " <a href=\"SenatorBills.asp?MemberID=2217\">Bills</a>,\n",
       " <a href=\"SenCommittees.asp?MemberID=2217\">Committees</a>,\n",
       " <a href=\"/senate/Senator.asp?GA=99&amp;MemberID=2124\">Iris Y. Martinez</a>,\n",
       " <a href=\"SenatorBills.asp?MemberID=2124\">Bills</a>,\n",
       " <a href=\"SenCommittees.asp?MemberID=2124\">Committees</a>,\n",
       " <a href=\"/senate/Senator.asp?GA=99&amp;MemberID=2197\">Wm. Sam McCann</a>,\n",
       " <a href=\"SenatorBills.asp?MemberID=2197\">Bills</a>,\n",
       " <a href=\"SenCommittees.asp?MemberID=2197\">Committees</a>,\n",
       " <a href=\"/senate/Senator.asp?GA=99&amp;MemberID=2174\">Kyle McCarter</a>,\n",
       " <a href=\"SenatorBills.asp?MemberID=2174\">Bills</a>,\n",
       " <a href=\"SenCommittees.asp?MemberID=2174\">Committees</a>,\n",
       " <a href=\"/senate/Senator.asp?GA=99&amp;MemberID=2218\">Karen McConnaughay</a>,\n",
       " <a href=\"SenatorBills.asp?MemberID=2218\">Bills</a>,\n",
       " <a href=\"SenCommittees.asp?MemberID=2218\">Committees</a>,\n",
       " <a href=\"/senate/Senator.asp?GA=99&amp;MemberID=2202\">Pat McGuire</a>,\n",
       " <a href=\"SenatorBills.asp?MemberID=2202\">Bills</a>,\n",
       " <a href=\"SenCommittees.asp?MemberID=2202\">Committees</a>,\n",
       " <a href=\"/senate/Senator.asp?GA=99&amp;MemberID=2219\">Julie A. Morrison</a>,\n",
       " <a href=\"SenatorBills.asp?MemberID=2219\">Bills</a>,\n",
       " <a href=\"SenCommittees.asp?MemberID=2219\">Committees</a>,\n",
       " <a href=\"/senate/Senator.asp?GA=99&amp;MemberID=2180\">John G. Mulroe</a>,\n",
       " <a href=\"SenatorBills.asp?MemberID=2180\">Bills</a>,\n",
       " <a href=\"SenCommittees.asp?MemberID=2180\">Committees</a>,\n",
       " <a href=\"/senate/Senator.asp?GA=99&amp;MemberID=2103\">Antonio Muñoz</a>,\n",
       " <a href=\"SenatorBills.asp?MemberID=2103\">Bills</a>,\n",
       " <a href=\"SenCommittees.asp?MemberID=2103\">Committees</a>,\n",
       " <a href=\"/senate/Senator.asp?GA=99&amp;MemberID=2279\">Laura M. Murphy</a>,\n",
       " <a href=\"SenatorBills.asp?MemberID=2279\">Bills</a>,\n",
       " <a href=\"SenCommittees.asp?MemberID=2279\">Committees</a>,\n",
       " <a href=\"/senate/Senator.asp?GA=99&amp;MemberID=2148\">Matt Murphy</a>,\n",
       " <a href=\"SenatorBills.asp?MemberID=2148\">Bills</a>,\n",
       " <a href=\"SenCommittees.asp?MemberID=2148\">Committees</a>,\n",
       " <a href=\"/senate/Senator.asp?GA=99&amp;MemberID=2147\">Michael Noland</a>,\n",
       " <a href=\"SenatorBills.asp?MemberID=2147\">Bills</a>,\n",
       " <a href=\"SenCommittees.asp?MemberID=2147\">Committees</a>,\n",
       " <a href=\"/senate/Senator.asp?GA=99&amp;MemberID=2256\">Chris Nybo</a>,\n",
       " <a href=\"SenatorBills.asp?MemberID=2256\">Bills</a>,\n",
       " <a href=\"SenCommittees.asp?MemberID=2256\">Committees</a>,\n",
       " <a href=\"/senate/Senator.asp?GA=99&amp;MemberID=2220\">Jim Oberweis</a>,\n",
       " <a href=\"SenatorBills.asp?MemberID=2220\">Bills</a>,\n",
       " <a href=\"SenCommittees.asp?MemberID=2220\">Committees</a>,\n",
       " <a href=\"/senate/Senator.asp?GA=99&amp;MemberID=2104\">Christine Radogno</a>,\n",
       " <a href=\"SenatorBills.asp?MemberID=2104\">Bills</a>,\n",
       " <a href=\"SenCommittees.asp?MemberID=2104\">Committees</a>,\n",
       " <a href=\"/senate/Senator.asp?GA=99&amp;MemberID=2135\">Kwame Raoul</a>,\n",
       " <a href=\"SenatorBills.asp?MemberID=2135\">Bills</a>,\n",
       " <a href=\"SenCommittees.asp?MemberID=2135\">Committees</a>,\n",
       " <a href=\"/senate/Senator.asp?GA=99&amp;MemberID=2182\">Sue Rezin</a>,\n",
       " <a href=\"SenatorBills.asp?MemberID=2182\">Bills</a>,\n",
       " <a href=\"SenCommittees.asp?MemberID=2182\">Committees</a>,\n",
       " <a href=\"/senate/Senator.asp?GA=99&amp;MemberID=2127\">Dale A. Righter</a>,\n",
       " <a href=\"SenatorBills.asp?MemberID=2127\">Bills</a>,\n",
       " <a href=\"SenCommittees.asp?MemberID=2127\">Committees</a>,\n",
       " <a href=\"/senate/Senator.asp?GA=99&amp;MemberID=2221\">Chapin Rose</a>,\n",
       " <a href=\"SenatorBills.asp?MemberID=2221\">Bills</a>,\n",
       " <a href=\"SenCommittees.asp?MemberID=2221\">Committees</a>,\n",
       " <a href=\"/senate/Senator.asp?GA=99&amp;MemberID=2122\">Martin A. Sandoval</a>,\n",
       " <a href=\"SenatorBills.asp?MemberID=2122\">Bills</a>,\n",
       " <a href=\"SenCommittees.asp?MemberID=2122\">Committees</a>,\n",
       " <a href=\"/senate/Senator.asp?GA=99&amp;MemberID=2105\">Ira I. Silverstein</a>,\n",
       " <a href=\"SenatorBills.asp?MemberID=2105\">Bills</a>,\n",
       " <a href=\"SenCommittees.asp?MemberID=2105\">Committees</a>,\n",
       " <a href=\"/senate/Senator.asp?GA=99&amp;MemberID=2222\">Steve Stadelman</a>,\n",
       " <a href=\"SenatorBills.asp?MemberID=2222\">Bills</a>,\n",
       " <a href=\"SenCommittees.asp?MemberID=2222\">Committees</a>,\n",
       " <a href=\"/senate/Senator.asp?GA=99&amp;MemberID=2159\">Heather A. Steans</a>,\n",
       " <a href=\"SenatorBills.asp?MemberID=2159\">Bills</a>,\n",
       " <a href=\"SenCommittees.asp?MemberID=2159\">Committees</a>,\n",
       " <a href=\"/senate/Senator.asp?GA=99&amp;MemberID=2126\">John M. Sullivan</a>,\n",
       " <a href=\"SenatorBills.asp?MemberID=2126\">Bills</a>,\n",
       " <a href=\"SenCommittees.asp?MemberID=2126\">Committees</a>,\n",
       " <a href=\"/senate/Senator.asp?GA=99&amp;MemberID=2106\">Dave Syverson</a>,\n",
       " <a href=\"SenatorBills.asp?MemberID=2106\">Bills</a>,\n",
       " <a href=\"SenCommittees.asp?MemberID=2106\">Committees</a>,\n",
       " <a href=\"/senate/Senator.asp?GA=99&amp;MemberID=2107\">Donne E. Trotter</a>,\n",
       " <a href=\"SenatorBills.asp?MemberID=2107\">Bills</a>,\n",
       " <a href=\"SenCommittees.asp?MemberID=2107\">Committees</a>,\n",
       " <a href=\"/senate/Senator.asp?GA=99&amp;MemberID=2223\">Patricia Van Pelt</a>,\n",
       " <a href=\"SenatorBills.asp?MemberID=2223\">Bills</a>,\n",
       " <a href=\"SenCommittees.asp?MemberID=2223\">Committees</a>,\n",
       " <a href=\"/senate/Senator.asp?GA=99&amp;MemberID=2280\">Chuck Weaver</a>,\n",
       " <a href=\"SenatorBills.asp?MemberID=2280\">Bills</a>,\n",
       " <a href=\"SenCommittees.asp?MemberID=2280\">Committees</a>,\n",
       " <a class=\"filetab\" href=\"javascript:Sort('','LastName',99);\" title=\"Sort by Senator\">Senator</a>,\n",
       " <a class=\"filetab\" href=\"javascript:Sort('','DistrictNumber',99);\" title=\"Sort by District\">District</a>,\n",
       " <a class=\"filetab\" href=\"javascript:Sort('','Party',99);\" title=\"Sort by Party\">Party</a>,\n",
       " <a href=\"/senate/Senator.asp?GA=99&amp;MemberID=2149\">Dan Kotowski</a>,\n",
       " <a href=\"SenatorBills.asp?MemberID=2149\">Bills</a>,\n",
       " <a href=\"SenCommittees.asp?MemberID=2149\">Committees</a>,\n",
       " <a href=\"/senate/Senator.asp?GA=99&amp;MemberID=2199\">Darin M. LaHood</a>,\n",
       " <a href=\"SenatorBills.asp?MemberID=2199\">Bills</a>,\n",
       " <a href=\"SenCommittees.asp?MemberID=2199\">Committees</a>,\n",
       " <a href=\"/reports/rptMemberList.asp?gaid=13&amp;ChamberId=S\" target=\"new\">click here</a>,\n",
       " <a class=\"footer\" href=\"/\" title=\"View the General Assembly web site home page\">Home</a>,\n",
       " <a class=\"footer\" href=\"/legislation/\" title=\"View Legislation and Laws\">Legislation &amp; Laws</a>,\n",
       " <a class=\"footer\" href=\"/house/default.asp\" title=\"View information regarding House of Representatives\">House</a>,\n",
       " <a class=\"footer\" href=\"/senate/default.asp\" title=\"View information regarding Senate\">Senate</a>,\n",
       " <a class=\"footer\" href=\"/mylegislation/default.asp\" title=\"Set up customized queries, create reports for tracking, etc.\">My Legislation</a>,\n",
       " <a class=\"footer\" href=\"/disclaimer.asp\" title=\"Disclaimers regarding the Illinois General Assembly web site\">Disclaimers</a>,\n",
       " <a class=\"footer\" href=\"/contact.asp\" title=\"Contact the Illinois General Assembly Web Support Staff\">Email</a>]"
      ]
     },
     "execution_count": 7,
     "metadata": {},
     "output_type": "execute_result"
    }
   ],
   "source": [
    "soup.find_all(\"a\")\n",
    "soup(\"a\")"
   ]
  },
  {
   "cell_type": "markdown",
   "metadata": {},
   "source": [
    "That's a lot! Many elements on a page will have the same html tag. For instance, if you search for everything with the `a` tag, you're likely to get a lot of stuff, much of which you don't want. What if we wanted to search for HTML tags ONLY with certain attributes, like particular CSS classes? \n",
    "\n",
    "We can do this by adding an additional argument to the `find_all`\n",
    "\n",
    "In the example below, we are finding all the `a` tags, and then filtering those with `class = \"sidemenu\"`."
   ]
  },
  {
   "cell_type": "code",
   "execution_count": 8,
   "metadata": {
    "collapsed": false
   },
   "outputs": [
    {
     "data": {
      "text/plain": [
       "[<a class=\"sidemenu\" href=\"/senate/default.asp\">  Members  </a>,\n",
       " <a class=\"sidemenu\" href=\"/senate/committees/default.asp\">  Committees  </a>,\n",
       " <a class=\"sidemenu\" href=\"/senate/schedules/default.asp\">  Schedules  </a>,\n",
       " <a class=\"sidemenu\" href=\"/senate/journals/default.asp\">  Journals  </a>,\n",
       " <a class=\"sidemenu\" href=\"/senate/transcripts/default.asp\">  Transcripts  </a>,\n",
       " <a class=\"sidemenu\" href=\"/senate/rules.asp\">  Rules  </a>,\n",
       " <a class=\"sidemenu\" href=\"/senate/audvid.asp\">  Live Audio/Video  </a>]"
      ]
     },
     "execution_count": 8,
     "metadata": {},
     "output_type": "execute_result"
    }
   ],
   "source": [
    "# Get only the 'a' tags in 'sidemenu' class\n",
    "soup(\"a\", class_=\"sidemenu\")"
   ]
  },
  {
   "cell_type": "markdown",
   "metadata": {},
   "source": [
    "Oftentimes a more efficient way to search and find things on a website is by **CSS selector.** For this we have to use a different method, `select()`. Just pass a string into the `.select()` to get all elements with that string as a valid CSS selector.\n",
    "\n",
    "In the example above, we can use \"a.sidemenu\" as a CSS selector, which returns all `a` tags with class `sidemenu`."
   ]
  },
  {
   "cell_type": "code",
   "execution_count": 10,
   "metadata": {
    "collapsed": false
   },
   "outputs": [
    {
     "data": {
      "text/plain": [
       "[<a class=\"sidemenu\" href=\"/senate/default.asp\">  Members  </a>,\n",
       " <a class=\"sidemenu\" href=\"/senate/committees/default.asp\">  Committees  </a>,\n",
       " <a class=\"sidemenu\" href=\"/senate/schedules/default.asp\">  Schedules  </a>,\n",
       " <a class=\"sidemenu\" href=\"/senate/journals/default.asp\">  Journals  </a>,\n",
       " <a class=\"sidemenu\" href=\"/senate/transcripts/default.asp\">  Transcripts  </a>,\n",
       " <a class=\"sidemenu\" href=\"/senate/rules.asp\">  Rules  </a>,\n",
       " <a class=\"sidemenu\" href=\"/senate/audvid.asp\">  Live Audio/Video  </a>]"
      ]
     },
     "execution_count": 10,
     "metadata": {},
     "output_type": "execute_result"
    }
   ],
   "source": [
    "# get elements with \"a.sidemenu\" CSS Selector.\n",
    "# shortcut\n",
    "soup.select(\"a.sidemenu\")\n",
    "soup.select(\".sidemenu a\")"
   ]
  },
  {
   "cell_type": "code",
   "execution_count": 14,
   "metadata": {
    "collapsed": false
   },
   "outputs": [
    {
     "name": "stdout",
     "output_type": "stream",
     "text": [
      "<a class=\"sidemenu\" href=\"/senate/default.asp\">  Members  </a>\n"
     ]
    }
   ],
   "source": [
    "# this is a list\n",
    "soup.select(\"a.sidemenu\")\n",
    "\n",
    "# we first want to get an individual tag object\n",
    "first_link = soup.select(\"a.sidemenu\")[0]\n",
    "\n",
    "# check out its class\n",
    "type(first_link)\n",
    "print(first_link)"
   ]
  },
  {
   "cell_type": "markdown",
   "metadata": {},
   "source": [
    "It's a tag! Which means it has a `text` member:"
   ]
  },
  {
   "cell_type": "code",
   "execution_count": 12,
   "metadata": {
    "collapsed": false
   },
   "outputs": [
    {
     "name": "stdout",
     "output_type": "stream",
     "text": [
      "  Members  \n"
     ]
    }
   ],
   "source": [
    "print first_link.text"
   ]
  },
  {
   "cell_type": "markdown",
   "metadata": {},
   "source": [
    "Sometimes we want the value of certain attributes. This is particularly relevant for `a` tags, or links, where the `href` attribute tells us where the link goes.\n",
    "\n",
    "You can access a tag’s attributes by treating the tag like a dictionary:"
   ]
  },
  {
   "cell_type": "code",
   "execution_count": 15,
   "metadata": {
    "collapsed": false
   },
   "outputs": [
    {
     "name": "stdout",
     "output_type": "stream",
     "text": [
      "/senate/default.asp\n"
     ]
    }
   ],
   "source": [
    "#URL that corresponds to the first link in the menu\n",
    "print first_link['href']"
   ]
  },
  {
   "cell_type": "code",
   "execution_count": 16,
   "metadata": {
    "collapsed": false
   },
   "outputs": [
    {
     "name": "stdout",
     "output_type": "stream",
     "text": [
      "/default.asp\n",
      "/\n",
      "/legislation/\n",
      "/senate/\n",
      "/house/\n",
      "/mylegislation/\n",
      "/sitemap.asp\n",
      "/senate/default.asp\n",
      "/senate/committees/default.asp\n",
      "/senate/schedules/default.asp\n"
     ]
    }
   ],
   "source": [
    "# Get just the href (url) attribute from the first 10 links\n",
    "for link in soup('a')[:10]:\n",
    "    print link['href']"
   ]
  },
  {
   "cell_type": "markdown",
   "metadata": {},
   "source": [
    "## Let's Do This.\n",
    "\n",
    "Believe it or not, that's all you need to scrape a website. Let's apply these skills to scrape http://www.ilga.gov/senate/default.asp\n",
    "\n",
    "First, make the get request"
   ]
  },
  {
   "cell_type": "code",
   "execution_count": 17,
   "metadata": {
    "collapsed": true
   },
   "outputs": [],
   "source": [
    "# make a GET request\n",
    "req = requests.get('http://www.ilga.gov/senate/default.asp')\n",
    "# read the content of the server’s response\n",
    "src = req.text\n",
    "# soup it\n",
    "soup = BeautifulSoup(src)"
   ]
  },
  {
   "cell_type": "markdown",
   "metadata": {},
   "source": [
    "Now let's try to get a list of rows in that table. Rows are identified by the `tr` tag."
   ]
  },
  {
   "cell_type": "code",
   "execution_count": 18,
   "metadata": {
    "collapsed": false
   },
   "outputs": [
    {
     "data": {
      "text/plain": [
       "81"
      ]
     },
     "execution_count": 18,
     "metadata": {},
     "output_type": "execute_result"
    }
   ],
   "source": [
    "# get all tr elements\n",
    "rows = soup.find_all(\"tr\")\n",
    "len(rows)"
   ]
  },
  {
   "cell_type": "markdown",
   "metadata": {},
   "source": [
    "But remember, `find_all` gets all the elements with the `tr` tag. We can use smart CSS selectors to get only the rows we want."
   ]
  },
  {
   "cell_type": "code",
   "execution_count": 23,
   "metadata": {
    "collapsed": false
   },
   "outputs": [
    {
     "name": "stdout",
     "output_type": "stream",
     "text": [
      "<tr>\n",
      " <td bgcolor=\"EBEBEB\" class=\"detail\" width=\"40%\">\n",
      "  <a href=\"/senate/Senator.asp?GA=99&amp;MemberID=2276\">\n",
      "   Scott M. Bennett\n",
      "  </a>\n",
      " </td>\n",
      " <td align=\"center\" bgcolor=\"EBEBEB\" class=\"detail\" width=\"15%\">\n",
      "  <a href=\"SenatorBills.asp?MemberID=2276\">\n",
      "   Bills\n",
      "  </a>\n",
      " </td>\n",
      " <td align=\"center\" bgcolor=\"EBEBEB\" class=\"detail\" width=\"15%\">\n",
      "  <a href=\"SenCommittees.asp?MemberID=2276\">\n",
      "   Committees\n",
      "  </a>\n",
      " </td>\n",
      " <td align=\"center\" bgcolor=\"EBEBEB\" class=\"detail\" width=\"15%\">\n",
      "  52\n",
      " </td>\n",
      " <td align=\"center\" bgcolor=\"EBEBEB\" class=\"detail\" width=\"15%\">\n",
      "  D\n",
      " </td>\n",
      "</tr>\n",
      "\n"
     ]
    }
   ],
   "source": [
    "# returns every ‘tr tr tr’ css selector in the page\n",
    "rows = soup.select('tr tr tr')\n",
    "print rows[5].prettify()"
   ]
  },
  {
   "cell_type": "markdown",
   "metadata": {},
   "source": [
    "We can use the `select` method on anything. Let's say we want to find everything with the CSS selector `td.detail` in an item of the list we created above."
   ]
  },
  {
   "cell_type": "code",
   "execution_count": 25,
   "metadata": {
    "collapsed": false,
    "scrolled": false
   },
   "outputs": [
    {
     "data": {
      "text/plain": [
       "[<td bgcolor=\"white\" class=\"detail\" width=\"40%\"><a href=\"/senate/Senator.asp?GA=99&amp;MemberID=2208\">Jason A. Barickman</a></td>,\n",
       " <td align=\"center\" bgcolor=\"white\" class=\"detail\" width=\"15%\"><a href=\"SenatorBills.asp?MemberID=2208\">Bills</a></td>,\n",
       " <td align=\"center\" bgcolor=\"white\" class=\"detail\" width=\"15%\"><a href=\"SenCommittees.asp?MemberID=2208\">Committees</a></td>,\n",
       " <td align=\"center\" bgcolor=\"white\" class=\"detail\" width=\"15%\">53</td>,\n",
       " <td align=\"center\" bgcolor=\"white\" class=\"detail\" width=\"15%\">R</td>]"
      ]
     },
     "execution_count": 25,
     "metadata": {},
     "output_type": "execute_result"
    }
   ],
   "source": [
    "# returns every ‘tr tr tr’ css selector in the page\n",
    "rows = soup.select('tr tr tr')\n",
    "\n",
    "# Look at just the third item\n",
    "row = rows[4]\n",
    "\n",
    "# select only those 'td' tags with class 'detail'\n",
    "detailCells = row.select('td.detail')\n",
    "\n",
    "detailCells"
   ]
  },
  {
   "cell_type": "markdown",
   "metadata": {},
   "source": [
    "Most of the time, we're interested in the actual **text** of a website, not its tags. Remember, to get the text of an HTML element, use the `text` member."
   ]
  },
  {
   "cell_type": "code",
   "execution_count": 28,
   "metadata": {
    "collapsed": false
   },
   "outputs": [
    {
     "name": "stdout",
     "output_type": "stream",
     "text": [
      "[u'Pamela J. Althoff', u'Bills', u'Committees', u'32', u'R']\n"
     ]
    }
   ],
   "source": [
    "# returns every ‘tr tr tr’ css selector in the page\n",
    "rows = soup.select('tr tr tr')\n",
    "\n",
    "# Look at just the third item\n",
    "row = rows[2]\n",
    "\n",
    "# select only those 'td' tags with class 'detail'\n",
    "detailCells = row.select('td.detail')\n",
    "\n",
    "# Keep only the text in each of those cells\n",
    "rowData = [cell.text for cell in detailCells]\n",
    "\n",
    "print rowData"
   ]
  },
  {
   "cell_type": "markdown",
   "metadata": {},
   "source": [
    "Now we can combine the beautifulsoup tools with our basic python skills to scrape an entire web page."
   ]
  },
  {
   "cell_type": "code",
   "execution_count": 38,
   "metadata": {
    "collapsed": false
   },
   "outputs": [
    {
     "name": "stdout",
     "output_type": "stream",
     "text": [
      "Pamela J. Althoff\n",
      "32\n",
      "R\n",
      "SenCommittees.asp?MemberID=2130\n"
     ]
    }
   ],
   "source": [
    "# returns every ‘tr tr tr’ css selector in the page\n",
    "rows = soup.select('tr tr tr')\n",
    "\n",
    "# Look at just the third item\n",
    "row = rows[2]\n",
    "\n",
    "# select only those 'td' tags with class 'detail'\n",
    "detailCells = row.select('td.detail')\n",
    "\n",
    "# Keep only the text in each of those cells\n",
    "rowData = [cell.text for cell in detailCells]\n",
    "\n",
    "# check em out\n",
    "print rowData[0] # Name\n",
    "print rowData[3] # district\n",
    "print rowData[4] # party\n",
    "\n",
    "print detailCells[2].a['href']"
   ]
  },
  {
   "cell_type": "markdown",
   "metadata": {},
   "source": [
    "Let's use a for loop to get 'em all!"
   ]
  },
  {
   "cell_type": "code",
   "execution_count": 40,
   "metadata": {
    "collapsed": false
   },
   "outputs": [
    {
     "data": {
      "text/plain": [
       "[(u'Pamela J. Althoff', 32, u'R', 'SenCommittees.asp?MemberID=2130'),\n",
       " (u'Neil Anderson', 36, u'R', 'SenCommittees.asp?MemberID=2275'),\n",
       " (u'Jason A. Barickman', 53, u'R', 'SenCommittees.asp?MemberID=2208'),\n",
       " (u'Scott M. Bennett', 52, u'D', 'SenCommittees.asp?MemberID=2276'),\n",
       " (u'Jennifer Bertino-Tarrant', 49, u'D', 'SenCommittees.asp?MemberID=2210'),\n",
       " (u'Daniel Biss', 9, u'D', 'SenCommittees.asp?MemberID=2209'),\n",
       " (u'Tim Bivins', 45, u'R', 'SenCommittees.asp?MemberID=2160'),\n",
       " (u'William E. Brady', 44, u'R', 'SenCommittees.asp?MemberID=2108'),\n",
       " (u'Melinda Bush', 31, u'D', 'SenCommittees.asp?MemberID=2211'),\n",
       " (u'James F. Clayborne, Jr.', 57, u'D', 'SenCommittees.asp?MemberID=2097'),\n",
       " (u'Jacqueline Y. Collins', 16, u'D', 'SenCommittees.asp?MemberID=2123'),\n",
       " (u'Michael Connelly', 21, u'R', 'SenCommittees.asp?MemberID=2212'),\n",
       " (u'John J. Cullerton', 6, u'D', 'SenCommittees.asp?MemberID=2098'),\n",
       " (u'Thomas Cullerton', 23, u'D', 'SenCommittees.asp?MemberID=2213'),\n",
       " (u'Bill Cunningham', 18, u'D', 'SenCommittees.asp?MemberID=2214'),\n",
       " (u'William Delgado', 2, u'D', 'SenCommittees.asp?MemberID=2144'),\n",
       " (u'Dan Duffy', 26, u'R', 'SenCommittees.asp?MemberID=2170'),\n",
       " (u'Gary Forby', 59, u'D', 'SenCommittees.asp?MemberID=2133'),\n",
       " (u'William R. Haine', 56, u'D', 'SenCommittees.asp?MemberID=2128'),\n",
       " (u'Don Harmon', 39, u'D', 'SenCommittees.asp?MemberID=2125'),\n",
       " (u'Napoleon Harris, III', 15, u'D', 'SenCommittees.asp?MemberID=2215'),\n",
       " (u'Michael E. Hastings', 19, u'D', 'SenCommittees.asp?MemberID=2216'),\n",
       " (u'Linda Holmes', 42, u'D', 'SenCommittees.asp?MemberID=2150'),\n",
       " (u'Mattie Hunter', 3, u'D', 'SenCommittees.asp?MemberID=2129'),\n",
       " (u'Toi W. Hutchinson', 40, u'D', 'SenCommittees.asp?MemberID=2171'),\n",
       " (u'Emil Jones, III', 14, u'D', 'SenCommittees.asp?MemberID=2173'),\n",
       " (u'David Koehler', 46, u'D', 'SenCommittees.asp?MemberID=2152'),\n",
       " (u'Steven M. Landek', 12, u'D', 'SenCommittees.asp?MemberID=2198'),\n",
       " (u'Kimberly A. Lightford', 4, u'D', 'SenCommittees.asp?MemberID=2100'),\n",
       " (u'Terry Link', 30, u'D', 'SenCommittees.asp?MemberID=2101'),\n",
       " (u'David S. Luechtefeld', 58, u'R', 'SenCommittees.asp?MemberID=2102'),\n",
       " (u'Andy Manar', 48, u'D', 'SenCommittees.asp?MemberID=2217'),\n",
       " (u'Iris Y. Martinez', 20, u'D', 'SenCommittees.asp?MemberID=2124'),\n",
       " (u'Wm. Sam McCann', 50, u'R', 'SenCommittees.asp?MemberID=2197'),\n",
       " (u'Kyle McCarter', 54, u'R', 'SenCommittees.asp?MemberID=2174'),\n",
       " (u'Karen McConnaughay', 33, u'R', 'SenCommittees.asp?MemberID=2218'),\n",
       " (u'Pat McGuire', 43, u'D', 'SenCommittees.asp?MemberID=2202'),\n",
       " (u'Julie A. Morrison', 29, u'D', 'SenCommittees.asp?MemberID=2219'),\n",
       " (u'John G. Mulroe', 10, u'D', 'SenCommittees.asp?MemberID=2180'),\n",
       " (u'Antonio Mu\\xf1oz', 1, u'D', 'SenCommittees.asp?MemberID=2103'),\n",
       " (u'Laura M. Murphy', 28, u'D', 'SenCommittees.asp?MemberID=2279'),\n",
       " (u'Matt Murphy', 27, u'R', 'SenCommittees.asp?MemberID=2148'),\n",
       " (u'Michael Noland', 22, u'D', 'SenCommittees.asp?MemberID=2147'),\n",
       " (u'Chris Nybo', 24, u'R', 'SenCommittees.asp?MemberID=2256'),\n",
       " (u'Jim Oberweis', 25, u'R', 'SenCommittees.asp?MemberID=2220'),\n",
       " (u'Christine Radogno', 41, u'R', 'SenCommittees.asp?MemberID=2104'),\n",
       " (u'Kwame Raoul', 13, u'D', 'SenCommittees.asp?MemberID=2135'),\n",
       " (u'Sue Rezin', 38, u'R', 'SenCommittees.asp?MemberID=2182'),\n",
       " (u'Dale A. Righter', 55, u'R', 'SenCommittees.asp?MemberID=2127'),\n",
       " (u'Chapin Rose', 51, u'R', 'SenCommittees.asp?MemberID=2221'),\n",
       " (u'Martin A. Sandoval', 11, u'D', 'SenCommittees.asp?MemberID=2122'),\n",
       " (u'Ira I. Silverstein', 8, u'D', 'SenCommittees.asp?MemberID=2105'),\n",
       " (u'Steve Stadelman', 34, u'D', 'SenCommittees.asp?MemberID=2222'),\n",
       " (u'Heather A. Steans', 7, u'D', 'SenCommittees.asp?MemberID=2159'),\n",
       " (u'John M. Sullivan', 47, u'D', 'SenCommittees.asp?MemberID=2126'),\n",
       " (u'Dave Syverson', 35, u'R', 'SenCommittees.asp?MemberID=2106'),\n",
       " (u'Donne E. Trotter', 17, u'D', 'SenCommittees.asp?MemberID=2107'),\n",
       " (u'Patricia Van Pelt', 5, u'D', 'SenCommittees.asp?MemberID=2223'),\n",
       " (u'Chuck Weaver', 37, u'R', 'SenCommittees.asp?MemberID=2280'),\n",
       " (u'Dan Kotowski', 28, u'D', 'SenCommittees.asp?MemberID=2149'),\n",
       " (u'Darin M. LaHood', 37, u'R', 'SenCommittees.asp?MemberID=2199')]"
      ]
     },
     "execution_count": 40,
     "metadata": {},
     "output_type": "execute_result"
    }
   ],
   "source": [
    "# Create empty list to store our data\n",
    "members = []\n",
    "\n",
    "# returns every ‘tr tr tr’ css selector in the page\n",
    "rows = soup.select('tr tr tr')\n",
    "\n",
    "# loop through all rows\n",
    "for row in rows:\n",
    "    # select only those 'td' tags with class 'detail'\n",
    "    detailCells = row.select('td.detail')\n",
    "    \n",
    "    # get rid of junk rows, skip rows that don't contain the five elements\n",
    "    if len(detailCells) is not 5: \n",
    "        continue\n",
    "        \n",
    "    # Keep only the text in each of those cells\n",
    "    rowData = [cell.text for cell in detailCells]\n",
    "    \n",
    "    # Collect information\n",
    "    name = rowData[0]\n",
    "    link = detailCells[2].a['href']\n",
    "    district = int(rowData[3])\n",
    "    party = rowData[4]\n",
    "    \n",
    "    # Store in a tuple\n",
    "    tup = (name,district,party,link)\n",
    "    \n",
    "    # Append to list\n",
    "    members.append(tup)\n",
    "    \n",
    "members"
   ]
  },
  {
   "cell_type": "markdown",
   "metadata": {},
   "source": [
    "### Challenge 1\n",
    "\n",
    "Make a function that accepts a URL, scrapes the URL for its senators, and returns a list of tuples containing information about each senator. "
   ]
  },
  {
   "cell_type": "code",
   "execution_count": 46,
   "metadata": {
    "collapsed": false
   },
   "outputs": [],
   "source": [
    "def get_members(url):\n",
    "    # make a GET request\n",
    "    req = requests.get(url)\n",
    "    # read the content of the server’s response\n",
    "    src = req.text\n",
    "    # soup it\n",
    "    soup = BeautifulSoup(src)\n",
    "    members = []\n",
    "\n",
    "    # returns every ‘tr tr tr’ css selector in the page\n",
    "    rows = soup.select('tr tr tr')\n",
    "\n",
    "    # loop through all rows\n",
    "    for row in rows:\n",
    "        # select only those 'td' tags with class 'detail'\n",
    "        detailCells = row.select('td.detail')\n",
    "\n",
    "        # get rid of junk rows, skip rows that don't contain the five elements\n",
    "        if len(detailCells) is not 5: \n",
    "            continue\n",
    "\n",
    "        # Keep only the text in each of those cells\n",
    "        rowData = [cell.text for cell in detailCells]\n",
    "\n",
    "        # Collect information\n",
    "        name = rowData[0]\n",
    "        link = detailCells[2].a['href']\n",
    "        district = int(rowData[3])\n",
    "        party = rowData[4]\n",
    "        # Store in a tuple\n",
    "        tup = (name,district,party,link)\n",
    "\n",
    "        # Append to list\n",
    "        members.append(tup)\n",
    "\n",
    "    return members  "
   ]
  },
  {
   "cell_type": "code",
   "execution_count": 47,
   "metadata": {
    "collapsed": false
   },
   "outputs": [
    {
     "data": {
      "text/plain": [
       "(u'Neil Anderson', 36, u'R', 'SenCommittees.asp?MemberID=2275')"
      ]
     },
     "execution_count": 47,
     "metadata": {},
     "output_type": "execute_result"
    }
   ],
   "source": [
    "get_members('http://www.ilga.gov/senate/default.asp')[1]"
   ]
  },
  {
   "cell_type": "markdown",
   "metadata": {
    "collapsed": true
   },
   "source": [
    "### Challenge 2\n",
    "\n",
    "Given the `senateMembers`  list, create a new dictionary `members_dict` which has as its keys the district number (e.g. ` 32`) and as its values, the entire tuple as returned by `get_members()` (name, district number, party, url). We can do this because the district number is a unique identifier for each senator.\n",
    "\n",
    "Calling `members_dict[32]`, for example, should return the 4-tuple:\n",
    "\n",
    "```(u'Pamela J. Althoff',\n",
    "32,\n",
    "u'R',\n",
    "'http://www.ilga.gov/senate/SenatorBills.asp?GA=98&MemberID=1911&Primary=True')\n",
    "```."
   ]
  },
  {
   "cell_type": "code",
   "execution_count": 155,
   "metadata": {
    "collapsed": true
   },
   "outputs": [],
   "source": [
    "# YOUR CODE HERE"
   ]
  },
  {
   "cell_type": "code",
   "execution_count": null,
   "metadata": {
    "collapsed": true
   },
   "outputs": [],
   "source": []
  }
 ],
 "metadata": {
  "kernelspec": {
   "display_name": "Python 2",
   "language": "python",
   "name": "python2"
  },
  "language_info": {
   "codemirror_mode": {
    "name": "ipython",
    "version": 2
   },
   "file_extension": ".py",
   "mimetype": "text/x-python",
   "name": "python",
   "nbconvert_exporter": "python",
   "pygments_lexer": "ipython2",
   "version": "2.7.10"
  }
 },
 "nbformat": 4,
 "nbformat_minor": 0
}
