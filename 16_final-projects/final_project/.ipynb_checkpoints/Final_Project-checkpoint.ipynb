{
 "cells": [
  {
   "cell_type": "markdown",
   "metadata": {},
   "source": [
    "## The Task:\n",
    "\n",
    "Scrape Instagram to get geolocations of where current users of Lake Merritt take photos and the content of the photos (if they are public) to understand what users of the park care about and look for in an urban park as part of the ongoing research as I develop design strategy to deal with Sea Level Rise issue at Lake Merrritt.  \n"
   ]
  },
  {
   "cell_type": "code",
   "execution_count": 30,
   "metadata": {
    "collapsed": false
   },
   "outputs": [
    {
     "name": "stdout",
     "output_type": "stream",
     "text": [
      "Length of All Media IDS: 73\n",
      "media_with_location\n",
      "[('1022203687264871862_913245280', '37.782580261', '-122.21532139', 'https://scontent.cdninstagram.com/hphotos-xaf1/t50.2886-16/11723892_908448552564991_636535954_n.mp4'), ('920625456882307349_38347483', '37.804414291', '-122.251496774', 'https://scontent.cdninstagram.com/hphotos-xpa1/t51.2885-15/e15/924756_412596178887551_2004166462_n.jpg'), ('877240390495123453_242151420', '37.80737242', '-122.254306971', 'https://scontent.cdninstagram.com/hphotos-xpa1/t51.2885-15/e15/927738_751654308260433_880924362_n.jpg'), ('864490978064204376_10985767', '37.80688791', '-122.258809658', 'https://scontent.cdninstagram.com/hphotos-xpa1/t51.2885-15/e15/924055_1523219964607110_1900805353_n.jpg'), ('817814980139470520_49708378', '37.799116119', '-122.258911085', 'https://scontent.cdninstagram.com/hphotos-xpf1/t51.2885-15/e15/10522790_448992538577149_1778692219_n.jpg'), ('742862633002919198_481965824', '37.805536344', '-122.254301678', 'https://scontent.cdninstagram.com/hphotos-ash/t50.2886-16/10472465_1435626623377172_669011699_n.mp4'), ('742784722497496256_481965824', '37.805536344', '-122.254301678', 'https://scontent.cdninstagram.com/hphotos-ash/t51.2885-15/e15/10467700_1413318752289124_1571403272_n.jpg'), ('742752117412652246_481965824', '37.805536344', '-122.254301678', 'https://scontent.cdninstagram.com/hphotos-xfp1/t51.2885-15/e15/914364_1433865943542357_581261792_n.jpg'), ('742730411696514729_481965824', '37.805536344', '-122.254301678', 'https://scontent.cdninstagram.com/hphotos-xaf1/t51.2885-15/e15/10375594_724222190950516_2015127789_n.jpg'), ('742722061206349248_481965824', '37.805536344', '-122.254301678', 'https://scontent.cdninstagram.com/hphotos-xfp1/t51.2885-15/e15/10471849_1419596931655546_130645601_n.jpg'), ('742706914769298520_481965824', '37.805536344', '-122.254301678', 'https://scontent.cdninstagram.com/hphotos-xaf1/t51.2885-15/e15/927075_293395444168352_1331455806_n.jpg'), ('712656359991332343_49708378', '37.799543', '-122.244413', 'https://scontent.cdninstagram.com/hphotos-frc/t51.2885-15/e15/10296965_780129878672477_1022768078_n.jpg'), ('712655491728461280_49708378', '37.799543', '-122.244413', 'https://scontent.cdninstagram.com/hphotos-xtp1/t51.2885-15/e15/917434_1447323335512286_585787236_n.jpg'), ('712654451515903439_49708378', '37.799543', '-122.244413', 'https://scontent.cdninstagram.com/hphotos-frc/t51.2885-15/e15/10254213_1476017082615882_1308092501_n.jpg'), ('687833598054845142_411572257', '45.559406667', '10.630482137', 'https://scontent.cdninstagram.com/hphotos-frc/t51.2885-15/e15/1737473_670597863001705_1443361497_n.jpg'), ('680097458092893274_124472', '37.805536344', '-122.254301678', 'https://scontent.cdninstagram.com/hphotos-xta1/t51.2885-15/e15/12139760_1666380946909164_2080453342_n.jpg'), ('666949183759385533_962738519', '37.802408402', '-122.254463056', 'https://scontent.cdninstagram.com/hphotos-xfa1/t51.2885-15/e15/11357444_868330829881466_351425076_n.jpg')]\n",
      "17\n",
      "-122.21532139\n"
     ]
    }
   ],
   "source": [
    "#THESE ARE PUBLIC PHOTOES TAGGED WITH 'LAKE_MERRITT'\n",
    "\n",
    "from instagram.client import InstagramAPI\n",
    "from random import randint\n",
    "import sys\n",
    "import time\n",
    "from collections import OrderedDict\n",
    "\n",
    "client_id = 'b5d78f65c2b94e74ac6363d8f2f7bcbd'\n",
    "client_secret = '6e00cda85eca47b281af4aa88275c5de'\n",
    "access_token = '19594423.1677ed0.d298d661a5dd4587becb8a83b3cca787'\n",
    "client_ip = '73.189.135.127'\n",
    "\n",
    "#client_id=client_id, client_secret=client_secret, redirect_uri=redirect_uri\n",
    "\n",
    "api = InstagramAPI(client_id=client_id, client_secret=client_secret, client_ips= client_ip,access_token= access_token) \n",
    "\n",
    "media_with_location=[]\n",
    "all_media_ids = []\n",
    "\n",
    "media_ids,next = api.tag_recent_media(tag_name='lake_merritt', count=300)\n",
    "temp,max_tag=next.split('max_tag_id=')\n",
    "max_tag=str(max_tag)\n",
    "\n",
    "position_tuple = ()\n",
    "\n",
    "for media_id in media_ids:\n",
    "\tall_media_ids.append(media_id.id)\n",
    "\t#some media_ids don't have location assoicated with them... this maybe a hacky way of doing it, but it works\n",
    "\tif \"location\" in dir(media_id):\n",
    "\t\t#you can do it this way if that is the way you want your information, I did it using Tuples to have your data more organized and easir to access once its VERY large. \n",
    "\t\t#position = str(media_id.id) + \",\" + str(media_id.location.point.latitude) + ',' + str(media_id.location.point.longitude) + ';' + str(media_id.get_standard_resolution_url())\n",
    "\n",
    "\t\t# i found that some of the data doesn't have a full location ... so this just to check for that case. \n",
    "\t\tif (\"point\" in dir(media_id.location)) and (\"latitude\" in dir(media_id.location.point)) and (\"longitude\" in dir(media_id.location.point)):\n",
    "\t\t\tposition_tuple=(str(media_id.id),str(media_id.location.point.latitude),str(media_id.location.point.longitude),str(media_id.get_standard_resolution_url()))\n",
    "\t\t\tmedia_with_location.append(position_tuple)\n",
    "\n",
    "counter = 1\n",
    "while next and counter < 3 :\n",
    "\tmore_media, next = api.tag_recent_media(tag_name='lake_merritt', max_tag_id=max_tag)\n",
    "\ttemp,max_tag=next.split('max_tag_id=')\n",
    "\tmax_tag=str(max_tag)\n",
    "\tfor media_id in more_media:\n",
    "\t\tall_media_ids.append(media_id.id)\n",
    "\t\t#some media_ids don't have location assoicated with them... this maybe a hacky way of doing it, but it works\n",
    "\t\tif \"location\" in dir(media_id):\n",
    "\t\t\t#you can do it this way if that is the way you want your information, I did it using a \"list of tuples\" to have your data more organized and easir to access once its VERY large. \n",
    "\t\t\t#position = str(media_id.id) + \",\" + str(media_id.location.point.latitude) + ',' + str(media_id.location.point.longitude) + ';' + str(media_id.get_standard_resolution_url())\n",
    "\n",
    "\t\t\t# i found that some of the data doesn't have a full location ... so this just to check for that case. \n",
    "\t\t\tif (\"point\" in dir(media_id.location)) and (\"latitude\" in dir(media_id.location.point)) and (\"longitude\" in dir(media_id.location.point)):\n",
    "\t\t\t\tposition_tuple=(str(media_id.id),str(media_id.location.point.latitude),str(media_id.location.point.longitude),str(media_id.get_standard_resolution_url()))\n",
    "\t\t\t\tmedia_with_location.append(position_tuple)\n",
    "\tcounter+=1\n",
    "\n",
    "\n",
    "\n",
    "#delete duplicates just incase...\n",
    "media_with_location=list(OrderedDict.fromkeys(media_with_location))\n",
    "all_media_ids=list(OrderedDict.fromkeys(all_media_ids))\n",
    "\n",
    "#check length of all media ids to make sure pagination is working\n",
    "print \"Length of All Media IDS:\", len(all_media_ids)\n",
    "\n",
    "#some prints to validate your information\n",
    "print \"media_with_location\"\n",
    "print media_with_location\n",
    "print len(media_with_location)\n",
    "\n",
    "#this is how to access a member within the list\n",
    "print media_with_location[0][2]"
   ]
  },
  {
   "cell_type": "code",
   "execution_count": 35,
   "metadata": {
    "collapsed": false
   },
   "outputs": [
    {
     "ename": "NameError",
     "evalue": "name 'webdriver' is not defined",
     "output_type": "error",
     "traceback": [
      "\u001b[0;31m---------------------------------------------------------------------------\u001b[0m",
      "\u001b[0;31mNameError\u001b[0m                                 Traceback (most recent call last)",
      "\u001b[0;32m<ipython-input-35-b820590833c6>\u001b[0m in \u001b[0;36m<module>\u001b[0;34m()\u001b[0m\n\u001b[1;32m      1\u001b[0m \u001b[0;32mfrom\u001b[0m \u001b[0mbs4\u001b[0m \u001b[0;32mimport\u001b[0m \u001b[0mBeautifulSoup\u001b[0m\u001b[0;34m\u001b[0m\u001b[0m\n\u001b[0;32m----> 2\u001b[0;31m \u001b[0mdriver\u001b[0m \u001b[0;34m=\u001b[0m \u001b[0mwebdriver\u001b[0m\u001b[0;34m.\u001b[0m\u001b[0mFirefox\u001b[0m\u001b[0;34m(\u001b[0m\u001b[0;34m)\u001b[0m\u001b[0;34m\u001b[0m\u001b[0m\n\u001b[0m\u001b[1;32m      3\u001b[0m \u001b[0mdriver\u001b[0m\u001b[0;34m.\u001b[0m\u001b[0mget\u001b[0m\u001b[0;34m(\u001b[0m\u001b[0murl\u001b[0m\u001b[0;34m)\u001b[0m\u001b[0;34m\u001b[0m\u001b[0m\n\u001b[1;32m      4\u001b[0m \u001b[0msource\u001b[0m \u001b[0;34m=\u001b[0m \u001b[0mBeautifulSoup\u001b[0m\u001b[0;34m(\u001b[0m\u001b[0mdriver\u001b[0m\u001b[0;34m.\u001b[0m\u001b[0mpage_source\u001b[0m\u001b[0;34m)\u001b[0m\u001b[0;34m\u001b[0m\u001b[0m\n",
      "\u001b[0;31mNameError\u001b[0m: name 'webdriver' is not defined"
     ]
    }
   ],
   "source": [
    "from bs4 import BeautifulSoup\n",
    "driver = webdriver.Firefox()\n",
    "driver.get(url)\n",
    "source = BeautifulSoup(driver.page_source)"
   ]
  },
  {
   "cell_type": "code",
   "execution_count": null,
   "metadata": {
    "collapsed": true
   },
   "outputs": [],
   "source": []
  },
  {
   "cell_type": "code",
   "execution_count": null,
   "metadata": {
    "collapsed": true
   },
   "outputs": [],
   "source": []
  },
  {
   "cell_type": "code",
   "execution_count": null,
   "metadata": {
    "collapsed": true
   },
   "outputs": [],
   "source": []
  },
  {
   "cell_type": "code",
   "execution_count": null,
   "metadata": {
    "collapsed": true
   },
   "outputs": [],
   "source": []
  },
  {
   "cell_type": "code",
   "execution_count": 31,
   "metadata": {
    "collapsed": false
   },
   "outputs": [
    {
     "name": "stdout",
     "output_type": "stream",
     "text": [
      "Length of All Media IDS: 73\n",
      "media_with_location\n",
      "[('1136774877628166401_1536883', '37.803198381', '-122.26849859', 'https://scontent.cdninstagram.com/hphotos-xft1/t51.2885-15/s640x640/sh0.08/e35/12338911_1034883256564575_1457291938_n.jpg'), ('1136740915059391794_11209382', '37.8039', '-122.2591', 'https://scontent.cdninstagram.com/hphotos-xtf1/t51.2885-15/s640x640/sh0.08/e35/12357592_512690035557202_259136724_n.jpg'), ('1136686432120530316_481965824', '37.8044', '-122.271', 'https://scontent.cdninstagram.com/hphotos-xfp1/t51.2885-15/s640x640/sh0.08/e35/12354112_518850258277491_519342054_n.jpg'), ('1136665935009548233_1556740512', '37.822', '-122.231', 'https://scontent.cdninstagram.com/hphotos-xat1/t51.2885-15/s640x640/sh0.08/e35/12353343_572704096214994_97278221_n.jpg'), ('1136664762613747003_144539850', '37.805536344', '-122.254301678', 'https://scontent.cdninstagram.com/hphotos-xtf1/t51.2885-15/s640x640/sh0.08/e35/12354075_201336726869495_306894063_n.jpg'), ('1136630087502324400_47431591', '37.8009605', '-122.274231', 'https://scontent.cdninstagram.com/hphotos-xta1/t51.2885-15/s640x640/sh0.08/e35/11264814_1487113991596945_699534892_n.jpg'), ('1136629651261863832_2033817284', '37.8039', '-122.2591', 'https://scontent.cdninstagram.com/hphotos-xtf1/t51.2885-15/s640x640/sh0.08/e35/12301238_1250330908326868_347363005_n.jpg'), ('1136615185645123569_36388148', '37.805536344', '-122.254301678', 'https://scontent.cdninstagram.com/hphotos-xfa1/t51.2885-15/s640x640/sh0.08/e35/12362071_802545089868976_1164667297_n.jpg'), ('1136586489071684171_1821747065', '37.805536344', '-122.254301678', 'https://scontent.cdninstagram.com/hphotos-xfa1/t51.2885-15/s640x640/sh0.08/e35/12362241_553050821518572_423351760_n.jpg'), ('1136574131270327446_1648069358', '37.8039', '-122.2591', 'https://scontent.cdninstagram.com/hphotos-xfa1/t51.2885-15/s640x640/sh0.08/e35/12353812_1704603366453603_777661255_n.jpg'), ('1136547000051269651_2236291503', '37.809049435', '-122.258073875', 'https://scontent.cdninstagram.com/hphotos-xfp1/t51.2885-15/s640x640/sh0.08/e35/12357350_1645462639054332_1499849771_n.jpg'), ('1136526391819628017_261869346', '37.805536344', '-122.254301678', 'https://scontent.cdninstagram.com/hphotos-xtf1/t51.2885-15/s640x640/sh0.08/e35/12317450_1741382162749371_1519381328_n.jpg'), ('1136520041533093719_36388148', '37.802250065', '-122.261360178', 'https://scontent.cdninstagram.com/hphotos-xtp1/t51.2885-15/s640x640/sh0.08/e35/12331883_1535328013453073_1119209762_n.jpg'), ('1136485633097075345_186381409', '37.808789437', '-122.249825919', 'https://scontent.cdninstagram.com/hphotos-xfa1/t50.2886-16/12352710_1531017283881572_717991344_n.mp4'), ('1136483000793229054_481965824', '37.8044', '-122.271', 'https://scontent.cdninstagram.com/hphotos-xtp1/t51.2885-15/s640x640/sh0.08/e35/12317852_568636366620937_563873656_n.jpg'), ('1136471444746878448_43680206', '37.8039', '-122.2591', 'https://scontent.cdninstagram.com/hphotos-xtp1/t51.2885-15/s640x640/sh0.08/e35/12317527_980011788724788_874714236_n.jpg'), ('1136387654905307491_19594423', '37.87070307', '-122.254935582', 'https://scontent.cdninstagram.com/hphotos-xaf1/t51.2885-15/s640x640/sh0.08/e35/12357862_1660952694157635_627859220_n.jpg'), ('1136382456230990312_31172195', '37.8044', '-122.271', 'https://scontent.cdninstagram.com/hphotos-xtf1/t51.2885-15/s640x640/sh0.08/e35/12357387_195415067464169_1962595634_n.jpg'), ('1136306529194927452_1987851976', '37.805536344', '-122.254301678', 'https://scontent.cdninstagram.com/hphotos-xft1/t51.2885-15/s640x640/sh0.08/e35/12328333_514756562033104_566684747_n.jpg'), ('1136295800323109060_2243045443', '37.805167969', '-122.257595129', 'https://scontent.cdninstagram.com/hphotos-xta1/t51.2885-15/s640x640/sh0.08/e35/12331792_933009910126218_237406557_n.jpg'), ('1136083454608469302_806402234', '37.8039', '-122.2591', 'https://scontent.cdninstagram.com/hphotos-xfa1/t51.2885-15/s640x640/sh0.08/e35/12362621_886069588173785_284559288_n.jpg'), ('1136043085170847778_16327411', '37.805536344', '-122.254301678', 'https://scontent.cdninstagram.com/hphotos-xpa1/t51.2885-15/s640x640/sh0.08/e35/12317481_479137552257071_897945719_n.jpg'), ('1135978459639304149_144539850', '37.805536344', '-122.254301678', 'https://scontent.cdninstagram.com/hphotos-xpt1/t51.2885-15/s640x640/sh0.08/e35/12357729_500946633416931_1869841823_n.jpg'), ('1135846225053295395_19594423', '37.87070307', '-122.254935582', 'https://scontent.cdninstagram.com/hphotos-xap1/t51.2885-15/s640x640/sh0.08/e35/12357311_465378783670380_2140068415_n.jpg'), ('1135827569590929460_198526025', '37.8041', '-122.2726', 'https://scontent.cdninstagram.com/hphotos-xfp1/t51.2885-15/s640x640/sh0.08/e35/12331332_1733484800221606_982210132_n.jpg'), ('1135818392396269193_1021972208', '37.805536344', '-122.254301678', 'https://scontent.cdninstagram.com/hphotos-xfa1/t51.2885-15/s640x640/sh0.08/e35/12345760_484588611724821_2054955319_n.jpg'), ('1135718676570039109_8578831', '37.805536344', '-122.254301678', 'https://scontent.cdninstagram.com/hphotos-xpf1/t51.2885-15/s640x640/sh0.08/e35/12353306_813573908788329_1708423089_n.jpg'), ('1135713731398481581_2018150652', '37.808854581', '-122.250552121', 'https://scontent.cdninstagram.com/hphotos-xfa1/t51.2885-15/s640x640/sh0.08/e35/12357290_1065357833495953_95018809_n.jpg'), ('1135709931732520822_13964914', '37.805536344', '-122.254301678', 'https://scontent.cdninstagram.com/hphotos-xpt1/t51.2885-15/s640x640/sh0.08/e35/12346227_1051012184919021_514800709_n.jpg'), ('1135697340354868366_319438404', '37.805536344', '-122.254301678', 'https://scontent.cdninstagram.com/hphotos-xaf1/t51.2885-15/s640x640/sh0.08/e35/12356434_1645814555692009_259152962_n.jpg'), ('1135696139953478398_1682593429', '37.805536344', '-122.254301678', 'https://scontent.cdninstagram.com/hphotos-xtp1/t51.2885-15/s640x640/sh0.08/e35/12298875_770452766392483_616505014_n.jpg'), ('1135660208987624301_8899147', '37.813168889', '-122.251572355', 'https://scontent.cdninstagram.com/hphotos-xap1/t51.2885-15/s640x640/sh0.08/e35/12346067_774331969339229_663466579_n.jpg'), ('1135630997175343934_43875965', '37.805536344', '-122.254301678', 'https://scontent.cdninstagram.com/hphotos-xtp1/t51.2885-15/s640x640/sh0.08/e35/12301421_895839577130854_878538755_n.jpg'), ('1135626712864513813_1981803830', '37.870071115', '-122.26006291', 'https://scontent.cdninstagram.com/hphotos-xpf1/t50.2886-16/12344586_1641779749416028_1519113973_n.mp4'), ('1135613583356126991_481965824', '37.8044', '-122.271', 'https://scontent.cdninstagram.com/hphotos-xap1/t51.2885-15/s640x640/sh0.08/e35/12331389_1646667188939956_20194054_n.jpg'), ('1135431655279139360_1423237405', '37.8094788', '-122.2501221', 'https://scontent.cdninstagram.com/hphotos-xfa1/t51.2885-15/s640x640/sh0.08/e35/12357650_100180313688713_1967480796_n.jpg'), ('1135301496745856423_196240098', '37.805536344', '-122.254301678', 'https://scontent.cdninstagram.com/hphotos-xaf1/t51.2885-15/s640x640/sh0.08/e35/12357702_210014345998462_793958711_n.jpg'), ('1135274377064922349_1474545942', '37.805536344', '-122.254301678', 'https://scontent.cdninstagram.com/hphotos-xtp1/t51.2885-15/e35/12338450_726373127464936_1151460300_n.jpg')]\n",
      "38\n",
      "-122.26849859\n"
     ]
    }
   ],
   "source": [
    "#THESE ARE PUBLIC PHOTOES TAGGED WITH 'lakemerritt'\n",
    "\n",
    "from instagram.client import InstagramAPI\n",
    "from random import randint\n",
    "import sys\n",
    "import time\n",
    "from collections import OrderedDict\n",
    "\n",
    "client_id = 'b5d78f65c2b94e74ac6363d8f2f7bcbd'\n",
    "client_secret = '6e00cda85eca47b281af4aa88275c5de'\n",
    "access_token = '19594423.1677ed0.d298d661a5dd4587becb8a83b3cca787'\n",
    "client_ip = '73.189.135.127'\n",
    "\n",
    "#client_id=client_id, client_secret=client_secret, redirect_uri=redirect_uri\n",
    "\n",
    "api = InstagramAPI(client_id=client_id, client_secret=client_secret, client_ips= client_ip,access_token= access_token) \n",
    "\n",
    "media_with_location=[]\n",
    "all_media_ids = []\n",
    "\n",
    "media_ids,next = api.tag_recent_media(tag_name='lakemerritt', count=300)\n",
    "temp,max_tag=next.split('max_tag_id=')\n",
    "max_tag=str(max_tag)\n",
    "\n",
    "position_tuple = ()\n",
    "\n",
    "for media_id in media_ids:\n",
    "\tall_media_ids.append(media_id.id)\n",
    "\t#some media_ids don't have location assoicated with them... this maybe a hacky way of doing it, but it works\n",
    "\tif \"location\" in dir(media_id):\n",
    "\t\t#you can do it this way if that is the way you want your information, I did it using Tuples to have your data more organized and easir to access once its VERY large. \n",
    "\t\t#position = str(media_id.id) + \",\" + str(media_id.location.point.latitude) + ',' + str(media_id.location.point.longitude) + ';' + str(media_id.get_standard_resolution_url())\n",
    "\n",
    "\t\t# i found that some of the data doesn't have a full location ... so this just to check for that case. \n",
    "\t\tif (\"point\" in dir(media_id.location)) and (\"latitude\" in dir(media_id.location.point)) and (\"longitude\" in dir(media_id.location.point)):\n",
    "\t\t\tposition_tuple=(str(media_id.id),str(media_id.location.point.latitude),str(media_id.location.point.longitude),str(media_id.get_standard_resolution_url()))\n",
    "\t\t\tmedia_with_location.append(position_tuple)\n",
    "\n",
    "counter = 1\n",
    "while next and counter < 3 :\n",
    "\tmore_media, next = api.tag_recent_media(tag_name='lakemerritt', max_tag_id=max_tag)\n",
    "\ttemp,max_tag=next.split('max_tag_id=')\n",
    "\tmax_tag=str(max_tag)\n",
    "\tfor media_id in more_media:\n",
    "\t\tall_media_ids.append(media_id.id)\n",
    "\t\t#some media_ids don't have location assoicated with them... this maybe a hacky way of doing it, but it works\n",
    "\t\tif \"location\" in dir(media_id):\n",
    "\t\t\t#you can do it this way if that is the way you want your information, I did it using a \"list of tuples\" to have your data more organized and easir to access once its VERY large. \n",
    "\t\t\t#position = str(media_id.id) + \",\" + str(media_id.location.point.latitude) + ',' + str(media_id.location.point.longitude) + ';' + str(media_id.get_standard_resolution_url())\n",
    "\n",
    "\t\t\t# i found that some of the data doesn't have a full location ... so this just to check for that case. \n",
    "\t\t\tif (\"point\" in dir(media_id.location)) and (\"latitude\" in dir(media_id.location.point)) and (\"longitude\" in dir(media_id.location.point)):\n",
    "\t\t\t\tposition_tuple=(str(media_id.id),str(media_id.location.point.latitude),str(media_id.location.point.longitude),str(media_id.get_standard_resolution_url()))\n",
    "\t\t\t\tmedia_with_location.append(position_tuple)\n",
    "\tcounter+=1\n",
    "\n",
    "\n",
    "\n",
    "#delete duplicates just incase...\n",
    "media_with_location=list(OrderedDict.fromkeys(media_with_location))\n",
    "all_media_ids=list(OrderedDict.fromkeys(all_media_ids))\n",
    "\n",
    "#check length of all media ids to make sure pagination is working\n",
    "print \"Length of All Media IDS:\", len(all_media_ids)\n",
    "\n",
    "#some prints to validate your information\n",
    "print \"media_with_location\"\n",
    "print media_with_location\n",
    "print len(media_with_location)\n",
    "\n",
    "#this is how to access a member within the list\n",
    "print media_with_location[0][2]"
   ]
  },
  {
   "cell_type": "code",
   "execution_count": null,
   "metadata": {
    "collapsed": true
   },
   "outputs": [],
   "source": []
  },
  {
   "cell_type": "code",
   "execution_count": null,
   "metadata": {
    "collapsed": true
   },
   "outputs": [],
   "source": []
  },
  {
   "cell_type": "code",
   "execution_count": 59,
   "metadata": {
    "collapsed": true
   },
   "outputs": [],
   "source": [
    "import csv\n",
    "\n",
    "data=media_with_location\n",
    "\n",
    "with open('lake_merritt.csv','w') as out:\n",
    "    csv_out=csv.writer(out)\n",
    "    csv_out.writerow(['instaID','lat','long','URL'])\n",
    "    for row in data:\n",
    "        csv_out.writerow(row)"
   ]
  },
  {
   "cell_type": "markdown",
   "metadata": {},
   "source": [
    "## Step 1: Make a Get Request and Read in HTML\n",
    "\n",
    "We use `requests` library to:\n",
    "1. make a GET request to the page\n",
    "2. read in the html of the page"
   ]
  },
  {
   "cell_type": "code",
   "execution_count": 7,
   "metadata": {
    "collapsed": false
   },
   "outputs": [],
   "source": [
    "import requests\n",
    "from bs4 import BeautifulSoup\n",
    "#these are instagrams -both public and private - from within 1mile of lake merritt\n",
    "# make a GET request for about 1mile - about 1600m around lake merritt, used geocode in r to get long and lat of lake merritt\n",
    "req = requests.get('https://api.instagram.com/v1/media/search?lat=37.80124&lng=-122.2583&distance=1600&access_token=19594423.1677ed0.d298d661a5dd4587becb8a83b3cca787')\n",
    "# read the content of the server’s response\n",
    "src = req.text"
   ]
  },
  {
   "cell_type": "code",
   "execution_count": 9,
   "metadata": {
    "collapsed": false
   },
   "outputs": [
    {
     "name": "stdout",
     "output_type": "stream",
     "text": [
      "<html>\n",
      " <body>\n",
      "  <p>\n",
      "   {\"meta\":{\"code\":200},\"data\":[{\"attribution\":null,\"tags\":[],\"type\":\"image\",\"location\":{\"latitude\":37.8044,\"name\":\"Oakland, California\",\"longitude\":-122.271,\"id\":213051194},\"comments\":{\"count\":0,\"data\":[]},\"filter\":\"Normal\",\"created_time\":\"1449733698\",\"link\":\"https:\\/\\/www.instagram.com\\/p\\/_Gn03tycoX\\/\",\"likes\":{\"count\":0,\"data\":[]},\"images\":{\"low_resolution\":{\"url\":\"https:\\/\\/scontent.cdninstagram.com\\/hphotos-xfa1\\/t51.2885-15\\/s320x320\\/e35\\/12338998_533060623523595_36309348_n.jpg\",\"width\":320,\"height\":320},\"thumbnail\":{\"url\":\"https:\\/\\/scontent.cdninstagram.com\\/hphotos-xfa1\\/t51.2885-15\\/s150x150\\/e35\\/12338998_533060623523595_36309348_n.jpg\",\"width\":150,\"height\":150},\"standard_resolution\":{\"url\":\"https:\\/\\/scontent.cdninstagram.com\\/hphotos-xfa1\\/t51.2885-15\\/s640x640\\/sh0.08\\/e35\\/12338998_533060623523595_36309348_n.jpg\",\"width\":640,\"height\":640}},\"users_in_photo\":[],\"caption\":{\"created_time\":\"1449733698\",\"text\":\"I miss my kids so much!!! It's my fault that my 2 little girls are not spending together with me. My bad, kids but daddy doing my best!!! I'm trying, kids\",\"from\":{\"username\":\"runt635\",\"profile_picture\":\"https:\\/\\/scontent.cdninstagram.com\\/hphotos-xpt1\\/t51.2885-19\\/s150x150\\/11311486_493077757517483_695175204_a.jpg\",\"id\":\"2031094721\",\"full_name\":\"Mek Daddy\"},\"id\":\"1136771119903787359\"},\"user_has_liked\":false,\"id\":\"1136771113008351767_2031094721\",\"user\":{\"username\":\"runt635\",\"profile_picture\":\"https:\\/\\/scontent.cdninstagram.com\\/hphotos-xpt1\\/t51.2885-19\\/s150x150\\/11311486_493077757517483_695175204_a.jpg\",\"id\":\"2031094721\",\"full_name\":\"Mek Daddy\"}},{\"attribution\":null,\"tags\":[\"streetart\",\"arteverywhere\",\"oldmattress\",\"graffiti\",\"hidefhistory\",\"oakland\",\"instagramhub\",\"citylife\"],\"type\":\"image\",\"location\":{\"latitude\":37.8044,\"name\":\"Oakland, California\",\"longitude\":-122.271,\"id\":213051194},\"comments\":{\"count\":0,\"data\":[]},\"filter\":\"Normal\",\"created_time\":\"1449733042\",\"link\":\"https:\\/\\/www.instagram.com\\/p\\/_Gmk2RSKpp\\/\",\"likes\":{\"count\":11,\"data\":[{\"username\":\"sfxoak\",\"profile_picture\":\"https:\\/\\/scontent.cdninstagram.com\\/hphotos-xpf1\\/t51.2885-19\\/11909292_1040005209352117_1859643322_a.jpg\",\"id\":\"207029954\",\"full_name\":\"SFxOAK Sports\"},{\"username\":\"zoneistanbul\",\"profile_picture\":\"https:\\/\\/scontent.cdninstagram.com\\/hphotos-xat1\\/t51.2885-19\\/s150x150\\/11349440_1196447733718531_1905174829_a.jpg\",\"id\":\"329814979\",\"full_name\":\"Z  O  N  E\"},{\"username\":\"recycledpropaganda\",\"profile_picture\":\"https:\\/\\/scontent.cdninstagram.com\\/hphotos-xfp1\\/t51.2885-19\\/s150x150\\/12144139_1671691333047448_153303043_a.jpg\",\"id\":\"40379750\",\"full_name\":\"Recycled Propaganda\"},{\"username\":\"djmfrancheska\",\"profile_picture\":\"https:\\/\\/scontent.cdninstagram.com\\/hphotos-xtp1\\/t51.2885-19\\/s150x150\\/12224330_186977048312875_199657478_a.jpg\",\"id\":\"11567347\",\"full_name\":\"Michelle Francheska\"}]},\"images\":{\"low_resolution\":{\"url\":\"https:\\/\\/scontent.cdninstagram.com\\/hphotos-xfp1\\/t51.2885-15\\/s320x320\\/e35\\/12298833_560437554107683_370828003_n.jpg\",\"width\":320,\"height\":320},\"thumbnail\":{\"url\":\"https:\\/\\/scontent.cdninstagram.com\\/hphotos-xaf1\\/t51.2885-15\\/s150x150\\/e35\\/c135.0.810.810\\/12301205_521002188080363_1550958260_n.jpg\",\"width\":150,\"height\":150},\"standard_resolution\":{\"url\":\"https:\\/\\/scontent.cdninstagram.com\\/hphotos-xfp1\\/t51.2885-15\\/s640x640\\/sh0.08\\/e35\\/12298833_560437554107683_370828003_n.jpg\",\"width\":640,\"height\":640}},\"users_in_photo\":[],\"caption\":{\"created_time\":\"1449733042\",\"text\":\"Art Everywhere!! #arteverywhere #hidefhistory #instagramhub #streetart #graffiti #oldmattress #citylife #oakland\",\"from\":{\"username\":\"hidefhistory\",\"profile_picture\":\"https:\\/\\/scontent.cdninstagram.com\\/hphotos-xpa1\\/t51.2885-19\\/s150x150\\/11910285_1651465438443647_739308795_a.jpg\",\"id\":\"17439649\",\"full_name\":\"Yari\"},\"id\":\"1136765618084162503\"},\"user_has_liked\":false,\"id\":\"1136765613898246761_17439649\",\"user\":{\"username\":\"hidefhistory\",\"profile_picture\":\"https:\\/\\/scontent.cdninstagram.com\\/hphotos-xpa1\\/t51.2885-19\\/s150x150\\/11910285_1651465438443647_739308795_a.jpg\",\"id\":\"17439649\",\"full_name\":\"Yari\"}},{\"attribution\":null,\"tags\":[],\"type\":\"image\",\"location\":{\"latitude\":37.8044,\"name\":\"Oakland, California\",\"longitude\":-122.271,\"id\":213051194},\"comments\":{\"count\":0,\"data\":[]},\"filter\":\"Normal\",\"created_time\":\"1449732653\",\"link\":\"https:\\/\\/www.instagram.com\\/p\\/_Gl1UFu9Ms\\/\",\"likes\":{\"count\":2,\"data\":[{\"username\":\"charmbot\",\"profile_picture\":\"https:\\/\\/scontent.cdninstagram.com\\/hphotos-xfp1\\/t51.2885-19\\/1599880_837366226330523_584551931_a.jpg\",\"id\":\"12993818\",\"full_name\":\"Charmmie Hendon\"},{\"username\":\"jlk8959\",\"profile_picture\":\"https:\\/\\/scontent.cdninstagram.com\\/hphotos-xtp1\\/t51.2885-19\\/s150x150\\/12105152_1693341837567019_998121016_a.jpg\",\"id\":\"39101098\",\"full_name\":\"Jon Kuzmich\"}]},\"images\":{\"low_resolution\":{\"url\":\"https:\\/\\/scontent.cdninstagram.com\\/hphotos-xfp1\\/t51.2885-15\\/s320x320\\/e35\\/12345905_1633036950293952_1413857198_n.jpg\",\"width\":320,\"height\":320},\"thumbnail\":{\"url\":\"https:\\/\\/scontent.cdninstagram.com\\/hphotos-xfp1\\/t51.2885-15\\/s150x150\\/e35\\/12345905_1633036950293952_1413857198_n.jpg\",\"width\":150,\"height\":150},\"standard_resolution\":{\"url\":\"https:\\/\\/scontent.cdninstagram.com\\/hphotos-xfp1\\/t51.2885-15\\/s640x640\\/sh0.08\\/e35\\/12345905_1633036950293952_1413857198_n.jpg\",\"width\":640,\"height\":640}},\"users_in_photo\":[],\"caption\":null,\"user_has_liked\":false,\"id\":\"1136762347381838636_652153827\",\"user\":{\"username\":\"rhynohendon\",\"profile_picture\":\"https:\\/\\/scontent.cdninstagram.com\\/hphotos-prn\\/t51.2885-19\\/10569924_1487200801520298_1329205609_a.jpg\",\"id\":\"652153827\",\"full_name\":\"Ryan Hendon\"}},{\"attribution\":null,\"videos\":{\"low_bandwidth\":{\"url\":\"https:\\/\\/scontent.cdninstagram.com\\/hphotos-xpt1\\/t50.2886-16\\/12318943_403615546504219_2054020666_s.mp4\",\"width\":480,\"height\":480},\"standard_resolution\":{\"url\":\"https:\\/\\/scontent.cdninstagram.com\\/hphotos-xfa1\\/t50.2886-16\\/12364735_1641045782839879_1585565488_n.mp4\",\"width\":640,\"height\":640},\"low_resolution\":{\"url\":\"https:\\/\\/scontent.cdninstagram.com\\/hphotos-xpt1\\/t50.2886-16\\/12318943_403615546504219_2054020666_s.mp4\",\"width\":480,\"height\":480}},\"tags\":[],\"type\":\"video\",\"location\":{\"latitude\":37.8117599,\"name\":\"Ozumo Oakland\",\"longitude\":-122.2668991,\"id\":113016},\"comments\":{\"count\":0,\"data\":[]},\"filter\":\"Lark\",\"created_time\":\"1449732546\",\"link\":\"https:\\/\\/www.instagram.com\\/p\\/_GloQEBWxW\\/\",\"likes\":{\"count\":7,\"data\":[{\"username\":\"nahlakoala\",\"profile_picture\":\"https:\\/\\/scontent.cdninstagram.com\\/hphotos-xpa1\\/t51.2885-19\\/s150x150\\/12338498_1700602883487063_731242212_a.jpg\",\"id\":\"26399498\",\"full_name\":\"Nahla\"},{\"username\":\"nlc.bridey\",\"profile_picture\":\"https:\\/\\/scontent.cdninstagram.com\\/hphotos-xpf1\\/t51.2885-19\\/s150x150\\/12276833_1538479889777069_1468140831_a.jpg\",\"id\":\"17886207\",\"full_name\":\"\\ud83c\\udf4c\"},{\"username\":\"natalieawright\",\"profile_picture\":\"https:\\/\\/scontent.cdninstagram.com\\/hphotos-xaf1\\/t51.2885-19\\/s150x150\\/11909265_891587354230017_1518331122_a.jpg\",\"id\":\"146039109\",\"full_name\":\"Natalie Wright\"},{\"username\":\"arash_akhavi\",\"profile_picture\":\"https:\\/\\/scontent.cdninstagram.com\\/hphotos-xfa1\\/t51.2885-19\\/s150x150\\/11917934_1018874521506443_1532213636_a.jpg\",\"id\":\"181422271\",\"full_name\":\"Arash\"}]},\"images\":{\"low_resolution\":{\"url\":\"https:\\/\\/scontent.cdninstagram.com\\/hphotos-xfp1\\/t51.2885-15\\/s320x320\\/e15\\/12317566_949103908504455_1994420264_n.jpg\",\"width\":320,\"height\":320},\"thumbnail\":{\"url\":\"https:\\/\\/scontent.cdninstagram.com\\/hphotos-xfp1\\/t51.2885-15\\/s150x150\\/e15\\/12317566_949103908504455_1994420264_n.jpg\",\"width\":150,\"height\":150},\"standard_resolution\":{\"url\":\"https:\\/\\/scontent.cdninstagram.com\\/hphotos-xfp1\\/t51.2885-15\\/e15\\/12317566_949103908504455_1994420264_n.jpg\",\"width\":640,\"height\":640}},\"users_in_photo\":[],\"caption\":{\"created_time\":\"1449732546\",\"text\":\"\\ud83c\\udf3bHappy 17th, my sun \\ud83c\\udf1e\\ud83c\\udf3b @_sarendipity__\",\"from\":{\"username\":\"stellar_ose\",\"profile_picture\":\"https:\\/\\/scontent.cdninstagram.com\\/hphotos-ash\\/t51.2885-19\\/10810014_581001338700530_909673874_a.jpg\",\"id\":\"23870346\",\"full_name\":\"Stella Rose\\ud83c\\udf39\"},\"id\":\"1136761694048316856\"},\"user_has_liked\":false,\"id\":\"1136761449704942678_23870346\",\"user\":{\"username\":\"stellar_ose\",\"profile_picture\":\"https:\\/\\/scontent.cdninstagram.com\\/hphotos-ash\\/t51.2885-19\\/10810014_581001338700530_909673874_a.jpg\",\"id\":\"23870346\",\"full_name\":\"Stella Rose\\ud83c\\udf39\"}},{\"attribution\":null,\"tags\":[\"biologists\",\"winewednesday\",\"fancy\",\"classy\"],\"type\":\"image\",\"location\":{\"latitude\":37.805536344,\"name\":\"Lake Merritt, Oakland CA\",\"longitude\":-122.254301678,\"id\":242335},\"comments\":{\"count\":0,\"data\":[]},\"filter\":\"Clarendon\",\"created_time\":\"1449732370\",\"link\":\"https:\\/\\/www.instagram.com\\/p\\/_GlSwBswmA\\/\",\"likes\":{\"count\":2,\"data\":[{\"username\":\"debra11\",\"profile_picture\":\"https:\\/\\/scontent.cdninstagram.com\\/hphotos-xap1\\/t51.2885-19\\/s150x150\\/12224472_783127908481450_1950574959_a.jpg\",\"id\":\"6653664\",\"full_name\":\"Debra Trappen \\u2728\"},{\"username\":\"steveroth23\",\"profile_picture\":\"https:\\/\\/scontent.cdninstagram.com\\/hphotos-xap1\\/t51.2885-19\\/s150x150\\/12269768_1650705131856777_1684990509_a.jpg\",\"id\":\"47058580\",\"full_name\":\"\"}]},\"images\":{\"low_resolution\":{\"url\":\"https:\\/\\/scontent.cdninstagram.com\\/hphotos-xft1\\/t51.2885-15\\/s320x320\\/e35\\/12345805_423172287893997_385939630_n.jpg\",\"width\":320,\"height\":320},\"thumbnail\":{\"url\":\"https:\\/\\/scontent.cdninstagram.com\\/hphotos-xft1\\/t51.2885-15\\/s150x150\\/e35\\/12345805_423172287893997_385939630_n.jpg\",\"width\":150,\"height\":150},\"standard_resolution\":{\"url\":\"https:\\/\\/scontent.cdninstagram.com\\/hphotos-xft1\\/t51.2885-15\\/s640x640\\/sh0.08\\/e35\\/12345805_423172287893997_385939630_n.jpg\",\"width\":640,\"height\":640}},\"users_in_photo\":[{\"position\":{\"y\":0.2078125,\"x\":0.06535948},\"user\":{\"username\":\"erintw17\",\"profile_picture\":\"https:\\/\\/scontent.cdninstagram.com\\/hphotos-xta1\\/t51.2885-19\\/11374310_135245910153541_568335511_a.jpg\",\"id\":\"184870177\",\"full_name\":\"Erin Wiley\"}}],\"caption\":{\"created_time\":\"1449732370\",\"text\":\"In the same vein that @rformosa started, #biologists like #fancy #classy things... 2007 Ridge Dynamite Petite Sirah for #winewednesday. French corkscrew, German glass, California red. And beautiful wife @erintw17 !\",\"from\":{\"username\":\"dr_slosh_rx4fun\",\"profile_picture\":\"https:\\/\\/scontent.cdninstagram.com\\/hphotos-xtf1\\/t51.2885-19\\/11349247_924508764276377_1858042030_a.jpg\",\"id\":\"863098265\",\"full_name\":\"Brett H\"},\"id\":\"1136761366727821951\"},\"user_has_liked\":false,\"id\":\"1136759972197239168_863098265\",\"user\":{\"username\":\"dr_slosh_rx4fun\",\"profile_picture\":\"https:\\/\\/scontent.cdninstagram.com\\/hphotos-xtf1\\/t51.2885-19\\/11349247_924508764276377_1858042030_a.jpg\",\"id\":\"863098265\",\"full_name\":\"Brett H\"}},{\"attribution\":null,\"tags\":[\"blessed\",\"guysgrocerygames\",\"chefdarion\",\"chef\",\"ggg\",\"chefshit\",\"grocerygames\",\"chefdeefusion\",\"deelicious\",\"chefdee\",\"chefwilliams\",\"culinarian\",\"oaklandchef\",\"truecooks\",\"blackchefs\",\"foodnetwork\"],\"type\":\"image\",\"location\":{\"latitude\":37.805536344,\"name\":\"Lake Merritt, Oakland CA\",\"longitude\":-122.254301678,\"id\":242335},\"comments\":{\"count\":0,\"data\":[]},\"filter\":\"Juno\",\"created_time\":\"1449732285\",\"link\":\"https:\\/\\/www.instagram.com\\/p\\/_GlIYWiLif\\/\",\"likes\":{\"count\":13,\"data\":[{\"username\":\"chef_deefusion\",\"profile_picture\":\"https:\\/\\/scontent.cdninstagram.com\\/hphotos-xap1\\/t51.2885-19\\/s150x150\\/12093831_542653712558106_986293303_a.jpg\",\"id\":\"318985557\",\"full_name\":\"Darion L Williams\"},{\"username\":\"_spanishflava\",\"profile_picture\":\"https:\\/\\/scontent.cdninstagram.com\\/hphotos-xap1\\/t51.2885-19\\/s150x150\\/12338440_781638065281543_1377789697_a.jpg\",\"id\":\"304277337\",\"full_name\":\"Mandie Baby \\ud83d\\udc95\"},{\"username\":\"cater2usf\",\"profile_picture\":\"https:\\/\\/scontent.cdninstagram.com\\/hphotos-xaf1\\/t51.2885-19\\/11199573_460841137418090_1071195984_a.jpg\",\"id\":\"175546298\",\"full_name\":\"Chef Rhonda\"},{\"username\":\"sunnyy_thedopekid\",\"profile_picture\":\"https:\\/\\/scontent.cdninstagram.com\\/hphotos-xpf1\\/t51.2885-19\\/s150x150\\/12256601_1668747140077161_760723756_a.jpg\",\"id\":\"28717646\",\"full_name\":\"Briahh.\\u2665\"}]},\"images\":{\"low_resolution\":{\"url\":\"https:\\/\\/scontent.cdninstagram.com\\/hphotos-xfp1\\/t51.2885-15\\/s320x320\\/e35\\/12357782_190808267931953_1398172897_n.jpg\",\"width\":320,\"height\":320},\"thumbnail\":{\"url\":\"https:\\/\\/scontent.cdninstagram.com\\/hphotos-xaf1\\/t51.2885-15\\/s150x150\\/e35\\/c0.117.938.938\\/12292884_612432405561295_258156733_n.jpg\",\"width\":150,\"height\":150},\"standard_resolution\":{\"url\":\"https:\\/\\/scontent.cdninstagram.com\\/hphotos-xfp1\\/t51.2885-15\\/s640x640\\/sh0.08\\/e35\\/12357782_190808267931953_1398172897_n.jpg\",\"width\":640,\"height\":640}},\"users_in_photo\":[],\"caption\":{\"created_time\":\"1449732285\",\"text\":\"I had a blast on Tournament of Champions #guysgrocerygames #grocerygames #foodnetwork #ggg #chef #chefdee #chefshit #chefdarion #culinarian #chefwilliams #chefdeefusion #blackchefs #OAKLANDCHEF #DEElicious #truecooks #blessed\",\"from\":{\"username\":\"chef_deefusion\",\"profile_picture\":\"https:\\/\\/scontent.cdninstagram.com\\/hphotos-xap1\\/t51.2885-19\\/s150x150\\/12093831_542653712558106_986293303_a.jpg\",\"id\":\"318985557\",\"full_name\":\"Darion L Williams\"},\"id\":\"1136759269136841098\"},\"user_has_liked\":false,\"id\":\"1136759259582216351_318985557\",\"user\":{\"username\":\"chef_deefusion\",\"profile_picture\":\"https:\\/\\/scontent.cdninstagram.com\\/hphotos-xap1\\/t51.2885-19\\/s150x150\\/12093831_542653712558106_986293303_a.jpg\",\"id\":\"318985557\",\"full_name\":\"Darion L Williams\"}},{\"attribution\":null,\"tags\":[],\"type\":\"image\",\"location\":{\"latitude\":37.8044,\"name\":\"Oakland, California\",\"longitude\":-122.271,\"id\":213051194},\"comments\":{\"count\":0,\"data\":[]},\"filter\":\"Normal\",\"created_time\":\"1449732022\",\"link\":\"https:\\/\\/www.instagram.com\\/p\\/_GkoP3MzrI\\/\",\"likes\":{\"count\":3,\"data\":[{\"username\":\"gvh_xo\",\"profile_picture\":\"https:\\/\\/scontent.cdninstagram.com\\/hphotos-xfp1\\/t51.2885-19\\/s150x150\\/11352011_1505250319773205_1686925949_a.jpg\",\"id\":\"181945402\",\"full_name\":\"Gaby Hernandez\"},{\"username\":\"mzqueenbee2u\",\"profile_picture\":\"https:\\/\\/scontent.cdninstagram.com\\/hphotos-xta1\\/t51.2885-19\\/s150x150\\/12270000_901287723312463_447070965_a.jpg\",\"id\":\"368101787\",\"full_name\":\"Brandi QueenBee Davis\"},{\"username\":\"miss_negus\",\"profile_picture\":\"https:\\/\\/scontent.cdninstagram.com\\/hphotos-xft1\\/t51.2885-19\\/s150x150\\/12292789_719302144837784_2067003583_a.jpg\",\"id\":\"1437817119\",\"full_name\":\"Queen T\"}]},\"images\":{\"low_resolution\":{\"url\":\"https:\\/\\/scontent.cdninstagram.com\\/hphotos-xpt1\\/t51.2885-15\\/s320x320\\/e35\\/12354102_628207700652318_112920115_n.jpg\",\"width\":320,\"height\":320},\"thumbnail\":{\"url\":\"https:\\/\\/scontent.cdninstagram.com\\/hphotos-xpt1\\/t51.2885-15\\/s150x150\\/e35\\/12354102_628207700652318_112920115_n.jpg\",\"width\":150,\"height\":150},\"standard_resolution\":{\"url\":\"https:\\/\\/scontent.cdninstagram.com\\/hphotos-xpt1\\/t51.2885-15\\/e35\\/12354102_628207700652318_112920115_n.jpg\",\"width\":480,\"height\":480}},\"users_in_photo\":[],\"caption\":{\"created_time\":\"1449732022\",\"text\":\"Town bound.....\",\"from\":{\"username\":\"baybeauty41510\",\"profile_picture\":\"https:\\/\\/scontent.cdninstagram.com\\/hphotos-xpa1\\/t51.2885-19\\/s150x150\\/12224153_998431750199875_1832716397_a.jpg\",\"id\":\"2118218277\",\"full_name\":\"\\ud83c\\udfbc \\u0641\\u062a\\u0627\\u0629\\ud83c\\udfbcTropiCali\"},\"id\":\"1136757052668066675\"},\"user_has_liked\":false,\"id\":\"1136757051443329736_2118218277\",\"user\":{\"username\":\"baybeauty41510\",\"profile_picture\":\"https:\\/\\/scontent.cdninstagram.com\\/hphotos-xpa1\\/t51.2885-19\\/s150x150\\/12224153_998431750199875_1832716397_a.jpg\",\"id\":\"2118218277\",\"full_name\":\"\\ud83c\\udfbc \\u0641\\u062a\\u0627\\u0629\\ud83c\\udfbcTropiCali\"}},{\"attribution\":null,\"tags\":[\"asalamandra\",\"sketch\",\"folly\",\"art\",\"dailydrawing\",\"illustration\",\"pagoda\",\"bakedcavatelli\",\"artwork\",\"handlettering\",\"\\u270d\\ud83c\\udffc\",\"calligraphy\",\"birds\",\"minimalist\",\"birdsinflight\",\"blackink\",\"script\",\"\\ud83c\\udfa8\",\"penonpaper\",\"sketchaday\",\"instaartist\",\"instaart\",\"artist\",\"structures\",\"drawing\"],\"type\":\"image\",\"location\":{\"latitude\":37.8044,\"name\":\"Oakland, California\",\"longitude\":-122.271,\"id\":213051194},\"comments\":{\"count\":1,\"data\":[{\"created_time\":\"1449731967\",\"text\":\"#\\ud83c\\udfa8 . . . . . . . . . . . . . . . . . . . . . . . \\n#asalamandra #art #illustration #handlettering #script #calligraphy #dailydrawing #drawing #sketchaday #sketch #artwork #artist #penonpaper #blackink #script #minimalist #instaartist #instaart #pagoda #structures #folly #birdsinflight #birds #bakedcavatelli #\\u270d\\ud83c\\udffc\",\"from\":{\"username\":\"asalamandra\",\"profile_picture\":\"https:\\/\\/scontent.cdninstagram.com\\/hphotos-xpt1\\/t51.2885-19\\/s150x150\\/12237020_702636039836251_103822432_a.jpg\",\"id\":\"1757076582\",\"full_name\":\"Alessandra La Salamandra\"},\"id\":\"1136756591586491528\"}]},\"filter\":\"Moon\",\"created_time\":\"1449731924\",\"link\":\"https:\\/\\/www.instagram.com\\/p\\/_GkcVomLzX\\/\",\"likes\":{\"count\":18,\"data\":[{\"username\":\"clarabelloart\",\"profile_picture\":\"https:\\/\\/scontent.cdninstagram.com\\/hphotos-xpf1\\/t51.2885-19\\/s150x150\\/12353470_1571276923114147_642507777_a.jpg\",\"id\":\"1187459979\",\"full_name\":\"Clara \\ud83c\\udf19\"},{\"username\":\"akrdesignstudio\",\"profile_picture\":\"https:\\/\\/scontent.cdninstagram.com\\/hphotos-xat1\\/t51.2885-19\\/s150x150\\/12106089_1679002815650192_35793684_a.jpg\",\"id\":\"1458680204\",\"full_name\":\"Akiko | akrDesignStudio\"},{\"username\":\"minimalistpop\",\"profile_picture\":\"https:\\/\\/scontent.cdninstagram.com\\/hphotos-xpa1\\/t51.2885-19\\/11327018_1662899130610456_1092484307_a.jpg\",\"id\":\"1174602982\",\"full_name\":\"M Pop\"},{\"username\":\"patrick.art\",\"profile_picture\":\"https:\\/\\/scontent.cdninstagram.com\\/hphotos-frc\\/t51.2885-19\\/10724091_314374728748128_854107901_a.jpg\",\"id\":\"697518358\",\"full_name\":\"Patrick Art\"}]},\"images\":{\"low_resolution\":{\"url\":\"https:\\/\\/scontent.cdninstagram.com\\/hphotos-xpf1\\/t51.2885-15\\/s320x320\\/e35\\/12301216_1043258649057951_1331743_n.jpg\",\"width\":320,\"height\":320},\"thumbnail\":{\"url\":\"https:\\/\\/scontent.cdninstagram.com\\/hphotos-xpf1\\/t51.2885-15\\/s150x150\\/e35\\/12301216_1043258649057951_1331743_n.jpg\",\"width\":150,\"height\":150},\"standard_resolution\":{\"url\":\"https:\\/\\/scontent.cdninstagram.com\\/hphotos-xpf1\\/t51.2885-15\\/s640x640\\/sh0.08\\/e35\\/12301216_1043258649057951_1331743_n.jpg\",\"width\":640,\"height\":640}},\"users_in_photo\":[],\"caption\":{\"created_time\":\"1449731924\",\"text\":\"Tonight's drawings \\ud83d\\udd8a\",\"from\":{\"username\":\"asalamandra\",\"profile_picture\":\"https:\\/\\/scontent.cdninstagram.com\\/hphotos-xpt1\\/t51.2885-19\\/s150x150\\/12237020_702636039836251_103822432_a.jpg\",\"id\":\"1757076582\",\"full_name\":\"Alessandra La Salamandra\"},\"id\":\"1136756235817237628\"},\"user_has_liked\":false,\"id\":\"1136756233007054039_1757076582\",\"user\":{\"username\":\"asalamandra\",\"profile_picture\":\"https:\\/\\/scontent.cdninstagram.com\\/hphotos-xpt1\\/t51.2885-19\\/s150x150\\/12237020_702636039836251_103822432_a.jpg\",\"id\":\"1757076582\",\"full_name\":\"Alessandra La Salamandra\"}},{\"attribution\":null,\"tags\":[\"behindthescenes\",\"fashion\",\"beauty\",\"bts\",\"fashionmodel\",\"photoshoot\",\"fashionphotography\",\"makeupartist\",\"photostudio\"],\"type\":\"image\",\"location\":{\"latitude\":37.814842,\"name\":\"Studio-FAB\",\"longitude\":-122.268599,\"id\":793924460},\"comments\":{\"count\":0,\"data\":[]},\"filter\":\"Normal\",\"created_time\":\"1449731745\",\"link\":\"https:\\/\\/www.instagram.com\\/p\\/_GkGbukobL\\/\",\"likes\":{\"count\":21,\"data\":[{\"username\":\"lynseybuckelew\",\"profile_picture\":\"https:\\/\\/scontent.cdninstagram.com\\/hphotos-xtp1\\/t51.2885-19\\/11910358_1016534615043666_807904189_a.jpg\",\"id\":\"1264651216\",\"full_name\":\"Lynsey Buckelew\"},{\"username\":\"jrmauriicephotography\",\"profile_picture\":\"https:\\/\\/scontent.cdninstagram.com\\/hphotos-xtf1\\/t51.2885-19\\/11419115_1039115396101151_1683249846_a.jpg\",\"id\":\"441187289\",\"full_name\":\"JRMauriicePhotography\"},{\"username\":\"akiiart.mua\",\"profile_picture\":\"https:\\/\\/scontent.cdninstagram.com\\/hphotos-xtp1\\/t51.2885-19\\/s150x150\\/12093611_1642044696034966_657429921_a.jpg\",\"id\":\"1100414763\",\"full_name\":\"Akiko Yamakawa\"},{\"username\":\"happy_in_style\",\"profile_picture\":\"https:\\/\\/scontent.cdninstagram.com\\/hphotos-xtf1\\/t51.2885-19\\/s150x150\\/12317560_905288942880514_1386428722_a.jpg\",\"id\":\"1443657820\",\"full_name\":\"Irena Eastington\"}]},\"images\":{\"low_resolution\":{\"url\":\"https:\\/\\/scontent.cdninstagram.com\\/hphotos-xpf1\\/t51.2885-15\\/s320x320\\/e35\\/12292759_148575225504363_1719577243_n.jpg\",\"width\":320,\"height\":320},\"thumbnail\":{\"url\":\"https:\\/\\/scontent.cdninstagram.com\\/hphotos-xfp1\\/t51.2885-15\\/s150x150\\/e35\\/c180.0.719.719\\/12276868_137984586568388_1274637668_n.jpg\",\"width\":150,\"height\":150},\"standard_resolution\":{\"url\":\"https:\\/\\/scontent.cdninstagram.com\\/hphotos-xpf1\\/t51.2885-15\\/s640x640\\/sh0.08\\/e35\\/12292759_148575225504363_1719577243_n.jpg\",\"width\":640,\"height\":640}},\"users_in_photo\":[{\"position\":{\"y\":0.943498,\"x\":0.20625},\"user\":{\"username\":\"cassiemount\",\"profile_picture\":\"https:\\/\\/scontent.cdninstagram.com\\/hphotos-xap1\\/t51.2885-19\\/s150x150\\/12142105_801862769936709_1947088702_a.jpg\",\"id\":\"26389185\",\"full_name\":\"Cassie\"}},{\"position\":{\"y\":0.5445932,\"x\":0.540625},\"user\":{\"username\":\"emholm111\",\"profile_picture\":\"https:\\/\\/scontent.cdninstagram.com\\/hphotos-xfa1\\/t51.2885-19\\/928947_1040874662591672_936404664_a.jpg\",\"id\":\"486470993\",\"full_name\":\"Emily Holm\"}}],\"caption\":{\"created_time\":\"1449731745\",\"text\":\"Fashion shoot behind the scenes\\n\\nModel: Emily Holm\\nMUA: Cassie Fox-Mount\\n@cassiemount @emholm111 @studiofabphotography #bts #fashionphotography #fashionmodel #fashion #beauty #makeupartist #behindthescenes #photoshoot #photostudio\",\"from\":{\"username\":\"adam.smith.photo\",\"profile_picture\":\"https:\\/\\/scontent.cdninstagram.com\\/hphotos-xtf1\\/t51.2885-19\\/s150x150\\/12224541_916627168419573_2138424278_a.jpg\",\"id\":\"2278651184\",\"full_name\":\"Adam Smith\"},\"id\":\"1136754737317840306\"},\"user_has_liked\":false,\"id\":\"1136754727721273035_2278651184\",\"user\":{\"username\":\"adam.smith.photo\",\"profile_picture\":\"https:\\/\\/scontent.cdninstagram.com\\/hphotos-xtf1\\/t51.2885-19\\/s150x150\\/12224541_916627168419573_2138424278_a.jpg\",\"id\":\"2278651184\",\"full_name\":\"Adam Smith\"}},{\"attribution\":null,\"tags\":[\"bayarea\",\"oakland\",\"dto\",\"graf\"],\"type\":\"image\",\"location\":{\"latitude\":37.8044,\"name\":\"Oakland, California\",\"longitude\":-122.271,\"id\":213051194},\"comments\":{\"count\":0,\"data\":[]},\"filter\":\"Valencia\",\"created_time\":\"1449731710\",\"link\":\"https:\\/\\/www.instagram.com\\/p\\/_GkCPpn-il\\/\",\"likes\":{\"count\":9,\"data\":[{\"username\":\"thawarrior\",\"profile_picture\":\"https:\\/\\/scontent.cdninstagram.com\\/hphotos-xpt1\\/t51.2885-19\\/s150x150\\/12139728_734705140005804_11384602_a.jpg\",\"id\":\"23838944\",\"full_name\":\"Westley Weinstock\"},{\"username\":\"foxyyroxyy_\",\"profile_picture\":\"https:\\/\\/scontent.cdninstagram.com\\/hphotos-xft1\\/t51.2885-19\\/s150x150\\/12338694_1655809908009536_1082917990_a.jpg\",\"id\":\"187214794\",\"full_name\":\"Roxy\"},{\"username\":\"sydneyee\",\"profile_picture\":\"https:\\/\\/scontent.cdninstagram.com\\/hphotos-xpa1\\/t51.2885-19\\/s150x150\\/11349422_1080682838622383_934114331_a.jpg\",\"id\":\"4997907\",\"full_name\":\"SYDNEY\\t\\u2625\"},{\"username\":\"meeerissssaa\",\"profile_picture\":\"https:\\/\\/scontent.cdninstagram.com\\/hphotos-xaf1\\/t51.2885-19\\/s150x150\\/11356577_1617626431835070_228492298_a.jpg\",\"id\":\"17302996\",\"full_name\":\"Marissa Jefferies \\ud83d\\udc8e\"}]},\"images\":{\"low_resolution\":{\"url\":\"https:\\/\\/scontent.cdninstagram.com\\/hphotos-xfp1\\/t51.2885-15\\/s320x320\\/e35\\/12345964_599106156910792_744336930_n.jpg\",\"width\":320,\"height\":320},\"thumbnail\":{\"url\":\"https:\\/\\/scontent.cdninstagram.com\\/hphotos-xat1\\/t51.2885-15\\/s150x150\\/e35\\/c236.0.608.608\\/11262323_1650491475218049_1236398566_n.jpg\",\"width\":150,\"height\":150},\"standard_resolution\":{\"url\":\"https:\\/\\/scontent.cdninstagram.com\\/hphotos-xfp1\\/t51.2885-15\\/s640x640\\/sh0.08\\/e35\\/12345964_599106156910792_744336930_n.jpg\",\"width\":640,\"height\":640}},\"users_in_photo\":[],\"caption\":{\"created_time\":\"1449731710\",\"text\":\"Street art\\u270c\\ud83c\\udffc\\ufe0f#oakland #dto #graf #bayarea\",\"from\":{\"username\":\"hayleyrodemsky\",\"profile_picture\":\"https:\\/\\/scontent.cdninstagram.com\\/hphotos-xtf1\\/t51.2885-19\\/s150x150\\/12301167_1661821044086542_111805275_a.jpg\",\"id\":\"14442041\",\"full_name\":\"Hayley Rodemsky\"},\"id\":\"1136754445353216984\"},\"user_has_liked\":false,\"id\":\"1136754439875455141_14442041\",\"user\":{\"username\":\"hayleyrodemsky\",\"profile_picture\":\"https:\\/\\/scontent.cdninstagram.com\\/hphotos-xtf1\\/t51.2885-19\\/s150x150\\/12301167_1661821044086542_111805275_a.jpg\",\"id\":\"14442041\",\"full_name\":\"Hayley Rodemsky\"}},{\"attribution\":null,\"tags\":[],\"type\":\"image\",\"location\":{\"latitude\":37.8044,\"name\":\"Oakland, California\",\"longitude\":-122.271,\"id\":213051194},\"comments\":{\"count\":1,\"data\":[{\"created_time\":\"1449732040\",\"text\":\"Neelson sheeen the kock smoker.\",\"from\":{\"username\":\"djinti\",\"profile_picture\":\"https:\\/\\/scontent.cdninstagram.com\\/hphotos-xtf1\\/t51.2885-19\\/11376121_1672693896298516_1548668112_a.jpg\",\"id\":\"1204985\",\"full_name\":\"Inti\"},\"id\":\"1136757201398327155\"}]},\"filter\":\"Normal\",\"created_time\":\"1449731697\",\"link\":\"https:\\/\\/www.instagram.com\\/p\\/_GkArBtuZ9\\/\",\"likes\":{\"count\":2,\"data\":[{\"username\":\"djinti\",\"profile_picture\":\"https:\\/\\/scontent.cdninstagram.com\\/hphotos-xtf1\\/t51.2885-19\\/11376121_1672693896298516_1548668112_a.jpg\",\"id\":\"1204985\",\"full_name\":\"Inti\"},{\"username\":\"nightnurse510\",\"profile_picture\":\"https:\\/\\/scontent.cdninstagram.com\\/hphotos-xpa1\\/t51.2885-19\\/11380902_695690073893546_631611254_a.jpg\",\"id\":\"25356761\",\"full_name\":\"nightnurse510\"}]},\"images\":{\"low_resolution\":{\"url\":\"https:\\/\\/scontent.cdninstagram.com\\/hphotos-xpt1\\/t51.2885-15\\/s320x320\\/e35\\/12346292_1001359286589046_279342933_n.jpg\",\"width\":320,\"height\":320},\"thumbnail\":{\"url\":\"https:\\/\\/scontent.cdninstagram.com\\/hphotos-xpt1\\/t51.2885-15\\/s150x150\\/e35\\/12346292_1001359286589046_279342933_n.jpg\",\"width\":150,\"height\":150},\"standard_resolution\":{\"url\":\"https:\\/\\/scontent.cdninstagram.com\\/hphotos-xpt1\\/t51.2885-15\\/s640x640\\/sh0.08\\/e35\\/12346292_1001359286589046_279342933_n.jpg\",\"width\":640,\"height\":640}},\"users_in_photo\":[{\"position\":{\"y\":0.74427086,\"x\":0.6437988},\"user\":{\"username\":\"kanizer\",\"profile_picture\":\"https:\\/\\/scontent.cdninstagram.com\\/hphotos-xta1\\/t51.2885-19\\/11856591_878488425572023_197747474_a.jpg\",\"id\":\"206005377\",\"full_name\":\"kanizer\"}}],\"caption\":null,\"user_has_liked\":false,\"id\":\"1136754331831690877_1478458512\",\"user\":{\"username\":\"ham_nchez\",\"profile_picture\":\"https:\\/\\/scontent.cdninstagram.com\\/hphotos-frc\\/t51.2885-19\\/1736886_1555693497992200_259057379_a.jpg\",\"id\":\"1478458512\",\"full_name\":\"\"}},{\"attribution\":null,\"tags\":[],\"type\":\"image\",\"location\":{\"latitude\":37.805536344,\"name\":\"Lake Merritt, Oakland CA\",\"longitude\":-122.254301678,\"id\":242335},\"comments\":{\"count\":1,\"data\":[{\"created_time\":\"1449732559\",\"text\":\"CANT WAIT FOR YOU TO COME DOWN\",\"from\":{\"username\":\"marlieandme\",\"profile_picture\":\"https:\\/\\/scontent.cdninstagram.com\\/hphotos-xap1\\/l\\/t51.2885-19\\/s150x150\\/12132918_715163335285258_920510807_a.jpg\",\"id\":\"14527946\",\"full_name\":\"marlie rodriguez\"},\"id\":\"1136761559771847743\"}]},\"filter\":\"Normal\",\"created_time\":\"1449731079\",\"link\":\"https:\\/\\/www.instagram.com\\/p\\/_Gi1HFhR6g\\/\",\"likes\":{\"count\":7,\"data\":[{\"username\":\"hazeyville\",\"profile_picture\":\"https:\\/\\/scontent.cdninstagram.com\\/hphotos-xpf1\\/t51.2885-19\\/s150x150\\/12120318_178963922442097_131239323_a.jpg\",\"id\":\"21005328\",\"full_name\":\"\"},{\"username\":\"instabeautiful\",\"profile_picture\":\"https:\\/\\/scontent.cdninstagram.com\\/hphotos-xft1\\/t51.2885-19\\/11311355_118491815162100_1859518180_a.jpg\",\"id\":\"4463553\",\"full_name\":\"\"},{\"username\":\"marlieandme\",\"profile_picture\":\"https:\\/\\/scontent.cdninstagram.com\\/hphotos-xap1\\/l\\/t51.2885-19\\/s150x150\\/12132918_715163335285258_920510807_a.jpg\",\"id\":\"14527946\",\"full_name\":\"marlie rodriguez\"},{\"username\":\"happycloud1\",\"profile_picture\":\"https:\\/\\/scontent.cdninstagram.com\\/hphotos-xpa1\\/t51.2885-19\\/11349166_654802754623146_1626221694_a.jpg\",\"id\":\"215083106\",\"full_name\":\"happycloud\"}]},\"images\":{\"low_resolution\":{\"url\":\"https:\\/\\/scontent.cdninstagram.com\\/hphotos-xft1\\/t51.2885-15\\/s320x320\\/e35\\/12345687_1669204473318886_568836436_n.jpg\",\"width\":320,\"height\":320},\"thumbnail\":{\"url\":\"https:\\/\\/scontent.cdninstagram.com\\/hphotos-xft1\\/t51.2885-15\\/s150x150\\/e35\\/12345687_1669204473318886_568836436_n.jpg\",\"width\":150,\"height\":150},\"standard_resolution\":{\"url\":\"https:\\/\\/scontent.cdninstagram.com\\/hphotos-xft1\\/t51.2885-15\\/s640x640\\/sh0.08\\/e35\\/12345687_1669204473318886_568836436_n.jpg\",\"width\":640,\"height\":640}},\"users_in_photo\":[],\"caption\":{\"created_time\":\"1449731079\",\"text\":\"it's fall across the street! (and that car hasn't moved in a long time) \\ud83c\\udf42\\ud83c\\udf41\\ud83c\\udf43\",\"from\":{\"username\":\"sueamara\",\"profile_picture\":\"https:\\/\\/scontent.cdninstagram.com\\/hphotos-xaf1\\/t51.2885-19\\/11195733_1572728753002836_1091492967_a.jpg\",\"id\":\"254770326\",\"full_name\":\"samar\"},\"id\":\"1136749142459358654\"},\"user_has_liked\":false,\"id\":\"1136749139280076448_254770326\",\"user\":{\"username\":\"sueamara\",\"profile_picture\":\"https:\\/\\/scontent.cdninstagram.com\\/hphotos-xaf1\\/t51.2885-19\\/11195733_1572728753002836_1091492967_a.jpg\",\"id\":\"254770326\",\"full_name\":\"samar\"}},{\"attribution\":null,\"tags\":[\"blessthisbeautifulcity\",\"weontherooooooooof\"],\"type\":\"image\",\"location\":{\"latitude\":37.8044,\"name\":\"Oakland, California\",\"longitude\":-122.271,\"id\":213051194},\"comments\":{\"count\":0,\"data\":[]},\"filter\":\"Normal\",\"created_time\":\"1449731040\",\"link\":\"https:\\/\\/www.instagram.com\\/p\\/_GiwWavyCU\\/\",\"likes\":{\"count\":4,\"data\":[{\"username\":\"damdeez\",\"profile_picture\":\"https:\\/\\/scontent.cdninstagram.com\\/hphotos-xta1\\/t51.2885-19\\/s150x150\\/10899066_1614074412207906_98007537_a.jpg\",\"id\":\"5913056\",\"full_name\":\"Damir Haramba\\u0161i\\u0107\"},{\"username\":\"801brandyr\",\"profile_picture\":\"https:\\/\\/scontent.cdninstagram.com\\/hphotos-xpf1\\/t51.2885-19\\/10890601_675094092599288_758130272_a.jpg\",\"id\":\"49183038\",\"full_name\":\"801BrandyR\"},{\"username\":\"skeetin_on_em_666\",\"profile_picture\":\"https:\\/\\/scontent.cdninstagram.com\\/hphotos-xft1\\/t51.2885-19\\/11850045_685640681570471_692724777_a.jpg\",\"id\":\"56118678\",\"full_name\":\"Luna\"},{\"username\":\"austinkent\",\"profile_picture\":\"https:\\/\\/scontent.cdninstagram.com\\/hphotos-xat1\\/t51.2885-19\\/11910051_1628392954106970_853397235_a.jpg\",\"id\":\"11713879\",\"full_name\":\"Austin Kent\"}]},\"images\":{\"low_resolution\":{\"url\":\"https:\\/\\/scontent.cdninstagram.com\\/hphotos-xta1\\/t51.2885-15\\/s320x320\\/e35\\/12328315_1081084045269246_1437003815_n.jpg\",\"width\":320,\"height\":320},\"thumbnail\":{\"url\":\"https:\\/\\/scontent.cdninstagram.com\\/hphotos-xtp1\\/t51.2885-15\\/s150x150\\/e35\\/c135.0.810.810\\/12298939_1192495330765245_955557111_n.jpg\",\"width\":150,\"height\":150},\"standard_resolution\":{\"url\":\"https:\\/\\/scontent.cdninstagram.com\\/hphotos-xta1\\/t51.2885-15\\/s640x640\\/sh0.08\\/e35\\/12328315_1081084045269246_1437003815_n.jpg\",\"width\":640,\"height\":640}},\"users_in_photo\":[],\"caption\":{\"created_time\":\"1449731040\",\"text\":\"#Blessthisbeautifulcity #weontherooooooooof\",\"from\":{\"username\":\"keithturbo666\",\"profile_picture\":\"https:\\/\\/scontent.cdninstagram.com\\/hphotos-xft1\\/t51.2885-19\\/11374093_1593629530926803_1163293821_a.jpg\",\"id\":\"1830384039\",\"full_name\":\"KEITH LIGHTFOOT\"},\"id\":\"1136748814661525659\"},\"user_has_liked\":false,\"id\":\"1136748812144943252_1830384039\",\"user\":{\"username\":\"keithturbo666\",\"profile_picture\":\"https:\\/\\/scontent.cdninstagram.com\\/hphotos-xft1\\/t51.2885-19\\/11374093_1593629530926803_1163293821_a.jpg\",\"id\":\"1830384039\",\"full_name\":\"KEITH LIGHTFOOT\"}},{\"attribution\":null,\"tags\":[\"quartztangerine\",\"fluoriteoctahedron\",\"amethyst\",\"quartzlithium\",\"aragonite\"],\"type\":\"image\",\"location\":{\"latitude\":37.8089409,\"name\":\"The Sacred Well\",\"longitude\":-122.2508316,\"id\":8200157},\"comments\":{\"count\":1,\"data\":[{\"created_time\":\"1449729789\",\"text\":\"\\ud83d\\ude4f\\ud83c\\udffc\",\"from\":{\"username\":\"deeperthanwords_\",\"profile_picture\":\"https:\\/\\/scontent.cdninstagram.com\\/hphotos-xap1\\/t51.2885-19\\/s150x150\\/11313600_421247834738750_724705775_a.jpg\",\"id\":\"1906256947\",\"full_name\":\"\"},\"id\":\"1136738320227736174\"}]},\"filter\":\"Normal\",\"created_time\":\"1449727662\",\"link\":\"https:\\/\\/www.instagram.com\\/p\\/_GcUCSP5nh\\/\",\"likes\":{\"count\":22,\"data\":[{\"username\":\"ssammyywammyy\",\"profile_picture\":\"https:\\/\\/scontent.cdninstagram.com\\/hphotos-xtf1\\/t51.2885-19\\/s150x150\\/12292808_916656278428121_2012226387_a.jpg\",\"id\":\"223643185\",\"full_name\":\"Sammie \\u2661\"},{\"username\":\"imjuliansoto\",\"profile_picture\":\"https:\\/\\/scontent.cdninstagram.com\\/hphotos-xpt1\\/l\\/t51.2885-19\\/s150x150\\/11326189_402903783234093_891718665_a.jpg\",\"id\":\"323783564\",\"full_name\":\"Julian E. Soto \\u262f\"},{\"username\":\"basura_king\",\"profile_picture\":\"https:\\/\\/scontent.cdninstagram.com\\/hphotos-xpa1\\/t51.2885-19\\/11282072_1631330630431389_100009807_a.jpg\",\"id\":\"359004518\",\"full_name\":\"Ian Chattin\"},{\"username\":\"samichswenson\",\"profile_picture\":\"https:\\/\\/scontent.cdninstagram.com\\/hphotos-xtf1\\/t51.2885-19\\/s150x150\\/12356572_1511813862445653_223701033_a.jpg\",\"id\":\"194213414\",\"full_name\":\"\\u269cSamie\\u269c\"}]},\"images\":{\"low_resolution\":{\"url\":\"https:\\/\\/scontent.cdninstagram.com\\/hphotos-xaf1\\/t51.2885-15\\/s320x320\\/e35\\/12357789_969580689788279_838728632_n.jpg\",\"width\":320,\"height\":320},\"thumbnail\":{\"url\":\"https:\\/\\/scontent.cdninstagram.com\\/hphotos-xpt1\\/t51.2885-15\\/s150x150\\/e35\\/c0.112.900.900\\/12292631_525143404326673_1551353489_n.jpg\",\"width\":150,\"height\":150},\"standard_resolution\":{\"url\":\"https:\\/\\/scontent.cdninstagram.com\\/hphotos-xaf1\\/t51.2885-15\\/s640x640\\/sh0.08\\/e35\\/12357789_969580689788279_838728632_n.jpg\",\"width\":640,\"height\":640}},\"users_in_photo\":[],\"caption\":{\"created_time\":\"1449727662\",\"text\":\"Got some amazing new crystals today \\ud83d\\ude4f\\ud83d\\udd2e #aragonite #fluoriteoctahedron #amethyst #quartzlithium #quartztangerine\",\"from\":{\"username\":\"elysiuh\",\"profile_picture\":\"https:\\/\\/scontent.cdninstagram.com\\/hphotos-xft1\\/t51.2885-19\\/11849207_501328626708413_565011469_a.jpg\",\"id\":\"28489069\",\"full_name\":\"Elysia Miranda \\u264b\\ud83d\\udc18\"},\"id\":\"1136720482179979971\"},\"user_has_liked\":false,\"id\":\"1136720478103116257_28489069\",\"user\":{\"username\":\"elysiuh\",\"profile_picture\":\"https:\\/\\/scontent.cdninstagram.com\\/hphotos-xft1\\/t51.2885-19\\/11849207_501328626708413_565011469_a.jpg\",\"id\":\"28489069\",\"full_name\":\"Elysia Miranda \\u264b\\ud83d\\udc18\"}},{\"attribution\":null,\"tags\":[],\"type\":\"image\",\"location\":{\"latitude\":37.810234192,\"name\":\"Brent's Christmas Trees\",\"longitude\":-122.248106182,\"id\":48784673},\"comments\":{\"count\":0,\"data\":[]},\"filter\":\"Normal\",\"created_time\":\"1449727601\",\"link\":\"https:\\/\\/www.instagram.com\\/p\\/_GcMn9gTwl\\/\",\"likes\":{\"count\":9,\"data\":[{\"username\":\"shortformelissa\",\"profile_picture\":\"https:\\/\\/scontent.cdninstagram.com\\/hphotos-xap1\\/t51.2885-19\\/s150x150\\/11909158_975562009183337_1369095459_a.jpg\",\"id\":\"9001\",\"full_name\":\"Melissa Santiago\"},{\"username\":\"l_4uren\",\"profile_picture\":\"https:\\/\\/scontent.cdninstagram.com\\/hphotos-xft1\\/t51.2885-19\\/11821879_1455959774710633_1122188446_a.jpg\",\"id\":\"12907186\",\"full_name\":\"Lauren Hubener\"},{\"username\":\"zackackack\",\"profile_picture\":\"https:\\/\\/scontent.cdninstagram.com\\/hphotos-xfa1\\/t51.2885-19\\/10895036_1586041238276117_1933809368_a.jpg\",\"id\":\"12849603\",\"full_name\":\"Zack\"},{\"username\":\"the_kylejohnson\",\"profile_picture\":\"https:\\/\\/scontent.cdninstagram.com\\/hphotos-xap1\\/t51.2885-19\\/11311542_738766199566140_824035672_a.jpg\",\"id\":\"2225049\",\"full_name\":\"Kyle Johnson\"}]},\"images\":{\"low_resolution\":{\"url\":\"https:\\/\\/scontent.cdninstagram.com\\/hphotos-xpt1\\/t51.2885-15\\/s320x320\\/e35\\/12353232_1006491422726544_2079626069_n.jpg\",\"width\":320,\"height\":320},\"thumbnail\":{\"url\":\"https:\\/\\/scontent.cdninstagram.com\\/hphotos-xfp1\\/t51.2885-15\\/s150x150\\/e35\\/c135.0.810.810\\/12338976_1663565883899521_1941962243_n.jpg\",\"width\":150,\"height\":150},\"standard_resolution\":{\"url\":\"https:\\/\\/scontent.cdninstagram.com\\/hphotos-xpt1\\/t51.2885-15\\/s640x640\\/sh0.08\\/e35\\/12353232_1006491422726544_2079626069_n.jpg\",\"width\":640,\"height\":640}},\"users_in_photo\":[],\"caption\":{\"created_time\":\"1449727601\",\"text\":\"That day we found the perfect \\ud83c\\udf32\",\"from\":{\"username\":\"beadunn\",\"profile_picture\":\"https:\\/\\/scontent.cdninstagram.com\\/hphotos-xft1\\/t51.2885-19\\/10483537_483732595091491_2066221847_a.jpg\",\"id\":\"305815078\",\"full_name\":\"Brittany Dunn\"},\"id\":\"1136720484616977952\"},\"user_has_liked\":false,\"id\":\"1136719968801471525_305815078\",\"user\":{\"username\":\"beadunn\",\"profile_picture\":\"https:\\/\\/scontent.cdninstagram.com\\/hphotos-xft1\\/t51.2885-19\\/10483537_483732595091491_2066221847_a.jpg\",\"id\":\"305815078\",\"full_name\":\"Brittany Dunn\"}},{\"attribution\":null,\"tags\":[],\"type\":\"image\",\"location\":{\"latitude\":37.81145,\"name\":\"Grand Lake Theatre\",\"longitude\":-122.24747,\"id\":413565017},\"comments\":{\"count\":0,\"data\":[]},\"filter\":\"Normal\",\"created_time\":\"1449726988\",\"link\":\"https:\\/\\/www.instagram.com\\/p\\/_GbBxEIArO\\/\",\"likes\":{\"count\":20,\"data\":[{\"username\":\"ssamuels23\",\"profile_picture\":\"https:\\/\\/scontent.cdninstagram.com\\/hphotos-xpa1\\/t51.2885-19\\/s150x150\\/11375352_1049751135069404_51539662_a.jpg\",\"id\":\"39824081\",\"full_name\":\"shaun  samuels\"},{\"username\":\"tiffanytyanne\",\"profile_picture\":\"https:\\/\\/scontent.cdninstagram.com\\/hphotos-xat1\\/t51.2885-19\\/s150x150\\/12269756_919404914818335_1975272384_a.jpg\",\"id\":\"196820874\",\"full_name\":\"TT|5'9 \\u0026 Legit\\u2122\"},{\"username\":\"rostini_bobini\",\"profile_picture\":\"https:\\/\\/scontent.cdninstagram.com\\/hphotos-xat1\\/t51.2885-19\\/11084816_377619815756213_1694487527_a.jpg\",\"id\":\"48637899\",\"full_name\":\"Rostini\"},{\"username\":\"bratttyasss\",\"profile_picture\":\"https:\\/\\/scontent.cdninstagram.com\\/hphotos-xpt1\\/t51.2885-19\\/s150x150\\/11421857_903077453062595_918895655_a.jpg\",\"id\":\"212860991\",\"full_name\":\"putta\"}]},\"images\":{\"low_resolution\":{\"url\":\"https:\\/\\/scontent.cdninstagram.com\\/hphotos-xfp1\\/t51.2885-15\\/s320x320\\/e35\\/12338675_1542314862726181_8387053_n.jpg\",\"width\":320,\"height\":320},\"thumbnail\":{\"url\":\"https:\\/\\/scontent.cdninstagram.com\\/hphotos-xfp1\\/t51.2885-15\\/s150x150\\/e35\\/12338675_1542314862726181_8387053_n.jpg\",\"width\":150,\"height\":150},\"standard_resolution\":{\"url\":\"https:\\/\\/scontent.cdninstagram.com\\/hphotos-xfp1\\/t51.2885-15\\/s640x640\\/sh0.08\\/e35\\/12338675_1542314862726181_8387053_n.jpg\",\"width\":640,\"height\":640}},\"users_in_photo\":[],\"caption\":null,\"user_has_liked\":false,\"id\":\"1136714824615463630_29487049\",\"user\":{\"username\":\"jandro_48\",\"profile_picture\":\"https:\\/\\/scontent.cdninstagram.com\\/hphotos-xft1\\/t51.2885-19\\/11008357_377905525731063_1507959140_a.jpg\",\"id\":\"29487049\",\"full_name\":\"\"}},{\"attribution\":null,\"tags\":[],\"type\":\"image\",\"location\":{\"latitude\":37.7926407,\"name\":\"Urban Fitness\",\"longitude\":-122.2684937,\"id\":2273782},\"comments\":{\"count\":0,\"data\":[]},\"filter\":\"Lark\",\"created_time\":\"1449726524\",\"link\":\"https:\\/\\/www.instagram.com\\/p\\/_GaJFvQd1n\\/\",\"likes\":{\"count\":7,\"data\":[{\"username\":\"sugarfreeoreo\",\"profile_picture\":\"https:\\/\\/scontent.cdninstagram.com\\/hphotos-xap1\\/t51.2885-19\\/s150x150\\/11352933_863654753726214_64130278_a.jpg\",\"id\":\"11217345\",\"full_name\":\"Kim Carter Martinez\"},{\"username\":\"hello.victor\",\"profile_picture\":\"https:\\/\\/scontent.cdninstagram.com\\/hphotos-xat1\\/t51.2885-19\\/s150x150\\/11875291_626997360736193_1936030437_a.jpg\",\"id\":\"20959207\",\"full_name\":\"v \\/ stay hungry \\ud83c\\uddfa\\ud83c\\uddf8\"},{\"username\":\"ksjpix\",\"profile_picture\":\"https:\\/\\/scontent.cdninstagram.com\\/hphotos-xfa1\\/t51.2885-19\\/11024100_398536786993859_1809644032_a.jpg\",\"id\":\"32815534\",\"full_name\":\"Kola\"},{\"username\":\"tekntonk\",\"profile_picture\":\"https:\\/\\/scontent.cdninstagram.com\\/hphotos-xtp1\\/t51.2885-19\\/s150x150\\/11887138_878349028919116_32218006_a.jpg\",\"id\":\"35183433\",\"full_name\":\"tekntonk\"}]},\"images\":{\"low_resolution\":{\"url\":\"https:\\/\\/scontent.cdninstagram.com\\/hphotos-xpt1\\/t51.2885-15\\/s320x320\\/e35\\/12317470_941315765958295_1171980166_n.jpg\",\"width\":320,\"height\":320},\"thumbnail\":{\"url\":\"https:\\/\\/scontent.cdninstagram.com\\/hphotos-xft1\\/t51.2885-15\\/s150x150\\/e35\\/c63.0.953.953\\/12338728_511086249068376_1481439912_n.jpg\",\"width\":150,\"height\":150},\"standard_resolution\":{\"url\":\"https:\\/\\/scontent.cdninstagram.com\\/hphotos-xpt1\\/t51.2885-15\\/s640x640\\/sh0.08\\/e35\\/12317470_941315765958295_1171980166_n.jpg\",\"width\":640,\"height\":640}},\"users_in_photo\":[],\"caption\":{\"created_time\":\"1449726524\",\"text\":\"Team Training only has one speed: Beast.\",\"from\":{\"username\":\"urbanfitnessoakland\",\"profile_picture\":\"https:\\/\\/scontent.cdninstagram.com\\/hphotos-xta1\\/t51.2885-19\\/11356970_1675631706004369_241190990_a.jpg\",\"id\":\"206814214\",\"full_name\":\"Urban Fitness Oakland\"},\"id\":\"1136711223337934196\"},\"user_has_liked\":false,\"id\":\"1136710929803763047_206814214\",\"user\":{\"username\":\"urbanfitnessoakland\",\"profile_picture\":\"https:\\/\\/scontent.cdninstagram.com\\/hphotos-xta1\\/t51.2885-19\\/11356970_1675631706004369_241190990_a.jpg\",\"id\":\"206814214\",\"full_name\":\"Urban Fitness Oakland\"}},{\"attribution\":null,\"tags\":[],\"type\":\"image\",\"location\":{\"latitude\":37.805536344,\"name\":\"Lake Merritt, Oakland CA\",\"longitude\":-122.254301678,\"id\":242335},\"comments\":{\"count\":1,\"data\":[{\"created_time\":\"1449727030\",\"text\":\"Babes all around\",\"from\":{\"username\":\"rosiereese\",\"profile_picture\":\"https:\\/\\/scontent.cdninstagram.com\\/hphotos-xap1\\/t51.2885-19\\/s150x150\\/11232639_773378836117677_449804011_a.jpg\",\"id\":\"31572249\",\"full_name\":\"rosiereese\"},\"id\":\"1136715173924769489\"}]},\"filter\":\"Normal\",\"created_time\":\"1449726204\",\"link\":\"https:\\/\\/www.instagram.com\\/p\\/_GZiFPFQxE\\/\",\"likes\":{\"count\":14,\"data\":[{\"username\":\"rosiereese\",\"profile_picture\":\"https:\\/\\/scontent.cdninstagram.com\\/hphotos-xap1\\/t51.2885-19\\/s150x150\\/11232639_773378836117677_449804011_a.jpg\",\"id\":\"31572249\",\"full_name\":\"rosiereese\"},{\"username\":\"churppalater\",\"profile_picture\":\"https:\\/\\/scontent.cdninstagram.com\\/hphotos-xpt1\\/t51.2885-19\\/s150x150\\/11925898_494337804060105_22055084_a.jpg\",\"id\":\"32055472\",\"full_name\":\"Serah\"},{\"username\":\"e.stoecker\",\"profile_picture\":\"https:\\/\\/scontent.cdninstagram.com\\/hphotos-xtp1\\/t51.2885-19\\/s150x150\\/11374157_1491335447834772_604012435_a.jpg\",\"id\":\"18965602\",\"full_name\":\"\"},{\"username\":\"verysmallwitch\",\"profile_picture\":\"https:\\/\\/scontent.cdninstagram.com\\/hphotos-xft1\\/t51.2885-19\\/s150x150\\/12093441_714293285337859_897487078_a.jpg\",\"id\":\"17697911\",\"full_name\":\"Amanda\"}]},\"images\":{\"low_resolution\":{\"url\":\"https:\\/\\/scontent.cdninstagram.com\\/hphotos-xfp1\\/t51.2885-15\\/s320x320\\/e35\\/12357438_783814498396963_790237212_n.jpg\",\"width\":320,\"height\":320},\"thumbnail\":{\"url\":\"https:\\/\\/scontent.cdninstagram.com\\/hphotos-xfp1\\/t51.2885-15\\/s150x150\\/e35\\/12357438_783814498396963_790237212_n.jpg\",\"width\":150,\"height\":150},\"standard_resolution\":{\"url\":\"https:\\/\\/scontent.cdninstagram.com\\/hphotos-xfp1\\/t51.2885-15\\/s640x640\\/sh0.08\\/e35\\/12357438_783814498396963_790237212_n.jpg\",\"width\":640,\"height\":640}},\"users_in_photo\":[{\"position\":{\"y\":0.365333333,\"x\":0.836},\"user\":{\"username\":\"sarah_cha_cha\",\"profile_picture\":\"https:\\/\\/scontent.cdninstagram.com\\/hphotos-xaf1\\/t51.2885-19\\/11351722_842427689155635_1155144566_a.jpg\",\"id\":\"1431363258\",\"full_name\":\"Sarah Pascoe\"}}],\"caption\":{\"created_time\":\"1449726204\",\"text\":\"Elf yourself\",\"from\":{\"username\":\"biddybeep\",\"profile_picture\":\"https:\\/\\/scontent.cdninstagram.com\\/hphotos-xtf1\\/t51.2885-19\\/s150x150\\/11352060_509268099232012_1147517786_a.jpg\",\"id\":\"33776346\",\"full_name\":\"Alicia Carney\"},\"id\":\"1136708256124964198\"},\"user_has_liked\":false,\"id\":\"1136708249204362308_33776346\",\"user\":{\"username\":\"biddybeep\",\"profile_picture\":\"https:\\/\\/scontent.cdninstagram.com\\/hphotos-xtf1\\/t51.2885-19\\/s150x150\\/11352060_509268099232012_1147517786_a.jpg\",\"id\":\"33776346\",\"full_name\":\"Alicia Carney\"}},{\"attribution\":null,\"tags\":[\"firstworldcatproblems\"],\"type\":\"image\",\"location\":{\"latitude\":37.805536344,\"name\":\"Lake Merritt, Oakland CA\",\"longitude\":-122.254301678,\"id\":242335},\"comments\":{\"count\":0,\"data\":[]},\"filter\":\"Juno\",\"created_time\":\"1449725860\",\"link\":\"https:\\/\\/www.instagram.com\\/p\\/_GY4EEx4x6\\/\",\"likes\":{\"count\":4,\"data\":[{\"username\":\"mpollinger\",\"profile_picture\":\"https:\\/\\/scontent.cdninstagram.com\\/hphotos-xap1\\/t51.2885-19\\/11248740_1633845190165984_1646058906_a.jpg\",\"id\":\"24156660\",\"full_name\":\"\\ud83d\\udc97\\ud83c\\udf70\\ud83d\\udc36\\ud83d\\udc3a\\ud83d\\udc36\"},{\"username\":\"runbmcee\",\"profile_picture\":\"https:\\/\\/scontent.cdninstagram.com\\/hphotos-xta1\\/t51.2885-19\\/s150x150\\/11324477_398341633695392_241116431_a.jpg\",\"id\":\"16373628\",\"full_name\":\"Berkeley with my \\ud83d\\udeb6\\ud83c\\udffc\\u0026 \\ud83d\\ude3b\"},{\"username\":\"pjluxe00\",\"profile_picture\":\"https:\\/\\/scontent.cdninstagram.com\\/hphotos-xfa1\\/t51.2885-19\\/1941298_1508840392776057_398595943_a.jpg\",\"id\":\"2051230308\",\"full_name\":\"alli yates \\ud83d\\udc21\\ud83d\\ude10\\ud83d\\udc85\"},{\"username\":\"wynotjo\",\"profile_picture\":\"https:\\/\\/scontent.cdninstagram.com\\/hphotos-xaf1\\/t51.2885-19\\/10890877_534126953369185_1828202371_a.jpg\",\"id\":\"1638974733\",\"full_name\":\"\"}]},\"images\":{\"low_resolution\":{\"url\":\"https:\\/\\/scontent.cdninstagram.com\\/hphotos-xfp1\\/t51.2885-15\\/s320x320\\/e35\\/12317397_786934958102782_1737616248_n.jpg\",\"width\":320,\"height\":320},\"thumbnail\":{\"url\":\"https:\\/\\/scontent.cdninstagram.com\\/hphotos-xfp1\\/t51.2885-15\\/s150x150\\/e35\\/12317397_786934958102782_1737616248_n.jpg\",\"width\":150,\"height\":150},\"standard_resolution\":{\"url\":\"https:\\/\\/scontent.cdninstagram.com\\/hphotos-xfp1\\/t51.2885-15\\/s640x640\\/sh0.08\\/e35\\/12317397_786934958102782_1737616248_n.jpg\",\"width\":640,\"height\":640}},\"users_in_photo\":[],\"caption\":{\"created_time\":\"1449725860\",\"text\":\"When that girl you live with builds her dollhouse on your fave sleeping spot. #firstworldcatproblems\",\"from\":{\"username\":\"even.number.years\",\"profile_picture\":\"https:\\/\\/scontent.cdninstagram.com\\/hphotos-xtf1\\/t51.2885-19\\/s150x150\\/11856778_849931955122982_256960420_a.jpg\",\"id\":\"2058764578\",\"full_name\":\"\"},\"id\":\"1136705368408690289\"},\"user_has_liked\":false,\"id\":\"1136705361739746426_2058764578\",\"user\":{\"username\":\"even.number.years\",\"profile_picture\":\"https:\\/\\/scontent.cdninstagram.com\\/hphotos-xtf1\\/t51.2885-19\\/s150x150\\/11856778_849931955122982_256960420_a.jpg\",\"id\":\"2058764578\",\"full_name\":\"\"}}]}\n",
      "  </p>\n",
      " </body>\n",
      "</html>\n"
     ]
    }
   ],
   "source": [
    "soup = BeautifulSoup(src)\n",
    "# take a look\n",
    "print soup.prettify()"
   ]
  },
  {
   "cell_type": "code",
   "execution_count": 19,
   "metadata": {
    "collapsed": false
   },
   "outputs": [
    {
     "ename": "ImportError",
     "evalue": "No module named selenium.webdriver",
     "output_type": "error",
     "traceback": [
      "\u001b[0;31m---------------------------------------------------------------------------\u001b[0m",
      "\u001b[0;31mImportError\u001b[0m                               Traceback (most recent call last)",
      "\u001b[0;32m<ipython-input-19-c4ca1b49ec39>\u001b[0m in \u001b[0;36m<module>\u001b[0;34m()\u001b[0m\n\u001b[1;32m      1\u001b[0m \u001b[0;32mfrom\u001b[0m \u001b[0mbs4\u001b[0m \u001b[0;32mimport\u001b[0m \u001b[0mBeautifulSoup\u001b[0m\u001b[0;34m\u001b[0m\u001b[0m\n\u001b[0;32m----> 2\u001b[0;31m \u001b[0;32mimport\u001b[0m \u001b[0mselenium\u001b[0m\u001b[0;34m.\u001b[0m\u001b[0mwebdriver\u001b[0m \u001b[0;32mas\u001b[0m \u001b[0mwebdriver\u001b[0m\u001b[0;34m\u001b[0m\u001b[0m\n\u001b[0m\u001b[1;32m      3\u001b[0m \u001b[0;34m\u001b[0m\u001b[0m\n\u001b[1;32m      4\u001b[0m \u001b[0murl\u001b[0m \u001b[0;34m=\u001b[0m \u001b[0;34m'http://instagram.com/umnpics/'\u001b[0m\u001b[0;34m\u001b[0m\u001b[0m\n\u001b[1;32m      5\u001b[0m \u001b[0mdriver\u001b[0m \u001b[0;34m=\u001b[0m \u001b[0mwebdriver\u001b[0m\u001b[0;34m.\u001b[0m\u001b[0mFirefox\u001b[0m\u001b[0;34m(\u001b[0m\u001b[0;34m)\u001b[0m\u001b[0;34m\u001b[0m\u001b[0m\n",
      "\u001b[0;31mImportError\u001b[0m: No module named selenium.webdriver"
     ]
    }
   ],
   "source": [
    "from bs4 import BeautifulSoup\n",
    "import selenium.webdriver as webdriver\n",
    "\n",
    "url = 'http://instagram.com/umnpics/'\n",
    "driver = webdriver.Firefox()\n",
    "driver.get(url)\n",
    "\n",
    "soup = BeautifulSoup(driver.page_source)\n",
    "\n",
    "for x in soup.findAll('li', {'class':'photo'}):\n",
    "    print x"
   ]
  },
  {
   "cell_type": "code",
   "execution_count": null,
   "metadata": {
    "collapsed": true
   },
   "outputs": [],
   "source": []
  },
  {
   "cell_type": "code",
   "execution_count": null,
   "metadata": {
    "collapsed": true
   },
   "outputs": [],
   "source": []
  },
  {
   "cell_type": "code",
   "execution_count": null,
   "metadata": {
    "collapsed": true
   },
   "outputs": [],
   "source": []
  },
  {
   "cell_type": "code",
   "execution_count": null,
   "metadata": {
    "collapsed": true
   },
   "outputs": [],
   "source": []
  },
  {
   "cell_type": "code",
   "execution_count": 14,
   "metadata": {
    "collapsed": false
   },
   "outputs": [
    {
     "ename": "NameError",
     "evalue": "name 'x' is not defined",
     "output_type": "error",
     "traceback": [
      "\u001b[0;31m---------------------------------------------------------------------------\u001b[0m",
      "\u001b[0;31mNameError\u001b[0m                                 Traceback (most recent call last)",
      "\u001b[0;32m<ipython-input-14-401b30e3b8b5>\u001b[0m in \u001b[0;36m<module>\u001b[0;34m()\u001b[0m\n\u001b[0;32m----> 1\u001b[0;31m \u001b[0mx\u001b[0m\u001b[0;34m\u001b[0m\u001b[0m\n\u001b[0m",
      "\u001b[0;31mNameError\u001b[0m: name 'x' is not defined"
     ]
    }
   ],
   "source": [
    "x"
   ]
  },
  {
   "cell_type": "code",
   "execution_count": null,
   "metadata": {
    "collapsed": true
   },
   "outputs": [],
   "source": []
  },
  {
   "cell_type": "code",
   "execution_count": 10,
   "metadata": {
    "collapsed": false
   },
   "outputs": [
    {
     "data": {
      "text/plain": [
       "45940"
      ]
     },
     "execution_count": 10,
     "metadata": {},
     "output_type": "execute_result"
    }
   ],
   "source": [
    "len(soup.prettify())"
   ]
  },
  {
   "cell_type": "code",
   "execution_count": null,
   "metadata": {
    "collapsed": true
   },
   "outputs": [],
   "source": []
  },
  {
   "cell_type": "code",
   "execution_count": null,
   "metadata": {
    "collapsed": true
   },
   "outputs": [],
   "source": []
  },
  {
   "cell_type": "code",
   "execution_count": null,
   "metadata": {
    "collapsed": true
   },
   "outputs": [],
   "source": []
  },
  {
   "cell_type": "code",
   "execution_count": null,
   "metadata": {
    "collapsed": true
   },
   "outputs": [],
   "source": []
  },
  {
   "cell_type": "code",
   "execution_count": null,
   "metadata": {
    "collapsed": true
   },
   "outputs": [],
   "source": []
  },
  {
   "cell_type": "code",
   "execution_count": null,
   "metadata": {
    "collapsed": true
   },
   "outputs": [],
   "source": []
  },
  {
   "cell_type": "code",
   "execution_count": null,
   "metadata": {
    "collapsed": true
   },
   "outputs": [],
   "source": []
  },
  {
   "cell_type": "markdown",
   "metadata": {},
   "source": [
    "## Step 2: Soup it\n",
    "\n",
    "Now we use the `BeautifulSoup` function to parse the reponse into an HTML tree. This returns an object (called a **soup object**) which contains all of the HTML in the original document."
   ]
  },
  {
   "cell_type": "code",
   "execution_count": 12,
   "metadata": {
    "collapsed": false
   },
   "outputs": [
    {
     "name": "stdout",
     "output_type": "stream",
     "text": [
      "<html>\n",
      " <body>\n",
      "  <p>\n",
      "   {\"meta\":{\"code\":200},\"data\":[{\"attribution\":null,\"tags\":[],\"type\":\"image\",\"location\":{\"latitude\":37.8044,\"name\":\"Oakland, California\",\"longitude\":-122.271,\"id\":213051194},\"comments\":{\"count\":0,\"data\":[]},\"filter\":\"Normal\",\"created_time\":\"1449733698\",\"link\":\"https:\\/\\/www.instagram.com\\/p\\/_Gn03tycoX\\/\",\"likes\":{\"count\":0,\"data\":[]},\"images\":{\"low_resolution\":{\"url\":\"https:\\/\\/scontent.cdninstagram.com\\/hphotos-xfa1\\/t51.2885-15\\/s320x320\\/e35\\/12338998_533060623523595_36309348_n.jpg\",\"width\":320,\"height\":320},\"thumbnail\":{\"url\":\"https:\\/\\/scontent.cdninstagram.com\\/hphotos-xfa1\\/t51.2885-15\\/s150x150\\/e35\\/12338998_533060623523595_36309348_n.jpg\",\"width\":150,\"height\":150},\"standard_resolution\":{\"url\":\"https:\\/\\/scontent.cdninstagram.com\\/hphotos-xfa1\\/t51.2885-15\\/s640x640\\/sh0.08\\/e35\\/12338998_533060623523595_36309348_n.jpg\",\"width\":640,\"height\":640}},\"users_in_photo\":[],\"caption\":{\"created_time\":\"1449733698\",\"text\":\"I miss my kids so much!!! It's my fault tha\n"
     ]
    }
   ],
   "source": [
    "# parse the response into an HTML tree\n",
    "soup = BeautifulSoup(src)\n",
    "# take a look\n",
    "print soup.prettify()[:1000]\n"
   ]
  },
  {
   "cell_type": "code",
   "execution_count": null,
   "metadata": {
    "collapsed": true
   },
   "outputs": [],
   "source": []
  },
  {
   "cell_type": "code",
   "execution_count": null,
   "metadata": {
    "collapsed": true
   },
   "outputs": [],
   "source": []
  },
  {
   "cell_type": "markdown",
   "metadata": {},
   "source": [
    "## Step 3: Find Elements\n",
    "\n",
    "BeautifulSoup has a number of functions to find things on a page. Like other webscraping tools, Beautiful Soup lets you find elements by their:\n",
    "\n",
    "1. HTML tags\n",
    "2. HTML Attributes\n",
    "3. CSS Selectors\n",
    "\n",
    "\n",
    "Let's search first for **HTML tags**. \n",
    "\n",
    "The function `find_all` searches the `soup` tree to find all the elements with an a particular HTML tag, and returns all of those elements.\n",
    "\n",
    "What does the example below do?"
   ]
  },
  {
   "cell_type": "code",
   "execution_count": 5,
   "metadata": {
    "collapsed": false
   },
   "outputs": [
    {
     "data": {
      "text/plain": [
       "[<a href=\"/default.asp\"><img alt=\"Illinois General Assembly\" border=\"0\" height=\"49\" src=\"/images/logo_sm.gif\" width=\"462\"/></a>,\n",
       " <a class=\"mainmenu\" href=\"/\">Home</a>,\n",
       " <a class=\"mainmenu\" href=\"/legislation/\" onblur=\"HM_f_PopDown('elMenu1')\" onfocus=\"HM_f_PopUp('elMenu1',event)\" onmouseout=\"HM_f_PopDown('elMenu1')\" onmouseover=\"HM_f_PopUp('elMenu1',event)\">Legislation &amp; Laws</a>,\n",
       " <a class=\"mainmenu\" href=\"/senate/\" onblur=\"HM_f_PopDown('elMenu3')\" onfocus=\"HM_f_PopUp('elMenu3',event)\" onmouseout=\"HM_f_PopDown('elMenu3')\" onmouseover=\"HM_f_PopUp('elMenu3',event)\">Senate</a>,\n",
       " <a class=\"mainmenu\" href=\"/house/\" onblur=\"HM_f_PopDown('elMenu2')\" onfocus=\"HM_f_PopUp('elMenu2',event)\" onmouseout=\"HM_f_PopDown('elMenu2')\" onmouseover=\"HM_f_PopUp('elMenu2',event)\">House</a>,\n",
       " <a class=\"mainmenu\" href=\"/mylegislation/\" onblur=\"HM_f_PopDown('elMenu4')\" onfocus=\"HM_f_PopUp('elMenu4',event)\" onmouseout=\"HM_f_PopDown('elMenu4')\" onmouseover=\"HM_f_PopUp('elMenu4',event)\">My Legislation</a>,\n",
       " <a class=\"mainmenu\" href=\"/sitemap.asp\">Site Map</a>,\n",
       " <a class=\"sidemenu\" href=\"/senate/default.asp\">  Members  </a>,\n",
       " <a class=\"sidemenu\" href=\"/senate/committees/default.asp\">  Committees  </a>,\n",
       " <a class=\"sidemenu\" href=\"/senate/schedules/default.asp\">  Schedules  </a>,\n",
       " <a class=\"sidemenu\" href=\"/senate/journals/default.asp\">  Journals  </a>,\n",
       " <a class=\"sidemenu\" href=\"/senate/transcripts/default.asp\">  Transcripts  </a>,\n",
       " <a class=\"sidemenu\" href=\"/senate/rules.asp\">  Rules  </a>,\n",
       " <a class=\"sidemenu\" href=\"/senate/audvid.asp\">  Live Audio/Video  </a>,\n",
       " <a href=\"99GA_Senate_Leadership.pdf\">Leadership</a>,\n",
       " <a href=\"99GA_Senate_Officers.pdf\">Officers</a>,\n",
       " <a href=\"99GA_Senate_Seating_Chart.pdf\">Senate Seating Chart</a>,\n",
       " <a class=\"filetab\" href=\"javascript:Sort('LastName','',99);\" title=\"Sort by Senator\">Senator</a>,\n",
       " <a class=\"filetab\" href=\"javascript:Sort('DistrictNumber','',99);\" title=\"Sort by District\">District</a>,\n",
       " <a class=\"filetab\" href=\"javascript:Sort('Party','',99);\" title=\"Sort by Party\">Party</a>,\n",
       " <a href=\"/senate/Senator.asp?GA=99&amp;MemberID=2130\">Pamela J. Althoff</a>,\n",
       " <a href=\"SenatorBills.asp?MemberID=2130\">Bills</a>,\n",
       " <a href=\"SenCommittees.asp?MemberID=2130\">Committees</a>,\n",
       " <a href=\"/senate/Senator.asp?GA=99&amp;MemberID=2275\">Neil Anderson</a>,\n",
       " <a href=\"SenatorBills.asp?MemberID=2275\">Bills</a>,\n",
       " <a href=\"SenCommittees.asp?MemberID=2275\">Committees</a>,\n",
       " <a href=\"/senate/Senator.asp?GA=99&amp;MemberID=2208\">Jason A. Barickman</a>,\n",
       " <a href=\"SenatorBills.asp?MemberID=2208\">Bills</a>,\n",
       " <a href=\"SenCommittees.asp?MemberID=2208\">Committees</a>,\n",
       " <a href=\"/senate/Senator.asp?GA=99&amp;MemberID=2276\">Scott M. Bennett</a>,\n",
       " <a href=\"SenatorBills.asp?MemberID=2276\">Bills</a>,\n",
       " <a href=\"SenCommittees.asp?MemberID=2276\">Committees</a>,\n",
       " <a href=\"/senate/Senator.asp?GA=99&amp;MemberID=2210\">Jennifer Bertino-Tarrant</a>,\n",
       " <a href=\"SenatorBills.asp?MemberID=2210\">Bills</a>,\n",
       " <a href=\"SenCommittees.asp?MemberID=2210\">Committees</a>,\n",
       " <a href=\"/senate/Senator.asp?GA=99&amp;MemberID=2209\">Daniel Biss</a>,\n",
       " <a href=\"SenatorBills.asp?MemberID=2209\">Bills</a>,\n",
       " <a href=\"SenCommittees.asp?MemberID=2209\">Committees</a>,\n",
       " <a href=\"/senate/Senator.asp?GA=99&amp;MemberID=2160\">Tim Bivins</a>,\n",
       " <a href=\"SenatorBills.asp?MemberID=2160\">Bills</a>,\n",
       " <a href=\"SenCommittees.asp?MemberID=2160\">Committees</a>,\n",
       " <a href=\"/senate/Senator.asp?GA=99&amp;MemberID=2108\">William E. Brady</a>,\n",
       " <a href=\"SenatorBills.asp?MemberID=2108\">Bills</a>,\n",
       " <a href=\"SenCommittees.asp?MemberID=2108\">Committees</a>,\n",
       " <a href=\"/senate/Senator.asp?GA=99&amp;MemberID=2211\">Melinda Bush</a>,\n",
       " <a href=\"SenatorBills.asp?MemberID=2211\">Bills</a>,\n",
       " <a href=\"SenCommittees.asp?MemberID=2211\">Committees</a>,\n",
       " <a href=\"/senate/Senator.asp?GA=99&amp;MemberID=2097\">James F. Clayborne, Jr.</a>,\n",
       " <a href=\"SenatorBills.asp?MemberID=2097\">Bills</a>,\n",
       " <a href=\"SenCommittees.asp?MemberID=2097\">Committees</a>,\n",
       " <a href=\"/senate/Senator.asp?GA=99&amp;MemberID=2123\">Jacqueline Y. Collins</a>,\n",
       " <a href=\"SenatorBills.asp?MemberID=2123\">Bills</a>,\n",
       " <a href=\"SenCommittees.asp?MemberID=2123\">Committees</a>,\n",
       " <a href=\"/senate/Senator.asp?GA=99&amp;MemberID=2212\">Michael Connelly</a>,\n",
       " <a href=\"SenatorBills.asp?MemberID=2212\">Bills</a>,\n",
       " <a href=\"SenCommittees.asp?MemberID=2212\">Committees</a>,\n",
       " <a href=\"/senate/Senator.asp?GA=99&amp;MemberID=2098\">John J. Cullerton</a>,\n",
       " <a href=\"SenatorBills.asp?MemberID=2098\">Bills</a>,\n",
       " <a href=\"SenCommittees.asp?MemberID=2098\">Committees</a>,\n",
       " <a href=\"/senate/Senator.asp?GA=99&amp;MemberID=2213\">Thomas Cullerton</a>,\n",
       " <a href=\"SenatorBills.asp?MemberID=2213\">Bills</a>,\n",
       " <a href=\"SenCommittees.asp?MemberID=2213\">Committees</a>,\n",
       " <a href=\"/senate/Senator.asp?GA=99&amp;MemberID=2214\">Bill Cunningham</a>,\n",
       " <a href=\"SenatorBills.asp?MemberID=2214\">Bills</a>,\n",
       " <a href=\"SenCommittees.asp?MemberID=2214\">Committees</a>,\n",
       " <a href=\"/senate/Senator.asp?GA=99&amp;MemberID=2144\">William Delgado</a>,\n",
       " <a href=\"SenatorBills.asp?MemberID=2144\">Bills</a>,\n",
       " <a href=\"SenCommittees.asp?MemberID=2144\">Committees</a>,\n",
       " <a href=\"/senate/Senator.asp?GA=99&amp;MemberID=2170\">Dan Duffy</a>,\n",
       " <a href=\"SenatorBills.asp?MemberID=2170\">Bills</a>,\n",
       " <a href=\"SenCommittees.asp?MemberID=2170\">Committees</a>,\n",
       " <a href=\"/senate/Senator.asp?GA=99&amp;MemberID=2133\">Gary Forby</a>,\n",
       " <a href=\"SenatorBills.asp?MemberID=2133\">Bills</a>,\n",
       " <a href=\"SenCommittees.asp?MemberID=2133\">Committees</a>,\n",
       " <a href=\"/senate/Senator.asp?GA=99&amp;MemberID=2128\">William R. Haine</a>,\n",
       " <a href=\"SenatorBills.asp?MemberID=2128\">Bills</a>,\n",
       " <a href=\"SenCommittees.asp?MemberID=2128\">Committees</a>,\n",
       " <a href=\"/senate/Senator.asp?GA=99&amp;MemberID=2125\">Don Harmon</a>,\n",
       " <a href=\"SenatorBills.asp?MemberID=2125\">Bills</a>,\n",
       " <a href=\"SenCommittees.asp?MemberID=2125\">Committees</a>,\n",
       " <a href=\"/senate/Senator.asp?GA=99&amp;MemberID=2215\">Napoleon Harris, III</a>,\n",
       " <a href=\"SenatorBills.asp?MemberID=2215\">Bills</a>,\n",
       " <a href=\"SenCommittees.asp?MemberID=2215\">Committees</a>,\n",
       " <a href=\"/senate/Senator.asp?GA=99&amp;MemberID=2216\">Michael E. Hastings</a>,\n",
       " <a href=\"SenatorBills.asp?MemberID=2216\">Bills</a>,\n",
       " <a href=\"SenCommittees.asp?MemberID=2216\">Committees</a>,\n",
       " <a href=\"/senate/Senator.asp?GA=99&amp;MemberID=2150\">Linda Holmes</a>,\n",
       " <a href=\"SenatorBills.asp?MemberID=2150\">Bills</a>,\n",
       " <a href=\"SenCommittees.asp?MemberID=2150\">Committees</a>,\n",
       " <a href=\"/senate/Senator.asp?GA=99&amp;MemberID=2129\">Mattie Hunter</a>,\n",
       " <a href=\"SenatorBills.asp?MemberID=2129\">Bills</a>,\n",
       " <a href=\"SenCommittees.asp?MemberID=2129\">Committees</a>,\n",
       " <a href=\"/senate/Senator.asp?GA=99&amp;MemberID=2171\">Toi W. Hutchinson</a>,\n",
       " <a href=\"SenatorBills.asp?MemberID=2171\">Bills</a>,\n",
       " <a href=\"SenCommittees.asp?MemberID=2171\">Committees</a>,\n",
       " <a href=\"/senate/Senator.asp?GA=99&amp;MemberID=2173\">Emil Jones, III</a>,\n",
       " <a href=\"SenatorBills.asp?MemberID=2173\">Bills</a>,\n",
       " <a href=\"SenCommittees.asp?MemberID=2173\">Committees</a>,\n",
       " <a href=\"/senate/Senator.asp?GA=99&amp;MemberID=2152\">David Koehler</a>,\n",
       " <a href=\"SenatorBills.asp?MemberID=2152\">Bills</a>,\n",
       " <a href=\"SenCommittees.asp?MemberID=2152\">Committees</a>,\n",
       " <a href=\"/senate/Senator.asp?GA=99&amp;MemberID=2198\">Steven M. Landek</a>,\n",
       " <a href=\"SenatorBills.asp?MemberID=2198\">Bills</a>,\n",
       " <a href=\"SenCommittees.asp?MemberID=2198\">Committees</a>,\n",
       " <a href=\"/senate/Senator.asp?GA=99&amp;MemberID=2100\">Kimberly A. Lightford</a>,\n",
       " <a href=\"SenatorBills.asp?MemberID=2100\">Bills</a>,\n",
       " <a href=\"SenCommittees.asp?MemberID=2100\">Committees</a>,\n",
       " <a href=\"/senate/Senator.asp?GA=99&amp;MemberID=2101\">Terry Link</a>,\n",
       " <a href=\"SenatorBills.asp?MemberID=2101\">Bills</a>,\n",
       " <a href=\"SenCommittees.asp?MemberID=2101\">Committees</a>,\n",
       " <a href=\"/senate/Senator.asp?GA=99&amp;MemberID=2102\">David S. Luechtefeld</a>,\n",
       " <a href=\"SenatorBills.asp?MemberID=2102\">Bills</a>,\n",
       " <a href=\"SenCommittees.asp?MemberID=2102\">Committees</a>,\n",
       " <a href=\"/senate/Senator.asp?GA=99&amp;MemberID=2217\">Andy Manar</a>,\n",
       " <a href=\"SenatorBills.asp?MemberID=2217\">Bills</a>,\n",
       " <a href=\"SenCommittees.asp?MemberID=2217\">Committees</a>,\n",
       " <a href=\"/senate/Senator.asp?GA=99&amp;MemberID=2124\">Iris Y. Martinez</a>,\n",
       " <a href=\"SenatorBills.asp?MemberID=2124\">Bills</a>,\n",
       " <a href=\"SenCommittees.asp?MemberID=2124\">Committees</a>,\n",
       " <a href=\"/senate/Senator.asp?GA=99&amp;MemberID=2197\">Wm. Sam McCann</a>,\n",
       " <a href=\"SenatorBills.asp?MemberID=2197\">Bills</a>,\n",
       " <a href=\"SenCommittees.asp?MemberID=2197\">Committees</a>,\n",
       " <a href=\"/senate/Senator.asp?GA=99&amp;MemberID=2174\">Kyle McCarter</a>,\n",
       " <a href=\"SenatorBills.asp?MemberID=2174\">Bills</a>,\n",
       " <a href=\"SenCommittees.asp?MemberID=2174\">Committees</a>,\n",
       " <a href=\"/senate/Senator.asp?GA=99&amp;MemberID=2218\">Karen McConnaughay</a>,\n",
       " <a href=\"SenatorBills.asp?MemberID=2218\">Bills</a>,\n",
       " <a href=\"SenCommittees.asp?MemberID=2218\">Committees</a>,\n",
       " <a href=\"/senate/Senator.asp?GA=99&amp;MemberID=2202\">Pat McGuire</a>,\n",
       " <a href=\"SenatorBills.asp?MemberID=2202\">Bills</a>,\n",
       " <a href=\"SenCommittees.asp?MemberID=2202\">Committees</a>,\n",
       " <a href=\"/senate/Senator.asp?GA=99&amp;MemberID=2219\">Julie A. Morrison</a>,\n",
       " <a href=\"SenatorBills.asp?MemberID=2219\">Bills</a>,\n",
       " <a href=\"SenCommittees.asp?MemberID=2219\">Committees</a>,\n",
       " <a href=\"/senate/Senator.asp?GA=99&amp;MemberID=2180\">John G. Mulroe</a>,\n",
       " <a href=\"SenatorBills.asp?MemberID=2180\">Bills</a>,\n",
       " <a href=\"SenCommittees.asp?MemberID=2180\">Committees</a>,\n",
       " <a href=\"/senate/Senator.asp?GA=99&amp;MemberID=2103\">Antonio Muñoz</a>,\n",
       " <a href=\"SenatorBills.asp?MemberID=2103\">Bills</a>,\n",
       " <a href=\"SenCommittees.asp?MemberID=2103\">Committees</a>,\n",
       " <a href=\"/senate/Senator.asp?GA=99&amp;MemberID=2279\">Laura M. Murphy</a>,\n",
       " <a href=\"SenatorBills.asp?MemberID=2279\">Bills</a>,\n",
       " <a href=\"SenCommittees.asp?MemberID=2279\">Committees</a>,\n",
       " <a href=\"/senate/Senator.asp?GA=99&amp;MemberID=2148\">Matt Murphy</a>,\n",
       " <a href=\"SenatorBills.asp?MemberID=2148\">Bills</a>,\n",
       " <a href=\"SenCommittees.asp?MemberID=2148\">Committees</a>,\n",
       " <a href=\"/senate/Senator.asp?GA=99&amp;MemberID=2147\">Michael Noland</a>,\n",
       " <a href=\"SenatorBills.asp?MemberID=2147\">Bills</a>,\n",
       " <a href=\"SenCommittees.asp?MemberID=2147\">Committees</a>,\n",
       " <a href=\"/senate/Senator.asp?GA=99&amp;MemberID=2256\">Chris Nybo</a>,\n",
       " <a href=\"SenatorBills.asp?MemberID=2256\">Bills</a>,\n",
       " <a href=\"SenCommittees.asp?MemberID=2256\">Committees</a>,\n",
       " <a href=\"/senate/Senator.asp?GA=99&amp;MemberID=2220\">Jim Oberweis</a>,\n",
       " <a href=\"SenatorBills.asp?MemberID=2220\">Bills</a>,\n",
       " <a href=\"SenCommittees.asp?MemberID=2220\">Committees</a>,\n",
       " <a href=\"/senate/Senator.asp?GA=99&amp;MemberID=2104\">Christine Radogno</a>,\n",
       " <a href=\"SenatorBills.asp?MemberID=2104\">Bills</a>,\n",
       " <a href=\"SenCommittees.asp?MemberID=2104\">Committees</a>,\n",
       " <a href=\"/senate/Senator.asp?GA=99&amp;MemberID=2135\">Kwame Raoul</a>,\n",
       " <a href=\"SenatorBills.asp?MemberID=2135\">Bills</a>,\n",
       " <a href=\"SenCommittees.asp?MemberID=2135\">Committees</a>,\n",
       " <a href=\"/senate/Senator.asp?GA=99&amp;MemberID=2182\">Sue Rezin</a>,\n",
       " <a href=\"SenatorBills.asp?MemberID=2182\">Bills</a>,\n",
       " <a href=\"SenCommittees.asp?MemberID=2182\">Committees</a>,\n",
       " <a href=\"/senate/Senator.asp?GA=99&amp;MemberID=2127\">Dale A. Righter</a>,\n",
       " <a href=\"SenatorBills.asp?MemberID=2127\">Bills</a>,\n",
       " <a href=\"SenCommittees.asp?MemberID=2127\">Committees</a>,\n",
       " <a href=\"/senate/Senator.asp?GA=99&amp;MemberID=2221\">Chapin Rose</a>,\n",
       " <a href=\"SenatorBills.asp?MemberID=2221\">Bills</a>,\n",
       " <a href=\"SenCommittees.asp?MemberID=2221\">Committees</a>,\n",
       " <a href=\"/senate/Senator.asp?GA=99&amp;MemberID=2122\">Martin A. Sandoval</a>,\n",
       " <a href=\"SenatorBills.asp?MemberID=2122\">Bills</a>,\n",
       " <a href=\"SenCommittees.asp?MemberID=2122\">Committees</a>,\n",
       " <a href=\"/senate/Senator.asp?GA=99&amp;MemberID=2105\">Ira I. Silverstein</a>,\n",
       " <a href=\"SenatorBills.asp?MemberID=2105\">Bills</a>,\n",
       " <a href=\"SenCommittees.asp?MemberID=2105\">Committees</a>,\n",
       " <a href=\"/senate/Senator.asp?GA=99&amp;MemberID=2222\">Steve Stadelman</a>,\n",
       " <a href=\"SenatorBills.asp?MemberID=2222\">Bills</a>,\n",
       " <a href=\"SenCommittees.asp?MemberID=2222\">Committees</a>,\n",
       " <a href=\"/senate/Senator.asp?GA=99&amp;MemberID=2159\">Heather A. Steans</a>,\n",
       " <a href=\"SenatorBills.asp?MemberID=2159\">Bills</a>,\n",
       " <a href=\"SenCommittees.asp?MemberID=2159\">Committees</a>,\n",
       " <a href=\"/senate/Senator.asp?GA=99&amp;MemberID=2126\">John M. Sullivan</a>,\n",
       " <a href=\"SenatorBills.asp?MemberID=2126\">Bills</a>,\n",
       " <a href=\"SenCommittees.asp?MemberID=2126\">Committees</a>,\n",
       " <a href=\"/senate/Senator.asp?GA=99&amp;MemberID=2106\">Dave Syverson</a>,\n",
       " <a href=\"SenatorBills.asp?MemberID=2106\">Bills</a>,\n",
       " <a href=\"SenCommittees.asp?MemberID=2106\">Committees</a>,\n",
       " <a href=\"/senate/Senator.asp?GA=99&amp;MemberID=2107\">Donne E. Trotter</a>,\n",
       " <a href=\"SenatorBills.asp?MemberID=2107\">Bills</a>,\n",
       " <a href=\"SenCommittees.asp?MemberID=2107\">Committees</a>,\n",
       " <a href=\"/senate/Senator.asp?GA=99&amp;MemberID=2223\">Patricia Van Pelt</a>,\n",
       " <a href=\"SenatorBills.asp?MemberID=2223\">Bills</a>,\n",
       " <a href=\"SenCommittees.asp?MemberID=2223\">Committees</a>,\n",
       " <a href=\"/senate/Senator.asp?GA=99&amp;MemberID=2280\">Chuck Weaver</a>,\n",
       " <a href=\"SenatorBills.asp?MemberID=2280\">Bills</a>,\n",
       " <a href=\"SenCommittees.asp?MemberID=2280\">Committees</a>,\n",
       " <a class=\"filetab\" href=\"javascript:Sort('','LastName',99);\" title=\"Sort by Senator\">Senator</a>,\n",
       " <a class=\"filetab\" href=\"javascript:Sort('','DistrictNumber',99);\" title=\"Sort by District\">District</a>,\n",
       " <a class=\"filetab\" href=\"javascript:Sort('','Party',99);\" title=\"Sort by Party\">Party</a>,\n",
       " <a href=\"/senate/Senator.asp?GA=99&amp;MemberID=2149\">Dan Kotowski</a>,\n",
       " <a href=\"SenatorBills.asp?MemberID=2149\">Bills</a>,\n",
       " <a href=\"SenCommittees.asp?MemberID=2149\">Committees</a>,\n",
       " <a href=\"/senate/Senator.asp?GA=99&amp;MemberID=2199\">Darin M. LaHood</a>,\n",
       " <a href=\"SenatorBills.asp?MemberID=2199\">Bills</a>,\n",
       " <a href=\"SenCommittees.asp?MemberID=2199\">Committees</a>,\n",
       " <a href=\"/reports/rptMemberList.asp?gaid=13&amp;ChamberId=S\" target=\"new\">click here</a>,\n",
       " <a class=\"footer\" href=\"/\" title=\"View the General Assembly web site home page\">Home</a>,\n",
       " <a class=\"footer\" href=\"/legislation/\" title=\"View Legislation and Laws\">Legislation &amp; Laws</a>,\n",
       " <a class=\"footer\" href=\"/house/default.asp\" title=\"View information regarding House of Representatives\">House</a>,\n",
       " <a class=\"footer\" href=\"/senate/default.asp\" title=\"View information regarding Senate\">Senate</a>,\n",
       " <a class=\"footer\" href=\"/mylegislation/default.asp\" title=\"Set up customized queries, create reports for tracking, etc.\">My Legislation</a>,\n",
       " <a class=\"footer\" href=\"/disclaimer.asp\" title=\"Disclaimers regarding the Illinois General Assembly web site\">Disclaimers</a>,\n",
       " <a class=\"footer\" href=\"/contact.asp\" title=\"Contact the Illinois General Assembly Web Support Staff\">Email</a>]"
      ]
     },
     "execution_count": 5,
     "metadata": {},
     "output_type": "execute_result"
    }
   ],
   "source": [
    "# find all elements in a certain tag\n",
    "# these two lines of code are equivilant\n",
    "\n",
    "soup.find_all(\"a\")"
   ]
  },
  {
   "cell_type": "markdown",
   "metadata": {},
   "source": [
    "**NB**: Because `find_all()` is the most popular method in the Beautiful Soup search API, you can use a shortcut for it. If you treat the BeautifulSoup object as though it were a function, then it’s the same as calling `find_all()` on that object. These two lines of code are equivalent:"
   ]
  },
  {
   "cell_type": "code",
   "execution_count": 7,
   "metadata": {
    "collapsed": false
   },
   "outputs": [
    {
     "data": {
      "text/plain": [
       "[<a href=\"/default.asp\"><img alt=\"Illinois General Assembly\" border=\"0\" height=\"49\" src=\"/images/logo_sm.gif\" width=\"462\"/></a>,\n",
       " <a class=\"mainmenu\" href=\"/\">Home</a>,\n",
       " <a class=\"mainmenu\" href=\"/legislation/\" onblur=\"HM_f_PopDown('elMenu1')\" onfocus=\"HM_f_PopUp('elMenu1',event)\" onmouseout=\"HM_f_PopDown('elMenu1')\" onmouseover=\"HM_f_PopUp('elMenu1',event)\">Legislation &amp; Laws</a>,\n",
       " <a class=\"mainmenu\" href=\"/senate/\" onblur=\"HM_f_PopDown('elMenu3')\" onfocus=\"HM_f_PopUp('elMenu3',event)\" onmouseout=\"HM_f_PopDown('elMenu3')\" onmouseover=\"HM_f_PopUp('elMenu3',event)\">Senate</a>,\n",
       " <a class=\"mainmenu\" href=\"/house/\" onblur=\"HM_f_PopDown('elMenu2')\" onfocus=\"HM_f_PopUp('elMenu2',event)\" onmouseout=\"HM_f_PopDown('elMenu2')\" onmouseover=\"HM_f_PopUp('elMenu2',event)\">House</a>,\n",
       " <a class=\"mainmenu\" href=\"/mylegislation/\" onblur=\"HM_f_PopDown('elMenu4')\" onfocus=\"HM_f_PopUp('elMenu4',event)\" onmouseout=\"HM_f_PopDown('elMenu4')\" onmouseover=\"HM_f_PopUp('elMenu4',event)\">My Legislation</a>,\n",
       " <a class=\"mainmenu\" href=\"/sitemap.asp\">Site Map</a>,\n",
       " <a class=\"sidemenu\" href=\"/senate/default.asp\">  Members  </a>,\n",
       " <a class=\"sidemenu\" href=\"/senate/committees/default.asp\">  Committees  </a>,\n",
       " <a class=\"sidemenu\" href=\"/senate/schedules/default.asp\">  Schedules  </a>,\n",
       " <a class=\"sidemenu\" href=\"/senate/journals/default.asp\">  Journals  </a>,\n",
       " <a class=\"sidemenu\" href=\"/senate/transcripts/default.asp\">  Transcripts  </a>,\n",
       " <a class=\"sidemenu\" href=\"/senate/rules.asp\">  Rules  </a>,\n",
       " <a class=\"sidemenu\" href=\"/senate/audvid.asp\">  Live Audio/Video  </a>,\n",
       " <a href=\"99GA_Senate_Leadership.pdf\">Leadership</a>,\n",
       " <a href=\"99GA_Senate_Officers.pdf\">Officers</a>,\n",
       " <a href=\"99GA_Senate_Seating_Chart.pdf\">Senate Seating Chart</a>,\n",
       " <a class=\"filetab\" href=\"javascript:Sort('LastName','',99);\" title=\"Sort by Senator\">Senator</a>,\n",
       " <a class=\"filetab\" href=\"javascript:Sort('DistrictNumber','',99);\" title=\"Sort by District\">District</a>,\n",
       " <a class=\"filetab\" href=\"javascript:Sort('Party','',99);\" title=\"Sort by Party\">Party</a>,\n",
       " <a href=\"/senate/Senator.asp?GA=99&amp;MemberID=2130\">Pamela J. Althoff</a>,\n",
       " <a href=\"SenatorBills.asp?MemberID=2130\">Bills</a>,\n",
       " <a href=\"SenCommittees.asp?MemberID=2130\">Committees</a>,\n",
       " <a href=\"/senate/Senator.asp?GA=99&amp;MemberID=2275\">Neil Anderson</a>,\n",
       " <a href=\"SenatorBills.asp?MemberID=2275\">Bills</a>,\n",
       " <a href=\"SenCommittees.asp?MemberID=2275\">Committees</a>,\n",
       " <a href=\"/senate/Senator.asp?GA=99&amp;MemberID=2208\">Jason A. Barickman</a>,\n",
       " <a href=\"SenatorBills.asp?MemberID=2208\">Bills</a>,\n",
       " <a href=\"SenCommittees.asp?MemberID=2208\">Committees</a>,\n",
       " <a href=\"/senate/Senator.asp?GA=99&amp;MemberID=2276\">Scott M. Bennett</a>,\n",
       " <a href=\"SenatorBills.asp?MemberID=2276\">Bills</a>,\n",
       " <a href=\"SenCommittees.asp?MemberID=2276\">Committees</a>,\n",
       " <a href=\"/senate/Senator.asp?GA=99&amp;MemberID=2210\">Jennifer Bertino-Tarrant</a>,\n",
       " <a href=\"SenatorBills.asp?MemberID=2210\">Bills</a>,\n",
       " <a href=\"SenCommittees.asp?MemberID=2210\">Committees</a>,\n",
       " <a href=\"/senate/Senator.asp?GA=99&amp;MemberID=2209\">Daniel Biss</a>,\n",
       " <a href=\"SenatorBills.asp?MemberID=2209\">Bills</a>,\n",
       " <a href=\"SenCommittees.asp?MemberID=2209\">Committees</a>,\n",
       " <a href=\"/senate/Senator.asp?GA=99&amp;MemberID=2160\">Tim Bivins</a>,\n",
       " <a href=\"SenatorBills.asp?MemberID=2160\">Bills</a>,\n",
       " <a href=\"SenCommittees.asp?MemberID=2160\">Committees</a>,\n",
       " <a href=\"/senate/Senator.asp?GA=99&amp;MemberID=2108\">William E. Brady</a>,\n",
       " <a href=\"SenatorBills.asp?MemberID=2108\">Bills</a>,\n",
       " <a href=\"SenCommittees.asp?MemberID=2108\">Committees</a>,\n",
       " <a href=\"/senate/Senator.asp?GA=99&amp;MemberID=2211\">Melinda Bush</a>,\n",
       " <a href=\"SenatorBills.asp?MemberID=2211\">Bills</a>,\n",
       " <a href=\"SenCommittees.asp?MemberID=2211\">Committees</a>,\n",
       " <a href=\"/senate/Senator.asp?GA=99&amp;MemberID=2097\">James F. Clayborne, Jr.</a>,\n",
       " <a href=\"SenatorBills.asp?MemberID=2097\">Bills</a>,\n",
       " <a href=\"SenCommittees.asp?MemberID=2097\">Committees</a>,\n",
       " <a href=\"/senate/Senator.asp?GA=99&amp;MemberID=2123\">Jacqueline Y. Collins</a>,\n",
       " <a href=\"SenatorBills.asp?MemberID=2123\">Bills</a>,\n",
       " <a href=\"SenCommittees.asp?MemberID=2123\">Committees</a>,\n",
       " <a href=\"/senate/Senator.asp?GA=99&amp;MemberID=2212\">Michael Connelly</a>,\n",
       " <a href=\"SenatorBills.asp?MemberID=2212\">Bills</a>,\n",
       " <a href=\"SenCommittees.asp?MemberID=2212\">Committees</a>,\n",
       " <a href=\"/senate/Senator.asp?GA=99&amp;MemberID=2098\">John J. Cullerton</a>,\n",
       " <a href=\"SenatorBills.asp?MemberID=2098\">Bills</a>,\n",
       " <a href=\"SenCommittees.asp?MemberID=2098\">Committees</a>,\n",
       " <a href=\"/senate/Senator.asp?GA=99&amp;MemberID=2213\">Thomas Cullerton</a>,\n",
       " <a href=\"SenatorBills.asp?MemberID=2213\">Bills</a>,\n",
       " <a href=\"SenCommittees.asp?MemberID=2213\">Committees</a>,\n",
       " <a href=\"/senate/Senator.asp?GA=99&amp;MemberID=2214\">Bill Cunningham</a>,\n",
       " <a href=\"SenatorBills.asp?MemberID=2214\">Bills</a>,\n",
       " <a href=\"SenCommittees.asp?MemberID=2214\">Committees</a>,\n",
       " <a href=\"/senate/Senator.asp?GA=99&amp;MemberID=2144\">William Delgado</a>,\n",
       " <a href=\"SenatorBills.asp?MemberID=2144\">Bills</a>,\n",
       " <a href=\"SenCommittees.asp?MemberID=2144\">Committees</a>,\n",
       " <a href=\"/senate/Senator.asp?GA=99&amp;MemberID=2170\">Dan Duffy</a>,\n",
       " <a href=\"SenatorBills.asp?MemberID=2170\">Bills</a>,\n",
       " <a href=\"SenCommittees.asp?MemberID=2170\">Committees</a>,\n",
       " <a href=\"/senate/Senator.asp?GA=99&amp;MemberID=2133\">Gary Forby</a>,\n",
       " <a href=\"SenatorBills.asp?MemberID=2133\">Bills</a>,\n",
       " <a href=\"SenCommittees.asp?MemberID=2133\">Committees</a>,\n",
       " <a href=\"/senate/Senator.asp?GA=99&amp;MemberID=2128\">William R. Haine</a>,\n",
       " <a href=\"SenatorBills.asp?MemberID=2128\">Bills</a>,\n",
       " <a href=\"SenCommittees.asp?MemberID=2128\">Committees</a>,\n",
       " <a href=\"/senate/Senator.asp?GA=99&amp;MemberID=2125\">Don Harmon</a>,\n",
       " <a href=\"SenatorBills.asp?MemberID=2125\">Bills</a>,\n",
       " <a href=\"SenCommittees.asp?MemberID=2125\">Committees</a>,\n",
       " <a href=\"/senate/Senator.asp?GA=99&amp;MemberID=2215\">Napoleon Harris, III</a>,\n",
       " <a href=\"SenatorBills.asp?MemberID=2215\">Bills</a>,\n",
       " <a href=\"SenCommittees.asp?MemberID=2215\">Committees</a>,\n",
       " <a href=\"/senate/Senator.asp?GA=99&amp;MemberID=2216\">Michael E. Hastings</a>,\n",
       " <a href=\"SenatorBills.asp?MemberID=2216\">Bills</a>,\n",
       " <a href=\"SenCommittees.asp?MemberID=2216\">Committees</a>,\n",
       " <a href=\"/senate/Senator.asp?GA=99&amp;MemberID=2150\">Linda Holmes</a>,\n",
       " <a href=\"SenatorBills.asp?MemberID=2150\">Bills</a>,\n",
       " <a href=\"SenCommittees.asp?MemberID=2150\">Committees</a>,\n",
       " <a href=\"/senate/Senator.asp?GA=99&amp;MemberID=2129\">Mattie Hunter</a>,\n",
       " <a href=\"SenatorBills.asp?MemberID=2129\">Bills</a>,\n",
       " <a href=\"SenCommittees.asp?MemberID=2129\">Committees</a>,\n",
       " <a href=\"/senate/Senator.asp?GA=99&amp;MemberID=2171\">Toi W. Hutchinson</a>,\n",
       " <a href=\"SenatorBills.asp?MemberID=2171\">Bills</a>,\n",
       " <a href=\"SenCommittees.asp?MemberID=2171\">Committees</a>,\n",
       " <a href=\"/senate/Senator.asp?GA=99&amp;MemberID=2173\">Emil Jones, III</a>,\n",
       " <a href=\"SenatorBills.asp?MemberID=2173\">Bills</a>,\n",
       " <a href=\"SenCommittees.asp?MemberID=2173\">Committees</a>,\n",
       " <a href=\"/senate/Senator.asp?GA=99&amp;MemberID=2152\">David Koehler</a>,\n",
       " <a href=\"SenatorBills.asp?MemberID=2152\">Bills</a>,\n",
       " <a href=\"SenCommittees.asp?MemberID=2152\">Committees</a>,\n",
       " <a href=\"/senate/Senator.asp?GA=99&amp;MemberID=2198\">Steven M. Landek</a>,\n",
       " <a href=\"SenatorBills.asp?MemberID=2198\">Bills</a>,\n",
       " <a href=\"SenCommittees.asp?MemberID=2198\">Committees</a>,\n",
       " <a href=\"/senate/Senator.asp?GA=99&amp;MemberID=2100\">Kimberly A. Lightford</a>,\n",
       " <a href=\"SenatorBills.asp?MemberID=2100\">Bills</a>,\n",
       " <a href=\"SenCommittees.asp?MemberID=2100\">Committees</a>,\n",
       " <a href=\"/senate/Senator.asp?GA=99&amp;MemberID=2101\">Terry Link</a>,\n",
       " <a href=\"SenatorBills.asp?MemberID=2101\">Bills</a>,\n",
       " <a href=\"SenCommittees.asp?MemberID=2101\">Committees</a>,\n",
       " <a href=\"/senate/Senator.asp?GA=99&amp;MemberID=2102\">David S. Luechtefeld</a>,\n",
       " <a href=\"SenatorBills.asp?MemberID=2102\">Bills</a>,\n",
       " <a href=\"SenCommittees.asp?MemberID=2102\">Committees</a>,\n",
       " <a href=\"/senate/Senator.asp?GA=99&amp;MemberID=2217\">Andy Manar</a>,\n",
       " <a href=\"SenatorBills.asp?MemberID=2217\">Bills</a>,\n",
       " <a href=\"SenCommittees.asp?MemberID=2217\">Committees</a>,\n",
       " <a href=\"/senate/Senator.asp?GA=99&amp;MemberID=2124\">Iris Y. Martinez</a>,\n",
       " <a href=\"SenatorBills.asp?MemberID=2124\">Bills</a>,\n",
       " <a href=\"SenCommittees.asp?MemberID=2124\">Committees</a>,\n",
       " <a href=\"/senate/Senator.asp?GA=99&amp;MemberID=2197\">Wm. Sam McCann</a>,\n",
       " <a href=\"SenatorBills.asp?MemberID=2197\">Bills</a>,\n",
       " <a href=\"SenCommittees.asp?MemberID=2197\">Committees</a>,\n",
       " <a href=\"/senate/Senator.asp?GA=99&amp;MemberID=2174\">Kyle McCarter</a>,\n",
       " <a href=\"SenatorBills.asp?MemberID=2174\">Bills</a>,\n",
       " <a href=\"SenCommittees.asp?MemberID=2174\">Committees</a>,\n",
       " <a href=\"/senate/Senator.asp?GA=99&amp;MemberID=2218\">Karen McConnaughay</a>,\n",
       " <a href=\"SenatorBills.asp?MemberID=2218\">Bills</a>,\n",
       " <a href=\"SenCommittees.asp?MemberID=2218\">Committees</a>,\n",
       " <a href=\"/senate/Senator.asp?GA=99&amp;MemberID=2202\">Pat McGuire</a>,\n",
       " <a href=\"SenatorBills.asp?MemberID=2202\">Bills</a>,\n",
       " <a href=\"SenCommittees.asp?MemberID=2202\">Committees</a>,\n",
       " <a href=\"/senate/Senator.asp?GA=99&amp;MemberID=2219\">Julie A. Morrison</a>,\n",
       " <a href=\"SenatorBills.asp?MemberID=2219\">Bills</a>,\n",
       " <a href=\"SenCommittees.asp?MemberID=2219\">Committees</a>,\n",
       " <a href=\"/senate/Senator.asp?GA=99&amp;MemberID=2180\">John G. Mulroe</a>,\n",
       " <a href=\"SenatorBills.asp?MemberID=2180\">Bills</a>,\n",
       " <a href=\"SenCommittees.asp?MemberID=2180\">Committees</a>,\n",
       " <a href=\"/senate/Senator.asp?GA=99&amp;MemberID=2103\">Antonio Muñoz</a>,\n",
       " <a href=\"SenatorBills.asp?MemberID=2103\">Bills</a>,\n",
       " <a href=\"SenCommittees.asp?MemberID=2103\">Committees</a>,\n",
       " <a href=\"/senate/Senator.asp?GA=99&amp;MemberID=2279\">Laura M. Murphy</a>,\n",
       " <a href=\"SenatorBills.asp?MemberID=2279\">Bills</a>,\n",
       " <a href=\"SenCommittees.asp?MemberID=2279\">Committees</a>,\n",
       " <a href=\"/senate/Senator.asp?GA=99&amp;MemberID=2148\">Matt Murphy</a>,\n",
       " <a href=\"SenatorBills.asp?MemberID=2148\">Bills</a>,\n",
       " <a href=\"SenCommittees.asp?MemberID=2148\">Committees</a>,\n",
       " <a href=\"/senate/Senator.asp?GA=99&amp;MemberID=2147\">Michael Noland</a>,\n",
       " <a href=\"SenatorBills.asp?MemberID=2147\">Bills</a>,\n",
       " <a href=\"SenCommittees.asp?MemberID=2147\">Committees</a>,\n",
       " <a href=\"/senate/Senator.asp?GA=99&amp;MemberID=2256\">Chris Nybo</a>,\n",
       " <a href=\"SenatorBills.asp?MemberID=2256\">Bills</a>,\n",
       " <a href=\"SenCommittees.asp?MemberID=2256\">Committees</a>,\n",
       " <a href=\"/senate/Senator.asp?GA=99&amp;MemberID=2220\">Jim Oberweis</a>,\n",
       " <a href=\"SenatorBills.asp?MemberID=2220\">Bills</a>,\n",
       " <a href=\"SenCommittees.asp?MemberID=2220\">Committees</a>,\n",
       " <a href=\"/senate/Senator.asp?GA=99&amp;MemberID=2104\">Christine Radogno</a>,\n",
       " <a href=\"SenatorBills.asp?MemberID=2104\">Bills</a>,\n",
       " <a href=\"SenCommittees.asp?MemberID=2104\">Committees</a>,\n",
       " <a href=\"/senate/Senator.asp?GA=99&amp;MemberID=2135\">Kwame Raoul</a>,\n",
       " <a href=\"SenatorBills.asp?MemberID=2135\">Bills</a>,\n",
       " <a href=\"SenCommittees.asp?MemberID=2135\">Committees</a>,\n",
       " <a href=\"/senate/Senator.asp?GA=99&amp;MemberID=2182\">Sue Rezin</a>,\n",
       " <a href=\"SenatorBills.asp?MemberID=2182\">Bills</a>,\n",
       " <a href=\"SenCommittees.asp?MemberID=2182\">Committees</a>,\n",
       " <a href=\"/senate/Senator.asp?GA=99&amp;MemberID=2127\">Dale A. Righter</a>,\n",
       " <a href=\"SenatorBills.asp?MemberID=2127\">Bills</a>,\n",
       " <a href=\"SenCommittees.asp?MemberID=2127\">Committees</a>,\n",
       " <a href=\"/senate/Senator.asp?GA=99&amp;MemberID=2221\">Chapin Rose</a>,\n",
       " <a href=\"SenatorBills.asp?MemberID=2221\">Bills</a>,\n",
       " <a href=\"SenCommittees.asp?MemberID=2221\">Committees</a>,\n",
       " <a href=\"/senate/Senator.asp?GA=99&amp;MemberID=2122\">Martin A. Sandoval</a>,\n",
       " <a href=\"SenatorBills.asp?MemberID=2122\">Bills</a>,\n",
       " <a href=\"SenCommittees.asp?MemberID=2122\">Committees</a>,\n",
       " <a href=\"/senate/Senator.asp?GA=99&amp;MemberID=2105\">Ira I. Silverstein</a>,\n",
       " <a href=\"SenatorBills.asp?MemberID=2105\">Bills</a>,\n",
       " <a href=\"SenCommittees.asp?MemberID=2105\">Committees</a>,\n",
       " <a href=\"/senate/Senator.asp?GA=99&amp;MemberID=2222\">Steve Stadelman</a>,\n",
       " <a href=\"SenatorBills.asp?MemberID=2222\">Bills</a>,\n",
       " <a href=\"SenCommittees.asp?MemberID=2222\">Committees</a>,\n",
       " <a href=\"/senate/Senator.asp?GA=99&amp;MemberID=2159\">Heather A. Steans</a>,\n",
       " <a href=\"SenatorBills.asp?MemberID=2159\">Bills</a>,\n",
       " <a href=\"SenCommittees.asp?MemberID=2159\">Committees</a>,\n",
       " <a href=\"/senate/Senator.asp?GA=99&amp;MemberID=2126\">John M. Sullivan</a>,\n",
       " <a href=\"SenatorBills.asp?MemberID=2126\">Bills</a>,\n",
       " <a href=\"SenCommittees.asp?MemberID=2126\">Committees</a>,\n",
       " <a href=\"/senate/Senator.asp?GA=99&amp;MemberID=2106\">Dave Syverson</a>,\n",
       " <a href=\"SenatorBills.asp?MemberID=2106\">Bills</a>,\n",
       " <a href=\"SenCommittees.asp?MemberID=2106\">Committees</a>,\n",
       " <a href=\"/senate/Senator.asp?GA=99&amp;MemberID=2107\">Donne E. Trotter</a>,\n",
       " <a href=\"SenatorBills.asp?MemberID=2107\">Bills</a>,\n",
       " <a href=\"SenCommittees.asp?MemberID=2107\">Committees</a>,\n",
       " <a href=\"/senate/Senator.asp?GA=99&amp;MemberID=2223\">Patricia Van Pelt</a>,\n",
       " <a href=\"SenatorBills.asp?MemberID=2223\">Bills</a>,\n",
       " <a href=\"SenCommittees.asp?MemberID=2223\">Committees</a>,\n",
       " <a href=\"/senate/Senator.asp?GA=99&amp;MemberID=2280\">Chuck Weaver</a>,\n",
       " <a href=\"SenatorBills.asp?MemberID=2280\">Bills</a>,\n",
       " <a href=\"SenCommittees.asp?MemberID=2280\">Committees</a>,\n",
       " <a class=\"filetab\" href=\"javascript:Sort('','LastName',99);\" title=\"Sort by Senator\">Senator</a>,\n",
       " <a class=\"filetab\" href=\"javascript:Sort('','DistrictNumber',99);\" title=\"Sort by District\">District</a>,\n",
       " <a class=\"filetab\" href=\"javascript:Sort('','Party',99);\" title=\"Sort by Party\">Party</a>,\n",
       " <a href=\"/senate/Senator.asp?GA=99&amp;MemberID=2149\">Dan Kotowski</a>,\n",
       " <a href=\"SenatorBills.asp?MemberID=2149\">Bills</a>,\n",
       " <a href=\"SenCommittees.asp?MemberID=2149\">Committees</a>,\n",
       " <a href=\"/senate/Senator.asp?GA=99&amp;MemberID=2199\">Darin M. LaHood</a>,\n",
       " <a href=\"SenatorBills.asp?MemberID=2199\">Bills</a>,\n",
       " <a href=\"SenCommittees.asp?MemberID=2199\">Committees</a>,\n",
       " <a href=\"/reports/rptMemberList.asp?gaid=13&amp;ChamberId=S\" target=\"new\">click here</a>,\n",
       " <a class=\"footer\" href=\"/\" title=\"View the General Assembly web site home page\">Home</a>,\n",
       " <a class=\"footer\" href=\"/legislation/\" title=\"View Legislation and Laws\">Legislation &amp; Laws</a>,\n",
       " <a class=\"footer\" href=\"/house/default.asp\" title=\"View information regarding House of Representatives\">House</a>,\n",
       " <a class=\"footer\" href=\"/senate/default.asp\" title=\"View information regarding Senate\">Senate</a>,\n",
       " <a class=\"footer\" href=\"/mylegislation/default.asp\" title=\"Set up customized queries, create reports for tracking, etc.\">My Legislation</a>,\n",
       " <a class=\"footer\" href=\"/disclaimer.asp\" title=\"Disclaimers regarding the Illinois General Assembly web site\">Disclaimers</a>,\n",
       " <a class=\"footer\" href=\"/contact.asp\" title=\"Contact the Illinois General Assembly Web Support Staff\">Email</a>]"
      ]
     },
     "execution_count": 7,
     "metadata": {},
     "output_type": "execute_result"
    }
   ],
   "source": [
    "soup.find_all(\"a\")\n",
    "soup(\"a\")"
   ]
  },
  {
   "cell_type": "markdown",
   "metadata": {},
   "source": [
    "That's a lot! Many elements on a page will have the same html tag. For instance, if you search for everything with the `a` tag, you're likely to get a lot of stuff, much of which you don't want. What if we wanted to search for HTML tags ONLY with certain attributes, like particular CSS classes? \n",
    "\n",
    "We can do this by adding an additional argument to the `find_all`\n",
    "\n",
    "In the example below, we are finding all the `a` tags, and then filtering those with `class = \"sidemenu\"`."
   ]
  },
  {
   "cell_type": "code",
   "execution_count": 8,
   "metadata": {
    "collapsed": false
   },
   "outputs": [
    {
     "data": {
      "text/plain": [
       "[<a class=\"sidemenu\" href=\"/senate/default.asp\">  Members  </a>,\n",
       " <a class=\"sidemenu\" href=\"/senate/committees/default.asp\">  Committees  </a>,\n",
       " <a class=\"sidemenu\" href=\"/senate/schedules/default.asp\">  Schedules  </a>,\n",
       " <a class=\"sidemenu\" href=\"/senate/journals/default.asp\">  Journals  </a>,\n",
       " <a class=\"sidemenu\" href=\"/senate/transcripts/default.asp\">  Transcripts  </a>,\n",
       " <a class=\"sidemenu\" href=\"/senate/rules.asp\">  Rules  </a>,\n",
       " <a class=\"sidemenu\" href=\"/senate/audvid.asp\">  Live Audio/Video  </a>]"
      ]
     },
     "execution_count": 8,
     "metadata": {},
     "output_type": "execute_result"
    }
   ],
   "source": [
    "# Get only the 'a' tags in 'sidemenu' class\n",
    "soup(\"a\", class_=\"sidemenu\")"
   ]
  },
  {
   "cell_type": "markdown",
   "metadata": {},
   "source": [
    "Oftentimes a more efficient way to search and find things on a website is by **CSS selector.** For this we have to use a different method, `select()`. Just pass a string into the `.select()` to get all elements with that string as a valid CSS selector.\n",
    "\n",
    "In the example above, we can use \"a.sidemenu\" as a CSS selector, which returns all `a` tags with class `sidemenu`."
   ]
  },
  {
   "cell_type": "code",
   "execution_count": 10,
   "metadata": {
    "collapsed": false
   },
   "outputs": [
    {
     "data": {
      "text/plain": [
       "[<a class=\"sidemenu\" href=\"/senate/default.asp\">  Members  </a>,\n",
       " <a class=\"sidemenu\" href=\"/senate/committees/default.asp\">  Committees  </a>,\n",
       " <a class=\"sidemenu\" href=\"/senate/schedules/default.asp\">  Schedules  </a>,\n",
       " <a class=\"sidemenu\" href=\"/senate/journals/default.asp\">  Journals  </a>,\n",
       " <a class=\"sidemenu\" href=\"/senate/transcripts/default.asp\">  Transcripts  </a>,\n",
       " <a class=\"sidemenu\" href=\"/senate/rules.asp\">  Rules  </a>,\n",
       " <a class=\"sidemenu\" href=\"/senate/audvid.asp\">  Live Audio/Video  </a>]"
      ]
     },
     "execution_count": 10,
     "metadata": {},
     "output_type": "execute_result"
    }
   ],
   "source": [
    "# get elements with \"a.sidemenu\" CSS Selector.\n",
    "# shortcut\n",
    "soup.select(\"a.sidemenu\")\n",
    "soup.select(\".sidemenu a\")"
   ]
  },
  {
   "cell_type": "code",
   "execution_count": 14,
   "metadata": {
    "collapsed": false
   },
   "outputs": [
    {
     "name": "stdout",
     "output_type": "stream",
     "text": [
      "<a class=\"sidemenu\" href=\"/senate/default.asp\">  Members  </a>\n"
     ]
    }
   ],
   "source": [
    "# this is a list\n",
    "soup.select(\"a.sidemenu\")\n",
    "\n",
    "# we first want to get an individual tag object\n",
    "first_link = soup.select(\"a.sidemenu\")[0]\n",
    "\n",
    "# check out its class\n",
    "type(first_link)\n",
    "print(first_link)"
   ]
  },
  {
   "cell_type": "markdown",
   "metadata": {},
   "source": [
    "It's a tag! Which means it has a `text` member:"
   ]
  },
  {
   "cell_type": "code",
   "execution_count": 12,
   "metadata": {
    "collapsed": false
   },
   "outputs": [
    {
     "name": "stdout",
     "output_type": "stream",
     "text": [
      "  Members  \n"
     ]
    }
   ],
   "source": [
    "print first_link.text"
   ]
  },
  {
   "cell_type": "markdown",
   "metadata": {},
   "source": [
    "Sometimes we want the value of certain attributes. This is particularly relevant for `a` tags, or links, where the `href` attribute tells us where the link goes.\n",
    "\n",
    "You can access a tag’s attributes by treating the tag like a dictionary:"
   ]
  },
  {
   "cell_type": "code",
   "execution_count": 15,
   "metadata": {
    "collapsed": false
   },
   "outputs": [
    {
     "name": "stdout",
     "output_type": "stream",
     "text": [
      "/senate/default.asp\n"
     ]
    }
   ],
   "source": [
    "#URL that corresponds to the first link in the menu\n",
    "print first_link['href']"
   ]
  },
  {
   "cell_type": "code",
   "execution_count": 16,
   "metadata": {
    "collapsed": false
   },
   "outputs": [
    {
     "name": "stdout",
     "output_type": "stream",
     "text": [
      "/default.asp\n",
      "/\n",
      "/legislation/\n",
      "/senate/\n",
      "/house/\n",
      "/mylegislation/\n",
      "/sitemap.asp\n",
      "/senate/default.asp\n",
      "/senate/committees/default.asp\n",
      "/senate/schedules/default.asp\n"
     ]
    }
   ],
   "source": [
    "# Get just the href (url) attribute from the first 10 links\n",
    "for link in soup('a')[:10]:\n",
    "    print link['href']"
   ]
  },
  {
   "cell_type": "markdown",
   "metadata": {},
   "source": [
    "## Let's Do This.\n",
    "\n",
    "Believe it or not, that's all you need to scrape a website. Let's apply these skills to scrape http://www.ilga.gov/senate/default.asp\n",
    "\n",
    "First, make the get request"
   ]
  },
  {
   "cell_type": "code",
   "execution_count": 17,
   "metadata": {
    "collapsed": true
   },
   "outputs": [],
   "source": [
    "# make a GET request\n",
    "req = requests.get('http://www.ilga.gov/senate/default.asp')\n",
    "# read the content of the server’s response\n",
    "src = req.text\n",
    "# soup it\n",
    "soup = BeautifulSoup(src)"
   ]
  },
  {
   "cell_type": "markdown",
   "metadata": {},
   "source": [
    "Now let's try to get a list of rows in that table. Rows are identified by the `tr` tag."
   ]
  },
  {
   "cell_type": "code",
   "execution_count": 18,
   "metadata": {
    "collapsed": false
   },
   "outputs": [
    {
     "data": {
      "text/plain": [
       "81"
      ]
     },
     "execution_count": 18,
     "metadata": {},
     "output_type": "execute_result"
    }
   ],
   "source": [
    "# get all tr elements\n",
    "rows = soup.find_all(\"tr\")\n",
    "len(rows)"
   ]
  },
  {
   "cell_type": "markdown",
   "metadata": {},
   "source": [
    "But remember, `find_all` gets all the elements with the `tr` tag. We can use smart CSS selectors to get only the rows we want."
   ]
  },
  {
   "cell_type": "code",
   "execution_count": 23,
   "metadata": {
    "collapsed": false
   },
   "outputs": [
    {
     "name": "stdout",
     "output_type": "stream",
     "text": [
      "<tr>\n",
      " <td bgcolor=\"EBEBEB\" class=\"detail\" width=\"40%\">\n",
      "  <a href=\"/senate/Senator.asp?GA=99&amp;MemberID=2276\">\n",
      "   Scott M. Bennett\n",
      "  </a>\n",
      " </td>\n",
      " <td align=\"center\" bgcolor=\"EBEBEB\" class=\"detail\" width=\"15%\">\n",
      "  <a href=\"SenatorBills.asp?MemberID=2276\">\n",
      "   Bills\n",
      "  </a>\n",
      " </td>\n",
      " <td align=\"center\" bgcolor=\"EBEBEB\" class=\"detail\" width=\"15%\">\n",
      "  <a href=\"SenCommittees.asp?MemberID=2276\">\n",
      "   Committees\n",
      "  </a>\n",
      " </td>\n",
      " <td align=\"center\" bgcolor=\"EBEBEB\" class=\"detail\" width=\"15%\">\n",
      "  52\n",
      " </td>\n",
      " <td align=\"center\" bgcolor=\"EBEBEB\" class=\"detail\" width=\"15%\">\n",
      "  D\n",
      " </td>\n",
      "</tr>\n",
      "\n"
     ]
    }
   ],
   "source": [
    "# returns every ‘tr tr tr’ css selector in the page\n",
    "rows = soup.select('tr tr tr')\n",
    "print rows[5].prettify()"
   ]
  },
  {
   "cell_type": "markdown",
   "metadata": {},
   "source": [
    "We can use the `select` method on anything. Let's say we want to find everything with the CSS selector `td.detail` in an item of the list we created above."
   ]
  },
  {
   "cell_type": "code",
   "execution_count": 25,
   "metadata": {
    "collapsed": false,
    "scrolled": false
   },
   "outputs": [
    {
     "data": {
      "text/plain": [
       "[<td bgcolor=\"white\" class=\"detail\" width=\"40%\"><a href=\"/senate/Senator.asp?GA=99&amp;MemberID=2208\">Jason A. Barickman</a></td>,\n",
       " <td align=\"center\" bgcolor=\"white\" class=\"detail\" width=\"15%\"><a href=\"SenatorBills.asp?MemberID=2208\">Bills</a></td>,\n",
       " <td align=\"center\" bgcolor=\"white\" class=\"detail\" width=\"15%\"><a href=\"SenCommittees.asp?MemberID=2208\">Committees</a></td>,\n",
       " <td align=\"center\" bgcolor=\"white\" class=\"detail\" width=\"15%\">53</td>,\n",
       " <td align=\"center\" bgcolor=\"white\" class=\"detail\" width=\"15%\">R</td>]"
      ]
     },
     "execution_count": 25,
     "metadata": {},
     "output_type": "execute_result"
    }
   ],
   "source": [
    "# returns every ‘tr tr tr’ css selector in the page\n",
    "rows = soup.select('tr tr tr')\n",
    "\n",
    "# Look at just the third item\n",
    "row = rows[4]\n",
    "\n",
    "# select only those 'td' tags with class 'detail'\n",
    "detailCells = row.select('td.detail')\n",
    "\n",
    "detailCells"
   ]
  },
  {
   "cell_type": "markdown",
   "metadata": {},
   "source": [
    "Most of the time, we're interested in the actual **text** of a website, not its tags. Remember, to get the text of an HTML element, use the `text` member."
   ]
  },
  {
   "cell_type": "code",
   "execution_count": 28,
   "metadata": {
    "collapsed": false
   },
   "outputs": [
    {
     "name": "stdout",
     "output_type": "stream",
     "text": [
      "[u'Pamela J. Althoff', u'Bills', u'Committees', u'32', u'R']\n"
     ]
    }
   ],
   "source": [
    "# returns every ‘tr tr tr’ css selector in the page\n",
    "rows = soup.select('tr tr tr')\n",
    "\n",
    "# Look at just the third item\n",
    "row = rows[2]\n",
    "\n",
    "# select only those 'td' tags with class 'detail'\n",
    "detailCells = row.select('td.detail')\n",
    "\n",
    "# Keep only the text in each of those cells\n",
    "rowData = [cell.text for cell in detailCells]\n",
    "\n",
    "print rowData"
   ]
  },
  {
   "cell_type": "markdown",
   "metadata": {},
   "source": [
    "Now we can combine the beautifulsoup tools with our basic python skills to scrape an entire web page."
   ]
  },
  {
   "cell_type": "code",
   "execution_count": 38,
   "metadata": {
    "collapsed": false
   },
   "outputs": [
    {
     "name": "stdout",
     "output_type": "stream",
     "text": [
      "Pamela J. Althoff\n",
      "32\n",
      "R\n",
      "SenCommittees.asp?MemberID=2130\n"
     ]
    }
   ],
   "source": [
    "# returns every ‘tr tr tr’ css selector in the page\n",
    "rows = soup.select('tr tr tr')\n",
    "\n",
    "# Look at just the third item\n",
    "row = rows[2]\n",
    "\n",
    "# select only those 'td' tags with class 'detail'\n",
    "detailCells = row.select('td.detail')\n",
    "\n",
    "# Keep only the text in each of those cells\n",
    "rowData = [cell.text for cell in detailCells]\n",
    "\n",
    "# check em out\n",
    "print rowData[0] # Name\n",
    "print rowData[3] # district\n",
    "print rowData[4] # party\n",
    "\n",
    "print detailCells[2].a['href']"
   ]
  },
  {
   "cell_type": "markdown",
   "metadata": {},
   "source": [
    "Let's use a for loop to get 'em all!"
   ]
  },
  {
   "cell_type": "code",
   "execution_count": 40,
   "metadata": {
    "collapsed": false
   },
   "outputs": [
    {
     "data": {
      "text/plain": [
       "[(u'Pamela J. Althoff', 32, u'R', 'SenCommittees.asp?MemberID=2130'),\n",
       " (u'Neil Anderson', 36, u'R', 'SenCommittees.asp?MemberID=2275'),\n",
       " (u'Jason A. Barickman', 53, u'R', 'SenCommittees.asp?MemberID=2208'),\n",
       " (u'Scott M. Bennett', 52, u'D', 'SenCommittees.asp?MemberID=2276'),\n",
       " (u'Jennifer Bertino-Tarrant', 49, u'D', 'SenCommittees.asp?MemberID=2210'),\n",
       " (u'Daniel Biss', 9, u'D', 'SenCommittees.asp?MemberID=2209'),\n",
       " (u'Tim Bivins', 45, u'R', 'SenCommittees.asp?MemberID=2160'),\n",
       " (u'William E. Brady', 44, u'R', 'SenCommittees.asp?MemberID=2108'),\n",
       " (u'Melinda Bush', 31, u'D', 'SenCommittees.asp?MemberID=2211'),\n",
       " (u'James F. Clayborne, Jr.', 57, u'D', 'SenCommittees.asp?MemberID=2097'),\n",
       " (u'Jacqueline Y. Collins', 16, u'D', 'SenCommittees.asp?MemberID=2123'),\n",
       " (u'Michael Connelly', 21, u'R', 'SenCommittees.asp?MemberID=2212'),\n",
       " (u'John J. Cullerton', 6, u'D', 'SenCommittees.asp?MemberID=2098'),\n",
       " (u'Thomas Cullerton', 23, u'D', 'SenCommittees.asp?MemberID=2213'),\n",
       " (u'Bill Cunningham', 18, u'D', 'SenCommittees.asp?MemberID=2214'),\n",
       " (u'William Delgado', 2, u'D', 'SenCommittees.asp?MemberID=2144'),\n",
       " (u'Dan Duffy', 26, u'R', 'SenCommittees.asp?MemberID=2170'),\n",
       " (u'Gary Forby', 59, u'D', 'SenCommittees.asp?MemberID=2133'),\n",
       " (u'William R. Haine', 56, u'D', 'SenCommittees.asp?MemberID=2128'),\n",
       " (u'Don Harmon', 39, u'D', 'SenCommittees.asp?MemberID=2125'),\n",
       " (u'Napoleon Harris, III', 15, u'D', 'SenCommittees.asp?MemberID=2215'),\n",
       " (u'Michael E. Hastings', 19, u'D', 'SenCommittees.asp?MemberID=2216'),\n",
       " (u'Linda Holmes', 42, u'D', 'SenCommittees.asp?MemberID=2150'),\n",
       " (u'Mattie Hunter', 3, u'D', 'SenCommittees.asp?MemberID=2129'),\n",
       " (u'Toi W. Hutchinson', 40, u'D', 'SenCommittees.asp?MemberID=2171'),\n",
       " (u'Emil Jones, III', 14, u'D', 'SenCommittees.asp?MemberID=2173'),\n",
       " (u'David Koehler', 46, u'D', 'SenCommittees.asp?MemberID=2152'),\n",
       " (u'Steven M. Landek', 12, u'D', 'SenCommittees.asp?MemberID=2198'),\n",
       " (u'Kimberly A. Lightford', 4, u'D', 'SenCommittees.asp?MemberID=2100'),\n",
       " (u'Terry Link', 30, u'D', 'SenCommittees.asp?MemberID=2101'),\n",
       " (u'David S. Luechtefeld', 58, u'R', 'SenCommittees.asp?MemberID=2102'),\n",
       " (u'Andy Manar', 48, u'D', 'SenCommittees.asp?MemberID=2217'),\n",
       " (u'Iris Y. Martinez', 20, u'D', 'SenCommittees.asp?MemberID=2124'),\n",
       " (u'Wm. Sam McCann', 50, u'R', 'SenCommittees.asp?MemberID=2197'),\n",
       " (u'Kyle McCarter', 54, u'R', 'SenCommittees.asp?MemberID=2174'),\n",
       " (u'Karen McConnaughay', 33, u'R', 'SenCommittees.asp?MemberID=2218'),\n",
       " (u'Pat McGuire', 43, u'D', 'SenCommittees.asp?MemberID=2202'),\n",
       " (u'Julie A. Morrison', 29, u'D', 'SenCommittees.asp?MemberID=2219'),\n",
       " (u'John G. Mulroe', 10, u'D', 'SenCommittees.asp?MemberID=2180'),\n",
       " (u'Antonio Mu\\xf1oz', 1, u'D', 'SenCommittees.asp?MemberID=2103'),\n",
       " (u'Laura M. Murphy', 28, u'D', 'SenCommittees.asp?MemberID=2279'),\n",
       " (u'Matt Murphy', 27, u'R', 'SenCommittees.asp?MemberID=2148'),\n",
       " (u'Michael Noland', 22, u'D', 'SenCommittees.asp?MemberID=2147'),\n",
       " (u'Chris Nybo', 24, u'R', 'SenCommittees.asp?MemberID=2256'),\n",
       " (u'Jim Oberweis', 25, u'R', 'SenCommittees.asp?MemberID=2220'),\n",
       " (u'Christine Radogno', 41, u'R', 'SenCommittees.asp?MemberID=2104'),\n",
       " (u'Kwame Raoul', 13, u'D', 'SenCommittees.asp?MemberID=2135'),\n",
       " (u'Sue Rezin', 38, u'R', 'SenCommittees.asp?MemberID=2182'),\n",
       " (u'Dale A. Righter', 55, u'R', 'SenCommittees.asp?MemberID=2127'),\n",
       " (u'Chapin Rose', 51, u'R', 'SenCommittees.asp?MemberID=2221'),\n",
       " (u'Martin A. Sandoval', 11, u'D', 'SenCommittees.asp?MemberID=2122'),\n",
       " (u'Ira I. Silverstein', 8, u'D', 'SenCommittees.asp?MemberID=2105'),\n",
       " (u'Steve Stadelman', 34, u'D', 'SenCommittees.asp?MemberID=2222'),\n",
       " (u'Heather A. Steans', 7, u'D', 'SenCommittees.asp?MemberID=2159'),\n",
       " (u'John M. Sullivan', 47, u'D', 'SenCommittees.asp?MemberID=2126'),\n",
       " (u'Dave Syverson', 35, u'R', 'SenCommittees.asp?MemberID=2106'),\n",
       " (u'Donne E. Trotter', 17, u'D', 'SenCommittees.asp?MemberID=2107'),\n",
       " (u'Patricia Van Pelt', 5, u'D', 'SenCommittees.asp?MemberID=2223'),\n",
       " (u'Chuck Weaver', 37, u'R', 'SenCommittees.asp?MemberID=2280'),\n",
       " (u'Dan Kotowski', 28, u'D', 'SenCommittees.asp?MemberID=2149'),\n",
       " (u'Darin M. LaHood', 37, u'R', 'SenCommittees.asp?MemberID=2199')]"
      ]
     },
     "execution_count": 40,
     "metadata": {},
     "output_type": "execute_result"
    }
   ],
   "source": [
    "# Create empty list to store our data\n",
    "members = []\n",
    "\n",
    "# returns every ‘tr tr tr’ css selector in the page\n",
    "rows = soup.select('tr tr tr')\n",
    "\n",
    "# loop through all rows\n",
    "for row in rows:\n",
    "    # select only those 'td' tags with class 'detail'\n",
    "    detailCells = row.select('td.detail')\n",
    "    \n",
    "    # get rid of junk rows, skip rows that don't contain the five elements\n",
    "    if len(detailCells) is not 5: \n",
    "        continue\n",
    "        \n",
    "    # Keep only the text in each of those cells\n",
    "    rowData = [cell.text for cell in detailCells]\n",
    "    \n",
    "    # Collect information\n",
    "    name = rowData[0]\n",
    "    link = detailCells[2].a['href']\n",
    "    district = int(rowData[3])\n",
    "    party = rowData[4]\n",
    "    \n",
    "    # Store in a tuple\n",
    "    tup = (name,district,party,link)\n",
    "    \n",
    "    # Append to list\n",
    "    members.append(tup)\n",
    "    \n",
    "members"
   ]
  },
  {
   "cell_type": "markdown",
   "metadata": {},
   "source": [
    "### Challenge 1\n",
    "\n",
    "Make a function that accepts a URL, scrapes the URL for its senators, and returns a list of tuples containing information about each senator. "
   ]
  },
  {
   "cell_type": "code",
   "execution_count": 46,
   "metadata": {
    "collapsed": false
   },
   "outputs": [],
   "source": [
    "def get_members(url):\n",
    "    # make a GET request\n",
    "    req = requests.get(url)\n",
    "    # read the content of the server’s response\n",
    "    src = req.text\n",
    "    # soup it\n",
    "    soup = BeautifulSoup(src)\n",
    "    members = []\n",
    "\n",
    "    # returns every ‘tr tr tr’ css selector in the page\n",
    "    rows = soup.select('tr tr tr')\n",
    "\n",
    "    # loop through all rows\n",
    "    for row in rows:\n",
    "        # select only those 'td' tags with class 'detail'\n",
    "        detailCells = row.select('td.detail')\n",
    "\n",
    "        # get rid of junk rows, skip rows that don't contain the five elements\n",
    "        if len(detailCells) is not 5: \n",
    "            continue\n",
    "\n",
    "        # Keep only the text in each of those cells\n",
    "        rowData = [cell.text for cell in detailCells]\n",
    "\n",
    "        # Collect information\n",
    "        name = rowData[0]\n",
    "        link = detailCells[2].a['href']\n",
    "        district = int(rowData[3])\n",
    "        party = rowData[4]\n",
    "        # Store in a tuple\n",
    "        tup = (name,district,party,link)\n",
    "\n",
    "        # Append to list\n",
    "        members.append(tup)\n",
    "\n",
    "    return members  "
   ]
  },
  {
   "cell_type": "code",
   "execution_count": 47,
   "metadata": {
    "collapsed": false
   },
   "outputs": [
    {
     "data": {
      "text/plain": [
       "(u'Neil Anderson', 36, u'R', 'SenCommittees.asp?MemberID=2275')"
      ]
     },
     "execution_count": 47,
     "metadata": {},
     "output_type": "execute_result"
    }
   ],
   "source": [
    "get_members('http://www.ilga.gov/senate/default.asp')[1]"
   ]
  },
  {
   "cell_type": "markdown",
   "metadata": {
    "collapsed": true
   },
   "source": [
    "### Challenge 2\n",
    "\n",
    "Given the `senateMembers`  list, create a new dictionary `members_dict` which has as its keys the district number (e.g. ` 32`) and as its values, the entire tuple as returned by `get_members()` (name, district number, party, url). We can do this because the district number is a unique identifier for each senator.\n",
    "\n",
    "Calling `members_dict[32]`, for example, should return the 4-tuple:\n",
    "\n",
    "```(u'Pamela J. Althoff',\n",
    "32,\n",
    "u'R',\n",
    "'http://www.ilga.gov/senate/SenatorBills.asp?GA=98&MemberID=1911&Primary=True')\n",
    "```."
   ]
  },
  {
   "cell_type": "code",
   "execution_count": 155,
   "metadata": {
    "collapsed": true
   },
   "outputs": [],
   "source": [
    "# YOUR CODE HERE"
   ]
  },
  {
   "cell_type": "code",
   "execution_count": null,
   "metadata": {
    "collapsed": true
   },
   "outputs": [],
   "source": []
  }
 ],
 "metadata": {
  "kernelspec": {
   "display_name": "Python 2",
   "language": "python",
   "name": "python2"
  },
  "language_info": {
   "codemirror_mode": {
    "name": "ipython",
    "version": 2
   },
   "file_extension": ".py",
   "mimetype": "text/x-python",
   "name": "python",
   "nbconvert_exporter": "python",
   "pygments_lexer": "ipython2",
   "version": "2.7.10"
  }
 },
 "nbformat": 4,
 "nbformat_minor": 0
}
